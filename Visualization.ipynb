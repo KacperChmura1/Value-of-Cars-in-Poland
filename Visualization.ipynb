{
 "cells": [
  {
   "cell_type": "code",
   "execution_count": 1,
   "id": "23ffa6a3",
   "metadata": {},
   "outputs": [],
   "source": [
    "import pandas as pd\n",
    "import matplotlib.pyplot as plt\n",
    "import seaborn as sns\n",
    "import numpy as np"
   ]
  },
  {
   "cell_type": "code",
   "execution_count": 2,
   "id": "a1bfcd66",
   "metadata": {},
   "outputs": [],
   "source": [
    "from matplotlib.pyplot import figure\n",
    "from io import BytesIO"
   ]
  },
  {
   "cell_type": "code",
   "execution_count": 3,
   "id": "d0745560",
   "metadata": {},
   "outputs": [],
   "source": [
    "import matplotlib.image as image"
   ]
  },
  {
   "cell_type": "code",
   "execution_count": 4,
   "id": "161b16e0",
   "metadata": {},
   "outputs": [],
   "source": [
    "#Read IMG"
   ]
  },
  {
   "cell_type": "code",
   "execution_count": 6,
   "id": "f2830517",
   "metadata": {},
   "outputs": [],
   "source": [
    "df = pd.read_csv(\"Data/clean_data.csv\", index_col=  \"Index\")"
   ]
  },
  {
   "cell_type": "code",
   "execution_count": 7,
   "id": "1033199c",
   "metadata": {},
   "outputs": [],
   "source": [
    "most_populars_brands_in_poland = df[\"Vehicle_brand\"].value_counts().head(10).index"
   ]
  },
  {
   "cell_type": "code",
   "execution_count": 8,
   "id": "7ffaafd6",
   "metadata": {},
   "outputs": [],
   "source": [
    "most_populars_brands_in_poland_values = df[\"Vehicle_brand\"].value_counts().head(10).values"
   ]
  },
  {
   "cell_type": "code",
   "execution_count": 9,
   "id": "8eba9916",
   "metadata": {},
   "outputs": [
    {
     "data": {
      "text/plain": [
       "Index(['Volkswagen', 'Opel', 'Ford', 'BMW', 'Audi', 'Renault', 'Škoda',\n",
       "       'Toyota', 'Mercedes-Benz', 'Peugeot'],\n",
       "      dtype='object')"
      ]
     },
     "execution_count": 9,
     "metadata": {},
     "output_type": "execute_result"
    }
   ],
   "source": [
    "most_populars_brands_in_poland"
   ]
  },
  {
   "cell_type": "code",
   "execution_count": 10,
   "id": "61747ed2",
   "metadata": {
    "scrolled": true
   },
   "outputs": [
    {
     "data": {
      "text/plain": [
       "<Figure size 72x72 with 0 Axes>"
      ]
     },
     "execution_count": 10,
     "metadata": {},
     "output_type": "execute_result"
    },
    {
     "data": {
      "image/png": "[encoded data removed]",
      "text/plain": [
       "<Figure size 800x640 with 1 Axes>"
      ]
     },
     "metadata": {
      "needs_background": "light"
     },
     "output_type": "display_data"
    },
    {
     "data": {
      "text/plain": [
       "<Figure size 72x72 with 0 Axes>"
      ]
     },
     "metadata": {},
     "output_type": "display_data"
    }
   ],
   "source": [
    "figure(figsize=(10, 8), dpi=80)\n",
    "sns.barplot(x = most_populars_brands_in_poland_values,y = most_populars_brands_in_poland,palette=\"viridis\")\n",
    "plt.xticks(rotation=70)\n",
    "plt.figure(figsize=(1,1))"
   ]
  },
  {
   "cell_type": "code",
   "execution_count": 11,
   "id": "7ba1d609",
   "metadata": {},
   "outputs": [],
   "source": [
    "lista = ['Volkswagen', 'Opel', 'Ford', 'BMW', 'Audi', 'Renault', 'Škoda',\n",
    "       'Toyota', 'Mercedes-Benz', 'Peugeot']\n",
    "labels = ['Peugeot', 'Mercedes-Benz','Toyota', 'Škoda', 'Renault', 'Audi', 'BMW', 'Ford', 'Opel','Volkswagen']"
   ]
  },
  {
   "cell_type": "code",
   "execution_count": 12,
   "id": "361cf67d",
   "metadata": {},
   "outputs": [
    {
     "data": {
      "text/plain": [
       "numpy.ndarray"
      ]
     },
     "execution_count": 12,
     "metadata": {},
     "output_type": "execute_result"
    }
   ],
   "source": [
    "type(most_populars_brands_in_poland_values)"
   ]
  },
  {
   "cell_type": "code",
   "execution_count": null,
   "id": "cab17395",
   "metadata": {
    "scrolled": true
   },
   "outputs": [],
   "source": []
  },
  {
   "cell_type": "code",
   "execution_count": 13,
   "id": "4be27e2f",
   "metadata": {},
   "outputs": [
    {
     "data": {
      "text/plain": [
       "{'axes.facecolor': 'white',\n",
       " 'axes.edgecolor': 'black',\n",
       " 'axes.grid': False,\n",
       " 'axes.axisbelow': 'line',\n",
       " 'axes.labelcolor': 'black',\n",
       " 'figure.facecolor': (1, 1, 1, 0),\n",
       " 'grid.color': '#b0b0b0',\n",
       " 'grid.linestyle': '-',\n",
       " 'text.color': 'black',\n",
       " 'xtick.color': 'black',\n",
       " 'ytick.color': 'black',\n",
       " 'xtick.direction': 'out',\n",
       " 'ytick.direction': 'out',\n",
       " 'lines.solid_capstyle': <CapStyle.projecting: 'projecting'>,\n",
       " 'patch.edgecolor': 'black',\n",
       " 'patch.force_edgecolor': False,\n",
       " 'image.cmap': 'viridis',\n",
       " 'font.family': ['sans-serif'],\n",
       " 'font.sans-serif': ['DejaVu Sans',\n",
       "  'Bitstream Vera Sans',\n",
       "  'Computer Modern Sans Serif',\n",
       "  'Lucida Grande',\n",
       "  'Verdana',\n",
       "  'Geneva',\n",
       "  'Lucid',\n",
       "  'Arial',\n",
       "  'Helvetica',\n",
       "  'Avant Garde',\n",
       "  'sans-serif'],\n",
       " 'xtick.bottom': True,\n",
       " 'xtick.top': False,\n",
       " 'ytick.left': True,\n",
       " 'ytick.right': False,\n",
       " 'axes.spines.left': True,\n",
       " 'axes.spines.bottom': True,\n",
       " 'axes.spines.right': True,\n",
       " 'axes.spines.top': True}"
      ]
     },
     "execution_count": 13,
     "metadata": {},
     "output_type": "execute_result"
    }
   ],
   "source": [
    "sns.axes_style()"
   ]
  },
  {
   "cell_type": "code",
   "execution_count": 79,
   "id": "28bd85a4",
   "metadata": {},
   "outputs": [
    {
     "data": {
      "image/png": "[encoded data removed]",
      "text/plain": [
       "<Figure size 800x560 with 1 Axes>"
      ]
     },
     "metadata": {},
     "output_type": "display_data"
    }
   ],
   "source": [
    "import numpy as np\n",
    "import matplotlib.pyplot as plt\n",
    "# import matplotlib.cbook as cbook\n",
    "\n",
    "figure(figsize=(10, 7), dpi=80)\n",
    "labels = ['Peugeot', 'Mercedes-Benz','Toyota', 'Škoda', 'Renault', 'Audi', 'BMW', 'Ford', 'Opel','Volkswagen']\n",
    "colors = ['crimson', 'dodgerblue', 'teal', 'limegreen', 'gold','crimson', 'dodgerblue', 'teal', 'limegreen', 'gold']\n",
    "values = np.flip(most_populars_brands_in_poland_values)\n",
    "height = 0.96\n",
    "#plt.barh(y=labels, width=values, height=height,  align='center')\n",
    "sns.set(rc={\"xtick.color\":\"black\",\"ytick.color\":\"black\"})\n",
    "sns.barplot(x = values ,y = labels,palette=\"viridis\")\n",
    "\n",
    "for i, (label, value) in enumerate(zip(labels, values)):\n",
    "    # load the image corresponding to label into img\n",
    "    # with cbook.get_sample_data('ada.png') as image_file:\n",
    "    #    img = plt.imread(image_file)\n",
    "    #response =  image.imread('img/volks.png')\n",
    "    img = plt.imread(f'img/{label}.png')\n",
    "    plt.imshow(img, extent=[value- 1500, value + 900, i - height+0.6, i + height - 0.6], aspect='auto', zorder = 1)\n",
    "plt.xlim(0, max(values) * 1.05)\n",
    "plt.ylim(-0.5, len(labels) - 0.5)\n",
    "\n",
    "plt.tight_layout()\n",
    "plt.savefig(\"output1.png\")\n",
    "plt.show()\n",
    "\n"
   ]
  },
  {
   "cell_type": "code",
   "execution_count": 57,
   "id": "2d175276",
   "metadata": {},
   "outputs": [],
   "source": [
    "most_populars_models_in_poland = df[\"Vehicle_model\"].value_counts().head(10).index"
   ]
  },
  {
   "cell_type": "code",
   "execution_count": 58,
   "id": "bed32451",
   "metadata": {},
   "outputs": [],
   "source": [
    "most_populars_models_in_poland = ['A6','Mondeo','Seria 5', 'Focus', 'Octavia', 'Passat', 'Golf', 'Seria 3', 'A4','Astra']"
   ]
  },
  {
   "cell_type": "code",
   "execution_count": 59,
   "id": "b6f6e3c3",
   "metadata": {},
   "outputs": [],
   "source": [
    "most_populars_models_in_poland_values = df[\"Vehicle_model\"].value_counts().head(10).values"
   ]
  },
  {
   "cell_type": "code",
   "execution_count": 60,
   "id": "a65d7e7d",
   "metadata": {},
   "outputs": [
    {
     "data": {
      "text/plain": [
       "array([5266, 4494, 4289, 4071, 3968, 3883, 3651, 3296, 3036, 2880],\n",
       "      dtype=int64)"
      ]
     },
     "execution_count": 60,
     "metadata": {},
     "output_type": "execute_result"
    }
   ],
   "source": [
    "most_populars_models_in_poland_values"
   ]
  },
  {
   "cell_type": "code",
   "execution_count": 61,
   "id": "ab4236df",
   "metadata": {},
   "outputs": [
    {
     "data": {
      "image/png": "[encoded data removed]",
      "text/plain": [
       "<Figure size 800x640 with 1 Axes>"
      ]
     },
     "metadata": {},
     "output_type": "display_data"
    }
   ],
   "source": [
    "import numpy as np\n",
    "import matplotlib.pyplot as plt\n",
    "# import matplotlib.cbook as cbook\n",
    "\n",
    "figure(figsize=(10, 8), dpi=80)\n",
    "#labels = ['Opel', 'Audi', 'BMW','Volkswagen','Volkswagen', 'Škoda', 'Ford', 'BMW','Ford','Audi']\n",
    "labels = ['A6','Mondeo','Seria 5', 'Focus', 'Octavia', 'Passat', 'Golf', 'Seria 3', 'A4','Astra']\n",
    "colors = ['crimson', 'dodgerblue', 'teal', 'limegreen', 'gold','crimson', 'dodgerblue', 'teal', 'limegreen', 'gold']\n",
    "values = np.flip(most_populars_models_in_poland_values)\n",
    "height = 0.96\n",
    "#plt.barh(y=labels, width=values, height=height,  align='center')\n",
    "\n",
    "sns.set(rc={\"xtick.color\":\"black\",\"ytick.color\":\"black\"})\n",
    "sns.barplot(x = values ,y = labels,palette=\"viridis\")\n",
    "\n",
    "for i, (label, value) in enumerate(zip(labels, values)):\n",
    "    # load the image corresponding to label into img\n",
    "    # with cbook.get_sample_data('ada.png') as image_file:\n",
    "    #    img = plt.imread(image_file)\n",
    "    #response =  image.imread('img/volks.png')\n",
    "    img = plt.imread(f'img/{label}.png')\n",
    "    plt.imshow(img, extent=[value- 300, value+ 150, i - height+0.5, i + height - 0.5], aspect='auto', zorder = 1)\n",
    "plt.xlim(0, max(values) * 1.05)\n",
    "plt.ylim(-0.5, len(labels) - 0.5)\n",
    "\n",
    "plt.tight_layout()\n",
    "plt.savefig(\"output2.png\")\n",
    "plt.show()\n",
    "\n"
   ]
  },
  {
   "cell_type": "code",
   "execution_count": 62,
   "id": "5f629596",
   "metadata": {
    "scrolled": true
   },
   "outputs": [],
   "source": [
    "p = df[\"Fuel_type\"].value_counts().head()"
   ]
  },
  {
   "cell_type": "code",
   "execution_count": 63,
   "id": "3ee6241c",
   "metadata": {},
   "outputs": [
    {
     "data": {
      "text/plain": [
       "array([84018, 81459,  7772,  4422,    62], dtype=int64)"
      ]
     },
     "execution_count": 63,
     "metadata": {},
     "output_type": "execute_result"
    }
   ],
   "source": [
    "p.values"
   ]
  },
  {
   "cell_type": "code",
   "execution_count": 64,
   "id": "6b8c7d7c",
   "metadata": {},
   "outputs": [
    {
     "data": {
      "text/plain": [
       "Index(['Gasoline', 'Diesel', 'Gasoline + LPG', 'Hybrid', 'Gasoline + CNG'], dtype='object')"
      ]
     },
     "execution_count": 64,
     "metadata": {},
     "output_type": "execute_result"
    }
   ],
   "source": [
    "p.index"
   ]
  },
  {
   "cell_type": "code",
   "execution_count": 65,
   "id": "e2904d8f",
   "metadata": {},
   "outputs": [
    {
     "data": {
      "text/plain": [
       "<Figure size 72x72 with 0 Axes>"
      ]
     },
     "execution_count": 65,
     "metadata": {},
     "output_type": "execute_result"
    },
    {
     "data": {
      "image/png": "[encoded data removed]",
      "text/plain": [
       "<Figure size 800x640 with 1 Axes>"
      ]
     },
     "metadata": {},
     "output_type": "display_data"
    },
    {
     "data": {
      "text/plain": [
       "<Figure size 72x72 with 0 Axes>"
      ]
     },
     "metadata": {},
     "output_type": "display_data"
    }
   ],
   "source": [
    "sns.set(rc={\"xtick.color\":\"black\",\"ytick.color\":\"black\"})\n",
    "figure(figsize=(10, 8), dpi=80)\n",
    "sns.barplot(x = p.index,y = p.values,palette=\"magma\")\n",
    "plt.xticks(rotation=40)\n",
    "plt.savefig(\"output3.png\")\n",
    "plt.figure(figsize=(1,1))\n"
   ]
  },
  {
   "cell_type": "code",
   "execution_count": 66,
   "id": "cc361916",
   "metadata": {
    "scrolled": true
   },
   "outputs": [],
   "source": [
    "#0-10k\n",
    "#10-25k\n",
    "#25-50k\n",
    "#50-100k\n",
    "#100k+"
   ]
  },
  {
   "cell_type": "code",
   "execution_count": 67,
   "id": "8a94535f",
   "metadata": {},
   "outputs": [],
   "source": [
    "def price_range(df):\n",
    "    price_range = \"0\"\n",
    "    if (df >= 0) &  (df < 10000):\n",
    "        price_range = \"0-10k\"\n",
    "    elif (df >= 10000) &  (df < 25000):\n",
    "        price_range = \"10k-25k\"\n",
    "    elif (df >= 25000) &  (df < 50000):\n",
    "        price_range = \"25k-50k\"\n",
    "    elif (df >= 50000) &  (df < 100000):\n",
    "        price_range = \"50k-100k\"\n",
    "    elif (df >= 100000):\n",
    "        price_range = \"100k+\"\n",
    "    return price_range"
   ]
  },
  {
   "cell_type": "code",
   "execution_count": 68,
   "id": "d11b1016",
   "metadata": {},
   "outputs": [],
   "source": [
    "df[\"Price range\"] = df[\"Price\"].apply(price_range)"
   ]
  },
  {
   "cell_type": "code",
   "execution_count": 69,
   "id": "93258d4c",
   "metadata": {},
   "outputs": [],
   "source": [
    "p = df[\"Price range\"].value_counts()"
   ]
  },
  {
   "cell_type": "code",
   "execution_count": 70,
   "id": "e7a05a8a",
   "metadata": {},
   "outputs": [
    {
     "data": {
      "text/plain": [
       "Index(['10k-25k', '25k-50k', '50k-100k', '100k+', '0-10k'], dtype='object')"
      ]
     },
     "execution_count": 70,
     "metadata": {},
     "output_type": "execute_result"
    }
   ],
   "source": [
    "p.index"
   ]
  },
  {
   "cell_type": "code",
   "execution_count": 71,
   "id": "6af2023e",
   "metadata": {},
   "outputs": [
    {
     "data": {
      "text/plain": [
       "array([51011, 47048, 40034, 20391, 19249], dtype=int64)"
      ]
     },
     "execution_count": 71,
     "metadata": {},
     "output_type": "execute_result"
    }
   ],
   "source": [
    "p.values"
   ]
  },
  {
   "cell_type": "code",
   "execution_count": 72,
   "id": "9bbf77c0",
   "metadata": {},
   "outputs": [
    {
     "data": {
      "text/plain": [
       "10k-25k     51011\n",
       "25k-50k     47048\n",
       "50k-100k    40034\n",
       "100k+       20391\n",
       "0-10k       19249\n",
       "Name: Price range, dtype: int64"
      ]
     },
     "execution_count": 72,
     "metadata": {},
     "output_type": "execute_result"
    }
   ],
   "source": [
    "p"
   ]
  },
  {
   "cell_type": "code",
   "execution_count": 73,
   "id": "4bc21bfc",
   "metadata": {},
   "outputs": [
    {
     "data": {
      "text/plain": [
       "<Figure size 72x72 with 0 Axes>"
      ]
     },
     "execution_count": 73,
     "metadata": {},
     "output_type": "execute_result"
    },
    {
     "data": {
      "image/png": "[encoded data removed]",
      "text/plain": [
       "<Figure size 800x640 with 1 Axes>"
      ]
     },
     "metadata": {},
     "output_type": "display_data"
    },
    {
     "data": {
      "text/plain": [
       "<Figure size 72x72 with 0 Axes>"
      ]
     },
     "metadata": {},
     "output_type": "display_data"
    }
   ],
   "source": [
    "sns.set(rc={\"xtick.color\":\"black\",\"ytick.color\":\"black\"})\n",
    "\n",
    "figure(figsize=(10, 8), dpi=80)\n",
    "sns.barplot(x = p.index,y = p.values,palette=\"magma\")\n",
    "plt.xticks(rotation=40)\n",
    "plt.savefig(\"output4.png\")\n",
    "plt.figure(figsize=(1,1))\n"
   ]
  },
  {
   "cell_type": "code",
   "execution_count": 74,
   "id": "eecf0d2f",
   "metadata": {},
   "outputs": [
    {
     "data": {
      "text/html": [
       "<div>\n",
       "<style scoped>\n",
       "    .dataframe tbody tr th:only-of-type {\n",
       "        vertical-align: middle;\n",
       "    }\n",
       "\n",
       "    .dataframe tbody tr th {\n",
       "        vertical-align: top;\n",
       "    }\n",
       "\n",
       "    .dataframe thead th {\n",
       "        text-align: right;\n",
       "    }\n",
       "</style>\n",
       "<table border=\"1\" class=\"dataframe\">\n",
       "  <thead>\n",
       "    <tr style=\"text-align: right;\">\n",
       "      <th></th>\n",
       "      <th>Price</th>\n",
       "      <th>Condition</th>\n",
       "      <th>Vehicle_brand</th>\n",
       "      <th>Vehicle_model</th>\n",
       "      <th>Production_year</th>\n",
       "      <th>Mileage_km</th>\n",
       "      <th>Power_HP</th>\n",
       "      <th>Displacement_cm3</th>\n",
       "      <th>Fuel_type</th>\n",
       "      <th>Drive</th>\n",
       "      <th>Transmission</th>\n",
       "      <th>Doors_number</th>\n",
       "      <th>Colour</th>\n",
       "      <th>Features</th>\n",
       "      <th>Price range</th>\n",
       "    </tr>\n",
       "    <tr>\n",
       "      <th>Index</th>\n",
       "      <th></th>\n",
       "      <th></th>\n",
       "      <th></th>\n",
       "      <th></th>\n",
       "      <th></th>\n",
       "      <th></th>\n",
       "      <th></th>\n",
       "      <th></th>\n",
       "      <th></th>\n",
       "      <th></th>\n",
       "      <th></th>\n",
       "      <th></th>\n",
       "      <th></th>\n",
       "      <th></th>\n",
       "      <th></th>\n",
       "    </tr>\n",
       "  </thead>\n",
       "  <tbody>\n",
       "    <tr>\n",
       "      <th>116465</th>\n",
       "      <td>42900</td>\n",
       "      <td>Used</td>\n",
       "      <td>Opel</td>\n",
       "      <td>Astra</td>\n",
       "      <td>2015</td>\n",
       "      <td>125000.0</td>\n",
       "      <td>136.0</td>\n",
       "      <td>1598.0</td>\n",
       "      <td>Diesel</td>\n",
       "      <td>Front wheels</td>\n",
       "      <td>Manual</td>\n",
       "      <td>5.0</td>\n",
       "      <td>red</td>\n",
       "      <td>48.0</td>\n",
       "      <td>25k-50k</td>\n",
       "    </tr>\n",
       "    <tr>\n",
       "      <th>116466</th>\n",
       "      <td>11900</td>\n",
       "      <td>Used</td>\n",
       "      <td>Opel</td>\n",
       "      <td>Astra</td>\n",
       "      <td>2006</td>\n",
       "      <td>192547.0</td>\n",
       "      <td>140.0</td>\n",
       "      <td>1796.0</td>\n",
       "      <td>Gasoline</td>\n",
       "      <td>Front wheels</td>\n",
       "      <td>Manual</td>\n",
       "      <td>5.0</td>\n",
       "      <td>green</td>\n",
       "      <td>35.0</td>\n",
       "      <td>10k-25k</td>\n",
       "    </tr>\n",
       "    <tr>\n",
       "      <th>116467</th>\n",
       "      <td>25900</td>\n",
       "      <td>Used</td>\n",
       "      <td>Opel</td>\n",
       "      <td>Astra</td>\n",
       "      <td>2010</td>\n",
       "      <td>119000.0</td>\n",
       "      <td>115.0</td>\n",
       "      <td>1598.0</td>\n",
       "      <td>Gasoline</td>\n",
       "      <td>Front wheels</td>\n",
       "      <td>Manual</td>\n",
       "      <td>5.0</td>\n",
       "      <td>black</td>\n",
       "      <td>32.0</td>\n",
       "      <td>25k-50k</td>\n",
       "    </tr>\n",
       "    <tr>\n",
       "      <th>116468</th>\n",
       "      <td>8400</td>\n",
       "      <td>Used</td>\n",
       "      <td>Opel</td>\n",
       "      <td>Astra</td>\n",
       "      <td>2007</td>\n",
       "      <td>290000.0</td>\n",
       "      <td>100.0</td>\n",
       "      <td>1910.0</td>\n",
       "      <td>Diesel</td>\n",
       "      <td>Front wheels</td>\n",
       "      <td>Manual</td>\n",
       "      <td>5.0</td>\n",
       "      <td>silver</td>\n",
       "      <td>25.0</td>\n",
       "      <td>0-10k</td>\n",
       "    </tr>\n",
       "    <tr>\n",
       "      <th>116469</th>\n",
       "      <td>15999</td>\n",
       "      <td>Used</td>\n",
       "      <td>Opel</td>\n",
       "      <td>Astra</td>\n",
       "      <td>2008</td>\n",
       "      <td>168779.0</td>\n",
       "      <td>115.0</td>\n",
       "      <td>1598.0</td>\n",
       "      <td>Gasoline</td>\n",
       "      <td>Front wheels</td>\n",
       "      <td>Manual</td>\n",
       "      <td>5.0</td>\n",
       "      <td>silver</td>\n",
       "      <td>24.0</td>\n",
       "      <td>10k-25k</td>\n",
       "    </tr>\n",
       "    <tr>\n",
       "      <th>...</th>\n",
       "      <td>...</td>\n",
       "      <td>...</td>\n",
       "      <td>...</td>\n",
       "      <td>...</td>\n",
       "      <td>...</td>\n",
       "      <td>...</td>\n",
       "      <td>...</td>\n",
       "      <td>...</td>\n",
       "      <td>...</td>\n",
       "      <td>...</td>\n",
       "      <td>...</td>\n",
       "      <td>...</td>\n",
       "      <td>...</td>\n",
       "      <td>...</td>\n",
       "      <td>...</td>\n",
       "    </tr>\n",
       "    <tr>\n",
       "      <th>36977</th>\n",
       "      <td>9800</td>\n",
       "      <td>Used</td>\n",
       "      <td>Chevrolet</td>\n",
       "      <td>Spark</td>\n",
       "      <td>2010</td>\n",
       "      <td>200000.0</td>\n",
       "      <td>68.0</td>\n",
       "      <td>995.0</td>\n",
       "      <td>Gasoline</td>\n",
       "      <td>Front wheels</td>\n",
       "      <td>Manual</td>\n",
       "      <td>5.0</td>\n",
       "      <td>silver</td>\n",
       "      <td>21.0</td>\n",
       "      <td>0-10k</td>\n",
       "    </tr>\n",
       "    <tr>\n",
       "      <th>36981</th>\n",
       "      <td>13800</td>\n",
       "      <td>Used</td>\n",
       "      <td>Chevrolet</td>\n",
       "      <td>Spark</td>\n",
       "      <td>2012</td>\n",
       "      <td>112644.0</td>\n",
       "      <td>68.0</td>\n",
       "      <td>1000.0</td>\n",
       "      <td>Gasoline</td>\n",
       "      <td>Front wheels</td>\n",
       "      <td>Manual</td>\n",
       "      <td>5.0</td>\n",
       "      <td>black</td>\n",
       "      <td>19.0</td>\n",
       "      <td>10k-25k</td>\n",
       "    </tr>\n",
       "    <tr>\n",
       "      <th>36984</th>\n",
       "      <td>11500</td>\n",
       "      <td>Used</td>\n",
       "      <td>Chevrolet</td>\n",
       "      <td>Spark</td>\n",
       "      <td>2011</td>\n",
       "      <td>126000.0</td>\n",
       "      <td>68.0</td>\n",
       "      <td>995.0</td>\n",
       "      <td>Gasoline</td>\n",
       "      <td>Front wheels</td>\n",
       "      <td>Manual</td>\n",
       "      <td>5.0</td>\n",
       "      <td>black</td>\n",
       "      <td>7.0</td>\n",
       "      <td>10k-25k</td>\n",
       "    </tr>\n",
       "    <tr>\n",
       "      <th>36986</th>\n",
       "      <td>9300</td>\n",
       "      <td>Used</td>\n",
       "      <td>Chevrolet</td>\n",
       "      <td>Spark</td>\n",
       "      <td>2012</td>\n",
       "      <td>160000.0</td>\n",
       "      <td>75.0</td>\n",
       "      <td>995.0</td>\n",
       "      <td>Gasoline + LPG</td>\n",
       "      <td>Front wheels</td>\n",
       "      <td>Manual</td>\n",
       "      <td>5.0</td>\n",
       "      <td>other</td>\n",
       "      <td>16.0</td>\n",
       "      <td>0-10k</td>\n",
       "    </tr>\n",
       "    <tr>\n",
       "      <th>37010</th>\n",
       "      <td>14980</td>\n",
       "      <td>Used</td>\n",
       "      <td>Chevrolet</td>\n",
       "      <td>Spark</td>\n",
       "      <td>2013</td>\n",
       "      <td>70000.0</td>\n",
       "      <td>68.0</td>\n",
       "      <td>995.0</td>\n",
       "      <td>Gasoline</td>\n",
       "      <td>Front wheels</td>\n",
       "      <td>Manual</td>\n",
       "      <td>5.0</td>\n",
       "      <td>yellow</td>\n",
       "      <td>15.0</td>\n",
       "      <td>10k-25k</td>\n",
       "    </tr>\n",
       "  </tbody>\n",
       "</table>\n",
       "<p>177733 rows × 15 columns</p>\n",
       "</div>"
      ],
      "text/plain": [
       "        Price Condition Vehicle_brand Vehicle_model  Production_year  \\\n",
       "Index                                                                  \n",
       "116465  42900      Used          Opel         Astra             2015   \n",
       "116466  11900      Used          Opel         Astra             2006   \n",
       "116467  25900      Used          Opel         Astra             2010   \n",
       "116468   8400      Used          Opel         Astra             2007   \n",
       "116469  15999      Used          Opel         Astra             2008   \n",
       "...       ...       ...           ...           ...              ...   \n",
       "36977    9800      Used     Chevrolet         Spark             2010   \n",
       "36981   13800      Used     Chevrolet         Spark             2012   \n",
       "36984   11500      Used     Chevrolet         Spark             2011   \n",
       "36986    9300      Used     Chevrolet         Spark             2012   \n",
       "37010   14980      Used     Chevrolet         Spark             2013   \n",
       "\n",
       "        Mileage_km  Power_HP  Displacement_cm3       Fuel_type         Drive  \\\n",
       "Index                                                                          \n",
       "116465    125000.0     136.0            1598.0          Diesel  Front wheels   \n",
       "116466    192547.0     140.0            1796.0        Gasoline  Front wheels   \n",
       "116467    119000.0     115.0            1598.0        Gasoline  Front wheels   \n",
       "116468    290000.0     100.0            1910.0          Diesel  Front wheels   \n",
       "116469    168779.0     115.0            1598.0        Gasoline  Front wheels   \n",
       "...            ...       ...               ...             ...           ...   \n",
       "36977     200000.0      68.0             995.0        Gasoline  Front wheels   \n",
       "36981     112644.0      68.0            1000.0        Gasoline  Front wheels   \n",
       "36984     126000.0      68.0             995.0        Gasoline  Front wheels   \n",
       "36986     160000.0      75.0             995.0  Gasoline + LPG  Front wheels   \n",
       "37010      70000.0      68.0             995.0        Gasoline  Front wheels   \n",
       "\n",
       "       Transmission  Doors_number  Colour  Features Price range  \n",
       "Index                                                            \n",
       "116465       Manual           5.0     red      48.0     25k-50k  \n",
       "116466       Manual           5.0   green      35.0     10k-25k  \n",
       "116467       Manual           5.0   black      32.0     25k-50k  \n",
       "116468       Manual           5.0  silver      25.0       0-10k  \n",
       "116469       Manual           5.0  silver      24.0     10k-25k  \n",
       "...             ...           ...     ...       ...         ...  \n",
       "36977        Manual           5.0  silver      21.0       0-10k  \n",
       "36981        Manual           5.0   black      19.0     10k-25k  \n",
       "36984        Manual           5.0   black       7.0     10k-25k  \n",
       "36986        Manual           5.0   other      16.0       0-10k  \n",
       "37010        Manual           5.0  yellow      15.0     10k-25k  \n",
       "\n",
       "[177733 rows x 15 columns]"
      ]
     },
     "execution_count": 74,
     "metadata": {},
     "output_type": "execute_result"
    }
   ],
   "source": [
    "df"
   ]
  },
  {
   "cell_type": "code",
   "execution_count": 75,
   "id": "97529186",
   "metadata": {
    "scrolled": true
   },
   "outputs": [
    {
     "data": {
      "text/plain": [
       "Index(['black', 'silver', 'gray', 'white', 'blue', 'other', 'red', 'brown',\n",
       "       'burgundy', 'green', 'golden', 'beige', 'yellow', 'violet'],\n",
       "      dtype='object')"
      ]
     },
     "execution_count": 75,
     "metadata": {},
     "output_type": "execute_result"
    }
   ],
   "source": [
    "p = df[\"Colour\"].value_counts()\n",
    "p.index\n"
   ]
  },
  {
   "cell_type": "code",
   "execution_count": 80,
   "id": "3b3974ea",
   "metadata": {},
   "outputs": [
    {
     "data": {
      "text/plain": [
       "<Figure size 72x72 with 0 Axes>"
      ]
     },
     "execution_count": 80,
     "metadata": {},
     "output_type": "execute_result"
    },
    {
     "data": {
      "image/png": "[encoded data removed]",
      "text/plain": [
       "<Figure size 800x640 with 1 Axes>"
      ]
     },
     "metadata": {},
     "output_type": "display_data"
    },
    {
     "data": {
      "text/plain": [
       "<Figure size 72x72 with 0 Axes>"
      ]
     },
     "metadata": {},
     "output_type": "display_data"
    }
   ],
   "source": [
    "sns.set(rc={\"xtick.color\":\"black\",\"ytick.color\":\"black\"})\n",
    "\n",
    "figure(figsize=(10, 8), dpi=80)\n",
    "ax = sns.barplot(x = p.index,y = p.values,palette=['black', 'silver', 'gray', 'white', 'blue', 'white', 'red', 'brown',\n",
    "       '#800020', 'green', 'gold', '#F5F5DC', 'yellow', 'violet'],saturation=1)\n",
    "plt.xticks(rotation=40)\n",
    "plt.savefig(\"output5.png\")\n",
    "plt.figure(figsize=(1,1))\n"
   ]
  },
  {
   "cell_type": "code",
   "execution_count": 82,
   "id": "3b27e0bb",
   "metadata": {},
   "outputs": [
    {
     "data": {
      "text/html": [
       "<div>\n",
       "<style scoped>\n",
       "    .dataframe tbody tr th:only-of-type {\n",
       "        vertical-align: middle;\n",
       "    }\n",
       "\n",
       "    .dataframe tbody tr th {\n",
       "        vertical-align: top;\n",
       "    }\n",
       "\n",
       "    .dataframe thead th {\n",
       "        text-align: right;\n",
       "    }\n",
       "</style>\n",
       "<table border=\"1\" class=\"dataframe\">\n",
       "  <thead>\n",
       "    <tr style=\"text-align: right;\">\n",
       "      <th></th>\n",
       "      <th>Price</th>\n",
       "      <th>Condition</th>\n",
       "      <th>Vehicle_brand</th>\n",
       "      <th>Vehicle_model</th>\n",
       "      <th>Production_year</th>\n",
       "      <th>Mileage_km</th>\n",
       "      <th>Power_HP</th>\n",
       "      <th>Displacement_cm3</th>\n",
       "      <th>Fuel_type</th>\n",
       "      <th>Drive</th>\n",
       "      <th>Transmission</th>\n",
       "      <th>Doors_number</th>\n",
       "      <th>Colour</th>\n",
       "      <th>Features</th>\n",
       "      <th>Price range</th>\n",
       "    </tr>\n",
       "    <tr>\n",
       "      <th>Index</th>\n",
       "      <th></th>\n",
       "      <th></th>\n",
       "      <th></th>\n",
       "      <th></th>\n",
       "      <th></th>\n",
       "      <th></th>\n",
       "      <th></th>\n",
       "      <th></th>\n",
       "      <th></th>\n",
       "      <th></th>\n",
       "      <th></th>\n",
       "      <th></th>\n",
       "      <th></th>\n",
       "      <th></th>\n",
       "      <th></th>\n",
       "    </tr>\n",
       "  </thead>\n",
       "  <tbody>\n",
       "    <tr>\n",
       "      <th>50925</th>\n",
       "      <td>585</td>\n",
       "      <td>New</td>\n",
       "      <td>Fiat</td>\n",
       "      <td>Tipo</td>\n",
       "      <td>2021</td>\n",
       "      <td>1.0</td>\n",
       "      <td>100.0</td>\n",
       "      <td>999.0</td>\n",
       "      <td>Gasoline</td>\n",
       "      <td>Front wheels</td>\n",
       "      <td>Manual</td>\n",
       "      <td>5.0</td>\n",
       "      <td>blue</td>\n",
       "      <td>34.0</td>\n",
       "      <td>0-10k</td>\n",
       "    </tr>\n",
       "    <tr>\n",
       "      <th>50940</th>\n",
       "      <td>585</td>\n",
       "      <td>New</td>\n",
       "      <td>Fiat</td>\n",
       "      <td>Tipo</td>\n",
       "      <td>2021</td>\n",
       "      <td>1.0</td>\n",
       "      <td>100.0</td>\n",
       "      <td>999.0</td>\n",
       "      <td>Gasoline</td>\n",
       "      <td>Front wheels</td>\n",
       "      <td>Manual</td>\n",
       "      <td>5.0</td>\n",
       "      <td>silver</td>\n",
       "      <td>34.0</td>\n",
       "      <td>0-10k</td>\n",
       "    </tr>\n",
       "    <tr>\n",
       "      <th>87094</th>\n",
       "      <td>599</td>\n",
       "      <td>Used</td>\n",
       "      <td>Kia</td>\n",
       "      <td>Picanto</td>\n",
       "      <td>2012</td>\n",
       "      <td>54000.0</td>\n",
       "      <td>85.0</td>\n",
       "      <td>1248.0</td>\n",
       "      <td>Gasoline</td>\n",
       "      <td>Front wheels</td>\n",
       "      <td>Manual</td>\n",
       "      <td>3.0</td>\n",
       "      <td>white</td>\n",
       "      <td>10.0</td>\n",
       "      <td>0-10k</td>\n",
       "    </tr>\n",
       "    <tr>\n",
       "      <th>203755</th>\n",
       "      <td>649</td>\n",
       "      <td>Used</td>\n",
       "      <td>Volvo</td>\n",
       "      <td>S40</td>\n",
       "      <td>2006</td>\n",
       "      <td>237771.0</td>\n",
       "      <td>136.0</td>\n",
       "      <td>1998.0</td>\n",
       "      <td>Diesel</td>\n",
       "      <td>Front wheels</td>\n",
       "      <td>Manual</td>\n",
       "      <td>4.0</td>\n",
       "      <td>blue</td>\n",
       "      <td>27.0</td>\n",
       "      <td>0-10k</td>\n",
       "    </tr>\n",
       "    <tr>\n",
       "      <th>153243</th>\n",
       "      <td>650</td>\n",
       "      <td>Used</td>\n",
       "      <td>Renault</td>\n",
       "      <td>Clio</td>\n",
       "      <td>2001</td>\n",
       "      <td>202000.0</td>\n",
       "      <td>65.0</td>\n",
       "      <td>1461.0</td>\n",
       "      <td>Diesel</td>\n",
       "      <td>Front wheels</td>\n",
       "      <td>Manual</td>\n",
       "      <td>5.0</td>\n",
       "      <td>silver</td>\n",
       "      <td>15.0</td>\n",
       "      <td>0-10k</td>\n",
       "    </tr>\n",
       "    <tr>\n",
       "      <th>...</th>\n",
       "      <td>...</td>\n",
       "      <td>...</td>\n",
       "      <td>...</td>\n",
       "      <td>...</td>\n",
       "      <td>...</td>\n",
       "      <td>...</td>\n",
       "      <td>...</td>\n",
       "      <td>...</td>\n",
       "      <td>...</td>\n",
       "      <td>...</td>\n",
       "      <td>...</td>\n",
       "      <td>...</td>\n",
       "      <td>...</td>\n",
       "      <td>...</td>\n",
       "      <td>...</td>\n",
       "    </tr>\n",
       "    <tr>\n",
       "      <th>190186</th>\n",
       "      <td>199999</td>\n",
       "      <td>New</td>\n",
       "      <td>Volkswagen</td>\n",
       "      <td>Golf</td>\n",
       "      <td>2021</td>\n",
       "      <td>1.0</td>\n",
       "      <td>200.0</td>\n",
       "      <td>1968.0</td>\n",
       "      <td>Diesel</td>\n",
       "      <td>4x4 (attached manually)</td>\n",
       "      <td>Automatic</td>\n",
       "      <td>5.0</td>\n",
       "      <td>red</td>\n",
       "      <td>45.0</td>\n",
       "      <td>100k+</td>\n",
       "    </tr>\n",
       "    <tr>\n",
       "      <th>203051</th>\n",
       "      <td>199999</td>\n",
       "      <td>Used</td>\n",
       "      <td>Volvo</td>\n",
       "      <td>XC 60</td>\n",
       "      <td>2018</td>\n",
       "      <td>73579.0</td>\n",
       "      <td>235.0</td>\n",
       "      <td>1969.0</td>\n",
       "      <td>Diesel</td>\n",
       "      <td>4x4 (attached automatically)</td>\n",
       "      <td>Automatic</td>\n",
       "      <td>5.0</td>\n",
       "      <td>black</td>\n",
       "      <td>46.0</td>\n",
       "      <td>100k+</td>\n",
       "    </tr>\n",
       "    <tr>\n",
       "      <th>12280</th>\n",
       "      <td>199999</td>\n",
       "      <td>Used</td>\n",
       "      <td>Audi</td>\n",
       "      <td>A6</td>\n",
       "      <td>2019</td>\n",
       "      <td>88039.0</td>\n",
       "      <td>204.0</td>\n",
       "      <td>1968.0</td>\n",
       "      <td>Diesel</td>\n",
       "      <td>Front wheels</td>\n",
       "      <td>Automatic</td>\n",
       "      <td>5.0</td>\n",
       "      <td>white</td>\n",
       "      <td>61.0</td>\n",
       "      <td>100k+</td>\n",
       "    </tr>\n",
       "    <tr>\n",
       "      <th>26461</th>\n",
       "      <td>199999</td>\n",
       "      <td>Used</td>\n",
       "      <td>BMW</td>\n",
       "      <td>Seria 4</td>\n",
       "      <td>2017</td>\n",
       "      <td>22000.0</td>\n",
       "      <td>252.0</td>\n",
       "      <td>1998.0</td>\n",
       "      <td>Gasoline</td>\n",
       "      <td>4x4 (permanent)</td>\n",
       "      <td>Automatic</td>\n",
       "      <td>2.0</td>\n",
       "      <td>white</td>\n",
       "      <td>37.0</td>\n",
       "      <td>100k+</td>\n",
       "    </tr>\n",
       "    <tr>\n",
       "      <th>140280</th>\n",
       "      <td>199999</td>\n",
       "      <td>New</td>\n",
       "      <td>Peugeot</td>\n",
       "      <td>3008</td>\n",
       "      <td>2020</td>\n",
       "      <td>5.0</td>\n",
       "      <td>300.0</td>\n",
       "      <td>1598.0</td>\n",
       "      <td>Hybrid</td>\n",
       "      <td>4x4 (attached manually)</td>\n",
       "      <td>Automatic</td>\n",
       "      <td>5.0</td>\n",
       "      <td>white</td>\n",
       "      <td>52.0</td>\n",
       "      <td>100k+</td>\n",
       "    </tr>\n",
       "  </tbody>\n",
       "</table>\n",
       "<p>177733 rows × 15 columns</p>\n",
       "</div>"
      ],
      "text/plain": [
       "         Price Condition Vehicle_brand Vehicle_model  Production_year  \\\n",
       "Index                                                                   \n",
       "50925      585       New          Fiat          Tipo             2021   \n",
       "50940      585       New          Fiat          Tipo             2021   \n",
       "87094      599      Used           Kia       Picanto             2012   \n",
       "203755     649      Used         Volvo           S40             2006   \n",
       "153243     650      Used       Renault          Clio             2001   \n",
       "...        ...       ...           ...           ...              ...   \n",
       "190186  199999       New    Volkswagen          Golf             2021   \n",
       "203051  199999      Used         Volvo         XC 60             2018   \n",
       "12280   199999      Used          Audi            A6             2019   \n",
       "26461   199999      Used           BMW       Seria 4             2017   \n",
       "140280  199999       New       Peugeot          3008             2020   \n",
       "\n",
       "        Mileage_km  Power_HP  Displacement_cm3 Fuel_type  \\\n",
       "Index                                                      \n",
       "50925          1.0     100.0             999.0  Gasoline   \n",
       "50940          1.0     100.0             999.0  Gasoline   \n",
       "87094      54000.0      85.0            1248.0  Gasoline   \n",
       "203755    237771.0     136.0            1998.0    Diesel   \n",
       "153243    202000.0      65.0            1461.0    Diesel   \n",
       "...            ...       ...               ...       ...   \n",
       "190186         1.0     200.0            1968.0    Diesel   \n",
       "203051     73579.0     235.0            1969.0    Diesel   \n",
       "12280      88039.0     204.0            1968.0    Diesel   \n",
       "26461      22000.0     252.0            1998.0  Gasoline   \n",
       "140280         5.0     300.0            1598.0    Hybrid   \n",
       "\n",
       "                               Drive Transmission  Doors_number  Colour  \\\n",
       "Index                                                                     \n",
       "50925                   Front wheels       Manual           5.0    blue   \n",
       "50940                   Front wheels       Manual           5.0  silver   \n",
       "87094                   Front wheels       Manual           3.0   white   \n",
       "203755                  Front wheels       Manual           4.0    blue   \n",
       "153243                  Front wheels       Manual           5.0  silver   \n",
       "...                              ...          ...           ...     ...   \n",
       "190186       4x4 (attached manually)    Automatic           5.0     red   \n",
       "203051  4x4 (attached automatically)    Automatic           5.0   black   \n",
       "12280                   Front wheels    Automatic           5.0   white   \n",
       "26461                4x4 (permanent)    Automatic           2.0   white   \n",
       "140280       4x4 (attached manually)    Automatic           5.0   white   \n",
       "\n",
       "        Features Price range  \n",
       "Index                         \n",
       "50925       34.0       0-10k  \n",
       "50940       34.0       0-10k  \n",
       "87094       10.0       0-10k  \n",
       "203755      27.0       0-10k  \n",
       "153243      15.0       0-10k  \n",
       "...          ...         ...  \n",
       "190186      45.0       100k+  \n",
       "203051      46.0       100k+  \n",
       "12280       61.0       100k+  \n",
       "26461       37.0       100k+  \n",
       "140280      52.0       100k+  \n",
       "\n",
       "[177733 rows x 15 columns]"
      ]
     },
     "execution_count": 82,
     "metadata": {},
     "output_type": "execute_result"
    }
   ],
   "source": [
    "df.sort_values(\"Price\")"
   ]
  },
  {
   "cell_type": "code",
   "execution_count": 83,
   "id": "6fac7885",
   "metadata": {},
   "outputs": [
    {
     "data": {
      "text/html": [
       "<div>\n",
       "<style scoped>\n",
       "    .dataframe tbody tr th:only-of-type {\n",
       "        vertical-align: middle;\n",
       "    }\n",
       "\n",
       "    .dataframe tbody tr th {\n",
       "        vertical-align: top;\n",
       "    }\n",
       "\n",
       "    .dataframe thead th {\n",
       "        text-align: right;\n",
       "    }\n",
       "</style>\n",
       "<table border=\"1\" class=\"dataframe\">\n",
       "  <thead>\n",
       "    <tr style=\"text-align: right;\">\n",
       "      <th></th>\n",
       "      <th>Price</th>\n",
       "      <th>Condition</th>\n",
       "      <th>Vehicle_brand</th>\n",
       "      <th>Vehicle_model</th>\n",
       "      <th>Production_year</th>\n",
       "      <th>Mileage_km</th>\n",
       "      <th>Power_HP</th>\n",
       "      <th>Displacement_cm3</th>\n",
       "      <th>Fuel_type</th>\n",
       "      <th>Drive</th>\n",
       "      <th>Transmission</th>\n",
       "      <th>Doors_number</th>\n",
       "      <th>Colour</th>\n",
       "      <th>Features</th>\n",
       "      <th>Price range</th>\n",
       "    </tr>\n",
       "    <tr>\n",
       "      <th>Index</th>\n",
       "      <th></th>\n",
       "      <th></th>\n",
       "      <th></th>\n",
       "      <th></th>\n",
       "      <th></th>\n",
       "      <th></th>\n",
       "      <th></th>\n",
       "      <th></th>\n",
       "      <th></th>\n",
       "      <th></th>\n",
       "      <th></th>\n",
       "      <th></th>\n",
       "      <th></th>\n",
       "      <th></th>\n",
       "      <th></th>\n",
       "    </tr>\n",
       "  </thead>\n",
       "  <tbody>\n",
       "    <tr>\n",
       "      <th>116465</th>\n",
       "      <td>42900</td>\n",
       "      <td>Used</td>\n",
       "      <td>Opel</td>\n",
       "      <td>Astra</td>\n",
       "      <td>2015</td>\n",
       "      <td>125000.0</td>\n",
       "      <td>136.0</td>\n",
       "      <td>1598.0</td>\n",
       "      <td>Diesel</td>\n",
       "      <td>Front wheels</td>\n",
       "      <td>Manual</td>\n",
       "      <td>5.0</td>\n",
       "      <td>red</td>\n",
       "      <td>48.0</td>\n",
       "      <td>25k-50k</td>\n",
       "    </tr>\n",
       "    <tr>\n",
       "      <th>116466</th>\n",
       "      <td>11900</td>\n",
       "      <td>Used</td>\n",
       "      <td>Opel</td>\n",
       "      <td>Astra</td>\n",
       "      <td>2006</td>\n",
       "      <td>192547.0</td>\n",
       "      <td>140.0</td>\n",
       "      <td>1796.0</td>\n",
       "      <td>Gasoline</td>\n",
       "      <td>Front wheels</td>\n",
       "      <td>Manual</td>\n",
       "      <td>5.0</td>\n",
       "      <td>green</td>\n",
       "      <td>35.0</td>\n",
       "      <td>10k-25k</td>\n",
       "    </tr>\n",
       "    <tr>\n",
       "      <th>116467</th>\n",
       "      <td>25900</td>\n",
       "      <td>Used</td>\n",
       "      <td>Opel</td>\n",
       "      <td>Astra</td>\n",
       "      <td>2010</td>\n",
       "      <td>119000.0</td>\n",
       "      <td>115.0</td>\n",
       "      <td>1598.0</td>\n",
       "      <td>Gasoline</td>\n",
       "      <td>Front wheels</td>\n",
       "      <td>Manual</td>\n",
       "      <td>5.0</td>\n",
       "      <td>black</td>\n",
       "      <td>32.0</td>\n",
       "      <td>25k-50k</td>\n",
       "    </tr>\n",
       "    <tr>\n",
       "      <th>116468</th>\n",
       "      <td>8400</td>\n",
       "      <td>Used</td>\n",
       "      <td>Opel</td>\n",
       "      <td>Astra</td>\n",
       "      <td>2007</td>\n",
       "      <td>290000.0</td>\n",
       "      <td>100.0</td>\n",
       "      <td>1910.0</td>\n",
       "      <td>Diesel</td>\n",
       "      <td>Front wheels</td>\n",
       "      <td>Manual</td>\n",
       "      <td>5.0</td>\n",
       "      <td>silver</td>\n",
       "      <td>25.0</td>\n",
       "      <td>0-10k</td>\n",
       "    </tr>\n",
       "    <tr>\n",
       "      <th>116469</th>\n",
       "      <td>15999</td>\n",
       "      <td>Used</td>\n",
       "      <td>Opel</td>\n",
       "      <td>Astra</td>\n",
       "      <td>2008</td>\n",
       "      <td>168779.0</td>\n",
       "      <td>115.0</td>\n",
       "      <td>1598.0</td>\n",
       "      <td>Gasoline</td>\n",
       "      <td>Front wheels</td>\n",
       "      <td>Manual</td>\n",
       "      <td>5.0</td>\n",
       "      <td>silver</td>\n",
       "      <td>24.0</td>\n",
       "      <td>10k-25k</td>\n",
       "    </tr>\n",
       "    <tr>\n",
       "      <th>...</th>\n",
       "      <td>...</td>\n",
       "      <td>...</td>\n",
       "      <td>...</td>\n",
       "      <td>...</td>\n",
       "      <td>...</td>\n",
       "      <td>...</td>\n",
       "      <td>...</td>\n",
       "      <td>...</td>\n",
       "      <td>...</td>\n",
       "      <td>...</td>\n",
       "      <td>...</td>\n",
       "      <td>...</td>\n",
       "      <td>...</td>\n",
       "      <td>...</td>\n",
       "      <td>...</td>\n",
       "    </tr>\n",
       "    <tr>\n",
       "      <th>36977</th>\n",
       "      <td>9800</td>\n",
       "      <td>Used</td>\n",
       "      <td>Chevrolet</td>\n",
       "      <td>Spark</td>\n",
       "      <td>2010</td>\n",
       "      <td>200000.0</td>\n",
       "      <td>68.0</td>\n",
       "      <td>995.0</td>\n",
       "      <td>Gasoline</td>\n",
       "      <td>Front wheels</td>\n",
       "      <td>Manual</td>\n",
       "      <td>5.0</td>\n",
       "      <td>silver</td>\n",
       "      <td>21.0</td>\n",
       "      <td>0-10k</td>\n",
       "    </tr>\n",
       "    <tr>\n",
       "      <th>36981</th>\n",
       "      <td>13800</td>\n",
       "      <td>Used</td>\n",
       "      <td>Chevrolet</td>\n",
       "      <td>Spark</td>\n",
       "      <td>2012</td>\n",
       "      <td>112644.0</td>\n",
       "      <td>68.0</td>\n",
       "      <td>1000.0</td>\n",
       "      <td>Gasoline</td>\n",
       "      <td>Front wheels</td>\n",
       "      <td>Manual</td>\n",
       "      <td>5.0</td>\n",
       "      <td>black</td>\n",
       "      <td>19.0</td>\n",
       "      <td>10k-25k</td>\n",
       "    </tr>\n",
       "    <tr>\n",
       "      <th>36984</th>\n",
       "      <td>11500</td>\n",
       "      <td>Used</td>\n",
       "      <td>Chevrolet</td>\n",
       "      <td>Spark</td>\n",
       "      <td>2011</td>\n",
       "      <td>126000.0</td>\n",
       "      <td>68.0</td>\n",
       "      <td>995.0</td>\n",
       "      <td>Gasoline</td>\n",
       "      <td>Front wheels</td>\n",
       "      <td>Manual</td>\n",
       "      <td>5.0</td>\n",
       "      <td>black</td>\n",
       "      <td>7.0</td>\n",
       "      <td>10k-25k</td>\n",
       "    </tr>\n",
       "    <tr>\n",
       "      <th>36986</th>\n",
       "      <td>9300</td>\n",
       "      <td>Used</td>\n",
       "      <td>Chevrolet</td>\n",
       "      <td>Spark</td>\n",
       "      <td>2012</td>\n",
       "      <td>160000.0</td>\n",
       "      <td>75.0</td>\n",
       "      <td>995.0</td>\n",
       "      <td>Gasoline + LPG</td>\n",
       "      <td>Front wheels</td>\n",
       "      <td>Manual</td>\n",
       "      <td>5.0</td>\n",
       "      <td>other</td>\n",
       "      <td>16.0</td>\n",
       "      <td>0-10k</td>\n",
       "    </tr>\n",
       "    <tr>\n",
       "      <th>37010</th>\n",
       "      <td>14980</td>\n",
       "      <td>Used</td>\n",
       "      <td>Chevrolet</td>\n",
       "      <td>Spark</td>\n",
       "      <td>2013</td>\n",
       "      <td>70000.0</td>\n",
       "      <td>68.0</td>\n",
       "      <td>995.0</td>\n",
       "      <td>Gasoline</td>\n",
       "      <td>Front wheels</td>\n",
       "      <td>Manual</td>\n",
       "      <td>5.0</td>\n",
       "      <td>yellow</td>\n",
       "      <td>15.0</td>\n",
       "      <td>10k-25k</td>\n",
       "    </tr>\n",
       "  </tbody>\n",
       "</table>\n",
       "<p>177733 rows × 15 columns</p>\n",
       "</div>"
      ],
      "text/plain": [
       "        Price Condition Vehicle_brand Vehicle_model  Production_year  \\\n",
       "Index                                                                  \n",
       "116465  42900      Used          Opel         Astra             2015   \n",
       "116466  11900      Used          Opel         Astra             2006   \n",
       "116467  25900      Used          Opel         Astra             2010   \n",
       "116468   8400      Used          Opel         Astra             2007   \n",
       "116469  15999      Used          Opel         Astra             2008   \n",
       "...       ...       ...           ...           ...              ...   \n",
       "36977    9800      Used     Chevrolet         Spark             2010   \n",
       "36981   13800      Used     Chevrolet         Spark             2012   \n",
       "36984   11500      Used     Chevrolet         Spark             2011   \n",
       "36986    9300      Used     Chevrolet         Spark             2012   \n",
       "37010   14980      Used     Chevrolet         Spark             2013   \n",
       "\n",
       "        Mileage_km  Power_HP  Displacement_cm3       Fuel_type         Drive  \\\n",
       "Index                                                                          \n",
       "116465    125000.0     136.0            1598.0          Diesel  Front wheels   \n",
       "116466    192547.0     140.0            1796.0        Gasoline  Front wheels   \n",
       "116467    119000.0     115.0            1598.0        Gasoline  Front wheels   \n",
       "116468    290000.0     100.0            1910.0          Diesel  Front wheels   \n",
       "116469    168779.0     115.0            1598.0        Gasoline  Front wheels   \n",
       "...            ...       ...               ...             ...           ...   \n",
       "36977     200000.0      68.0             995.0        Gasoline  Front wheels   \n",
       "36981     112644.0      68.0            1000.0        Gasoline  Front wheels   \n",
       "36984     126000.0      68.0             995.0        Gasoline  Front wheels   \n",
       "36986     160000.0      75.0             995.0  Gasoline + LPG  Front wheels   \n",
       "37010      70000.0      68.0             995.0        Gasoline  Front wheels   \n",
       "\n",
       "       Transmission  Doors_number  Colour  Features Price range  \n",
       "Index                                                            \n",
       "116465       Manual           5.0     red      48.0     25k-50k  \n",
       "116466       Manual           5.0   green      35.0     10k-25k  \n",
       "116467       Manual           5.0   black      32.0     25k-50k  \n",
       "116468       Manual           5.0  silver      25.0       0-10k  \n",
       "116469       Manual           5.0  silver      24.0     10k-25k  \n",
       "...             ...           ...     ...       ...         ...  \n",
       "36977        Manual           5.0  silver      21.0       0-10k  \n",
       "36981        Manual           5.0   black      19.0     10k-25k  \n",
       "36984        Manual           5.0   black       7.0     10k-25k  \n",
       "36986        Manual           5.0   other      16.0       0-10k  \n",
       "37010        Manual           5.0  yellow      15.0     10k-25k  \n",
       "\n",
       "[177733 rows x 15 columns]"
      ]
     },
     "execution_count": 83,
     "metadata": {},
     "output_type": "execute_result"
    }
   ],
   "source": [
    "df"
   ]
  },
  {
   "cell_type": "code",
   "execution_count": null,
   "id": "61fbc6da",
   "metadata": {},
   "outputs": [],
   "source": []
  }
 ],
 "metadata": {
  "kernelspec": {
   "display_name": "Python 3 (ipykernel)",
   "language": "python",
   "name": "python3"
  },
  "language_info": {
   "codemirror_mode": {
    "name": "ipython",
    "version": 3
   },
   "file_extension": ".py",
   "mimetype": "text/x-python",
   "name": "python",
   "nbconvert_exporter": "python",
   "pygments_lexer": "ipython3",
   "version": "3.9.5"
  }
 },
 "nbformat": 4,
 "nbformat_minor": 5
}
