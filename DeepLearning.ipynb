{
 "cells": [
  {
   "cell_type": "code",
   "execution_count": 1,
   "id": "3ed0af8b",
   "metadata": {},
   "outputs": [],
   "source": [
    "import pandas as pd\n",
    "import matplotlib.pyplot as plt\n",
    "import seaborn as sns\n",
    "import numpy as np"
   ]
  },
  {
   "cell_type": "markdown",
   "id": "befb7567",
   "metadata": {},
   "source": [
    "# Import"
   ]
  },
  {
   "cell_type": "code",
   "execution_count": 2,
   "id": "b342f07b",
   "metadata": {},
   "outputs": [],
   "source": [
    "df = pd.read_csv(\"Data/clean_data.csv\", index_col=  \"Index\")"
   ]
  },
  {
   "cell_type": "markdown",
   "id": "84ef97ec",
   "metadata": {},
   "source": [
    "# Get dummies"
   ]
  },
  {
   "cell_type": "code",
   "execution_count": 3,
   "id": "3b48322b",
   "metadata": {},
   "outputs": [],
   "source": [
    "df_dum = pd.get_dummies(df,drop_first=True)"
   ]
  },
  {
   "cell_type": "markdown",
   "id": "076aae94",
   "metadata": {},
   "source": [
    "# Split Data"
   ]
  },
  {
   "cell_type": "code",
   "execution_count": 242,
   "id": "49e9f983",
   "metadata": {},
   "outputs": [],
   "source": [
    "X = df_dum.drop([\"Price\"], axis = 1)"
   ]
  },
  {
   "cell_type": "code",
   "execution_count": 243,
   "id": "a0fb51c3",
   "metadata": {},
   "outputs": [],
   "source": [
    "y = df_dum[\"Price\"]"
   ]
  },
  {
   "cell_type": "code",
   "execution_count": 244,
   "id": "4e767959",
   "metadata": {},
   "outputs": [],
   "source": [
    "from sklearn.model_selection import train_test_split\n",
    "from sklearn.preprocessing import StandardScaler"
   ]
  },
  {
   "cell_type": "code",
   "execution_count": 245,
   "id": "f3d7d8e3",
   "metadata": {},
   "outputs": [],
   "source": [
    "X_train, X_test, y_train, y_test = train_test_split(X, y, test_size=0.3, random_state=110)"
   ]
  },
  {
   "cell_type": "code",
   "execution_count": 246,
   "id": "7c966da1",
   "metadata": {},
   "outputs": [],
   "source": [
    "scaler = StandardScaler()"
   ]
  },
  {
   "cell_type": "code",
   "execution_count": 247,
   "id": "de18acd3",
   "metadata": {},
   "outputs": [],
   "source": [
    "X_train = scaler.fit_transform(X_train)"
   ]
  },
  {
   "cell_type": "code",
   "execution_count": 248,
   "id": "912b5f50",
   "metadata": {},
   "outputs": [],
   "source": [
    "X_test = scaler.transform(X_test)"
   ]
  },
  {
   "cell_type": "markdown",
   "id": "5e37b2b4",
   "metadata": {},
   "source": [
    "# DeepLearning"
   ]
  },
  {
   "cell_type": "code",
   "execution_count": 11,
   "id": "d3f37851",
   "metadata": {},
   "outputs": [],
   "source": [
    "import tensorflow as tf"
   ]
  },
  {
   "cell_type": "code",
   "execution_count": 330,
   "id": "afee3c2a",
   "metadata": {},
   "outputs": [],
   "source": [
    "from tensorflow.keras.models import Sequential\n",
    "from tensorflow.keras.layers import Dense, Activation\n",
    "from tensorflow.keras.optimizers import Adam\n",
    "from sklearn.metrics import mean_absolute_error\n",
    "from tensorflow.keras.layers import Dropout"
   ]
  },
  {
   "cell_type": "code",
   "execution_count": 13,
   "id": "24dd89d8",
   "metadata": {
    "scrolled": false
   },
   "outputs": [
    {
     "data": {
      "text/html": [
       "<div>\n",
       "<style scoped>\n",
       "    .dataframe tbody tr th:only-of-type {\n",
       "        vertical-align: middle;\n",
       "    }\n",
       "\n",
       "    .dataframe tbody tr th {\n",
       "        vertical-align: top;\n",
       "    }\n",
       "\n",
       "    .dataframe thead th {\n",
       "        text-align: right;\n",
       "    }\n",
       "</style>\n",
       "<table border=\"1\" class=\"dataframe\">\n",
       "  <thead>\n",
       "    <tr style=\"text-align: right;\">\n",
       "      <th></th>\n",
       "      <th>Production_year</th>\n",
       "      <th>Mileage_km</th>\n",
       "      <th>Power_HP</th>\n",
       "      <th>Displacement_cm3</th>\n",
       "      <th>Doors_number</th>\n",
       "      <th>Features</th>\n",
       "      <th>Condition_Used</th>\n",
       "      <th>Vehicle_brand_Alfa Romeo</th>\n",
       "      <th>Vehicle_brand_Audi</th>\n",
       "      <th>Vehicle_brand_BMW</th>\n",
       "      <th>...</th>\n",
       "      <th>Colour_burgundy</th>\n",
       "      <th>Colour_golden</th>\n",
       "      <th>Colour_gray</th>\n",
       "      <th>Colour_green</th>\n",
       "      <th>Colour_other</th>\n",
       "      <th>Colour_red</th>\n",
       "      <th>Colour_silver</th>\n",
       "      <th>Colour_violet</th>\n",
       "      <th>Colour_white</th>\n",
       "      <th>Colour_yellow</th>\n",
       "    </tr>\n",
       "    <tr>\n",
       "      <th>Index</th>\n",
       "      <th></th>\n",
       "      <th></th>\n",
       "      <th></th>\n",
       "      <th></th>\n",
       "      <th></th>\n",
       "      <th></th>\n",
       "      <th></th>\n",
       "      <th></th>\n",
       "      <th></th>\n",
       "      <th></th>\n",
       "      <th></th>\n",
       "      <th></th>\n",
       "      <th></th>\n",
       "      <th></th>\n",
       "      <th></th>\n",
       "      <th></th>\n",
       "      <th></th>\n",
       "      <th></th>\n",
       "      <th></th>\n",
       "      <th></th>\n",
       "      <th></th>\n",
       "    </tr>\n",
       "  </thead>\n",
       "  <tbody>\n",
       "    <tr>\n",
       "      <th>116465</th>\n",
       "      <td>2015</td>\n",
       "      <td>125000.0</td>\n",
       "      <td>136.0</td>\n",
       "      <td>1598.0</td>\n",
       "      <td>5.0</td>\n",
       "      <td>48.0</td>\n",
       "      <td>1</td>\n",
       "      <td>0</td>\n",
       "      <td>0</td>\n",
       "      <td>0</td>\n",
       "      <td>...</td>\n",
       "      <td>0</td>\n",
       "      <td>0</td>\n",
       "      <td>0</td>\n",
       "      <td>0</td>\n",
       "      <td>0</td>\n",
       "      <td>1</td>\n",
       "      <td>0</td>\n",
       "      <td>0</td>\n",
       "      <td>0</td>\n",
       "      <td>0</td>\n",
       "    </tr>\n",
       "  </tbody>\n",
       "</table>\n",
       "<p>1 rows × 363 columns</p>\n",
       "</div>"
      ],
      "text/plain": [
       "        Production_year  Mileage_km  Power_HP  Displacement_cm3  Doors_number  \\\n",
       "Index                                                                           \n",
       "116465             2015    125000.0     136.0            1598.0           5.0   \n",
       "\n",
       "        Features  Condition_Used  Vehicle_brand_Alfa Romeo  \\\n",
       "Index                                                        \n",
       "116465      48.0               1                         0   \n",
       "\n",
       "        Vehicle_brand_Audi  Vehicle_brand_BMW  ...  Colour_burgundy  \\\n",
       "Index                                          ...                    \n",
       "116465                   0                  0  ...                0   \n",
       "\n",
       "        Colour_golden  Colour_gray  Colour_green  Colour_other  Colour_red  \\\n",
       "Index                                                                        \n",
       "116465              0            0             0             0           1   \n",
       "\n",
       "        Colour_silver  Colour_violet  Colour_white  Colour_yellow  \n",
       "Index                                                              \n",
       "116465              0              0             0              0  \n",
       "\n",
       "[1 rows x 363 columns]"
      ]
     },
     "execution_count": 13,
     "metadata": {},
     "output_type": "execute_result"
    }
   ],
   "source": [
    "X.head(1)"
   ]
  },
  {
   "cell_type": "code",
   "execution_count": null,
   "id": "a92e4ab7",
   "metadata": {},
   "outputs": [],
   "source": []
  },
  {
   "cell_type": "code",
   "execution_count": 14,
   "id": "824872e4",
   "metadata": {},
   "outputs": [],
   "source": [
    "model = Sequential()\n",
    "\n",
    "model.add(Dense(50,activation='relu'))\n",
    "model.add(Dense(50,activation='relu'))\n",
    "model.add(Dense(50,activation='relu'))\n",
    "model.add(Dense(50,activation='relu'))\n",
    "model.add(Dense(50,activation='relu'))\n",
    "model.add(Dense(50,activation='relu'))\n",
    "model.add(Dense(50,activation='relu'))\n",
    "model.add(Dense(25,activation='relu'))\n",
    "model.add(Dense(25,activation='relu'))\n",
    "\n",
    "#model.add(Dense(6,activation='relu'))\n",
    "model.add(Dense(1))\n",
    "\n",
    "model.compile(optimizer='adam',loss='mae')"
   ]
  },
  {
   "cell_type": "code",
   "execution_count": 15,
   "id": "da640de7",
   "metadata": {
    "scrolled": true
   },
   "outputs": [
    {
     "name": "stdout",
     "output_type": "stream",
     "text": [
      "Epoch 1/10\n",
      "972/972 [==============================] - 3s 3ms/step - loss: 12754.1426 - val_loss: 7332.3320\n",
      "Epoch 2/10\n",
      "972/972 [==============================] - 2s 3ms/step - loss: 6856.5723 - val_loss: 6645.1963\n",
      "Epoch 3/10\n",
      "972/972 [==============================] - 2s 3ms/step - loss: 6493.0527 - val_loss: 6573.1665\n",
      "Epoch 4/10\n",
      "972/972 [==============================] - 3s 3ms/step - loss: 6334.5596 - val_loss: 6703.7964\n",
      "Epoch 5/10\n",
      "972/972 [==============================] - 3s 3ms/step - loss: 6265.5786 - val_loss: 6330.9106\n",
      "Epoch 6/10\n",
      "972/972 [==============================] - 3s 3ms/step - loss: 6124.1230 - val_loss: 6549.1353\n",
      "Epoch 7/10\n",
      "972/972 [==============================] - 3s 3ms/step - loss: 6099.7344 - val_loss: 6169.3569\n",
      "Epoch 8/10\n",
      "972/972 [==============================] - 2s 3ms/step - loss: 6011.8901 - val_loss: 6188.2505\n",
      "Epoch 9/10\n",
      "972/972 [==============================] - 2s 3ms/step - loss: 5969.5557 - val_loss: 6123.8779\n",
      "Epoch 10/10\n",
      "972/972 [==============================] - 2s 3ms/step - loss: 5921.1392 - val_loss: 6076.4561\n"
     ]
    },
    {
     "data": {
      "text/plain": [
       "<keras.callbacks.History at 0x250b94d13a0>"
      ]
     },
     "execution_count": 15,
     "metadata": {},
     "output_type": "execute_result"
    }
   ],
   "source": [
    "model.fit(x=X_train,y=y_train.values,\n",
    "          validation_data=(X_test,y_test.values),\n",
    "          batch_size=128,epochs=10)"
   ]
  },
  {
   "cell_type": "code",
   "execution_count": 252,
   "id": "04ecb4f1",
   "metadata": {
    "scrolled": true
   },
   "outputs": [
    {
     "data": {
      "text/plain": [
       "362"
      ]
     },
     "execution_count": 252,
     "metadata": {},
     "output_type": "execute_result"
    }
   ],
   "source": [
    "len(X_train[0])"
   ]
  },
  {
   "cell_type": "markdown",
   "id": "13fcefcc",
   "metadata": {},
   "source": [
    "# Function to testing models"
   ]
  },
  {
   "cell_type": "code",
   "execution_count": 288,
   "id": "a1d851c0",
   "metadata": {},
   "outputs": [],
   "source": [
    "def test(X_train,y_train,X_test,y_test):\n",
    "    n_layers = round(len(X_train[0])/120)\n",
    "    neurons = round(len(X_train[0])/6)\n",
    "    score = []\n",
    "    \n",
    "    for j in range(1,5):\n",
    "        model = Sequential()\n",
    "        for i in range(0,n_layers*j):\n",
    "            model.add(Dense(neurons*j,activation='relu'))\n",
    "        model.add(Dense(1))\n",
    "        model.compile(optimizer='adam',loss='mae')\n",
    "        model.fit(x=X_train,y=y_train.values,\n",
    "              validation_data=(X_test,y_test.values),\n",
    "              batch_size=128,epochs=5)\n",
    "        preds = model.predict(X_test)\n",
    "        \n",
    "        score.append(\"Number of Layers : \" + str(n_layers*j))\n",
    "        score.append(\"Number of neurons by Layer : \" + str(neurons*j))\n",
    "        score.append(mean_absolute_error(y_test,preds)) \n",
    "        losses = pd.DataFrame(model.history.history)\n",
    "        losses.plot()\n",
    "    print(score)\n",
    "    return score\n",
    "    "
   ]
  },
  {
   "cell_type": "code",
   "execution_count": 289,
   "id": "a83327b1",
   "metadata": {
    "scrolled": true
   },
   "outputs": [
    {
     "name": "stdout",
     "output_type": "stream",
     "text": [
      "Epoch 1/5\n",
      "861/861 [==============================] - 8s 6ms/step - loss: 16164.6035 - val_loss: 7592.3892\n",
      "Epoch 2/5\n",
      "861/861 [==============================] - 5s 5ms/step - loss: 6276.2080 - val_loss: 5565.8896\n",
      "Epoch 3/5\n",
      "861/861 [==============================] - 3s 3ms/step - loss: 5127.9253 - val_loss: 4981.2432\n",
      "Epoch 4/5\n",
      "861/861 [==============================] - 3s 3ms/step - loss: 4817.4658 - val_loss: 4823.8740\n",
      "Epoch 5/5\n",
      "861/861 [==============================] - 3s 3ms/step - loss: 4680.4653 - val_loss: 4745.4243\n",
      "1476/1476 [==============================] - 4s 910us/step\n",
      "Epoch 1/5\n",
      "861/861 [==============================] - 10s 8ms/step - loss: 8502.4766 - val_loss: 5169.8613\n",
      "Epoch 2/5\n",
      "861/861 [==============================] - 6s 7ms/step - loss: 4936.0908 - val_loss: 4892.2891\n",
      "Epoch 3/5\n",
      "861/861 [==============================] - 4s 5ms/step - loss: 4749.2393 - val_loss: 4752.3345\n",
      "Epoch 4/5\n",
      "861/861 [==============================] - 4s 5ms/step - loss: 4650.4355 - val_loss: 4685.5889\n",
      "Epoch 5/5\n",
      "861/861 [==============================] - 4s 5ms/step - loss: 4575.7095 - val_loss: 4658.6089\n",
      "1476/1476 [==============================] - 5s 1ms/step\n",
      "Epoch 1/5\n",
      "861/861 [==============================] - 19s 18ms/step - loss: 7358.6260 - val_loss: 5393.3105\n",
      "Epoch 2/5\n",
      "861/861 [==============================] - 15s 17ms/step - loss: 5042.4580 - val_loss: 5163.0669\n",
      "Epoch 3/5\n",
      "861/861 [==============================] - 15s 17ms/step - loss: 4829.9814 - val_loss: 4908.7134\n",
      "Epoch 4/5\n",
      "861/861 [==============================] - 15s 17ms/step - loss: 4732.6411 - val_loss: 4633.8174\n",
      "Epoch 5/5\n",
      "861/861 [==============================] - 15s 17ms/step - loss: 4634.7363 - val_loss: 4726.4077\n",
      "1476/1476 [==============================] - 7s 3ms/step\n",
      "Epoch 1/5\n",
      "861/861 [==============================] - 26s 26ms/step - loss: 7317.2041 - val_loss: 5220.9893\n",
      "Epoch 2/5\n",
      "861/861 [==============================] - 21s 25ms/step - loss: 5116.1284 - val_loss: 5426.6514\n",
      "Epoch 3/5\n",
      "861/861 [==============================] - 21s 25ms/step - loss: 4937.3716 - val_loss: 4883.6953\n",
      "Epoch 4/5\n",
      "861/861 [==============================] - 21s 25ms/step - loss: 4783.5151 - val_loss: 4665.4116\n",
      "Epoch 5/5\n",
      "861/861 [==============================] - 22s 25ms/step - loss: 4710.0581 - val_loss: 5646.3267\n",
      "1476/1476 [==============================] - 9s 4ms/step\n",
      "['Number of Layers : 3', 'Number of neurons by Layer : 60', 4745.423315321655, 'Number of Layers : 6', 'Number of neurons by Layer : 120', 4658.609052938467, 'Number of Layers : 9', 'Number of neurons by Layer : 180', 4726.407577611303, 'Number of Layers : 12', 'Number of neurons by Layer : 240', 5646.325984682246]\n"
     ]
    },
    {
     "data": {
      "image/png": "[encoded data removed]",
      "text/plain": [
       "<Figure size 432x288 with 1 Axes>"
      ]
     },
     "metadata": {
      "needs_background": "light"
     },
     "output_type": "display_data"
    },
    {
     "data": {
      "image/png": "[encoded data removed]",
      "text/plain": [
       "<Figure size 432x288 with 1 Axes>"
      ]
     },
     "metadata": {
      "needs_background": "light"
     },
     "output_type": "display_data"
    },
    {
     "data": {
      "image/png": "[encoded data removed]",
      "text/plain": [
       "<Figure size 432x288 with 1 Axes>"
      ]
     },
     "metadata": {
      "needs_background": "light"
     },
     "output_type": "display_data"
    },
    {
     "data": {
      "image/png": "[encoded data removed]",
      "text/plain": [
       "<Figure size 432x288 with 1 Axes>"
      ]
     },
     "metadata": {
      "needs_background": "light"
     },
     "output_type": "display_data"
    }
   ],
   "source": [
    "score = test(X_train,y_train,X_test,y_test)"
   ]
  },
  {
   "cell_type": "code",
   "execution_count": 291,
   "id": "ffe83bda",
   "metadata": {
    "scrolled": false
   },
   "outputs": [
    {
     "data": {
      "text/plain": [
       "['Number of Layers : 3',\n",
       " 'Number of neurons by Layer : 60',\n",
       " 4745.423315321655,\n",
       " 'Number of Layers : 6',\n",
       " 'Number of neurons by Layer : 120',\n",
       " 4658.609052938467,\n",
       " 'Number of Layers : 9',\n",
       " 'Number of neurons by Layer : 180',\n",
       " 4726.407577611303,\n",
       " 'Number of Layers : 12',\n",
       " 'Number of neurons by Layer : 240',\n",
       " 5646.325984682246]"
      ]
     },
     "execution_count": 291,
     "metadata": {},
     "output_type": "execute_result"
    }
   ],
   "source": [
    "score"
   ]
  },
  {
   "cell_type": "code",
   "execution_count": 292,
   "id": "ca556976",
   "metadata": {},
   "outputs": [],
   "source": [
    "# 6 leyers with 120 neurons"
   ]
  },
  {
   "cell_type": "code",
   "execution_count": 299,
   "id": "d3ae406e",
   "metadata": {},
   "outputs": [],
   "source": [
    "model = Sequential()\n",
    "\n",
    "model.add(Dense(100,activation='relu'))\n",
    "model.add(Dense(100,activation='relu'))\n",
    "model.add(Dense(100,activation='relu'))\n",
    "model.add(Dense(100,activation='relu'))\n",
    "model.add(Dense(100,activation='relu'))\n",
    "model.add(Dense(100,activation='relu'))\n",
    "model.add(Dense(100,activation='relu'))\n",
    "#model.add(Dense(6,activation='relu'))\n",
    "model.add(Dense(1))\n",
    "\n",
    "model.compile(optimizer='adam',loss='mae')"
   ]
  },
  {
   "cell_type": "code",
   "execution_count": 300,
   "id": "6f27a335",
   "metadata": {
    "scrolled": true
   },
   "outputs": [
    {
     "name": "stdout",
     "output_type": "stream",
     "text": [
      "Epoch 1/10\n",
      "861/861 [==============================] - 13s 11ms/step - loss: 8513.8486 - val_loss: 5252.7930\n",
      "Epoch 2/10\n",
      "861/861 [==============================] - 9s 10ms/step - loss: 4981.6792 - val_loss: 4868.5737\n",
      "Epoch 3/10\n",
      "861/861 [==============================] - 8s 9ms/step - loss: 4774.5156 - val_loss: 4745.0464\n",
      "Epoch 4/10\n",
      "861/861 [==============================] - 8s 9ms/step - loss: 4686.7705 - val_loss: 5129.9575\n",
      "Epoch 5/10\n",
      "861/861 [==============================] - 8s 9ms/step - loss: 4583.7036 - val_loss: 4665.8003\n",
      "Epoch 6/10\n",
      "861/861 [==============================] - 8s 9ms/step - loss: 4547.8984 - val_loss: 4734.7192\n",
      "Epoch 7/10\n",
      "861/861 [==============================] - 7s 9ms/step - loss: 4490.9092 - val_loss: 4588.2734\n",
      "Epoch 8/10\n",
      "861/861 [==============================] - 7s 9ms/step - loss: 4455.6621 - val_loss: 4598.4858\n",
      "Epoch 9/10\n",
      "861/861 [==============================] - 7s 8ms/step - loss: 4410.5005 - val_loss: 4631.2407\n",
      "Epoch 10/10\n",
      "861/861 [==============================] - 7s 9ms/step - loss: 4381.9175 - val_loss: 4515.8979\n"
     ]
    },
    {
     "data": {
      "text/plain": [
       "<keras.callbacks.History at 0x250d404edc0>"
      ]
     },
     "execution_count": 300,
     "metadata": {},
     "output_type": "execute_result"
    }
   ],
   "source": [
    "model.fit(x=X_train,y=y_train.values,\n",
    "          validation_data=(X_test,y_test.values),\n",
    "          batch_size=128,epochs=10)"
   ]
  },
  {
   "cell_type": "code",
   "execution_count": 301,
   "id": "299e8451",
   "metadata": {},
   "outputs": [],
   "source": [
    "losses = pd.DataFrame(model.history.history)"
   ]
  },
  {
   "cell_type": "code",
   "execution_count": 302,
   "id": "3812dd8a",
   "metadata": {},
   "outputs": [
    {
     "data": {
      "text/plain": [
       "<AxesSubplot:>"
      ]
     },
     "execution_count": 302,
     "metadata": {},
     "output_type": "execute_result"
    },
    {
     "data": {
      "image/png": "[encoded data removed]",
      "text/plain": [
       "<Figure size 432x288 with 1 Axes>"
      ]
     },
     "metadata": {
      "needs_background": "light"
     },
     "output_type": "display_data"
    }
   ],
   "source": [
    "losses.plot()"
   ]
  },
  {
   "cell_type": "code",
   "execution_count": 18,
   "id": "08523ff9",
   "metadata": {},
   "outputs": [
    {
     "name": "stdout",
     "output_type": "stream",
     "text": [
      "1667/1667 [==============================] - 2s 1ms/step\n"
     ]
    }
   ],
   "source": [
    "preds = model.predict(X_test)"
   ]
  },
  {
   "cell_type": "code",
   "execution_count": 19,
   "id": "05742b42",
   "metadata": {},
   "outputs": [
    {
     "data": {
      "text/plain": [
       "6076.456504081159"
      ]
     },
     "execution_count": 19,
     "metadata": {},
     "output_type": "execute_result"
    }
   ],
   "source": [
    "mean_absolute_error(y_test,preds) "
   ]
  },
  {
   "cell_type": "code",
   "execution_count": 20,
   "id": "bc9584a1",
   "metadata": {},
   "outputs": [],
   "source": [
    "preds_df = pd.DataFrame(preds)"
   ]
  },
  {
   "cell_type": "code",
   "execution_count": 21,
   "id": "efd9a2da",
   "metadata": {},
   "outputs": [],
   "source": [
    "y_df = pd.DataFrame(y_test.values)"
   ]
  },
  {
   "cell_type": "code",
   "execution_count": 22,
   "id": "0eeaf0fc",
   "metadata": {
    "scrolled": false
   },
   "outputs": [
    {
     "data": {
      "text/html": [
       "<div>\n",
       "<style scoped>\n",
       "    .dataframe tbody tr th:only-of-type {\n",
       "        vertical-align: middle;\n",
       "    }\n",
       "\n",
       "    .dataframe tbody tr th {\n",
       "        vertical-align: top;\n",
       "    }\n",
       "\n",
       "    .dataframe thead th {\n",
       "        text-align: right;\n",
       "    }\n",
       "</style>\n",
       "<table border=\"1\" class=\"dataframe\">\n",
       "  <thead>\n",
       "    <tr style=\"text-align: right;\">\n",
       "      <th></th>\n",
       "      <th>0</th>\n",
       "    </tr>\n",
       "  </thead>\n",
       "  <tbody>\n",
       "    <tr>\n",
       "      <th>0</th>\n",
       "      <td>31369.828125</td>\n",
       "    </tr>\n",
       "    <tr>\n",
       "      <th>1</th>\n",
       "      <td>72350.062500</td>\n",
       "    </tr>\n",
       "    <tr>\n",
       "      <th>2</th>\n",
       "      <td>17001.167969</td>\n",
       "    </tr>\n",
       "    <tr>\n",
       "      <th>3</th>\n",
       "      <td>50897.496094</td>\n",
       "    </tr>\n",
       "    <tr>\n",
       "      <th>4</th>\n",
       "      <td>133630.000000</td>\n",
       "    </tr>\n",
       "    <tr>\n",
       "      <th>...</th>\n",
       "      <td>...</td>\n",
       "    </tr>\n",
       "    <tr>\n",
       "      <th>53315</th>\n",
       "      <td>25025.771484</td>\n",
       "    </tr>\n",
       "    <tr>\n",
       "      <th>53316</th>\n",
       "      <td>29652.050781</td>\n",
       "    </tr>\n",
       "    <tr>\n",
       "      <th>53317</th>\n",
       "      <td>23476.349609</td>\n",
       "    </tr>\n",
       "    <tr>\n",
       "      <th>53318</th>\n",
       "      <td>106400.578125</td>\n",
       "    </tr>\n",
       "    <tr>\n",
       "      <th>53319</th>\n",
       "      <td>112797.695312</td>\n",
       "    </tr>\n",
       "  </tbody>\n",
       "</table>\n",
       "<p>53320 rows × 1 columns</p>\n",
       "</div>"
      ],
      "text/plain": [
       "                   0\n",
       "0       31369.828125\n",
       "1       72350.062500\n",
       "2       17001.167969\n",
       "3       50897.496094\n",
       "4      133630.000000\n",
       "...              ...\n",
       "53315   25025.771484\n",
       "53316   29652.050781\n",
       "53317   23476.349609\n",
       "53318  106400.578125\n",
       "53319  112797.695312\n",
       "\n",
       "[53320 rows x 1 columns]"
      ]
     },
     "execution_count": 22,
     "metadata": {},
     "output_type": "execute_result"
    }
   ],
   "source": [
    "preds_df"
   ]
  },
  {
   "cell_type": "code",
   "execution_count": 23,
   "id": "f796a6d8",
   "metadata": {},
   "outputs": [
    {
     "data": {
      "text/html": [
       "<div>\n",
       "<style scoped>\n",
       "    .dataframe tbody tr th:only-of-type {\n",
       "        vertical-align: middle;\n",
       "    }\n",
       "\n",
       "    .dataframe tbody tr th {\n",
       "        vertical-align: top;\n",
       "    }\n",
       "\n",
       "    .dataframe thead th {\n",
       "        text-align: right;\n",
       "    }\n",
       "</style>\n",
       "<table border=\"1\" class=\"dataframe\">\n",
       "  <thead>\n",
       "    <tr style=\"text-align: right;\">\n",
       "      <th></th>\n",
       "      <th>0</th>\n",
       "    </tr>\n",
       "  </thead>\n",
       "  <tbody>\n",
       "    <tr>\n",
       "      <th>0</th>\n",
       "      <td>29900</td>\n",
       "    </tr>\n",
       "    <tr>\n",
       "      <th>1</th>\n",
       "      <td>65500</td>\n",
       "    </tr>\n",
       "    <tr>\n",
       "      <th>2</th>\n",
       "      <td>14800</td>\n",
       "    </tr>\n",
       "    <tr>\n",
       "      <th>3</th>\n",
       "      <td>48000</td>\n",
       "    </tr>\n",
       "    <tr>\n",
       "      <th>4</th>\n",
       "      <td>121494</td>\n",
       "    </tr>\n",
       "    <tr>\n",
       "      <th>...</th>\n",
       "      <td>...</td>\n",
       "    </tr>\n",
       "    <tr>\n",
       "      <th>53315</th>\n",
       "      <td>26900</td>\n",
       "    </tr>\n",
       "    <tr>\n",
       "      <th>53316</th>\n",
       "      <td>27900</td>\n",
       "    </tr>\n",
       "    <tr>\n",
       "      <th>53317</th>\n",
       "      <td>20600</td>\n",
       "    </tr>\n",
       "    <tr>\n",
       "      <th>53318</th>\n",
       "      <td>89990</td>\n",
       "    </tr>\n",
       "    <tr>\n",
       "      <th>53319</th>\n",
       "      <td>95500</td>\n",
       "    </tr>\n",
       "  </tbody>\n",
       "</table>\n",
       "<p>53320 rows × 1 columns</p>\n",
       "</div>"
      ],
      "text/plain": [
       "            0\n",
       "0       29900\n",
       "1       65500\n",
       "2       14800\n",
       "3       48000\n",
       "4      121494\n",
       "...       ...\n",
       "53315   26900\n",
       "53316   27900\n",
       "53317   20600\n",
       "53318   89990\n",
       "53319   95500\n",
       "\n",
       "[53320 rows x 1 columns]"
      ]
     },
     "execution_count": 23,
     "metadata": {},
     "output_type": "execute_result"
    }
   ],
   "source": [
    "y_df"
   ]
  },
  {
   "cell_type": "code",
   "execution_count": 24,
   "id": "30de0268",
   "metadata": {},
   "outputs": [
    {
     "data": {
      "text/html": [
       "<div>\n",
       "<style scoped>\n",
       "    .dataframe tbody tr th:only-of-type {\n",
       "        vertical-align: middle;\n",
       "    }\n",
       "\n",
       "    .dataframe tbody tr th {\n",
       "        vertical-align: top;\n",
       "    }\n",
       "\n",
       "    .dataframe thead th {\n",
       "        text-align: right;\n",
       "    }\n",
       "</style>\n",
       "<table border=\"1\" class=\"dataframe\">\n",
       "  <thead>\n",
       "    <tr style=\"text-align: right;\">\n",
       "      <th></th>\n",
       "      <th>0</th>\n",
       "      <th>1</th>\n",
       "    </tr>\n",
       "  </thead>\n",
       "  <tbody>\n",
       "    <tr>\n",
       "      <th>0</th>\n",
       "      <td>31369.828125</td>\n",
       "      <td>29900</td>\n",
       "    </tr>\n",
       "    <tr>\n",
       "      <th>1</th>\n",
       "      <td>72350.062500</td>\n",
       "      <td>65500</td>\n",
       "    </tr>\n",
       "    <tr>\n",
       "      <th>2</th>\n",
       "      <td>17001.167969</td>\n",
       "      <td>14800</td>\n",
       "    </tr>\n",
       "    <tr>\n",
       "      <th>3</th>\n",
       "      <td>50897.496094</td>\n",
       "      <td>48000</td>\n",
       "    </tr>\n",
       "    <tr>\n",
       "      <th>4</th>\n",
       "      <td>133630.000000</td>\n",
       "      <td>121494</td>\n",
       "    </tr>\n",
       "    <tr>\n",
       "      <th>...</th>\n",
       "      <td>...</td>\n",
       "      <td>...</td>\n",
       "    </tr>\n",
       "    <tr>\n",
       "      <th>53315</th>\n",
       "      <td>25025.771484</td>\n",
       "      <td>26900</td>\n",
       "    </tr>\n",
       "    <tr>\n",
       "      <th>53316</th>\n",
       "      <td>29652.050781</td>\n",
       "      <td>27900</td>\n",
       "    </tr>\n",
       "    <tr>\n",
       "      <th>53317</th>\n",
       "      <td>23476.349609</td>\n",
       "      <td>20600</td>\n",
       "    </tr>\n",
       "    <tr>\n",
       "      <th>53318</th>\n",
       "      <td>106400.578125</td>\n",
       "      <td>89990</td>\n",
       "    </tr>\n",
       "    <tr>\n",
       "      <th>53319</th>\n",
       "      <td>112797.695312</td>\n",
       "      <td>95500</td>\n",
       "    </tr>\n",
       "  </tbody>\n",
       "</table>\n",
       "<p>53320 rows × 2 columns</p>\n",
       "</div>"
      ],
      "text/plain": [
       "                   0       1\n",
       "0       31369.828125   29900\n",
       "1       72350.062500   65500\n",
       "2       17001.167969   14800\n",
       "3       50897.496094   48000\n",
       "4      133630.000000  121494\n",
       "...              ...     ...\n",
       "53315   25025.771484   26900\n",
       "53316   29652.050781   27900\n",
       "53317   23476.349609   20600\n",
       "53318  106400.578125   89990\n",
       "53319  112797.695312   95500\n",
       "\n",
       "[53320 rows x 2 columns]"
      ]
     },
     "execution_count": 24,
     "metadata": {},
     "output_type": "execute_result"
    }
   ],
   "source": [
    "pd.concat([preds_df,y_df],axis = 1, ignore_index=True,join = \"outer\")"
   ]
  },
  {
   "cell_type": "markdown",
   "id": "3373c6ab",
   "metadata": {},
   "source": [
    "# Cars 100k max"
   ]
  },
  {
   "cell_type": "code",
   "execution_count": 340,
   "id": "416478c7",
   "metadata": {},
   "outputs": [],
   "source": [
    "df = pd.read_csv(\"Data/clean_data.csv\", index_col=  \"Index\")"
   ]
  },
  {
   "cell_type": "code",
   "execution_count": 341,
   "id": "a831cacb",
   "metadata": {
    "scrolled": true
   },
   "outputs": [],
   "source": [
    "df = df[df[\"Price\"] < 100000]"
   ]
  },
  {
   "cell_type": "code",
   "execution_count": 342,
   "id": "cddb61c5",
   "metadata": {},
   "outputs": [],
   "source": [
    "df_dum = pd.get_dummies(df,drop_first=True)"
   ]
  },
  {
   "cell_type": "code",
   "execution_count": 343,
   "id": "78d8d889",
   "metadata": {},
   "outputs": [],
   "source": [
    "X = df_dum.drop([\"Price\"], axis = 1)"
   ]
  },
  {
   "cell_type": "code",
   "execution_count": 344,
   "id": "279a74af",
   "metadata": {},
   "outputs": [],
   "source": [
    "y = df_dum[\"Price\"]"
   ]
  },
  {
   "cell_type": "code",
   "execution_count": 345,
   "id": "5684c48e",
   "metadata": {},
   "outputs": [],
   "source": [
    "from sklearn.model_selection import train_test_split\n",
    "from sklearn.preprocessing import StandardScaler"
   ]
  },
  {
   "cell_type": "code",
   "execution_count": 348,
   "id": "9cfb605c",
   "metadata": {},
   "outputs": [],
   "source": [
    "X_train, X_test, y_train, y_test = train_test_split(X, y, test_size=0.1, random_state=110)"
   ]
  },
  {
   "cell_type": "code",
   "execution_count": 349,
   "id": "cba02d38",
   "metadata": {},
   "outputs": [],
   "source": [
    "X_train = scaler.fit_transform(X_train)"
   ]
  },
  {
   "cell_type": "code",
   "execution_count": 350,
   "id": "ff322a09",
   "metadata": {},
   "outputs": [],
   "source": [
    "X_test = scaler.transform(X_test)"
   ]
  },
  {
   "cell_type": "markdown",
   "id": "05928f3d",
   "metadata": {},
   "source": [
    "# Probably the best model"
   ]
  },
  {
   "cell_type": "code",
   "execution_count": 351,
   "id": "4f4350ba",
   "metadata": {},
   "outputs": [],
   "source": [
    "from tensorflow.keras.optimizers import SGD"
   ]
  },
  {
   "cell_type": "code",
   "execution_count": 375,
   "id": "af0c3d9f",
   "metadata": {},
   "outputs": [],
   "source": [
    "model = Sequential()\n",
    "model.add(Dense(150,activation='relu'))\n",
    "model.add(Dense(100,activation='relu'))\n",
    "model.add(Dense(100,activation='relu'))\n",
    "model.add(Dense(100,activation='relu'))\n",
    "model.add(Dense(50,activation='relu'))\n",
    "model.add(Dense(50,activation='relu'))\n",
    "model.add(Dense(50,activation='relu'))\n",
    "model.add(Dense(50,activation='relu'))\n",
    "model.add(Dense(25,activation='relu'))\n",
    "model.add(Dense(25,activation='relu'))\n",
    "#model.add(Dense(6,activation='relu'))\n",
    "model.add(Dense(1))\n",
    "\n",
    "model.compile(optimizer='adam',loss='mae')"
   ]
  },
  {
   "cell_type": "code",
   "execution_count": 376,
   "id": "4782608e",
   "metadata": {},
   "outputs": [
    {
     "name": "stdout",
     "output_type": "stream",
     "text": [
      "Epoch 1/25\n",
      "554/554 [==============================] - 11s 11ms/step - loss: 10183.9219 - val_loss: 5162.6582\n",
      "Epoch 2/25\n",
      "554/554 [==============================] - 6s 10ms/step - loss: 4959.7534 - val_loss: 4890.9209\n",
      "Epoch 3/25\n",
      "554/554 [==============================] - 4s 7ms/step - loss: 4715.8384 - val_loss: 4644.0190\n",
      "Epoch 4/25\n",
      "554/554 [==============================] - 4s 8ms/step - loss: 4601.7544 - val_loss: 4598.1401\n",
      "Epoch 5/25\n",
      "554/554 [==============================] - 4s 8ms/step - loss: 4538.3008 - val_loss: 4516.5542\n",
      "Epoch 6/25\n",
      "554/554 [==============================] - 4s 8ms/step - loss: 4465.0073 - val_loss: 4491.6079\n",
      "Epoch 7/25\n",
      "554/554 [==============================] - 4s 7ms/step - loss: 4434.2036 - val_loss: 4555.3447\n",
      "Epoch 8/25\n",
      "554/554 [==============================] - 4s 7ms/step - loss: 4389.0254 - val_loss: 4423.8525\n",
      "Epoch 9/25\n",
      "554/554 [==============================] - 4s 7ms/step - loss: 4352.8140 - val_loss: 4487.1172\n",
      "Epoch 10/25\n",
      "554/554 [==============================] - 4s 7ms/step - loss: 4342.6948 - val_loss: 4479.8838\n",
      "Epoch 11/25\n",
      "554/554 [==============================] - 4s 7ms/step - loss: 4300.7886 - val_loss: 4346.5645\n",
      "Epoch 12/25\n",
      "554/554 [==============================] - 4s 7ms/step - loss: 4292.3770 - val_loss: 4698.1479\n",
      "Epoch 13/25\n",
      "554/554 [==============================] - 4s 8ms/step - loss: 4267.5928 - val_loss: 4453.0474\n",
      "Epoch 14/25\n",
      "554/554 [==============================] - 4s 7ms/step - loss: 4268.2617 - val_loss: 4447.8042\n",
      "Epoch 15/25\n",
      "554/554 [==============================] - 4s 7ms/step - loss: 4216.8496 - val_loss: 4322.3457\n",
      "Epoch 16/25\n",
      "554/554 [==============================] - 4s 7ms/step - loss: 4216.8203 - val_loss: 4396.6729\n",
      "Epoch 17/25\n",
      "554/554 [==============================] - 4s 7ms/step - loss: 4191.3140 - val_loss: 4365.2358\n",
      "Epoch 18/25\n",
      "554/554 [==============================] - 4s 7ms/step - loss: 4179.5449 - val_loss: 4338.9106\n",
      "Epoch 19/25\n",
      "554/554 [==============================] - 4s 8ms/step - loss: 4163.8223 - val_loss: 4344.5273\n",
      "Epoch 20/25\n",
      "554/554 [==============================] - 4s 8ms/step - loss: 4179.0493 - val_loss: 4303.6084\n",
      "Epoch 21/25\n",
      "554/554 [==============================] - 4s 7ms/step - loss: 4144.7563 - val_loss: 4301.8452\n",
      "Epoch 22/25\n",
      "554/554 [==============================] - 4s 7ms/step - loss: 4138.9580 - val_loss: 4389.8882\n",
      "Epoch 23/25\n",
      "554/554 [==============================] - 4s 7ms/step - loss: 4123.8145 - val_loss: 4295.6123\n",
      "Epoch 24/25\n",
      "554/554 [==============================] - 4s 7ms/step - loss: 4099.7822 - val_loss: 4388.6069\n",
      "Epoch 25/25\n",
      "554/554 [==============================] - 4s 7ms/step - loss: 4098.5088 - val_loss: 4264.7524\n"
     ]
    },
    {
     "data": {
      "text/plain": [
       "<keras.callbacks.History at 0x250e89cef10>"
      ]
     },
     "execution_count": 376,
     "metadata": {},
     "output_type": "execute_result"
    }
   ],
   "source": [
    "model.fit(x=X_train,y=y_train.values,\n",
    "          validation_data=(X_test,y_test.values),\n",
    "          batch_size=256,epochs=25)"
   ]
  },
  {
   "cell_type": "code",
   "execution_count": 377,
   "id": "8870e104",
   "metadata": {},
   "outputs": [],
   "source": [
    "#4313\n",
    "#4445.6230\n",
    "#4302\n",
    "#4262.7529"
   ]
  },
  {
   "cell_type": "code",
   "execution_count": 378,
   "id": "104a1b37",
   "metadata": {
    "scrolled": true
   },
   "outputs": [
    {
     "data": {
      "text/plain": [
       "0.11920308392608386"
      ]
     },
     "execution_count": 378,
     "metadata": {},
     "output_type": "execute_result"
    }
   ],
   "source": [
    "4264.7524 / y_test.mean()"
   ]
  },
  {
   "cell_type": "code",
   "execution_count": 379,
   "id": "2d66cf62",
   "metadata": {},
   "outputs": [
    {
     "name": "stdout",
     "output_type": "stream",
     "text": [
      "INFO:tensorflow:Assets written to: model1\\assets\n"
     ]
    }
   ],
   "source": [
    "tf.keras.models.save_model(model, \"model1\")"
   ]
  },
  {
   "cell_type": "code",
   "execution_count": 366,
   "id": "9730a1dd",
   "metadata": {},
   "outputs": [],
   "source": [
    "losses = pd.DataFrame(model.history.history)"
   ]
  },
  {
   "cell_type": "code",
   "execution_count": 356,
   "id": "b76abfb2",
   "metadata": {
    "scrolled": true
   },
   "outputs": [
    {
     "data": {
      "text/plain": [
       "<AxesSubplot:>"
      ]
     },
     "execution_count": 356,
     "metadata": {},
     "output_type": "execute_result"
    },
    {
     "data": {
      "image/png": "[encoded data removed]",
      "text/plain": [
       "<Figure size 432x288 with 1 Axes>"
      ]
     },
     "metadata": {
      "needs_background": "light"
     },
     "output_type": "display_data"
    }
   ],
   "source": [
    "losses.plot()"
   ]
  },
  {
   "cell_type": "code",
   "execution_count": 229,
   "id": "e9ca5e9f",
   "metadata": {
    "scrolled": true
   },
   "outputs": [
    {
     "name": "stdout",
     "output_type": "stream",
     "text": [
      "1476/1476 [==============================] - 5s 1ms/step\n"
     ]
    }
   ],
   "source": [
    "preds = model.predict(X_test)"
   ]
  },
  {
   "cell_type": "code",
   "execution_count": 230,
   "id": "c6761cfb",
   "metadata": {
    "scrolled": true
   },
   "outputs": [
    {
     "data": {
      "text/plain": [
       "0.12589246755529018"
      ]
     },
     "execution_count": 230,
     "metadata": {},
     "output_type": "execute_result"
    }
   ],
   "source": [
    "mean_absolute_error(y_test,preds) / y_test.mean()"
   ]
  },
  {
   "cell_type": "code",
   "execution_count": 231,
   "id": "ad2521d9",
   "metadata": {
    "scrolled": true
   },
   "outputs": [
    {
     "data": {
      "text/html": [
       "<div>\n",
       "<style scoped>\n",
       "    .dataframe tbody tr th:only-of-type {\n",
       "        vertical-align: middle;\n",
       "    }\n",
       "\n",
       "    .dataframe tbody tr th {\n",
       "        vertical-align: top;\n",
       "    }\n",
       "\n",
       "    .dataframe thead th {\n",
       "        text-align: right;\n",
       "    }\n",
       "</style>\n",
       "<table border=\"1\" class=\"dataframe\">\n",
       "  <thead>\n",
       "    <tr style=\"text-align: right;\">\n",
       "      <th></th>\n",
       "      <th>0</th>\n",
       "    </tr>\n",
       "  </thead>\n",
       "  <tbody>\n",
       "    <tr>\n",
       "      <th>0</th>\n",
       "      <td>7700</td>\n",
       "    </tr>\n",
       "    <tr>\n",
       "      <th>1</th>\n",
       "      <td>15900</td>\n",
       "    </tr>\n",
       "    <tr>\n",
       "      <th>2</th>\n",
       "      <td>22900</td>\n",
       "    </tr>\n",
       "    <tr>\n",
       "      <th>3</th>\n",
       "      <td>23500</td>\n",
       "    </tr>\n",
       "    <tr>\n",
       "      <th>4</th>\n",
       "      <td>74400</td>\n",
       "    </tr>\n",
       "    <tr>\n",
       "      <th>...</th>\n",
       "      <td>...</td>\n",
       "    </tr>\n",
       "    <tr>\n",
       "      <th>47198</th>\n",
       "      <td>50000</td>\n",
       "    </tr>\n",
       "    <tr>\n",
       "      <th>47199</th>\n",
       "      <td>32500</td>\n",
       "    </tr>\n",
       "    <tr>\n",
       "      <th>47200</th>\n",
       "      <td>28900</td>\n",
       "    </tr>\n",
       "    <tr>\n",
       "      <th>47201</th>\n",
       "      <td>10900</td>\n",
       "    </tr>\n",
       "    <tr>\n",
       "      <th>47202</th>\n",
       "      <td>59900</td>\n",
       "    </tr>\n",
       "  </tbody>\n",
       "</table>\n",
       "<p>47203 rows × 1 columns</p>\n",
       "</div>"
      ],
      "text/plain": [
       "           0\n",
       "0       7700\n",
       "1      15900\n",
       "2      22900\n",
       "3      23500\n",
       "4      74400\n",
       "...      ...\n",
       "47198  50000\n",
       "47199  32500\n",
       "47200  28900\n",
       "47201  10900\n",
       "47202  59900\n",
       "\n",
       "[47203 rows x 1 columns]"
      ]
     },
     "execution_count": 231,
     "metadata": {},
     "output_type": "execute_result"
    }
   ],
   "source": [
    "y_df = pd.DataFrame(y_test.values)\n",
    "y_df"
   ]
  },
  {
   "cell_type": "code",
   "execution_count": 232,
   "id": "26b6074d",
   "metadata": {},
   "outputs": [
    {
     "data": {
      "text/html": [
       "<div>\n",
       "<style scoped>\n",
       "    .dataframe tbody tr th:only-of-type {\n",
       "        vertical-align: middle;\n",
       "    }\n",
       "\n",
       "    .dataframe tbody tr th {\n",
       "        vertical-align: top;\n",
       "    }\n",
       "\n",
       "    .dataframe thead th {\n",
       "        text-align: right;\n",
       "    }\n",
       "</style>\n",
       "<table border=\"1\" class=\"dataframe\">\n",
       "  <thead>\n",
       "    <tr style=\"text-align: right;\">\n",
       "      <th></th>\n",
       "      <th>0</th>\n",
       "    </tr>\n",
       "  </thead>\n",
       "  <tbody>\n",
       "    <tr>\n",
       "      <th>0</th>\n",
       "      <td>7836.0</td>\n",
       "    </tr>\n",
       "    <tr>\n",
       "      <th>1</th>\n",
       "      <td>10429.0</td>\n",
       "    </tr>\n",
       "    <tr>\n",
       "      <th>2</th>\n",
       "      <td>24994.0</td>\n",
       "    </tr>\n",
       "    <tr>\n",
       "      <th>3</th>\n",
       "      <td>21890.0</td>\n",
       "    </tr>\n",
       "    <tr>\n",
       "      <th>4</th>\n",
       "      <td>89125.0</td>\n",
       "    </tr>\n",
       "    <tr>\n",
       "      <th>...</th>\n",
       "      <td>...</td>\n",
       "    </tr>\n",
       "    <tr>\n",
       "      <th>47198</th>\n",
       "      <td>57649.0</td>\n",
       "    </tr>\n",
       "    <tr>\n",
       "      <th>47199</th>\n",
       "      <td>28794.0</td>\n",
       "    </tr>\n",
       "    <tr>\n",
       "      <th>47200</th>\n",
       "      <td>27722.0</td>\n",
       "    </tr>\n",
       "    <tr>\n",
       "      <th>47201</th>\n",
       "      <td>12214.0</td>\n",
       "    </tr>\n",
       "    <tr>\n",
       "      <th>47202</th>\n",
       "      <td>57365.0</td>\n",
       "    </tr>\n",
       "  </tbody>\n",
       "</table>\n",
       "<p>47203 rows × 1 columns</p>\n",
       "</div>"
      ],
      "text/plain": [
       "             0\n",
       "0       7836.0\n",
       "1      10429.0\n",
       "2      24994.0\n",
       "3      21890.0\n",
       "4      89125.0\n",
       "...        ...\n",
       "47198  57649.0\n",
       "47199  28794.0\n",
       "47200  27722.0\n",
       "47201  12214.0\n",
       "47202  57365.0\n",
       "\n",
       "[47203 rows x 1 columns]"
      ]
     },
     "execution_count": 232,
     "metadata": {},
     "output_type": "execute_result"
    }
   ],
   "source": [
    "preds_df = pd.DataFrame(preds.round())\n",
    "preds_df"
   ]
  },
  {
   "cell_type": "code",
   "execution_count": 233,
   "id": "72beb6d3",
   "metadata": {},
   "outputs": [
    {
     "data": {
      "text/html": [
       "<div>\n",
       "<style scoped>\n",
       "    .dataframe tbody tr th:only-of-type {\n",
       "        vertical-align: middle;\n",
       "    }\n",
       "\n",
       "    .dataframe tbody tr th {\n",
       "        vertical-align: top;\n",
       "    }\n",
       "\n",
       "    .dataframe thead th {\n",
       "        text-align: right;\n",
       "    }\n",
       "</style>\n",
       "<table border=\"1\" class=\"dataframe\">\n",
       "  <thead>\n",
       "    <tr style=\"text-align: right;\">\n",
       "      <th></th>\n",
       "      <th>Condition</th>\n",
       "      <th>Vehicle_brand</th>\n",
       "      <th>Vehicle_model</th>\n",
       "      <th>Production_year</th>\n",
       "      <th>Mileage_km</th>\n",
       "      <th>Power_HP</th>\n",
       "      <th>Displacement_cm3</th>\n",
       "      <th>Fuel_type</th>\n",
       "      <th>Drive</th>\n",
       "      <th>Transmission</th>\n",
       "      <th>Doors_number</th>\n",
       "      <th>Colour</th>\n",
       "      <th>Features</th>\n",
       "    </tr>\n",
       "    <tr>\n",
       "      <th>Index</th>\n",
       "      <th></th>\n",
       "      <th></th>\n",
       "      <th></th>\n",
       "      <th></th>\n",
       "      <th></th>\n",
       "      <th></th>\n",
       "      <th></th>\n",
       "      <th></th>\n",
       "      <th></th>\n",
       "      <th></th>\n",
       "      <th></th>\n",
       "      <th></th>\n",
       "      <th></th>\n",
       "    </tr>\n",
       "  </thead>\n",
       "  <tbody>\n",
       "    <tr>\n",
       "      <th>116465</th>\n",
       "      <td>Used</td>\n",
       "      <td>Opel</td>\n",
       "      <td>Astra</td>\n",
       "      <td>2015</td>\n",
       "      <td>125000.0</td>\n",
       "      <td>136.0</td>\n",
       "      <td>1598.0</td>\n",
       "      <td>Diesel</td>\n",
       "      <td>Front wheels</td>\n",
       "      <td>Manual</td>\n",
       "      <td>5.0</td>\n",
       "      <td>red</td>\n",
       "      <td>48.0</td>\n",
       "    </tr>\n",
       "    <tr>\n",
       "      <th>116466</th>\n",
       "      <td>Used</td>\n",
       "      <td>Opel</td>\n",
       "      <td>Astra</td>\n",
       "      <td>2006</td>\n",
       "      <td>192547.0</td>\n",
       "      <td>140.0</td>\n",
       "      <td>1796.0</td>\n",
       "      <td>Gasoline</td>\n",
       "      <td>Front wheels</td>\n",
       "      <td>Manual</td>\n",
       "      <td>5.0</td>\n",
       "      <td>green</td>\n",
       "      <td>35.0</td>\n",
       "    </tr>\n",
       "    <tr>\n",
       "      <th>116467</th>\n",
       "      <td>Used</td>\n",
       "      <td>Opel</td>\n",
       "      <td>Astra</td>\n",
       "      <td>2010</td>\n",
       "      <td>119000.0</td>\n",
       "      <td>115.0</td>\n",
       "      <td>1598.0</td>\n",
       "      <td>Gasoline</td>\n",
       "      <td>Front wheels</td>\n",
       "      <td>Manual</td>\n",
       "      <td>5.0</td>\n",
       "      <td>black</td>\n",
       "      <td>32.0</td>\n",
       "    </tr>\n",
       "    <tr>\n",
       "      <th>116468</th>\n",
       "      <td>Used</td>\n",
       "      <td>Opel</td>\n",
       "      <td>Astra</td>\n",
       "      <td>2007</td>\n",
       "      <td>290000.0</td>\n",
       "      <td>100.0</td>\n",
       "      <td>1910.0</td>\n",
       "      <td>Diesel</td>\n",
       "      <td>Front wheels</td>\n",
       "      <td>Manual</td>\n",
       "      <td>5.0</td>\n",
       "      <td>silver</td>\n",
       "      <td>25.0</td>\n",
       "    </tr>\n",
       "    <tr>\n",
       "      <th>116469</th>\n",
       "      <td>Used</td>\n",
       "      <td>Opel</td>\n",
       "      <td>Astra</td>\n",
       "      <td>2008</td>\n",
       "      <td>168779.0</td>\n",
       "      <td>115.0</td>\n",
       "      <td>1598.0</td>\n",
       "      <td>Gasoline</td>\n",
       "      <td>Front wheels</td>\n",
       "      <td>Manual</td>\n",
       "      <td>5.0</td>\n",
       "      <td>silver</td>\n",
       "      <td>24.0</td>\n",
       "    </tr>\n",
       "    <tr>\n",
       "      <th>...</th>\n",
       "      <td>...</td>\n",
       "      <td>...</td>\n",
       "      <td>...</td>\n",
       "      <td>...</td>\n",
       "      <td>...</td>\n",
       "      <td>...</td>\n",
       "      <td>...</td>\n",
       "      <td>...</td>\n",
       "      <td>...</td>\n",
       "      <td>...</td>\n",
       "      <td>...</td>\n",
       "      <td>...</td>\n",
       "      <td>...</td>\n",
       "    </tr>\n",
       "    <tr>\n",
       "      <th>36977</th>\n",
       "      <td>Used</td>\n",
       "      <td>Chevrolet</td>\n",
       "      <td>Spark</td>\n",
       "      <td>2010</td>\n",
       "      <td>200000.0</td>\n",
       "      <td>68.0</td>\n",
       "      <td>995.0</td>\n",
       "      <td>Gasoline</td>\n",
       "      <td>Front wheels</td>\n",
       "      <td>Manual</td>\n",
       "      <td>5.0</td>\n",
       "      <td>silver</td>\n",
       "      <td>21.0</td>\n",
       "    </tr>\n",
       "    <tr>\n",
       "      <th>36981</th>\n",
       "      <td>Used</td>\n",
       "      <td>Chevrolet</td>\n",
       "      <td>Spark</td>\n",
       "      <td>2012</td>\n",
       "      <td>112644.0</td>\n",
       "      <td>68.0</td>\n",
       "      <td>1000.0</td>\n",
       "      <td>Gasoline</td>\n",
       "      <td>Front wheels</td>\n",
       "      <td>Manual</td>\n",
       "      <td>5.0</td>\n",
       "      <td>black</td>\n",
       "      <td>19.0</td>\n",
       "    </tr>\n",
       "    <tr>\n",
       "      <th>36984</th>\n",
       "      <td>Used</td>\n",
       "      <td>Chevrolet</td>\n",
       "      <td>Spark</td>\n",
       "      <td>2011</td>\n",
       "      <td>126000.0</td>\n",
       "      <td>68.0</td>\n",
       "      <td>995.0</td>\n",
       "      <td>Gasoline</td>\n",
       "      <td>Front wheels</td>\n",
       "      <td>Manual</td>\n",
       "      <td>5.0</td>\n",
       "      <td>black</td>\n",
       "      <td>7.0</td>\n",
       "    </tr>\n",
       "    <tr>\n",
       "      <th>36986</th>\n",
       "      <td>Used</td>\n",
       "      <td>Chevrolet</td>\n",
       "      <td>Spark</td>\n",
       "      <td>2012</td>\n",
       "      <td>160000.0</td>\n",
       "      <td>75.0</td>\n",
       "      <td>995.0</td>\n",
       "      <td>Gasoline + LPG</td>\n",
       "      <td>Front wheels</td>\n",
       "      <td>Manual</td>\n",
       "      <td>5.0</td>\n",
       "      <td>other</td>\n",
       "      <td>16.0</td>\n",
       "    </tr>\n",
       "    <tr>\n",
       "      <th>37010</th>\n",
       "      <td>Used</td>\n",
       "      <td>Chevrolet</td>\n",
       "      <td>Spark</td>\n",
       "      <td>2013</td>\n",
       "      <td>70000.0</td>\n",
       "      <td>68.0</td>\n",
       "      <td>995.0</td>\n",
       "      <td>Gasoline</td>\n",
       "      <td>Front wheels</td>\n",
       "      <td>Manual</td>\n",
       "      <td>5.0</td>\n",
       "      <td>yellow</td>\n",
       "      <td>15.0</td>\n",
       "    </tr>\n",
       "  </tbody>\n",
       "</table>\n",
       "<p>157342 rows × 13 columns</p>\n",
       "</div>"
      ],
      "text/plain": [
       "       Condition Vehicle_brand Vehicle_model  Production_year  Mileage_km  \\\n",
       "Index                                                                       \n",
       "116465      Used          Opel         Astra             2015    125000.0   \n",
       "116466      Used          Opel         Astra             2006    192547.0   \n",
       "116467      Used          Opel         Astra             2010    119000.0   \n",
       "116468      Used          Opel         Astra             2007    290000.0   \n",
       "116469      Used          Opel         Astra             2008    168779.0   \n",
       "...          ...           ...           ...              ...         ...   \n",
       "36977       Used     Chevrolet         Spark             2010    200000.0   \n",
       "36981       Used     Chevrolet         Spark             2012    112644.0   \n",
       "36984       Used     Chevrolet         Spark             2011    126000.0   \n",
       "36986       Used     Chevrolet         Spark             2012    160000.0   \n",
       "37010       Used     Chevrolet         Spark             2013     70000.0   \n",
       "\n",
       "        Power_HP  Displacement_cm3       Fuel_type         Drive Transmission  \\\n",
       "Index                                                                           \n",
       "116465     136.0            1598.0          Diesel  Front wheels       Manual   \n",
       "116466     140.0            1796.0        Gasoline  Front wheels       Manual   \n",
       "116467     115.0            1598.0        Gasoline  Front wheels       Manual   \n",
       "116468     100.0            1910.0          Diesel  Front wheels       Manual   \n",
       "116469     115.0            1598.0        Gasoline  Front wheels       Manual   \n",
       "...          ...               ...             ...           ...          ...   \n",
       "36977       68.0             995.0        Gasoline  Front wheels       Manual   \n",
       "36981       68.0            1000.0        Gasoline  Front wheels       Manual   \n",
       "36984       68.0             995.0        Gasoline  Front wheels       Manual   \n",
       "36986       75.0             995.0  Gasoline + LPG  Front wheels       Manual   \n",
       "37010       68.0             995.0        Gasoline  Front wheels       Manual   \n",
       "\n",
       "        Doors_number  Colour  Features  \n",
       "Index                                   \n",
       "116465           5.0     red      48.0  \n",
       "116466           5.0   green      35.0  \n",
       "116467           5.0   black      32.0  \n",
       "116468           5.0  silver      25.0  \n",
       "116469           5.0  silver      24.0  \n",
       "...              ...     ...       ...  \n",
       "36977            5.0  silver      21.0  \n",
       "36981            5.0   black      19.0  \n",
       "36984            5.0   black       7.0  \n",
       "36986            5.0   other      16.0  \n",
       "37010            5.0  yellow      15.0  \n",
       "\n",
       "[157342 rows x 13 columns]"
      ]
     },
     "execution_count": 233,
     "metadata": {},
     "output_type": "execute_result"
    }
   ],
   "source": [
    "df.drop(\"Price\",axis = 1)"
   ]
  },
  {
   "cell_type": "code",
   "execution_count": 234,
   "id": "f066296d",
   "metadata": {},
   "outputs": [],
   "source": [
    "result_df = pd.concat([y_df,preds_df],axis = 1)"
   ]
  },
  {
   "cell_type": "code",
   "execution_count": 235,
   "id": "6fc10ca4",
   "metadata": {},
   "outputs": [],
   "source": [
    "result_df.columns = [\"Real Price\", \"Predicted Price\"]"
   ]
  },
  {
   "cell_type": "code",
   "execution_count": 236,
   "id": "65008676",
   "metadata": {},
   "outputs": [],
   "source": [
    "result_df[\"Difference\"] = result_df[\"Real Price\"] - result_df[\"Predicted Price\"]"
   ]
  },
  {
   "cell_type": "code",
   "execution_count": 237,
   "id": "16633c94",
   "metadata": {},
   "outputs": [],
   "source": [
    "result_df[\"% of error\"] = abs((result_df[\"Difference\"]/result_df[\"Real Price\"]) * 100).round(2)"
   ]
  },
  {
   "cell_type": "code",
   "execution_count": 238,
   "id": "8970cf6e",
   "metadata": {
    "scrolled": false
   },
   "outputs": [
    {
     "data": {
      "text/html": [
       "<div>\n",
       "<style scoped>\n",
       "    .dataframe tbody tr th:only-of-type {\n",
       "        vertical-align: middle;\n",
       "    }\n",
       "\n",
       "    .dataframe tbody tr th {\n",
       "        vertical-align: top;\n",
       "    }\n",
       "\n",
       "    .dataframe thead th {\n",
       "        text-align: right;\n",
       "    }\n",
       "</style>\n",
       "<table border=\"1\" class=\"dataframe\">\n",
       "  <thead>\n",
       "    <tr style=\"text-align: right;\">\n",
       "      <th></th>\n",
       "      <th>Real Price</th>\n",
       "      <th>Predicted Price</th>\n",
       "      <th>Difference</th>\n",
       "      <th>% of error</th>\n",
       "    </tr>\n",
       "  </thead>\n",
       "  <tbody>\n",
       "    <tr>\n",
       "      <th>0</th>\n",
       "      <td>7700</td>\n",
       "      <td>7836.0</td>\n",
       "      <td>-136.0</td>\n",
       "      <td>1.77</td>\n",
       "    </tr>\n",
       "    <tr>\n",
       "      <th>1</th>\n",
       "      <td>15900</td>\n",
       "      <td>10429.0</td>\n",
       "      <td>5471.0</td>\n",
       "      <td>34.41</td>\n",
       "    </tr>\n",
       "    <tr>\n",
       "      <th>2</th>\n",
       "      <td>22900</td>\n",
       "      <td>24994.0</td>\n",
       "      <td>-2094.0</td>\n",
       "      <td>9.14</td>\n",
       "    </tr>\n",
       "    <tr>\n",
       "      <th>3</th>\n",
       "      <td>23500</td>\n",
       "      <td>21890.0</td>\n",
       "      <td>1610.0</td>\n",
       "      <td>6.85</td>\n",
       "    </tr>\n",
       "    <tr>\n",
       "      <th>4</th>\n",
       "      <td>74400</td>\n",
       "      <td>89125.0</td>\n",
       "      <td>-14725.0</td>\n",
       "      <td>19.79</td>\n",
       "    </tr>\n",
       "    <tr>\n",
       "      <th>5</th>\n",
       "      <td>33000</td>\n",
       "      <td>28066.0</td>\n",
       "      <td>4934.0</td>\n",
       "      <td>14.95</td>\n",
       "    </tr>\n",
       "    <tr>\n",
       "      <th>6</th>\n",
       "      <td>24900</td>\n",
       "      <td>30034.0</td>\n",
       "      <td>-5134.0</td>\n",
       "      <td>20.62</td>\n",
       "    </tr>\n",
       "    <tr>\n",
       "      <th>7</th>\n",
       "      <td>6900</td>\n",
       "      <td>4901.0</td>\n",
       "      <td>1999.0</td>\n",
       "      <td>28.97</td>\n",
       "    </tr>\n",
       "    <tr>\n",
       "      <th>8</th>\n",
       "      <td>17200</td>\n",
       "      <td>24318.0</td>\n",
       "      <td>-7118.0</td>\n",
       "      <td>41.38</td>\n",
       "    </tr>\n",
       "    <tr>\n",
       "      <th>9</th>\n",
       "      <td>7900</td>\n",
       "      <td>9574.0</td>\n",
       "      <td>-1674.0</td>\n",
       "      <td>21.19</td>\n",
       "    </tr>\n",
       "  </tbody>\n",
       "</table>\n",
       "</div>"
      ],
      "text/plain": [
       "   Real Price  Predicted Price  Difference  % of error\n",
       "0        7700           7836.0      -136.0        1.77\n",
       "1       15900          10429.0      5471.0       34.41\n",
       "2       22900          24994.0     -2094.0        9.14\n",
       "3       23500          21890.0      1610.0        6.85\n",
       "4       74400          89125.0    -14725.0       19.79\n",
       "5       33000          28066.0      4934.0       14.95\n",
       "6       24900          30034.0     -5134.0       20.62\n",
       "7        6900           4901.0      1999.0       28.97\n",
       "8       17200          24318.0     -7118.0       41.38\n",
       "9        7900           9574.0     -1674.0       21.19"
      ]
     },
     "execution_count": 238,
     "metadata": {},
     "output_type": "execute_result"
    }
   ],
   "source": [
    "result_df.head(10)"
   ]
  },
  {
   "cell_type": "code",
   "execution_count": 239,
   "id": "8003a1e3",
   "metadata": {
    "scrolled": true
   },
   "outputs": [
    {
     "data": {
      "text/plain": [
       "[<matplotlib.lines.Line2D at 0x25104069df0>]"
      ]
     },
     "execution_count": 239,
     "metadata": {},
     "output_type": "execute_result"
    },
    {
     "data": {
      "image/png": "[encoded data removed]",
      "text/plain": [
       "<Figure size 432x288 with 1 Axes>"
      ]
     },
     "metadata": {
      "needs_background": "light"
     },
     "output_type": "display_data"
    }
   ],
   "source": [
    "plt.scatter(y_test,preds)\n",
    "\n",
    "# Real Value\n",
    "plt.plot(y_test,y_test,'r')"
   ]
  },
  {
   "cell_type": "code",
   "execution_count": 125,
   "id": "67d0261f",
   "metadata": {},
   "outputs": [],
   "source": [
    "from sklearn.metrics import r2_score"
   ]
  },
  {
   "cell_type": "code",
   "execution_count": 126,
   "id": "835f5440",
   "metadata": {},
   "outputs": [
    {
     "data": {
      "text/plain": [
       "17.39796157023918"
      ]
     },
     "execution_count": 126,
     "metadata": {},
     "output_type": "execute_result"
    }
   ],
   "source": [
    "result_df[\"% of error\"].mean()"
   ]
  },
  {
   "cell_type": "code",
   "execution_count": 127,
   "id": "1b12bbdf",
   "metadata": {
    "scrolled": true
   },
   "outputs": [
    {
     "data": {
      "text/plain": [
       "0.9107141414801165"
      ]
     },
     "execution_count": 127,
     "metadata": {},
     "output_type": "execute_result"
    }
   ],
   "source": [
    "r2_score(y_test,preds)"
   ]
  },
  {
   "cell_type": "code",
   "execution_count": null,
   "id": "c84d75a9",
   "metadata": {},
   "outputs": [],
   "source": []
  },
  {
   "cell_type": "code",
   "execution_count": 128,
   "id": "fa6fd542",
   "metadata": {
    "scrolled": false
   },
   "outputs": [
    {
     "data": {
      "text/plain": [
       "array([11900, 'Used', 'Opel', 'Astra', 2006, 192547.0, 140.0, 1796.0,\n",
       "       'Gasoline', 'Front wheels', 'Manual', 5.0, 'green', 35.0],\n",
       "      dtype=object)"
      ]
     },
     "execution_count": 128,
     "metadata": {},
     "output_type": "execute_result"
    }
   ],
   "source": [
    "df.iloc[1].values"
   ]
  },
  {
   "cell_type": "code",
   "execution_count": 129,
   "id": "76b8c080",
   "metadata": {
    "scrolled": true
   },
   "outputs": [
    {
     "data": {
      "text/plain": [
       "Index(['Price', 'Condition', 'Vehicle_brand', 'Vehicle_model',\n",
       "       'Production_year', 'Mileage_km', 'Power_HP', 'Displacement_cm3',\n",
       "       'Fuel_type', 'Drive', 'Transmission', 'Doors_number', 'Colour',\n",
       "       'Features'],\n",
       "      dtype='object')"
      ]
     },
     "execution_count": 129,
     "metadata": {},
     "output_type": "execute_result"
    }
   ],
   "source": [
    "df.columns"
   ]
  },
  {
   "cell_type": "code",
   "execution_count": 130,
   "id": "1ab7627c",
   "metadata": {},
   "outputs": [
    {
     "data": {
      "text/plain": [
       "array([6900, 'Used', 'Opel', 'Astra', 2006, 214652.0, 105.0, 1598.0,\n",
       "       'Gasoline', 'Front wheels', 'Manual', 5.0, 'black', 13.0],\n",
       "      dtype=object)"
      ]
     },
     "execution_count": 130,
     "metadata": {},
     "output_type": "execute_result"
    }
   ],
   "source": [
    "df.iloc[200].values"
   ]
  },
  {
   "cell_type": "code",
   "execution_count": null,
   "id": "f9ee2e89",
   "metadata": {},
   "outputs": [],
   "source": []
  },
  {
   "cell_type": "code",
   "execution_count": null,
   "id": "d164845c",
   "metadata": {},
   "outputs": [],
   "source": []
  },
  {
   "cell_type": "code",
   "execution_count": 131,
   "id": "eec9a2ef",
   "metadata": {},
   "outputs": [],
   "source": [
    "car1 = [[11900,'Used', 'Opel', 'Astra', 2010, 214652.0, 105.0, 1598.0,'Gasoline', 'Front wheels', 'Manual', 5.0, 'black', 13.0],\n",
    "       [ 0,'x', 'x', 'x', 1, 1, 1, 1.0,'x', 'x', 'x', 1.0, 'green', 1.0]]"
   ]
  },
  {
   "cell_type": "code",
   "execution_count": 132,
   "id": "a34c3c25",
   "metadata": {},
   "outputs": [],
   "source": [
    "car1_df = pd.DataFrame(car1)"
   ]
  },
  {
   "cell_type": "code",
   "execution_count": 133,
   "id": "de38d6a0",
   "metadata": {
    "scrolled": true
   },
   "outputs": [
    {
     "data": {
      "text/html": [
       "<div>\n",
       "<style scoped>\n",
       "    .dataframe tbody tr th:only-of-type {\n",
       "        vertical-align: middle;\n",
       "    }\n",
       "\n",
       "    .dataframe tbody tr th {\n",
       "        vertical-align: top;\n",
       "    }\n",
       "\n",
       "    .dataframe thead th {\n",
       "        text-align: right;\n",
       "    }\n",
       "</style>\n",
       "<table border=\"1\" class=\"dataframe\">\n",
       "  <thead>\n",
       "    <tr style=\"text-align: right;\">\n",
       "      <th></th>\n",
       "      <th>0</th>\n",
       "      <th>1</th>\n",
       "      <th>2</th>\n",
       "      <th>3</th>\n",
       "      <th>4</th>\n",
       "      <th>5</th>\n",
       "      <th>6</th>\n",
       "      <th>7</th>\n",
       "      <th>8</th>\n",
       "      <th>9</th>\n",
       "      <th>10</th>\n",
       "      <th>11</th>\n",
       "      <th>12</th>\n",
       "      <th>13</th>\n",
       "    </tr>\n",
       "  </thead>\n",
       "  <tbody>\n",
       "    <tr>\n",
       "      <th>0</th>\n",
       "      <td>11900</td>\n",
       "      <td>Used</td>\n",
       "      <td>Opel</td>\n",
       "      <td>Astra</td>\n",
       "      <td>2010</td>\n",
       "      <td>214652.0</td>\n",
       "      <td>105.0</td>\n",
       "      <td>1598.0</td>\n",
       "      <td>Gasoline</td>\n",
       "      <td>Front wheels</td>\n",
       "      <td>Manual</td>\n",
       "      <td>5.0</td>\n",
       "      <td>black</td>\n",
       "      <td>13.0</td>\n",
       "    </tr>\n",
       "    <tr>\n",
       "      <th>1</th>\n",
       "      <td>0</td>\n",
       "      <td>x</td>\n",
       "      <td>x</td>\n",
       "      <td>x</td>\n",
       "      <td>1</td>\n",
       "      <td>1.0</td>\n",
       "      <td>1.0</td>\n",
       "      <td>1.0</td>\n",
       "      <td>x</td>\n",
       "      <td>x</td>\n",
       "      <td>x</td>\n",
       "      <td>1.0</td>\n",
       "      <td>green</td>\n",
       "      <td>1.0</td>\n",
       "    </tr>\n",
       "  </tbody>\n",
       "</table>\n",
       "</div>"
      ],
      "text/plain": [
       "      0     1     2      3     4         5      6       7         8   \\\n",
       "0  11900  Used  Opel  Astra  2010  214652.0  105.0  1598.0  Gasoline   \n",
       "1      0     x     x      x     1       1.0    1.0     1.0         x   \n",
       "\n",
       "             9       10   11     12    13  \n",
       "0  Front wheels  Manual  5.0  black  13.0  \n",
       "1             x       x  1.0  green   1.0  "
      ]
     },
     "execution_count": 133,
     "metadata": {},
     "output_type": "execute_result"
    }
   ],
   "source": [
    "car1_df"
   ]
  },
  {
   "cell_type": "code",
   "execution_count": 134,
   "id": "04de2bbe",
   "metadata": {},
   "outputs": [],
   "source": [
    "car1_df.drop(1,inplace=True)"
   ]
  },
  {
   "cell_type": "code",
   "execution_count": 135,
   "id": "fec5f6aa",
   "metadata": {},
   "outputs": [],
   "source": [
    "car1_df.columns = df.columns"
   ]
  },
  {
   "cell_type": "code",
   "execution_count": 136,
   "id": "e8d87091",
   "metadata": {
    "scrolled": true
   },
   "outputs": [
    {
     "data": {
      "text/html": [
       "<div>\n",
       "<style scoped>\n",
       "    .dataframe tbody tr th:only-of-type {\n",
       "        vertical-align: middle;\n",
       "    }\n",
       "\n",
       "    .dataframe tbody tr th {\n",
       "        vertical-align: top;\n",
       "    }\n",
       "\n",
       "    .dataframe thead th {\n",
       "        text-align: right;\n",
       "    }\n",
       "</style>\n",
       "<table border=\"1\" class=\"dataframe\">\n",
       "  <thead>\n",
       "    <tr style=\"text-align: right;\">\n",
       "      <th></th>\n",
       "      <th>Price</th>\n",
       "      <th>Condition</th>\n",
       "      <th>Vehicle_brand</th>\n",
       "      <th>Vehicle_model</th>\n",
       "      <th>Production_year</th>\n",
       "      <th>Mileage_km</th>\n",
       "      <th>Power_HP</th>\n",
       "      <th>Displacement_cm3</th>\n",
       "      <th>Fuel_type</th>\n",
       "      <th>Drive</th>\n",
       "      <th>Transmission</th>\n",
       "      <th>Doors_number</th>\n",
       "      <th>Colour</th>\n",
       "      <th>Features</th>\n",
       "    </tr>\n",
       "  </thead>\n",
       "  <tbody>\n",
       "    <tr>\n",
       "      <th>0</th>\n",
       "      <td>11900</td>\n",
       "      <td>Used</td>\n",
       "      <td>Opel</td>\n",
       "      <td>Astra</td>\n",
       "      <td>2010</td>\n",
       "      <td>214652.0</td>\n",
       "      <td>105.0</td>\n",
       "      <td>1598.0</td>\n",
       "      <td>Gasoline</td>\n",
       "      <td>Front wheels</td>\n",
       "      <td>Manual</td>\n",
       "      <td>5.0</td>\n",
       "      <td>black</td>\n",
       "      <td>13.0</td>\n",
       "    </tr>\n",
       "  </tbody>\n",
       "</table>\n",
       "</div>"
      ],
      "text/plain": [
       "   Price Condition Vehicle_brand Vehicle_model  Production_year  Mileage_km  \\\n",
       "0  11900      Used          Opel         Astra             2010    214652.0   \n",
       "\n",
       "   Power_HP  Displacement_cm3 Fuel_type         Drive Transmission  \\\n",
       "0     105.0            1598.0  Gasoline  Front wheels       Manual   \n",
       "\n",
       "   Doors_number Colour  Features  \n",
       "0           5.0  black      13.0  "
      ]
     },
     "execution_count": 136,
     "metadata": {},
     "output_type": "execute_result"
    }
   ],
   "source": [
    "car1_df"
   ]
  },
  {
   "cell_type": "code",
   "execution_count": 137,
   "id": "cb7b4305",
   "metadata": {},
   "outputs": [],
   "source": [
    "car1_dummies = pd.get_dummies(car1_df)"
   ]
  },
  {
   "cell_type": "code",
   "execution_count": 138,
   "id": "a131b539",
   "metadata": {},
   "outputs": [
    {
     "data": {
      "text/html": [
       "<div>\n",
       "<style scoped>\n",
       "    .dataframe tbody tr th:only-of-type {\n",
       "        vertical-align: middle;\n",
       "    }\n",
       "\n",
       "    .dataframe tbody tr th {\n",
       "        vertical-align: top;\n",
       "    }\n",
       "\n",
       "    .dataframe thead th {\n",
       "        text-align: right;\n",
       "    }\n",
       "</style>\n",
       "<table border=\"1\" class=\"dataframe\">\n",
       "  <thead>\n",
       "    <tr style=\"text-align: right;\">\n",
       "      <th></th>\n",
       "      <th>Price</th>\n",
       "      <th>Production_year</th>\n",
       "      <th>Mileage_km</th>\n",
       "      <th>Power_HP</th>\n",
       "      <th>Displacement_cm3</th>\n",
       "      <th>Doors_number</th>\n",
       "      <th>Features</th>\n",
       "      <th>Condition_Used</th>\n",
       "      <th>Vehicle_brand_Opel</th>\n",
       "      <th>Vehicle_model_Astra</th>\n",
       "      <th>Fuel_type_Gasoline</th>\n",
       "      <th>Drive_Front wheels</th>\n",
       "      <th>Transmission_Manual</th>\n",
       "      <th>Colour_black</th>\n",
       "    </tr>\n",
       "  </thead>\n",
       "  <tbody>\n",
       "    <tr>\n",
       "      <th>0</th>\n",
       "      <td>11900</td>\n",
       "      <td>2010</td>\n",
       "      <td>214652.0</td>\n",
       "      <td>105.0</td>\n",
       "      <td>1598.0</td>\n",
       "      <td>5.0</td>\n",
       "      <td>13.0</td>\n",
       "      <td>1</td>\n",
       "      <td>1</td>\n",
       "      <td>1</td>\n",
       "      <td>1</td>\n",
       "      <td>1</td>\n",
       "      <td>1</td>\n",
       "      <td>1</td>\n",
       "    </tr>\n",
       "  </tbody>\n",
       "</table>\n",
       "</div>"
      ],
      "text/plain": [
       "   Price  Production_year  Mileage_km  Power_HP  Displacement_cm3  \\\n",
       "0  11900             2010    214652.0     105.0            1598.0   \n",
       "\n",
       "   Doors_number  Features  Condition_Used  Vehicle_brand_Opel  \\\n",
       "0           5.0      13.0               1                   1   \n",
       "\n",
       "   Vehicle_model_Astra  Fuel_type_Gasoline  Drive_Front wheels  \\\n",
       "0                    1                   1                   1   \n",
       "\n",
       "   Transmission_Manual  Colour_black  \n",
       "0                    1             1  "
      ]
     },
     "execution_count": 138,
     "metadata": {},
     "output_type": "execute_result"
    }
   ],
   "source": [
    "car1_dummies"
   ]
  },
  {
   "cell_type": "code",
   "execution_count": 139,
   "id": "fce7883a",
   "metadata": {
    "scrolled": true
   },
   "outputs": [],
   "source": [
    "car1_full_dummies = pd.concat([df_dum.iloc[[0,1]],car1_dummies]).fillna(0)"
   ]
  },
  {
   "cell_type": "code",
   "execution_count": 140,
   "id": "118d0656",
   "metadata": {
    "scrolled": false
   },
   "outputs": [
    {
     "data": {
      "text/html": [
       "<div>\n",
       "<style scoped>\n",
       "    .dataframe tbody tr th:only-of-type {\n",
       "        vertical-align: middle;\n",
       "    }\n",
       "\n",
       "    .dataframe tbody tr th {\n",
       "        vertical-align: top;\n",
       "    }\n",
       "\n",
       "    .dataframe thead th {\n",
       "        text-align: right;\n",
       "    }\n",
       "</style>\n",
       "<table border=\"1\" class=\"dataframe\">\n",
       "  <thead>\n",
       "    <tr style=\"text-align: right;\">\n",
       "      <th></th>\n",
       "      <th>Price</th>\n",
       "      <th>Production_year</th>\n",
       "      <th>Mileage_km</th>\n",
       "      <th>Power_HP</th>\n",
       "      <th>Displacement_cm3</th>\n",
       "      <th>Doors_number</th>\n",
       "      <th>Features</th>\n",
       "      <th>Condition_Used</th>\n",
       "      <th>Vehicle_brand_Alfa Romeo</th>\n",
       "      <th>Vehicle_brand_Audi</th>\n",
       "      <th>...</th>\n",
       "      <th>Colour_burgundy</th>\n",
       "      <th>Colour_golden</th>\n",
       "      <th>Colour_gray</th>\n",
       "      <th>Colour_green</th>\n",
       "      <th>Colour_other</th>\n",
       "      <th>Colour_red</th>\n",
       "      <th>Colour_silver</th>\n",
       "      <th>Colour_violet</th>\n",
       "      <th>Colour_white</th>\n",
       "      <th>Colour_yellow</th>\n",
       "    </tr>\n",
       "  </thead>\n",
       "  <tbody>\n",
       "    <tr>\n",
       "      <th>0</th>\n",
       "      <td>11900</td>\n",
       "      <td>2010</td>\n",
       "      <td>214652.0</td>\n",
       "      <td>105.0</td>\n",
       "      <td>1598.0</td>\n",
       "      <td>5.0</td>\n",
       "      <td>13.0</td>\n",
       "      <td>1</td>\n",
       "      <td>0.0</td>\n",
       "      <td>0.0</td>\n",
       "      <td>...</td>\n",
       "      <td>0.0</td>\n",
       "      <td>0.0</td>\n",
       "      <td>0.0</td>\n",
       "      <td>0.0</td>\n",
       "      <td>0.0</td>\n",
       "      <td>0.0</td>\n",
       "      <td>0.0</td>\n",
       "      <td>0.0</td>\n",
       "      <td>0.0</td>\n",
       "      <td>0.0</td>\n",
       "    </tr>\n",
       "  </tbody>\n",
       "</table>\n",
       "<p>1 rows × 363 columns</p>\n",
       "</div>"
      ],
      "text/plain": [
       "   Price  Production_year  Mileage_km  Power_HP  Displacement_cm3  \\\n",
       "0  11900             2010    214652.0     105.0            1598.0   \n",
       "\n",
       "   Doors_number  Features  Condition_Used  Vehicle_brand_Alfa Romeo  \\\n",
       "0           5.0      13.0               1                       0.0   \n",
       "\n",
       "   Vehicle_brand_Audi  ...  Colour_burgundy  Colour_golden  Colour_gray  \\\n",
       "0                 0.0  ...              0.0            0.0          0.0   \n",
       "\n",
       "   Colour_green  Colour_other  Colour_red  Colour_silver  Colour_violet  \\\n",
       "0           0.0           0.0         0.0            0.0            0.0   \n",
       "\n",
       "   Colour_white  Colour_yellow  \n",
       "0           0.0            0.0  \n",
       "\n",
       "[1 rows x 363 columns]"
      ]
     },
     "execution_count": 140,
     "metadata": {},
     "output_type": "execute_result"
    }
   ],
   "source": [
    "car1_full_dummies.iloc[[-1]]"
   ]
  },
  {
   "cell_type": "code",
   "execution_count": 141,
   "id": "8ea9c35e",
   "metadata": {},
   "outputs": [
    {
     "data": {
      "text/plain": [
       "0    11900\n",
       "Name: Price, dtype: int64"
      ]
     },
     "execution_count": 141,
     "metadata": {},
     "output_type": "execute_result"
    }
   ],
   "source": [
    "car1_full_dummies.iloc[[-1]][\"Price\"]"
   ]
  },
  {
   "cell_type": "code",
   "execution_count": 142,
   "id": "84f2c0f6",
   "metadata": {},
   "outputs": [],
   "source": [
    "car1_full_dummies.drop(\"Price\", axis = 1 , inplace=True)"
   ]
  },
  {
   "cell_type": "code",
   "execution_count": 143,
   "id": "b6ac571f",
   "metadata": {},
   "outputs": [],
   "source": [
    "car_to_predict = car1_full_dummies.iloc[[-1]].values"
   ]
  },
  {
   "cell_type": "code",
   "execution_count": 144,
   "id": "2ff8fde0",
   "metadata": {},
   "outputs": [
    {
     "name": "stderr",
     "output_type": "stream",
     "text": [
      "c:\\users\\kacpe\\appdata\\local\\programs\\python\\python39\\lib\\site-packages\\sklearn\\base.py:450: UserWarning: X does not have valid feature names, but StandardScaler was fitted with feature names\n",
      "  warnings.warn(\n"
     ]
    }
   ],
   "source": [
    "car_to_predict_s = scaler.transform(car_to_predict)"
   ]
  },
  {
   "cell_type": "code",
   "execution_count": 145,
   "id": "6f8e0038",
   "metadata": {},
   "outputs": [
    {
     "name": "stdout",
     "output_type": "stream",
     "text": [
      "1/1 [==============================] - 0s 33ms/step\n"
     ]
    },
    {
     "data": {
      "text/plain": [
       "array([[17380.027]], dtype=float32)"
      ]
     },
     "execution_count": 145,
     "metadata": {},
     "output_type": "execute_result"
    }
   ],
   "source": [
    "model.predict(car_to_predict_s)"
   ]
  },
  {
   "cell_type": "markdown",
   "id": "b0999a07",
   "metadata": {},
   "source": [
    "# Without Features Column"
   ]
  },
  {
   "cell_type": "code",
   "execution_count": 172,
   "id": "e4fff7ee",
   "metadata": {},
   "outputs": [],
   "source": [
    "df_without_features = df.drop(\"Features\", axis = 1)"
   ]
  },
  {
   "cell_type": "code",
   "execution_count": 173,
   "id": "79b33cfb",
   "metadata": {},
   "outputs": [],
   "source": [
    "df_without_features_dum = pd.get_dummies(df_without_features,drop_first=True)"
   ]
  },
  {
   "cell_type": "code",
   "execution_count": 174,
   "id": "3159a3a6",
   "metadata": {},
   "outputs": [],
   "source": [
    "X = df_without_features_dum.drop(\"Price\", axis = 1)"
   ]
  },
  {
   "cell_type": "code",
   "execution_count": 175,
   "id": "4fb86440",
   "metadata": {},
   "outputs": [],
   "source": [
    "y = df_without_features_dum[\"Price\"]"
   ]
  },
  {
   "cell_type": "code",
   "execution_count": 176,
   "id": "19a7e7d3",
   "metadata": {},
   "outputs": [],
   "source": [
    "X_train, X_test, y_train, y_test = train_test_split(X, y, test_size=0.3, random_state=110)"
   ]
  },
  {
   "cell_type": "code",
   "execution_count": 177,
   "id": "e0cc5046",
   "metadata": {},
   "outputs": [],
   "source": [
    "X_train = scaler.fit_transform(X_train)"
   ]
  },
  {
   "cell_type": "code",
   "execution_count": 178,
   "id": "256f5241",
   "metadata": {},
   "outputs": [],
   "source": [
    "X_test = scaler.transform(X_test)"
   ]
  },
  {
   "cell_type": "code",
   "execution_count": 184,
   "id": "472fb36e",
   "metadata": {},
   "outputs": [],
   "source": [
    "model = Sequential()\n",
    "\n",
    "model.add(Dense(100,activation='relu'))\n",
    "model.add(Dense(100,activation='relu'))\n",
    "model.add(Dense(100,activation='relu'))\n",
    "model.add(Dense(100,activation='relu'))\n",
    "model.add(Dense(100,activation='relu'))\n",
    "model.add(Dense(100,activation='relu'))\n",
    "\n",
    "#model.add(Dense(6,activation='relu'))\n",
    "model.add(Dense(1))\n",
    "\n",
    "model.compile(optimizer='adam',loss='mae')"
   ]
  },
  {
   "cell_type": "code",
   "execution_count": 185,
   "id": "efadb3e0",
   "metadata": {},
   "outputs": [
    {
     "name": "stdout",
     "output_type": "stream",
     "text": [
      "Epoch 1/10\n",
      "861/861 [==============================] - 10s 7ms/step - loss: 9045.0537 - val_loss: 5240.9146\n",
      "Epoch 2/10\n",
      "861/861 [==============================] - 5s 6ms/step - loss: 5030.2837 - val_loss: 4992.2378\n",
      "Epoch 3/10\n",
      "861/861 [==============================] - 4s 4ms/step - loss: 4850.7891 - val_loss: 4851.8188\n",
      "Epoch 4/10\n",
      "861/861 [==============================] - 4s 4ms/step - loss: 4729.3911 - val_loss: 4782.1572\n",
      "Epoch 5/10\n",
      "861/861 [==============================] - 4s 5ms/step - loss: 4669.2563 - val_loss: 4752.8804\n",
      "Epoch 6/10\n",
      "861/861 [==============================] - 4s 4ms/step - loss: 4615.0469 - val_loss: 4771.0444\n",
      "Epoch 7/10\n",
      "861/861 [==============================] - 4s 4ms/step - loss: 4581.7153 - val_loss: 4870.4624\n",
      "Epoch 8/10\n",
      "861/861 [==============================] - 4s 4ms/step - loss: 4541.3057 - val_loss: 4604.9434\n",
      "Epoch 9/10\n",
      "861/861 [==============================] - 4s 4ms/step - loss: 4497.2139 - val_loss: 4709.8008\n",
      "Epoch 10/10\n",
      "861/861 [==============================] - 4s 4ms/step - loss: 4474.7266 - val_loss: 4594.9233\n"
     ]
    },
    {
     "data": {
      "text/plain": [
       "<keras.callbacks.History at 0x250bd4f55b0>"
      ]
     },
     "execution_count": 185,
     "metadata": {},
     "output_type": "execute_result"
    }
   ],
   "source": [
    "model.fit(x=X_train,y=y_train.values,\n",
    "          validation_data=(X_test,y_test.values),\n",
    "          batch_size=128,epochs=10)"
   ]
  },
  {
   "cell_type": "code",
   "execution_count": 181,
   "id": "4a8fdc18",
   "metadata": {},
   "outputs": [
    {
     "name": "stdout",
     "output_type": "stream",
     "text": [
      "1476/1476 [==============================] - 2s 2ms/step\n"
     ]
    }
   ],
   "source": [
    "preds = model.predict(X_test)"
   ]
  },
  {
   "cell_type": "markdown",
   "id": "684f124f",
   "metadata": {},
   "source": [
    "# Features Column is Usefull (a little bit)"
   ]
  },
  {
   "cell_type": "code",
   "execution_count": 182,
   "id": "9026331d",
   "metadata": {},
   "outputs": [
    {
     "data": {
      "text/plain": [
       "0.12743022983793004"
      ]
     },
     "execution_count": 182,
     "metadata": {},
     "output_type": "execute_result"
    }
   ],
   "source": [
    "mean_absolute_error(y_test,preds) / y_test.mean()"
   ]
  },
  {
   "cell_type": "markdown",
   "id": "1223bbf7",
   "metadata": {},
   "source": [
    "# Predict price (100 most popular models)"
   ]
  },
  {
   "cell_type": "code",
   "execution_count": 188,
   "id": "3bafc1fb",
   "metadata": {},
   "outputs": [],
   "source": [
    "df2 = pd.read_csv(\"Data/clean_data_most_popular_models.csv\", index_col=  \"Index\")"
   ]
  },
  {
   "cell_type": "code",
   "execution_count": 205,
   "id": "b7430cd3",
   "metadata": {},
   "outputs": [
    {
     "data": {
      "text/plain": [
       "Astra           5266\n",
       "A4              4494\n",
       "Seria 3         4289\n",
       "Golf            4071\n",
       "Passat          3968\n",
       "                ... \n",
       "Grand Scenic     479\n",
       "i40              450\n",
       "Galaxy           444\n",
       "Grande Punto     441\n",
       "Seria 2          440\n",
       "Name: Vehicle_model, Length: 99, dtype: int64"
      ]
     },
     "execution_count": 205,
     "metadata": {},
     "output_type": "execute_result"
    }
   ],
   "source": [
    "df2[\"Vehicle_model\"].value_counts()"
   ]
  },
  {
   "cell_type": "code",
   "execution_count": 190,
   "id": "4f0386ed",
   "metadata": {},
   "outputs": [],
   "source": [
    "df2_dum = pd.get_dummies(df2)"
   ]
  },
  {
   "cell_type": "code",
   "execution_count": 191,
   "id": "16fd74be",
   "metadata": {
    "scrolled": true
   },
   "outputs": [
    {
     "data": {
      "text/html": [
       "<div>\n",
       "<style scoped>\n",
       "    .dataframe tbody tr th:only-of-type {\n",
       "        vertical-align: middle;\n",
       "    }\n",
       "\n",
       "    .dataframe tbody tr th {\n",
       "        vertical-align: top;\n",
       "    }\n",
       "\n",
       "    .dataframe thead th {\n",
       "        text-align: right;\n",
       "    }\n",
       "</style>\n",
       "<table border=\"1\" class=\"dataframe\">\n",
       "  <thead>\n",
       "    <tr style=\"text-align: right;\">\n",
       "      <th></th>\n",
       "      <th>Price</th>\n",
       "      <th>Production_year</th>\n",
       "      <th>Mileage_km</th>\n",
       "      <th>Power_HP</th>\n",
       "      <th>Displacement_cm3</th>\n",
       "      <th>Doors_number</th>\n",
       "      <th>Features</th>\n",
       "      <th>Condition_New</th>\n",
       "      <th>Condition_Used</th>\n",
       "      <th>Vehicle_brand_Abarth</th>\n",
       "      <th>...</th>\n",
       "      <th>Colour_burgundy</th>\n",
       "      <th>Colour_golden</th>\n",
       "      <th>Colour_gray</th>\n",
       "      <th>Colour_green</th>\n",
       "      <th>Colour_other</th>\n",
       "      <th>Colour_red</th>\n",
       "      <th>Colour_silver</th>\n",
       "      <th>Colour_violet</th>\n",
       "      <th>Colour_white</th>\n",
       "      <th>Colour_yellow</th>\n",
       "    </tr>\n",
       "    <tr>\n",
       "      <th>Index</th>\n",
       "      <th></th>\n",
       "      <th></th>\n",
       "      <th></th>\n",
       "      <th></th>\n",
       "      <th></th>\n",
       "      <th></th>\n",
       "      <th></th>\n",
       "      <th></th>\n",
       "      <th></th>\n",
       "      <th></th>\n",
       "      <th></th>\n",
       "      <th></th>\n",
       "      <th></th>\n",
       "      <th></th>\n",
       "      <th></th>\n",
       "      <th></th>\n",
       "      <th></th>\n",
       "      <th></th>\n",
       "      <th></th>\n",
       "      <th></th>\n",
       "      <th></th>\n",
       "    </tr>\n",
       "  </thead>\n",
       "  <tbody>\n",
       "    <tr>\n",
       "      <th>116465</th>\n",
       "      <td>42900</td>\n",
       "      <td>2015</td>\n",
       "      <td>125000.0</td>\n",
       "      <td>136.0</td>\n",
       "      <td>1598.0</td>\n",
       "      <td>5.0</td>\n",
       "      <td>48.000000</td>\n",
       "      <td>0</td>\n",
       "      <td>1</td>\n",
       "      <td>0</td>\n",
       "      <td>...</td>\n",
       "      <td>0</td>\n",
       "      <td>0</td>\n",
       "      <td>0</td>\n",
       "      <td>0</td>\n",
       "      <td>0</td>\n",
       "      <td>1</td>\n",
       "      <td>0</td>\n",
       "      <td>0</td>\n",
       "      <td>0</td>\n",
       "      <td>0</td>\n",
       "    </tr>\n",
       "    <tr>\n",
       "      <th>116466</th>\n",
       "      <td>11900</td>\n",
       "      <td>2006</td>\n",
       "      <td>192547.0</td>\n",
       "      <td>140.0</td>\n",
       "      <td>1796.0</td>\n",
       "      <td>5.0</td>\n",
       "      <td>35.000000</td>\n",
       "      <td>0</td>\n",
       "      <td>1</td>\n",
       "      <td>0</td>\n",
       "      <td>...</td>\n",
       "      <td>0</td>\n",
       "      <td>0</td>\n",
       "      <td>0</td>\n",
       "      <td>1</td>\n",
       "      <td>0</td>\n",
       "      <td>0</td>\n",
       "      <td>0</td>\n",
       "      <td>0</td>\n",
       "      <td>0</td>\n",
       "      <td>0</td>\n",
       "    </tr>\n",
       "    <tr>\n",
       "      <th>116467</th>\n",
       "      <td>25900</td>\n",
       "      <td>2010</td>\n",
       "      <td>119000.0</td>\n",
       "      <td>115.0</td>\n",
       "      <td>1598.0</td>\n",
       "      <td>5.0</td>\n",
       "      <td>32.000000</td>\n",
       "      <td>0</td>\n",
       "      <td>1</td>\n",
       "      <td>0</td>\n",
       "      <td>...</td>\n",
       "      <td>0</td>\n",
       "      <td>0</td>\n",
       "      <td>0</td>\n",
       "      <td>0</td>\n",
       "      <td>0</td>\n",
       "      <td>0</td>\n",
       "      <td>0</td>\n",
       "      <td>0</td>\n",
       "      <td>0</td>\n",
       "      <td>0</td>\n",
       "    </tr>\n",
       "    <tr>\n",
       "      <th>116468</th>\n",
       "      <td>8400</td>\n",
       "      <td>2007</td>\n",
       "      <td>290000.0</td>\n",
       "      <td>100.0</td>\n",
       "      <td>1910.0</td>\n",
       "      <td>5.0</td>\n",
       "      <td>25.000000</td>\n",
       "      <td>0</td>\n",
       "      <td>1</td>\n",
       "      <td>0</td>\n",
       "      <td>...</td>\n",
       "      <td>0</td>\n",
       "      <td>0</td>\n",
       "      <td>0</td>\n",
       "      <td>0</td>\n",
       "      <td>0</td>\n",
       "      <td>0</td>\n",
       "      <td>1</td>\n",
       "      <td>0</td>\n",
       "      <td>0</td>\n",
       "      <td>0</td>\n",
       "    </tr>\n",
       "    <tr>\n",
       "      <th>116469</th>\n",
       "      <td>15999</td>\n",
       "      <td>2008</td>\n",
       "      <td>168779.0</td>\n",
       "      <td>115.0</td>\n",
       "      <td>1598.0</td>\n",
       "      <td>5.0</td>\n",
       "      <td>24.000000</td>\n",
       "      <td>0</td>\n",
       "      <td>1</td>\n",
       "      <td>0</td>\n",
       "      <td>...</td>\n",
       "      <td>0</td>\n",
       "      <td>0</td>\n",
       "      <td>0</td>\n",
       "      <td>0</td>\n",
       "      <td>0</td>\n",
       "      <td>0</td>\n",
       "      <td>1</td>\n",
       "      <td>0</td>\n",
       "      <td>0</td>\n",
       "      <td>0</td>\n",
       "    </tr>\n",
       "    <tr>\n",
       "      <th>...</th>\n",
       "      <td>...</td>\n",
       "      <td>...</td>\n",
       "      <td>...</td>\n",
       "      <td>...</td>\n",
       "      <td>...</td>\n",
       "      <td>...</td>\n",
       "      <td>...</td>\n",
       "      <td>...</td>\n",
       "      <td>...</td>\n",
       "      <td>...</td>\n",
       "      <td>...</td>\n",
       "      <td>...</td>\n",
       "      <td>...</td>\n",
       "      <td>...</td>\n",
       "      <td>...</td>\n",
       "      <td>...</td>\n",
       "      <td>...</td>\n",
       "      <td>...</td>\n",
       "      <td>...</td>\n",
       "      <td>...</td>\n",
       "      <td>...</td>\n",
       "    </tr>\n",
       "    <tr>\n",
       "      <th>19</th>\n",
       "      <td>22900</td>\n",
       "      <td>2009</td>\n",
       "      <td>182000.0</td>\n",
       "      <td>180.0</td>\n",
       "      <td>1368.0</td>\n",
       "      <td>3.0</td>\n",
       "      <td>30.000000</td>\n",
       "      <td>0</td>\n",
       "      <td>1</td>\n",
       "      <td>1</td>\n",
       "      <td>...</td>\n",
       "      <td>0</td>\n",
       "      <td>0</td>\n",
       "      <td>0</td>\n",
       "      <td>0</td>\n",
       "      <td>0</td>\n",
       "      <td>0</td>\n",
       "      <td>0</td>\n",
       "      <td>0</td>\n",
       "      <td>1</td>\n",
       "      <td>0</td>\n",
       "    </tr>\n",
       "    <tr>\n",
       "      <th>32</th>\n",
       "      <td>50000</td>\n",
       "      <td>2014</td>\n",
       "      <td>150100.0</td>\n",
       "      <td>180.0</td>\n",
       "      <td>1368.0</td>\n",
       "      <td>3.0</td>\n",
       "      <td>33.000000</td>\n",
       "      <td>0</td>\n",
       "      <td>1</td>\n",
       "      <td>1</td>\n",
       "      <td>...</td>\n",
       "      <td>0</td>\n",
       "      <td>0</td>\n",
       "      <td>0</td>\n",
       "      <td>0</td>\n",
       "      <td>0</td>\n",
       "      <td>1</td>\n",
       "      <td>0</td>\n",
       "      <td>0</td>\n",
       "      <td>0</td>\n",
       "      <td>0</td>\n",
       "    </tr>\n",
       "    <tr>\n",
       "      <th>46</th>\n",
       "      <td>38000</td>\n",
       "      <td>2009</td>\n",
       "      <td>79999.0</td>\n",
       "      <td>155.0</td>\n",
       "      <td>1368.0</td>\n",
       "      <td>3.0</td>\n",
       "      <td>29.000000</td>\n",
       "      <td>0</td>\n",
       "      <td>1</td>\n",
       "      <td>1</td>\n",
       "      <td>...</td>\n",
       "      <td>0</td>\n",
       "      <td>0</td>\n",
       "      <td>0</td>\n",
       "      <td>0</td>\n",
       "      <td>0</td>\n",
       "      <td>0</td>\n",
       "      <td>0</td>\n",
       "      <td>0</td>\n",
       "      <td>1</td>\n",
       "      <td>0</td>\n",
       "    </tr>\n",
       "    <tr>\n",
       "      <th>54</th>\n",
       "      <td>28900</td>\n",
       "      <td>2012</td>\n",
       "      <td>130000.0</td>\n",
       "      <td>181.0</td>\n",
       "      <td>1399.0</td>\n",
       "      <td>5.0</td>\n",
       "      <td>30.000000</td>\n",
       "      <td>0</td>\n",
       "      <td>1</td>\n",
       "      <td>1</td>\n",
       "      <td>...</td>\n",
       "      <td>0</td>\n",
       "      <td>0</td>\n",
       "      <td>0</td>\n",
       "      <td>0</td>\n",
       "      <td>0</td>\n",
       "      <td>0</td>\n",
       "      <td>0</td>\n",
       "      <td>0</td>\n",
       "      <td>0</td>\n",
       "      <td>0</td>\n",
       "    </tr>\n",
       "    <tr>\n",
       "      <th>56</th>\n",
       "      <td>22900</td>\n",
       "      <td>2008</td>\n",
       "      <td>210000.0</td>\n",
       "      <td>220.0</td>\n",
       "      <td>1400.0</td>\n",
       "      <td>3.0</td>\n",
       "      <td>25.688986</td>\n",
       "      <td>0</td>\n",
       "      <td>1</td>\n",
       "      <td>1</td>\n",
       "      <td>...</td>\n",
       "      <td>0</td>\n",
       "      <td>0</td>\n",
       "      <td>0</td>\n",
       "      <td>0</td>\n",
       "      <td>0</td>\n",
       "      <td>0</td>\n",
       "      <td>0</td>\n",
       "      <td>0</td>\n",
       "      <td>0</td>\n",
       "      <td>0</td>\n",
       "    </tr>\n",
       "  </tbody>\n",
       "</table>\n",
       "<p>131530 rows × 158 columns</p>\n",
       "</div>"
      ],
      "text/plain": [
       "        Price  Production_year  Mileage_km  Power_HP  Displacement_cm3  \\\n",
       "Index                                                                    \n",
       "116465  42900             2015    125000.0     136.0            1598.0   \n",
       "116466  11900             2006    192547.0     140.0            1796.0   \n",
       "116467  25900             2010    119000.0     115.0            1598.0   \n",
       "116468   8400             2007    290000.0     100.0            1910.0   \n",
       "116469  15999             2008    168779.0     115.0            1598.0   \n",
       "...       ...              ...         ...       ...               ...   \n",
       "19      22900             2009    182000.0     180.0            1368.0   \n",
       "32      50000             2014    150100.0     180.0            1368.0   \n",
       "46      38000             2009     79999.0     155.0            1368.0   \n",
       "54      28900             2012    130000.0     181.0            1399.0   \n",
       "56      22900             2008    210000.0     220.0            1400.0   \n",
       "\n",
       "        Doors_number   Features  Condition_New  Condition_Used  \\\n",
       "Index                                                            \n",
       "116465           5.0  48.000000              0               1   \n",
       "116466           5.0  35.000000              0               1   \n",
       "116467           5.0  32.000000              0               1   \n",
       "116468           5.0  25.000000              0               1   \n",
       "116469           5.0  24.000000              0               1   \n",
       "...              ...        ...            ...             ...   \n",
       "19               3.0  30.000000              0               1   \n",
       "32               3.0  33.000000              0               1   \n",
       "46               3.0  29.000000              0               1   \n",
       "54               5.0  30.000000              0               1   \n",
       "56               3.0  25.688986              0               1   \n",
       "\n",
       "        Vehicle_brand_Abarth  ...  Colour_burgundy  Colour_golden  \\\n",
       "Index                         ...                                   \n",
       "116465                     0  ...                0              0   \n",
       "116466                     0  ...                0              0   \n",
       "116467                     0  ...                0              0   \n",
       "116468                     0  ...                0              0   \n",
       "116469                     0  ...                0              0   \n",
       "...                      ...  ...              ...            ...   \n",
       "19                         1  ...                0              0   \n",
       "32                         1  ...                0              0   \n",
       "46                         1  ...                0              0   \n",
       "54                         1  ...                0              0   \n",
       "56                         1  ...                0              0   \n",
       "\n",
       "        Colour_gray  Colour_green  Colour_other  Colour_red  Colour_silver  \\\n",
       "Index                                                                        \n",
       "116465            0             0             0           1              0   \n",
       "116466            0             1             0           0              0   \n",
       "116467            0             0             0           0              0   \n",
       "116468            0             0             0           0              1   \n",
       "116469            0             0             0           0              1   \n",
       "...             ...           ...           ...         ...            ...   \n",
       "19                0             0             0           0              0   \n",
       "32                0             0             0           1              0   \n",
       "46                0             0             0           0              0   \n",
       "54                0             0             0           0              0   \n",
       "56                0             0             0           0              0   \n",
       "\n",
       "        Colour_violet  Colour_white  Colour_yellow  \n",
       "Index                                               \n",
       "116465              0             0              0  \n",
       "116466              0             0              0  \n",
       "116467              0             0              0  \n",
       "116468              0             0              0  \n",
       "116469              0             0              0  \n",
       "...               ...           ...            ...  \n",
       "19                  0             1              0  \n",
       "32                  0             0              0  \n",
       "46                  0             1              0  \n",
       "54                  0             0              0  \n",
       "56                  0             0              0  \n",
       "\n",
       "[131530 rows x 158 columns]"
      ]
     },
     "execution_count": 191,
     "metadata": {},
     "output_type": "execute_result"
    }
   ],
   "source": [
    "df2_dum"
   ]
  },
  {
   "cell_type": "code",
   "execution_count": 206,
   "id": "74957bf3",
   "metadata": {},
   "outputs": [],
   "source": [
    "X = df2_dum.drop(\"Price\",axis = 1)"
   ]
  },
  {
   "cell_type": "code",
   "execution_count": 207,
   "id": "dfa72c83",
   "metadata": {},
   "outputs": [],
   "source": [
    "y = df2_dum[\"Price\"]"
   ]
  },
  {
   "cell_type": "code",
   "execution_count": 208,
   "id": "3ca74654",
   "metadata": {},
   "outputs": [],
   "source": [
    "X_train, X_test, y_train, y_test = train_test_split(X, y, test_size=0.3, random_state=110)"
   ]
  },
  {
   "cell_type": "code",
   "execution_count": 209,
   "id": "a39684e7",
   "metadata": {},
   "outputs": [],
   "source": [
    "X_train = scaler.fit_transform(X_train)"
   ]
  },
  {
   "cell_type": "code",
   "execution_count": 210,
   "id": "073b3aa2",
   "metadata": {},
   "outputs": [],
   "source": [
    "X_test = scaler.transform(X_test)"
   ]
  },
  {
   "cell_type": "code",
   "execution_count": 213,
   "id": "72c827c8",
   "metadata": {},
   "outputs": [],
   "source": [
    "model = Sequential()\n",
    "model.add(Dense(50,activation='relu'))\n",
    "model.add(Dense(50,activation='relu'))\n",
    "model.add(Dense(50,activation='relu'))\n",
    "model.add(Dense(50,activation='relu'))\n",
    "model.add(Dense(50,activation='relu'))\n",
    "model.add(Dense(50,activation='relu'))\n",
    "model.add(Dense(50,activation='relu'))\n",
    "model.add(Dense(50,activation='relu'))\n",
    "model.add(Dense(50,activation='relu'))\n",
    "model.add(Dense(50,activation='relu'))\n",
    "model.add(Dense(50,activation='relu'))\n",
    "model.add(Dense(50,activation='relu'))\n",
    "\n",
    "#model.add(Dense(6,activation='relu'))\n",
    "model.add(Dense(1))\n",
    "\n",
    "model.compile(optimizer='adam',loss='mae')"
   ]
  },
  {
   "cell_type": "code",
   "execution_count": 214,
   "id": "a77984f3",
   "metadata": {},
   "outputs": [
    {
     "name": "stdout",
     "output_type": "stream",
     "text": [
      "Epoch 1/10\n",
      "720/720 [==============================] - 9s 7ms/step - loss: 11079.2129 - val_loss: 6213.7583\n",
      "Epoch 2/10\n",
      "720/720 [==============================] - 4s 6ms/step - loss: 5952.1392 - val_loss: 5704.3726\n",
      "Epoch 3/10\n",
      "720/720 [==============================] - 3s 4ms/step - loss: 5733.0381 - val_loss: 5555.4731\n",
      "Epoch 4/10\n",
      "720/720 [==============================] - 3s 4ms/step - loss: 5564.7407 - val_loss: 5617.3589\n",
      "Epoch 5/10\n",
      "720/720 [==============================] - 3s 4ms/step - loss: 5488.9697 - val_loss: 5639.1763\n",
      "Epoch 6/10\n",
      "720/720 [==============================] - 3s 4ms/step - loss: 5388.6162 - val_loss: 5371.6431\n",
      "Epoch 7/10\n",
      "720/720 [==============================] - 3s 4ms/step - loss: 5409.1753 - val_loss: 5367.3408\n",
      "Epoch 8/10\n",
      "720/720 [==============================] - 3s 4ms/step - loss: 5337.4229 - val_loss: 6191.5752\n",
      "Epoch 9/10\n",
      "720/720 [==============================] - 3s 4ms/step - loss: 5276.2031 - val_loss: 5488.2476\n",
      "Epoch 10/10\n",
      "720/720 [==============================] - 3s 4ms/step - loss: 5259.2593 - val_loss: 5273.6689\n"
     ]
    },
    {
     "data": {
      "text/plain": [
       "<keras.callbacks.History at 0x250ab862ca0>"
      ]
     },
     "execution_count": 214,
     "metadata": {},
     "output_type": "execute_result"
    }
   ],
   "source": [
    "model.fit(x=X_train,y=y_train.values,\n",
    "          validation_data=(X_test,y_test.values),\n",
    "          batch_size=128,epochs=10)"
   ]
  },
  {
   "cell_type": "code",
   "execution_count": null,
   "id": "ecacbd62",
   "metadata": {},
   "outputs": [],
   "source": []
  }
 ],
 "metadata": {
  "kernelspec": {
   "display_name": "Python 3 (ipykernel)",
   "language": "python",
   "name": "python3"
  },
  "language_info": {
   "codemirror_mode": {
    "name": "ipython",
    "version": 3
   },
   "file_extension": ".py",
   "mimetype": "text/x-python",
   "name": "python",
   "nbconvert_exporter": "python",
   "pygments_lexer": "ipython3",
   "version": "3.9.5"
  }
 },
 "nbformat": 4,
 "nbformat_minor": 5
}
