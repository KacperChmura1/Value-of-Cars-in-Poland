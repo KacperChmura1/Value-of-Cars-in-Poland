{
 "cells": [
  {
   "cell_type": "code",
   "execution_count": 1,
   "id": "3ed0af8b",
   "metadata": {},
   "outputs": [],
   "source": [
    "import pandas as pd\n",
    "import matplotlib.pyplot as plt\n",
    "import seaborn as sns\n",
    "import numpy as np"
   ]
  },
  {
   "cell_type": "markdown",
   "id": "befb7567",
   "metadata": {},
   "source": [
    "# Import"
   ]
  },
  {
   "cell_type": "code",
   "execution_count": 2,
   "id": "b342f07b",
   "metadata": {},
   "outputs": [],
   "source": [
    "df = pd.read_csv(\"Data/clean_data.csv\", index_col=  \"Index\")"
   ]
  },
  {
   "cell_type": "markdown",
   "id": "84ef97ec",
   "metadata": {},
   "source": [
    "# Get dummies"
   ]
  },
  {
   "cell_type": "code",
   "execution_count": 3,
   "id": "3b48322b",
   "metadata": {},
   "outputs": [],
   "source": [
    "df_dum = pd.get_dummies(df,drop_first=True)"
   ]
  },
  {
   "cell_type": "markdown",
   "id": "076aae94",
   "metadata": {},
   "source": [
    "# Split Data"
   ]
  },
  {
   "cell_type": "code",
   "execution_count": 4,
   "id": "49e9f983",
   "metadata": {},
   "outputs": [],
   "source": [
    "X = df_dum.drop([\"Price\"], axis = 1)"
   ]
  },
  {
   "cell_type": "code",
   "execution_count": 5,
   "id": "a0fb51c3",
   "metadata": {},
   "outputs": [],
   "source": [
    "y = df_dum[\"Price\"]"
   ]
  },
  {
   "cell_type": "code",
   "execution_count": 6,
   "id": "4e767959",
   "metadata": {},
   "outputs": [],
   "source": [
    "from sklearn.model_selection import train_test_split\n",
    "from sklearn.preprocessing import StandardScaler"
   ]
  },
  {
   "cell_type": "code",
   "execution_count": 457,
   "id": "f3d7d8e3",
   "metadata": {},
   "outputs": [],
   "source": [
    "X_train, X_test, y_train, y_test = train_test_split(X, y, test_size=0.3, random_state=110)"
   ]
  },
  {
   "cell_type": "code",
   "execution_count": 458,
   "id": "7c966da1",
   "metadata": {},
   "outputs": [],
   "source": [
    "scaler = StandardScaler()"
   ]
  },
  {
   "cell_type": "code",
   "execution_count": 459,
   "id": "de18acd3",
   "metadata": {},
   "outputs": [],
   "source": [
    "X_train = scaler.fit_transform(X_train)"
   ]
  },
  {
   "cell_type": "code",
   "execution_count": 461,
   "id": "912b5f50",
   "metadata": {},
   "outputs": [],
   "source": [
    "X_test = scaler.transform(X_test)"
   ]
  },
  {
   "cell_type": "markdown",
   "id": "5e37b2b4",
   "metadata": {},
   "source": [
    "# DeepLearning"
   ]
  },
  {
   "cell_type": "code",
   "execution_count": 11,
   "id": "d3f37851",
   "metadata": {},
   "outputs": [],
   "source": [
    "import tensorflow as tf"
   ]
  },
  {
   "cell_type": "code",
   "execution_count": 26,
   "id": "afee3c2a",
   "metadata": {},
   "outputs": [],
   "source": [
    "from tensorflow.keras.models import Sequential\n",
    "from tensorflow.keras.layers import Dense, Activation\n",
    "from tensorflow.keras.optimizers import Adam\n",
    "from sklearn.metrics import mean_absolute_error"
   ]
  },
  {
   "cell_type": "code",
   "execution_count": 15,
   "id": "24dd89d8",
   "metadata": {},
   "outputs": [
    {
     "data": {
      "text/html": [
       "<div>\n",
       "<style scoped>\n",
       "    .dataframe tbody tr th:only-of-type {\n",
       "        vertical-align: middle;\n",
       "    }\n",
       "\n",
       "    .dataframe tbody tr th {\n",
       "        vertical-align: top;\n",
       "    }\n",
       "\n",
       "    .dataframe thead th {\n",
       "        text-align: right;\n",
       "    }\n",
       "</style>\n",
       "<table border=\"1\" class=\"dataframe\">\n",
       "  <thead>\n",
       "    <tr style=\"text-align: right;\">\n",
       "      <th></th>\n",
       "      <th>Production_year</th>\n",
       "      <th>Mileage_km</th>\n",
       "      <th>Power_HP</th>\n",
       "      <th>Displacement_cm3</th>\n",
       "      <th>Doors_number</th>\n",
       "      <th>Features</th>\n",
       "      <th>Condition_Used</th>\n",
       "      <th>Vehicle_brand_Alfa Romeo</th>\n",
       "      <th>Vehicle_brand_Audi</th>\n",
       "      <th>Vehicle_brand_BMW</th>\n",
       "      <th>...</th>\n",
       "      <th>Colour_burgundy</th>\n",
       "      <th>Colour_golden</th>\n",
       "      <th>Colour_gray</th>\n",
       "      <th>Colour_green</th>\n",
       "      <th>Colour_other</th>\n",
       "      <th>Colour_red</th>\n",
       "      <th>Colour_silver</th>\n",
       "      <th>Colour_violet</th>\n",
       "      <th>Colour_white</th>\n",
       "      <th>Colour_yellow</th>\n",
       "    </tr>\n",
       "    <tr>\n",
       "      <th>Index</th>\n",
       "      <th></th>\n",
       "      <th></th>\n",
       "      <th></th>\n",
       "      <th></th>\n",
       "      <th></th>\n",
       "      <th></th>\n",
       "      <th></th>\n",
       "      <th></th>\n",
       "      <th></th>\n",
       "      <th></th>\n",
       "      <th></th>\n",
       "      <th></th>\n",
       "      <th></th>\n",
       "      <th></th>\n",
       "      <th></th>\n",
       "      <th></th>\n",
       "      <th></th>\n",
       "      <th></th>\n",
       "      <th></th>\n",
       "      <th></th>\n",
       "      <th></th>\n",
       "    </tr>\n",
       "  </thead>\n",
       "  <tbody>\n",
       "    <tr>\n",
       "      <th>116465</th>\n",
       "      <td>2015</td>\n",
       "      <td>125000.0</td>\n",
       "      <td>136.0</td>\n",
       "      <td>1598.0</td>\n",
       "      <td>5.0</td>\n",
       "      <td>48.0</td>\n",
       "      <td>1</td>\n",
       "      <td>0</td>\n",
       "      <td>0</td>\n",
       "      <td>0</td>\n",
       "      <td>...</td>\n",
       "      <td>0</td>\n",
       "      <td>0</td>\n",
       "      <td>0</td>\n",
       "      <td>0</td>\n",
       "      <td>0</td>\n",
       "      <td>1</td>\n",
       "      <td>0</td>\n",
       "      <td>0</td>\n",
       "      <td>0</td>\n",
       "      <td>0</td>\n",
       "    </tr>\n",
       "  </tbody>\n",
       "</table>\n",
       "<p>1 rows × 363 columns</p>\n",
       "</div>"
      ],
      "text/plain": [
       "        Production_year  Mileage_km  Power_HP  Displacement_cm3  Doors_number  \\\n",
       "Index                                                                           \n",
       "116465             2015    125000.0     136.0            1598.0           5.0   \n",
       "\n",
       "        Features  Condition_Used  Vehicle_brand_Alfa Romeo  \\\n",
       "Index                                                        \n",
       "116465      48.0               1                         0   \n",
       "\n",
       "        Vehicle_brand_Audi  Vehicle_brand_BMW  ...  Colour_burgundy  \\\n",
       "Index                                          ...                    \n",
       "116465                   0                  0  ...                0   \n",
       "\n",
       "        Colour_golden  Colour_gray  Colour_green  Colour_other  Colour_red  \\\n",
       "Index                                                                        \n",
       "116465              0            0             0             0           1   \n",
       "\n",
       "        Colour_silver  Colour_violet  Colour_white  Colour_yellow  \n",
       "Index                                                              \n",
       "116465              0              0             0              0  \n",
       "\n",
       "[1 rows x 363 columns]"
      ]
     },
     "execution_count": 15,
     "metadata": {},
     "output_type": "execute_result"
    }
   ],
   "source": [
    "X.head(1)"
   ]
  },
  {
   "cell_type": "code",
   "execution_count": 21,
   "id": "824872e4",
   "metadata": {},
   "outputs": [],
   "source": [
    "model = Sequential()\n",
    "\n",
    "model.add(Dense(50,activation='relu'))\n",
    "model.add(Dense(50,activation='relu'))\n",
    "model.add(Dense(50,activation='relu'))\n",
    "model.add(Dense(50,activation='relu'))\n",
    "model.add(Dense(50,activation='relu'))\n",
    "model.add(Dense(50,activation='relu'))\n",
    "model.add(Dense(50,activation='relu'))\n",
    "model.add(Dense(25,activation='relu'))\n",
    "model.add(Dense(25,activation='relu'))\n",
    "\n",
    "#model.add(Dense(6,activation='relu'))\n",
    "model.add(Dense(1))\n",
    "\n",
    "model.compile(optimizer='adam',loss='mae')"
   ]
  },
  {
   "cell_type": "code",
   "execution_count": 22,
   "id": "da640de7",
   "metadata": {},
   "outputs": [
    {
     "name": "stdout",
     "output_type": "stream",
     "text": [
      "Epoch 1/10\n",
      "972/972 [==============================] - 3s 3ms/step - loss: 13100.0127 - val_loss: 7305.5151\n",
      "Epoch 2/10\n",
      "972/972 [==============================] - 2s 3ms/step - loss: 6880.8687 - val_loss: 6983.4912\n",
      "Epoch 3/10\n",
      "972/972 [==============================] - 2s 3ms/step - loss: 6481.9888 - val_loss: 6505.5225\n",
      "Epoch 4/10\n",
      "972/972 [==============================] - 3s 3ms/step - loss: 6322.5977 - val_loss: 6356.2588\n",
      "Epoch 5/10\n",
      "972/972 [==============================] - 3s 3ms/step - loss: 6195.0044 - val_loss: 6467.1519\n",
      "Epoch 6/10\n",
      "972/972 [==============================] - 3s 3ms/step - loss: 6135.9731 - val_loss: 6206.2485\n",
      "Epoch 7/10\n",
      "972/972 [==============================] - 3s 3ms/step - loss: 6082.2021 - val_loss: 6222.2603\n",
      "Epoch 8/10\n",
      "972/972 [==============================] - 3s 3ms/step - loss: 6039.6265 - val_loss: 6222.8398\n",
      "Epoch 9/10\n",
      "972/972 [==============================] - 3s 3ms/step - loss: 5993.0425 - val_loss: 6135.0176\n",
      "Epoch 10/10\n",
      "972/972 [==============================] - 3s 3ms/step - loss: 5953.9419 - val_loss: 6121.0034\n"
     ]
    },
    {
     "data": {
      "text/plain": [
       "<keras.callbacks.History at 0x206b4332040>"
      ]
     },
     "execution_count": 22,
     "metadata": {},
     "output_type": "execute_result"
    }
   ],
   "source": [
    "model.fit(x=X_train,y=y_train.values,\n",
    "          validation_data=(X_test,y_test.values),\n",
    "          batch_size=128,epochs=10)"
   ]
  },
  {
   "cell_type": "code",
   "execution_count": 141,
   "id": "299e8451",
   "metadata": {},
   "outputs": [
    {
     "ename": "AttributeError",
     "evalue": "'NoneType' object has no attribute 'history'",
     "output_type": "error",
     "traceback": [
      "\u001b[1;31m---------------------------------------------------------------------------\u001b[0m",
      "\u001b[1;31mAttributeError\u001b[0m                            Traceback (most recent call last)",
      "\u001b[1;32m~\\AppData\\Local\\Temp/ipykernel_13976/3113007379.py\u001b[0m in \u001b[0;36m<module>\u001b[1;34m\u001b[0m\n\u001b[1;32m----> 1\u001b[1;33m \u001b[0mlosses\u001b[0m \u001b[1;33m=\u001b[0m \u001b[0mpd\u001b[0m\u001b[1;33m.\u001b[0m\u001b[0mDataFrame\u001b[0m\u001b[1;33m(\u001b[0m\u001b[0mmodel\u001b[0m\u001b[1;33m.\u001b[0m\u001b[0mhistory\u001b[0m\u001b[1;33m.\u001b[0m\u001b[0mhistory\u001b[0m\u001b[1;33m)\u001b[0m\u001b[1;33m\u001b[0m\u001b[1;33m\u001b[0m\u001b[0m\n\u001b[0m",
      "\u001b[1;31mAttributeError\u001b[0m: 'NoneType' object has no attribute 'history'"
     ]
    }
   ],
   "source": [
    "losses = pd.DataFrame(model.history.history)"
   ]
  },
  {
   "cell_type": "code",
   "execution_count": 19,
   "id": "3812dd8a",
   "metadata": {},
   "outputs": [
    {
     "data": {
      "text/plain": [
       "<AxesSubplot:>"
      ]
     },
     "execution_count": 19,
     "metadata": {},
     "output_type": "execute_result"
    },
    {
     "data": {
      "image/png": "[encoded data removed]",
      "text/plain": [
       "<Figure size 432x288 with 1 Axes>"
      ]
     },
     "metadata": {
      "needs_background": "light"
     },
     "output_type": "display_data"
    }
   ],
   "source": [
    "losses.plot()"
   ]
  },
  {
   "cell_type": "code",
   "execution_count": 23,
   "id": "08523ff9",
   "metadata": {},
   "outputs": [
    {
     "name": "stdout",
     "output_type": "stream",
     "text": [
      "1667/1667 [==============================] - 2s 1ms/step\n"
     ]
    }
   ],
   "source": [
    "preds = model.predict(X_test)"
   ]
  },
  {
   "cell_type": "code",
   "execution_count": 27,
   "id": "05742b42",
   "metadata": {},
   "outputs": [
    {
     "data": {
      "text/plain": [
       "6121.006071848773"
      ]
     },
     "execution_count": 27,
     "metadata": {},
     "output_type": "execute_result"
    }
   ],
   "source": [
    "mean_absolute_error(y_test,preds) "
   ]
  },
  {
   "cell_type": "code",
   "execution_count": 56,
   "id": "bc9584a1",
   "metadata": {},
   "outputs": [],
   "source": [
    "preds_df = pd.DataFrame(preds)"
   ]
  },
  {
   "cell_type": "code",
   "execution_count": 69,
   "id": "efd9a2da",
   "metadata": {},
   "outputs": [],
   "source": [
    "y_df = pd.DataFrame(y_test.values)"
   ]
  },
  {
   "cell_type": "code",
   "execution_count": 70,
   "id": "0eeaf0fc",
   "metadata": {
    "scrolled": false
   },
   "outputs": [
    {
     "data": {
      "text/html": [
       "<div>\n",
       "<style scoped>\n",
       "    .dataframe tbody tr th:only-of-type {\n",
       "        vertical-align: middle;\n",
       "    }\n",
       "\n",
       "    .dataframe tbody tr th {\n",
       "        vertical-align: top;\n",
       "    }\n",
       "\n",
       "    .dataframe thead th {\n",
       "        text-align: right;\n",
       "    }\n",
       "</style>\n",
       "<table border=\"1\" class=\"dataframe\">\n",
       "  <thead>\n",
       "    <tr style=\"text-align: right;\">\n",
       "      <th></th>\n",
       "      <th>0</th>\n",
       "    </tr>\n",
       "  </thead>\n",
       "  <tbody>\n",
       "    <tr>\n",
       "      <th>0</th>\n",
       "      <td>28820.498047</td>\n",
       "    </tr>\n",
       "    <tr>\n",
       "      <th>1</th>\n",
       "      <td>56115.421875</td>\n",
       "    </tr>\n",
       "    <tr>\n",
       "      <th>2</th>\n",
       "      <td>13439.291992</td>\n",
       "    </tr>\n",
       "    <tr>\n",
       "      <th>3</th>\n",
       "      <td>50261.140625</td>\n",
       "    </tr>\n",
       "    <tr>\n",
       "      <th>4</th>\n",
       "      <td>135036.015625</td>\n",
       "    </tr>\n",
       "    <tr>\n",
       "      <th>...</th>\n",
       "      <td>...</td>\n",
       "    </tr>\n",
       "    <tr>\n",
       "      <th>53315</th>\n",
       "      <td>25886.279297</td>\n",
       "    </tr>\n",
       "    <tr>\n",
       "      <th>53316</th>\n",
       "      <td>31789.775391</td>\n",
       "    </tr>\n",
       "    <tr>\n",
       "      <th>53317</th>\n",
       "      <td>23724.123047</td>\n",
       "    </tr>\n",
       "    <tr>\n",
       "      <th>53318</th>\n",
       "      <td>103067.273438</td>\n",
       "    </tr>\n",
       "    <tr>\n",
       "      <th>53319</th>\n",
       "      <td>108733.593750</td>\n",
       "    </tr>\n",
       "  </tbody>\n",
       "</table>\n",
       "<p>53320 rows × 1 columns</p>\n",
       "</div>"
      ],
      "text/plain": [
       "                   0\n",
       "0       28820.498047\n",
       "1       56115.421875\n",
       "2       13439.291992\n",
       "3       50261.140625\n",
       "4      135036.015625\n",
       "...              ...\n",
       "53315   25886.279297\n",
       "53316   31789.775391\n",
       "53317   23724.123047\n",
       "53318  103067.273438\n",
       "53319  108733.593750\n",
       "\n",
       "[53320 rows x 1 columns]"
      ]
     },
     "execution_count": 70,
     "metadata": {},
     "output_type": "execute_result"
    }
   ],
   "source": [
    "preds_df"
   ]
  },
  {
   "cell_type": "code",
   "execution_count": 72,
   "id": "f796a6d8",
   "metadata": {},
   "outputs": [
    {
     "data": {
      "text/html": [
       "<div>\n",
       "<style scoped>\n",
       "    .dataframe tbody tr th:only-of-type {\n",
       "        vertical-align: middle;\n",
       "    }\n",
       "\n",
       "    .dataframe tbody tr th {\n",
       "        vertical-align: top;\n",
       "    }\n",
       "\n",
       "    .dataframe thead th {\n",
       "        text-align: right;\n",
       "    }\n",
       "</style>\n",
       "<table border=\"1\" class=\"dataframe\">\n",
       "  <thead>\n",
       "    <tr style=\"text-align: right;\">\n",
       "      <th></th>\n",
       "      <th>0</th>\n",
       "    </tr>\n",
       "  </thead>\n",
       "  <tbody>\n",
       "    <tr>\n",
       "      <th>0</th>\n",
       "      <td>29900</td>\n",
       "    </tr>\n",
       "    <tr>\n",
       "      <th>1</th>\n",
       "      <td>65500</td>\n",
       "    </tr>\n",
       "    <tr>\n",
       "      <th>2</th>\n",
       "      <td>14800</td>\n",
       "    </tr>\n",
       "    <tr>\n",
       "      <th>3</th>\n",
       "      <td>48000</td>\n",
       "    </tr>\n",
       "    <tr>\n",
       "      <th>4</th>\n",
       "      <td>121494</td>\n",
       "    </tr>\n",
       "    <tr>\n",
       "      <th>...</th>\n",
       "      <td>...</td>\n",
       "    </tr>\n",
       "    <tr>\n",
       "      <th>53315</th>\n",
       "      <td>26900</td>\n",
       "    </tr>\n",
       "    <tr>\n",
       "      <th>53316</th>\n",
       "      <td>27900</td>\n",
       "    </tr>\n",
       "    <tr>\n",
       "      <th>53317</th>\n",
       "      <td>20600</td>\n",
       "    </tr>\n",
       "    <tr>\n",
       "      <th>53318</th>\n",
       "      <td>89990</td>\n",
       "    </tr>\n",
       "    <tr>\n",
       "      <th>53319</th>\n",
       "      <td>95500</td>\n",
       "    </tr>\n",
       "  </tbody>\n",
       "</table>\n",
       "<p>53320 rows × 1 columns</p>\n",
       "</div>"
      ],
      "text/plain": [
       "            0\n",
       "0       29900\n",
       "1       65500\n",
       "2       14800\n",
       "3       48000\n",
       "4      121494\n",
       "...       ...\n",
       "53315   26900\n",
       "53316   27900\n",
       "53317   20600\n",
       "53318   89990\n",
       "53319   95500\n",
       "\n",
       "[53320 rows x 1 columns]"
      ]
     },
     "execution_count": 72,
     "metadata": {},
     "output_type": "execute_result"
    }
   ],
   "source": [
    "y_df"
   ]
  },
  {
   "cell_type": "code",
   "execution_count": 74,
   "id": "30de0268",
   "metadata": {},
   "outputs": [
    {
     "data": {
      "text/html": [
       "<div>\n",
       "<style scoped>\n",
       "    .dataframe tbody tr th:only-of-type {\n",
       "        vertical-align: middle;\n",
       "    }\n",
       "\n",
       "    .dataframe tbody tr th {\n",
       "        vertical-align: top;\n",
       "    }\n",
       "\n",
       "    .dataframe thead th {\n",
       "        text-align: right;\n",
       "    }\n",
       "</style>\n",
       "<table border=\"1\" class=\"dataframe\">\n",
       "  <thead>\n",
       "    <tr style=\"text-align: right;\">\n",
       "      <th></th>\n",
       "      <th>0</th>\n",
       "      <th>1</th>\n",
       "    </tr>\n",
       "  </thead>\n",
       "  <tbody>\n",
       "    <tr>\n",
       "      <th>0</th>\n",
       "      <td>28820.498047</td>\n",
       "      <td>29900</td>\n",
       "    </tr>\n",
       "    <tr>\n",
       "      <th>1</th>\n",
       "      <td>56115.421875</td>\n",
       "      <td>65500</td>\n",
       "    </tr>\n",
       "    <tr>\n",
       "      <th>2</th>\n",
       "      <td>13439.291992</td>\n",
       "      <td>14800</td>\n",
       "    </tr>\n",
       "    <tr>\n",
       "      <th>3</th>\n",
       "      <td>50261.140625</td>\n",
       "      <td>48000</td>\n",
       "    </tr>\n",
       "    <tr>\n",
       "      <th>4</th>\n",
       "      <td>135036.015625</td>\n",
       "      <td>121494</td>\n",
       "    </tr>\n",
       "    <tr>\n",
       "      <th>...</th>\n",
       "      <td>...</td>\n",
       "      <td>...</td>\n",
       "    </tr>\n",
       "    <tr>\n",
       "      <th>53315</th>\n",
       "      <td>25886.279297</td>\n",
       "      <td>26900</td>\n",
       "    </tr>\n",
       "    <tr>\n",
       "      <th>53316</th>\n",
       "      <td>31789.775391</td>\n",
       "      <td>27900</td>\n",
       "    </tr>\n",
       "    <tr>\n",
       "      <th>53317</th>\n",
       "      <td>23724.123047</td>\n",
       "      <td>20600</td>\n",
       "    </tr>\n",
       "    <tr>\n",
       "      <th>53318</th>\n",
       "      <td>103067.273438</td>\n",
       "      <td>89990</td>\n",
       "    </tr>\n",
       "    <tr>\n",
       "      <th>53319</th>\n",
       "      <td>108733.593750</td>\n",
       "      <td>95500</td>\n",
       "    </tr>\n",
       "  </tbody>\n",
       "</table>\n",
       "<p>53320 rows × 2 columns</p>\n",
       "</div>"
      ],
      "text/plain": [
       "                   0       1\n",
       "0       28820.498047   29900\n",
       "1       56115.421875   65500\n",
       "2       13439.291992   14800\n",
       "3       50261.140625   48000\n",
       "4      135036.015625  121494\n",
       "...              ...     ...\n",
       "53315   25886.279297   26900\n",
       "53316   31789.775391   27900\n",
       "53317   23724.123047   20600\n",
       "53318  103067.273438   89990\n",
       "53319  108733.593750   95500\n",
       "\n",
       "[53320 rows x 2 columns]"
      ]
     },
     "execution_count": 74,
     "metadata": {},
     "output_type": "execute_result"
    }
   ],
   "source": [
    "pd.concat([preds_df,y_df],axis = 1, ignore_index=True,join = \"outer\")"
   ]
  },
  {
   "cell_type": "markdown",
   "id": "3373c6ab",
   "metadata": {},
   "source": [
    "# Cars 100k max"
   ]
  },
  {
   "cell_type": "code",
   "execution_count": 75,
   "id": "416478c7",
   "metadata": {},
   "outputs": [],
   "source": [
    "df = pd.read_csv(\"Data/clean_data.csv\", index_col=  \"Index\")"
   ]
  },
  {
   "cell_type": "code",
   "execution_count": 92,
   "id": "a831cacb",
   "metadata": {
    "scrolled": true
   },
   "outputs": [],
   "source": [
    "df = df[df[\"Price\"] < 100000]"
   ]
  },
  {
   "cell_type": "code",
   "execution_count": 93,
   "id": "cddb61c5",
   "metadata": {},
   "outputs": [],
   "source": [
    "df_dum = pd.get_dummies(df,drop_first=True)"
   ]
  },
  {
   "cell_type": "code",
   "execution_count": 94,
   "id": "78d8d889",
   "metadata": {},
   "outputs": [],
   "source": [
    "X = df_dum.drop([\"Price\"], axis = 1)"
   ]
  },
  {
   "cell_type": "code",
   "execution_count": 95,
   "id": "279a74af",
   "metadata": {},
   "outputs": [],
   "source": [
    "y = df_dum[\"Price\"]"
   ]
  },
  {
   "cell_type": "code",
   "execution_count": 96,
   "id": "5684c48e",
   "metadata": {},
   "outputs": [],
   "source": [
    "from sklearn.model_selection import train_test_split\n",
    "from sklearn.preprocessing import StandardScaler"
   ]
  },
  {
   "cell_type": "code",
   "execution_count": 97,
   "id": "9cfb605c",
   "metadata": {},
   "outputs": [],
   "source": [
    "X_train, X_test, y_train, y_test = train_test_split(X, y, test_size=0.3, random_state=110)"
   ]
  },
  {
   "cell_type": "code",
   "execution_count": 99,
   "id": "cba02d38",
   "metadata": {},
   "outputs": [],
   "source": [
    "X_train = scaler.fit_transform(X_train)"
   ]
  },
  {
   "cell_type": "code",
   "execution_count": 100,
   "id": "ff322a09",
   "metadata": {},
   "outputs": [],
   "source": [
    "X_test = scaler.transform(X_test)"
   ]
  },
  {
   "cell_type": "code",
   "execution_count": 157,
   "id": "af0c3d9f",
   "metadata": {},
   "outputs": [],
   "source": [
    "model = Sequential()\n",
    "model.add(Dense(200,activation='relu'))\n",
    "model.add(Dense(200,activation='relu'))\n",
    "model.add(Dense(200,activation='relu'))\n",
    "model.add(Dense(200,activation='relu'))\n",
    "model.add(Dense(200,activation='relu'))\n",
    "model.add(Dense(200,activation='relu'))\n",
    "model.add(Dense(100,activation='relu'))\n",
    "model.add(Dense(100,activation='relu'))\n",
    "model.add(Dense(100,activation='relu'))\n",
    "model.add(Dense(100,activation='relu'))\n",
    "\n",
    "#model.add(Dense(6,activation='relu'))\n",
    "model.add(Dense(1))\n",
    "\n",
    "model.compile(optimizer='adam',loss='mae')"
   ]
  },
  {
   "cell_type": "code",
   "execution_count": 158,
   "id": "4782608e",
   "metadata": {},
   "outputs": [
    {
     "name": "stdout",
     "output_type": "stream",
     "text": [
      "Epoch 1/25\n",
      "431/431 [==============================] - 9s 14ms/step - loss: 9211.1494 - val_loss: 5416.8145\n",
      "Epoch 2/25\n",
      "431/431 [==============================] - 5s 12ms/step - loss: 5074.0024 - val_loss: 4934.4648\n",
      "Epoch 3/25\n",
      "431/431 [==============================] - 4s 10ms/step - loss: 4852.3267 - val_loss: 4783.9839\n",
      "Epoch 4/25\n",
      "431/431 [==============================] - 4s 9ms/step - loss: 4697.6836 - val_loss: 4912.2056\n",
      "Epoch 5/25\n",
      "431/431 [==============================] - 4s 9ms/step - loss: 4581.1523 - val_loss: 4869.3076\n",
      "Epoch 6/25\n",
      "431/431 [==============================] - 4s 9ms/step - loss: 4505.7959 - val_loss: 4647.0776\n",
      "Epoch 7/25\n",
      "431/431 [==============================] - 4s 9ms/step - loss: 4486.6001 - val_loss: 5078.2334\n",
      "Epoch 8/25\n",
      "431/431 [==============================] - 4s 9ms/step - loss: 4443.0034 - val_loss: 4519.1440\n",
      "Epoch 9/25\n",
      "431/431 [==============================] - 4s 9ms/step - loss: 4374.0503 - val_loss: 4507.2100\n",
      "Epoch 10/25\n",
      "431/431 [==============================] - 4s 9ms/step - loss: 4355.9736 - val_loss: 4474.4194\n",
      "Epoch 11/25\n",
      "431/431 [==============================] - 4s 9ms/step - loss: 4321.4243 - val_loss: 4438.9302\n",
      "Epoch 12/25\n",
      "431/431 [==============================] - 4s 9ms/step - loss: 4306.0972 - val_loss: 4448.9248\n",
      "Epoch 13/25\n",
      "431/431 [==============================] - 4s 9ms/step - loss: 4281.4785 - val_loss: 4404.6719\n",
      "Epoch 14/25\n",
      "431/431 [==============================] - 4s 9ms/step - loss: 4253.4019 - val_loss: 4420.3691\n",
      "Epoch 15/25\n",
      "431/431 [==============================] - 4s 9ms/step - loss: 4217.9092 - val_loss: 4463.1699\n",
      "Epoch 16/25\n",
      "431/431 [==============================] - 4s 9ms/step - loss: 4214.9062 - val_loss: 4545.7495\n",
      "Epoch 17/25\n",
      "431/431 [==============================] - 4s 9ms/step - loss: 4169.3174 - val_loss: 4411.5059\n",
      "Epoch 18/25\n",
      "431/431 [==============================] - 4s 9ms/step - loss: 4169.1021 - val_loss: 4389.3804\n",
      "Epoch 19/25\n",
      "431/431 [==============================] - 4s 9ms/step - loss: 4154.8901 - val_loss: 4388.2104\n",
      "Epoch 20/25\n",
      "431/431 [==============================] - 4s 9ms/step - loss: 4122.1152 - val_loss: 4331.6621\n",
      "Epoch 21/25\n",
      "431/431 [==============================] - 4s 9ms/step - loss: 4096.1372 - val_loss: 4413.4678\n",
      "Epoch 22/25\n",
      "431/431 [==============================] - 4s 9ms/step - loss: 4069.0979 - val_loss: 4336.2378\n",
      "Epoch 23/25\n",
      "431/431 [==============================] - 4s 9ms/step - loss: 4062.0376 - val_loss: 4559.9380\n",
      "Epoch 24/25\n",
      "431/431 [==============================] - 4s 9ms/step - loss: 4051.3086 - val_loss: 4669.4180\n",
      "Epoch 25/25\n",
      "431/431 [==============================] - 4s 9ms/step - loss: 4031.7598 - val_loss: 4311.6465\n"
     ]
    },
    {
     "data": {
      "text/plain": [
       "<keras.callbacks.History at 0x206810d8eb0>"
      ]
     },
     "execution_count": 158,
     "metadata": {},
     "output_type": "execute_result"
    }
   ],
   "source": [
    "model.fit(x=X_train,y=y_train.values,\n",
    "          validation_data=(X_test,y_test.values),\n",
    "          batch_size=256,epochs=25)"
   ]
  },
  {
   "cell_type": "code",
   "execution_count": 159,
   "id": "8870e104",
   "metadata": {},
   "outputs": [],
   "source": [
    "#4578.7266\n",
    "#4543.4751\n",
    "#4360.3477\n",
    "#4478.7959\n",
    "#4366.9976\n",
    "#4250.8774\n",
    "#4263.8779\n"
   ]
  },
  {
   "cell_type": "code",
   "execution_count": 160,
   "id": "9730a1dd",
   "metadata": {},
   "outputs": [],
   "source": [
    "losses = pd.DataFrame(model.history.history)"
   ]
  },
  {
   "cell_type": "code",
   "execution_count": 161,
   "id": "b76abfb2",
   "metadata": {
    "scrolled": true
   },
   "outputs": [
    {
     "data": {
      "text/plain": [
       "<AxesSubplot:>"
      ]
     },
     "execution_count": 161,
     "metadata": {},
     "output_type": "execute_result"
    },
    {
     "data": {
      "image/png": "[encoded data removed]",
      "text/plain": [
       "<Figure size 432x288 with 1 Axes>"
      ]
     },
     "metadata": {
      "needs_background": "light"
     },
     "output_type": "display_data"
    }
   ],
   "source": [
    "losses.plot()"
   ]
  },
  {
   "cell_type": "code",
   "execution_count": 162,
   "id": "e9ca5e9f",
   "metadata": {},
   "outputs": [
    {
     "name": "stdout",
     "output_type": "stream",
     "text": [
      "1476/1476 [==============================] - 5s 2ms/step\n"
     ]
    }
   ],
   "source": [
    "preds = model.predict(X_test)"
   ]
  },
  {
   "cell_type": "code",
   "execution_count": 167,
   "id": "ad2521d9",
   "metadata": {
    "scrolled": true
   },
   "outputs": [
    {
     "data": {
      "text/html": [
       "<div>\n",
       "<style scoped>\n",
       "    .dataframe tbody tr th:only-of-type {\n",
       "        vertical-align: middle;\n",
       "    }\n",
       "\n",
       "    .dataframe tbody tr th {\n",
       "        vertical-align: top;\n",
       "    }\n",
       "\n",
       "    .dataframe thead th {\n",
       "        text-align: right;\n",
       "    }\n",
       "</style>\n",
       "<table border=\"1\" class=\"dataframe\">\n",
       "  <thead>\n",
       "    <tr style=\"text-align: right;\">\n",
       "      <th></th>\n",
       "      <th>0</th>\n",
       "    </tr>\n",
       "  </thead>\n",
       "  <tbody>\n",
       "    <tr>\n",
       "      <th>0</th>\n",
       "      <td>7700</td>\n",
       "    </tr>\n",
       "    <tr>\n",
       "      <th>1</th>\n",
       "      <td>15900</td>\n",
       "    </tr>\n",
       "    <tr>\n",
       "      <th>2</th>\n",
       "      <td>22900</td>\n",
       "    </tr>\n",
       "    <tr>\n",
       "      <th>3</th>\n",
       "      <td>23500</td>\n",
       "    </tr>\n",
       "    <tr>\n",
       "      <th>4</th>\n",
       "      <td>74400</td>\n",
       "    </tr>\n",
       "    <tr>\n",
       "      <th>...</th>\n",
       "      <td>...</td>\n",
       "    </tr>\n",
       "    <tr>\n",
       "      <th>47198</th>\n",
       "      <td>50000</td>\n",
       "    </tr>\n",
       "    <tr>\n",
       "      <th>47199</th>\n",
       "      <td>32500</td>\n",
       "    </tr>\n",
       "    <tr>\n",
       "      <th>47200</th>\n",
       "      <td>28900</td>\n",
       "    </tr>\n",
       "    <tr>\n",
       "      <th>47201</th>\n",
       "      <td>10900</td>\n",
       "    </tr>\n",
       "    <tr>\n",
       "      <th>47202</th>\n",
       "      <td>59900</td>\n",
       "    </tr>\n",
       "  </tbody>\n",
       "</table>\n",
       "<p>47203 rows × 1 columns</p>\n",
       "</div>"
      ],
      "text/plain": [
       "           0\n",
       "0       7700\n",
       "1      15900\n",
       "2      22900\n",
       "3      23500\n",
       "4      74400\n",
       "...      ...\n",
       "47198  50000\n",
       "47199  32500\n",
       "47200  28900\n",
       "47201  10900\n",
       "47202  59900\n",
       "\n",
       "[47203 rows x 1 columns]"
      ]
     },
     "execution_count": 167,
     "metadata": {},
     "output_type": "execute_result"
    }
   ],
   "source": [
    "y_df = pd.DataFrame(y_test.values)\n",
    "y_df"
   ]
  },
  {
   "cell_type": "code",
   "execution_count": 173,
   "id": "c0f9a889",
   "metadata": {},
   "outputs": [
    {
     "data": {
      "text/plain": [
       "array([[ 8149.],\n",
       "       [ 9485.],\n",
       "       [23148.],\n",
       "       ...,\n",
       "       [28413.],\n",
       "       [10882.],\n",
       "       [55898.]], dtype=float32)"
      ]
     },
     "execution_count": 173,
     "metadata": {},
     "output_type": "execute_result"
    }
   ],
   "source": [
    "preds.round()"
   ]
  },
  {
   "cell_type": "code",
   "execution_count": 174,
   "id": "26b6074d",
   "metadata": {
    "scrolled": true
   },
   "outputs": [
    {
     "data": {
      "text/html": [
       "<div>\n",
       "<style scoped>\n",
       "    .dataframe tbody tr th:only-of-type {\n",
       "        vertical-align: middle;\n",
       "    }\n",
       "\n",
       "    .dataframe tbody tr th {\n",
       "        vertical-align: top;\n",
       "    }\n",
       "\n",
       "    .dataframe thead th {\n",
       "        text-align: right;\n",
       "    }\n",
       "</style>\n",
       "<table border=\"1\" class=\"dataframe\">\n",
       "  <thead>\n",
       "    <tr style=\"text-align: right;\">\n",
       "      <th></th>\n",
       "      <th>0</th>\n",
       "    </tr>\n",
       "  </thead>\n",
       "  <tbody>\n",
       "    <tr>\n",
       "      <th>0</th>\n",
       "      <td>8149.0</td>\n",
       "    </tr>\n",
       "    <tr>\n",
       "      <th>1</th>\n",
       "      <td>9485.0</td>\n",
       "    </tr>\n",
       "    <tr>\n",
       "      <th>2</th>\n",
       "      <td>23148.0</td>\n",
       "    </tr>\n",
       "    <tr>\n",
       "      <th>3</th>\n",
       "      <td>21524.0</td>\n",
       "    </tr>\n",
       "    <tr>\n",
       "      <th>4</th>\n",
       "      <td>82426.0</td>\n",
       "    </tr>\n",
       "    <tr>\n",
       "      <th>...</th>\n",
       "      <td>...</td>\n",
       "    </tr>\n",
       "    <tr>\n",
       "      <th>47198</th>\n",
       "      <td>56326.0</td>\n",
       "    </tr>\n",
       "    <tr>\n",
       "      <th>47199</th>\n",
       "      <td>28682.0</td>\n",
       "    </tr>\n",
       "    <tr>\n",
       "      <th>47200</th>\n",
       "      <td>28413.0</td>\n",
       "    </tr>\n",
       "    <tr>\n",
       "      <th>47201</th>\n",
       "      <td>10882.0</td>\n",
       "    </tr>\n",
       "    <tr>\n",
       "      <th>47202</th>\n",
       "      <td>55898.0</td>\n",
       "    </tr>\n",
       "  </tbody>\n",
       "</table>\n",
       "<p>47203 rows × 1 columns</p>\n",
       "</div>"
      ],
      "text/plain": [
       "             0\n",
       "0       8149.0\n",
       "1       9485.0\n",
       "2      23148.0\n",
       "3      21524.0\n",
       "4      82426.0\n",
       "...        ...\n",
       "47198  56326.0\n",
       "47199  28682.0\n",
       "47200  28413.0\n",
       "47201  10882.0\n",
       "47202  55898.0\n",
       "\n",
       "[47203 rows x 1 columns]"
      ]
     },
     "execution_count": 174,
     "metadata": {},
     "output_type": "execute_result"
    }
   ],
   "source": [
    "preds_df = pd.DataFrame(preds.round())\n",
    "preds_df"
   ]
  },
  {
   "cell_type": "code",
   "execution_count": 180,
   "id": "72beb6d3",
   "metadata": {
    "scrolled": true
   },
   "outputs": [
    {
     "data": {
      "text/html": [
       "<div>\n",
       "<style scoped>\n",
       "    .dataframe tbody tr th:only-of-type {\n",
       "        vertical-align: middle;\n",
       "    }\n",
       "\n",
       "    .dataframe tbody tr th {\n",
       "        vertical-align: top;\n",
       "    }\n",
       "\n",
       "    .dataframe thead th {\n",
       "        text-align: right;\n",
       "    }\n",
       "</style>\n",
       "<table border=\"1\" class=\"dataframe\">\n",
       "  <thead>\n",
       "    <tr style=\"text-align: right;\">\n",
       "      <th></th>\n",
       "      <th>Condition</th>\n",
       "      <th>Vehicle_brand</th>\n",
       "      <th>Vehicle_model</th>\n",
       "      <th>Production_year</th>\n",
       "      <th>Mileage_km</th>\n",
       "      <th>Power_HP</th>\n",
       "      <th>Displacement_cm3</th>\n",
       "      <th>Fuel_type</th>\n",
       "      <th>Drive</th>\n",
       "      <th>Transmission</th>\n",
       "      <th>Doors_number</th>\n",
       "      <th>Colour</th>\n",
       "      <th>Features</th>\n",
       "    </tr>\n",
       "    <tr>\n",
       "      <th>Index</th>\n",
       "      <th></th>\n",
       "      <th></th>\n",
       "      <th></th>\n",
       "      <th></th>\n",
       "      <th></th>\n",
       "      <th></th>\n",
       "      <th></th>\n",
       "      <th></th>\n",
       "      <th></th>\n",
       "      <th></th>\n",
       "      <th></th>\n",
       "      <th></th>\n",
       "      <th></th>\n",
       "    </tr>\n",
       "  </thead>\n",
       "  <tbody>\n",
       "    <tr>\n",
       "      <th>116465</th>\n",
       "      <td>Used</td>\n",
       "      <td>Opel</td>\n",
       "      <td>Astra</td>\n",
       "      <td>2015</td>\n",
       "      <td>125000.0</td>\n",
       "      <td>136.0</td>\n",
       "      <td>1598.0</td>\n",
       "      <td>Diesel</td>\n",
       "      <td>Front wheels</td>\n",
       "      <td>Manual</td>\n",
       "      <td>5.0</td>\n",
       "      <td>red</td>\n",
       "      <td>48.0</td>\n",
       "    </tr>\n",
       "    <tr>\n",
       "      <th>116466</th>\n",
       "      <td>Used</td>\n",
       "      <td>Opel</td>\n",
       "      <td>Astra</td>\n",
       "      <td>2006</td>\n",
       "      <td>192547.0</td>\n",
       "      <td>140.0</td>\n",
       "      <td>1796.0</td>\n",
       "      <td>Gasoline</td>\n",
       "      <td>Front wheels</td>\n",
       "      <td>Manual</td>\n",
       "      <td>5.0</td>\n",
       "      <td>green</td>\n",
       "      <td>35.0</td>\n",
       "    </tr>\n",
       "    <tr>\n",
       "      <th>116467</th>\n",
       "      <td>Used</td>\n",
       "      <td>Opel</td>\n",
       "      <td>Astra</td>\n",
       "      <td>2010</td>\n",
       "      <td>119000.0</td>\n",
       "      <td>115.0</td>\n",
       "      <td>1598.0</td>\n",
       "      <td>Gasoline</td>\n",
       "      <td>Front wheels</td>\n",
       "      <td>Manual</td>\n",
       "      <td>5.0</td>\n",
       "      <td>black</td>\n",
       "      <td>32.0</td>\n",
       "    </tr>\n",
       "    <tr>\n",
       "      <th>116468</th>\n",
       "      <td>Used</td>\n",
       "      <td>Opel</td>\n",
       "      <td>Astra</td>\n",
       "      <td>2007</td>\n",
       "      <td>290000.0</td>\n",
       "      <td>100.0</td>\n",
       "      <td>1910.0</td>\n",
       "      <td>Diesel</td>\n",
       "      <td>Front wheels</td>\n",
       "      <td>Manual</td>\n",
       "      <td>5.0</td>\n",
       "      <td>silver</td>\n",
       "      <td>25.0</td>\n",
       "    </tr>\n",
       "    <tr>\n",
       "      <th>116469</th>\n",
       "      <td>Used</td>\n",
       "      <td>Opel</td>\n",
       "      <td>Astra</td>\n",
       "      <td>2008</td>\n",
       "      <td>168779.0</td>\n",
       "      <td>115.0</td>\n",
       "      <td>1598.0</td>\n",
       "      <td>Gasoline</td>\n",
       "      <td>Front wheels</td>\n",
       "      <td>Manual</td>\n",
       "      <td>5.0</td>\n",
       "      <td>silver</td>\n",
       "      <td>24.0</td>\n",
       "    </tr>\n",
       "    <tr>\n",
       "      <th>...</th>\n",
       "      <td>...</td>\n",
       "      <td>...</td>\n",
       "      <td>...</td>\n",
       "      <td>...</td>\n",
       "      <td>...</td>\n",
       "      <td>...</td>\n",
       "      <td>...</td>\n",
       "      <td>...</td>\n",
       "      <td>...</td>\n",
       "      <td>...</td>\n",
       "      <td>...</td>\n",
       "      <td>...</td>\n",
       "      <td>...</td>\n",
       "    </tr>\n",
       "    <tr>\n",
       "      <th>36977</th>\n",
       "      <td>Used</td>\n",
       "      <td>Chevrolet</td>\n",
       "      <td>Spark</td>\n",
       "      <td>2010</td>\n",
       "      <td>200000.0</td>\n",
       "      <td>68.0</td>\n",
       "      <td>995.0</td>\n",
       "      <td>Gasoline</td>\n",
       "      <td>Front wheels</td>\n",
       "      <td>Manual</td>\n",
       "      <td>5.0</td>\n",
       "      <td>silver</td>\n",
       "      <td>21.0</td>\n",
       "    </tr>\n",
       "    <tr>\n",
       "      <th>36981</th>\n",
       "      <td>Used</td>\n",
       "      <td>Chevrolet</td>\n",
       "      <td>Spark</td>\n",
       "      <td>2012</td>\n",
       "      <td>112644.0</td>\n",
       "      <td>68.0</td>\n",
       "      <td>1000.0</td>\n",
       "      <td>Gasoline</td>\n",
       "      <td>Front wheels</td>\n",
       "      <td>Manual</td>\n",
       "      <td>5.0</td>\n",
       "      <td>black</td>\n",
       "      <td>19.0</td>\n",
       "    </tr>\n",
       "    <tr>\n",
       "      <th>36984</th>\n",
       "      <td>Used</td>\n",
       "      <td>Chevrolet</td>\n",
       "      <td>Spark</td>\n",
       "      <td>2011</td>\n",
       "      <td>126000.0</td>\n",
       "      <td>68.0</td>\n",
       "      <td>995.0</td>\n",
       "      <td>Gasoline</td>\n",
       "      <td>Front wheels</td>\n",
       "      <td>Manual</td>\n",
       "      <td>5.0</td>\n",
       "      <td>black</td>\n",
       "      <td>7.0</td>\n",
       "    </tr>\n",
       "    <tr>\n",
       "      <th>36986</th>\n",
       "      <td>Used</td>\n",
       "      <td>Chevrolet</td>\n",
       "      <td>Spark</td>\n",
       "      <td>2012</td>\n",
       "      <td>160000.0</td>\n",
       "      <td>75.0</td>\n",
       "      <td>995.0</td>\n",
       "      <td>Gasoline + LPG</td>\n",
       "      <td>Front wheels</td>\n",
       "      <td>Manual</td>\n",
       "      <td>5.0</td>\n",
       "      <td>other</td>\n",
       "      <td>16.0</td>\n",
       "    </tr>\n",
       "    <tr>\n",
       "      <th>37010</th>\n",
       "      <td>Used</td>\n",
       "      <td>Chevrolet</td>\n",
       "      <td>Spark</td>\n",
       "      <td>2013</td>\n",
       "      <td>70000.0</td>\n",
       "      <td>68.0</td>\n",
       "      <td>995.0</td>\n",
       "      <td>Gasoline</td>\n",
       "      <td>Front wheels</td>\n",
       "      <td>Manual</td>\n",
       "      <td>5.0</td>\n",
       "      <td>yellow</td>\n",
       "      <td>15.0</td>\n",
       "    </tr>\n",
       "  </tbody>\n",
       "</table>\n",
       "<p>157342 rows × 13 columns</p>\n",
       "</div>"
      ],
      "text/plain": [
       "       Condition Vehicle_brand Vehicle_model  Production_year  Mileage_km  \\\n",
       "Index                                                                       \n",
       "116465      Used          Opel         Astra             2015    125000.0   \n",
       "116466      Used          Opel         Astra             2006    192547.0   \n",
       "116467      Used          Opel         Astra             2010    119000.0   \n",
       "116468      Used          Opel         Astra             2007    290000.0   \n",
       "116469      Used          Opel         Astra             2008    168779.0   \n",
       "...          ...           ...           ...              ...         ...   \n",
       "36977       Used     Chevrolet         Spark             2010    200000.0   \n",
       "36981       Used     Chevrolet         Spark             2012    112644.0   \n",
       "36984       Used     Chevrolet         Spark             2011    126000.0   \n",
       "36986       Used     Chevrolet         Spark             2012    160000.0   \n",
       "37010       Used     Chevrolet         Spark             2013     70000.0   \n",
       "\n",
       "        Power_HP  Displacement_cm3       Fuel_type         Drive Transmission  \\\n",
       "Index                                                                           \n",
       "116465     136.0            1598.0          Diesel  Front wheels       Manual   \n",
       "116466     140.0            1796.0        Gasoline  Front wheels       Manual   \n",
       "116467     115.0            1598.0        Gasoline  Front wheels       Manual   \n",
       "116468     100.0            1910.0          Diesel  Front wheels       Manual   \n",
       "116469     115.0            1598.0        Gasoline  Front wheels       Manual   \n",
       "...          ...               ...             ...           ...          ...   \n",
       "36977       68.0             995.0        Gasoline  Front wheels       Manual   \n",
       "36981       68.0            1000.0        Gasoline  Front wheels       Manual   \n",
       "36984       68.0             995.0        Gasoline  Front wheels       Manual   \n",
       "36986       75.0             995.0  Gasoline + LPG  Front wheels       Manual   \n",
       "37010       68.0             995.0        Gasoline  Front wheels       Manual   \n",
       "\n",
       "        Doors_number  Colour  Features  \n",
       "Index                                   \n",
       "116465           5.0     red      48.0  \n",
       "116466           5.0   green      35.0  \n",
       "116467           5.0   black      32.0  \n",
       "116468           5.0  silver      25.0  \n",
       "116469           5.0  silver      24.0  \n",
       "...              ...     ...       ...  \n",
       "36977            5.0  silver      21.0  \n",
       "36981            5.0   black      19.0  \n",
       "36984            5.0   black       7.0  \n",
       "36986            5.0   other      16.0  \n",
       "37010            5.0  yellow      15.0  \n",
       "\n",
       "[157342 rows x 13 columns]"
      ]
     },
     "execution_count": 180,
     "metadata": {},
     "output_type": "execute_result"
    }
   ],
   "source": [
    "df.drop(\"Price\",axis = 1)"
   ]
  },
  {
   "cell_type": "code",
   "execution_count": 181,
   "id": "9eed7a90",
   "metadata": {
    "scrolled": true
   },
   "outputs": [
    {
     "data": {
      "text/html": [
       "<div>\n",
       "<style scoped>\n",
       "    .dataframe tbody tr th:only-of-type {\n",
       "        vertical-align: middle;\n",
       "    }\n",
       "\n",
       "    .dataframe tbody tr th {\n",
       "        vertical-align: top;\n",
       "    }\n",
       "\n",
       "    .dataframe thead th {\n",
       "        text-align: right;\n",
       "    }\n",
       "</style>\n",
       "<table border=\"1\" class=\"dataframe\">\n",
       "  <thead>\n",
       "    <tr style=\"text-align: right;\">\n",
       "      <th></th>\n",
       "      <th>Price</th>\n",
       "      <th>Condition</th>\n",
       "      <th>Vehicle_brand</th>\n",
       "      <th>Vehicle_model</th>\n",
       "      <th>Production_year</th>\n",
       "      <th>Mileage_km</th>\n",
       "      <th>Power_HP</th>\n",
       "      <th>Displacement_cm3</th>\n",
       "      <th>Fuel_type</th>\n",
       "      <th>Drive</th>\n",
       "      <th>Transmission</th>\n",
       "      <th>Doors_number</th>\n",
       "      <th>Colour</th>\n",
       "      <th>Features</th>\n",
       "    </tr>\n",
       "    <tr>\n",
       "      <th>Index</th>\n",
       "      <th></th>\n",
       "      <th></th>\n",
       "      <th></th>\n",
       "      <th></th>\n",
       "      <th></th>\n",
       "      <th></th>\n",
       "      <th></th>\n",
       "      <th></th>\n",
       "      <th></th>\n",
       "      <th></th>\n",
       "      <th></th>\n",
       "      <th></th>\n",
       "      <th></th>\n",
       "      <th></th>\n",
       "    </tr>\n",
       "  </thead>\n",
       "  <tbody>\n",
       "    <tr>\n",
       "      <th>116465</th>\n",
       "      <td>42900</td>\n",
       "      <td>Used</td>\n",
       "      <td>Opel</td>\n",
       "      <td>Astra</td>\n",
       "      <td>2015</td>\n",
       "      <td>125000.0</td>\n",
       "      <td>136.0</td>\n",
       "      <td>1598.0</td>\n",
       "      <td>Diesel</td>\n",
       "      <td>Front wheels</td>\n",
       "      <td>Manual</td>\n",
       "      <td>5.0</td>\n",
       "      <td>red</td>\n",
       "      <td>48.0</td>\n",
       "    </tr>\n",
       "    <tr>\n",
       "      <th>116466</th>\n",
       "      <td>11900</td>\n",
       "      <td>Used</td>\n",
       "      <td>Opel</td>\n",
       "      <td>Astra</td>\n",
       "      <td>2006</td>\n",
       "      <td>192547.0</td>\n",
       "      <td>140.0</td>\n",
       "      <td>1796.0</td>\n",
       "      <td>Gasoline</td>\n",
       "      <td>Front wheels</td>\n",
       "      <td>Manual</td>\n",
       "      <td>5.0</td>\n",
       "      <td>green</td>\n",
       "      <td>35.0</td>\n",
       "    </tr>\n",
       "    <tr>\n",
       "      <th>116467</th>\n",
       "      <td>25900</td>\n",
       "      <td>Used</td>\n",
       "      <td>Opel</td>\n",
       "      <td>Astra</td>\n",
       "      <td>2010</td>\n",
       "      <td>119000.0</td>\n",
       "      <td>115.0</td>\n",
       "      <td>1598.0</td>\n",
       "      <td>Gasoline</td>\n",
       "      <td>Front wheels</td>\n",
       "      <td>Manual</td>\n",
       "      <td>5.0</td>\n",
       "      <td>black</td>\n",
       "      <td>32.0</td>\n",
       "    </tr>\n",
       "    <tr>\n",
       "      <th>116468</th>\n",
       "      <td>8400</td>\n",
       "      <td>Used</td>\n",
       "      <td>Opel</td>\n",
       "      <td>Astra</td>\n",
       "      <td>2007</td>\n",
       "      <td>290000.0</td>\n",
       "      <td>100.0</td>\n",
       "      <td>1910.0</td>\n",
       "      <td>Diesel</td>\n",
       "      <td>Front wheels</td>\n",
       "      <td>Manual</td>\n",
       "      <td>5.0</td>\n",
       "      <td>silver</td>\n",
       "      <td>25.0</td>\n",
       "    </tr>\n",
       "    <tr>\n",
       "      <th>116469</th>\n",
       "      <td>15999</td>\n",
       "      <td>Used</td>\n",
       "      <td>Opel</td>\n",
       "      <td>Astra</td>\n",
       "      <td>2008</td>\n",
       "      <td>168779.0</td>\n",
       "      <td>115.0</td>\n",
       "      <td>1598.0</td>\n",
       "      <td>Gasoline</td>\n",
       "      <td>Front wheels</td>\n",
       "      <td>Manual</td>\n",
       "      <td>5.0</td>\n",
       "      <td>silver</td>\n",
       "      <td>24.0</td>\n",
       "    </tr>\n",
       "    <tr>\n",
       "      <th>...</th>\n",
       "      <td>...</td>\n",
       "      <td>...</td>\n",
       "      <td>...</td>\n",
       "      <td>...</td>\n",
       "      <td>...</td>\n",
       "      <td>...</td>\n",
       "      <td>...</td>\n",
       "      <td>...</td>\n",
       "      <td>...</td>\n",
       "      <td>...</td>\n",
       "      <td>...</td>\n",
       "      <td>...</td>\n",
       "      <td>...</td>\n",
       "      <td>...</td>\n",
       "    </tr>\n",
       "    <tr>\n",
       "      <th>36977</th>\n",
       "      <td>9800</td>\n",
       "      <td>Used</td>\n",
       "      <td>Chevrolet</td>\n",
       "      <td>Spark</td>\n",
       "      <td>2010</td>\n",
       "      <td>200000.0</td>\n",
       "      <td>68.0</td>\n",
       "      <td>995.0</td>\n",
       "      <td>Gasoline</td>\n",
       "      <td>Front wheels</td>\n",
       "      <td>Manual</td>\n",
       "      <td>5.0</td>\n",
       "      <td>silver</td>\n",
       "      <td>21.0</td>\n",
       "    </tr>\n",
       "    <tr>\n",
       "      <th>36981</th>\n",
       "      <td>13800</td>\n",
       "      <td>Used</td>\n",
       "      <td>Chevrolet</td>\n",
       "      <td>Spark</td>\n",
       "      <td>2012</td>\n",
       "      <td>112644.0</td>\n",
       "      <td>68.0</td>\n",
       "      <td>1000.0</td>\n",
       "      <td>Gasoline</td>\n",
       "      <td>Front wheels</td>\n",
       "      <td>Manual</td>\n",
       "      <td>5.0</td>\n",
       "      <td>black</td>\n",
       "      <td>19.0</td>\n",
       "    </tr>\n",
       "    <tr>\n",
       "      <th>36984</th>\n",
       "      <td>11500</td>\n",
       "      <td>Used</td>\n",
       "      <td>Chevrolet</td>\n",
       "      <td>Spark</td>\n",
       "      <td>2011</td>\n",
       "      <td>126000.0</td>\n",
       "      <td>68.0</td>\n",
       "      <td>995.0</td>\n",
       "      <td>Gasoline</td>\n",
       "      <td>Front wheels</td>\n",
       "      <td>Manual</td>\n",
       "      <td>5.0</td>\n",
       "      <td>black</td>\n",
       "      <td>7.0</td>\n",
       "    </tr>\n",
       "    <tr>\n",
       "      <th>36986</th>\n",
       "      <td>9300</td>\n",
       "      <td>Used</td>\n",
       "      <td>Chevrolet</td>\n",
       "      <td>Spark</td>\n",
       "      <td>2012</td>\n",
       "      <td>160000.0</td>\n",
       "      <td>75.0</td>\n",
       "      <td>995.0</td>\n",
       "      <td>Gasoline + LPG</td>\n",
       "      <td>Front wheels</td>\n",
       "      <td>Manual</td>\n",
       "      <td>5.0</td>\n",
       "      <td>other</td>\n",
       "      <td>16.0</td>\n",
       "    </tr>\n",
       "    <tr>\n",
       "      <th>37010</th>\n",
       "      <td>14980</td>\n",
       "      <td>Used</td>\n",
       "      <td>Chevrolet</td>\n",
       "      <td>Spark</td>\n",
       "      <td>2013</td>\n",
       "      <td>70000.0</td>\n",
       "      <td>68.0</td>\n",
       "      <td>995.0</td>\n",
       "      <td>Gasoline</td>\n",
       "      <td>Front wheels</td>\n",
       "      <td>Manual</td>\n",
       "      <td>5.0</td>\n",
       "      <td>yellow</td>\n",
       "      <td>15.0</td>\n",
       "    </tr>\n",
       "  </tbody>\n",
       "</table>\n",
       "<p>157342 rows × 14 columns</p>\n",
       "</div>"
      ],
      "text/plain": [
       "        Price Condition Vehicle_brand Vehicle_model  Production_year  \\\n",
       "Index                                                                  \n",
       "116465  42900      Used          Opel         Astra             2015   \n",
       "116466  11900      Used          Opel         Astra             2006   \n",
       "116467  25900      Used          Opel         Astra             2010   \n",
       "116468   8400      Used          Opel         Astra             2007   \n",
       "116469  15999      Used          Opel         Astra             2008   \n",
       "...       ...       ...           ...           ...              ...   \n",
       "36977    9800      Used     Chevrolet         Spark             2010   \n",
       "36981   13800      Used     Chevrolet         Spark             2012   \n",
       "36984   11500      Used     Chevrolet         Spark             2011   \n",
       "36986    9300      Used     Chevrolet         Spark             2012   \n",
       "37010   14980      Used     Chevrolet         Spark             2013   \n",
       "\n",
       "        Mileage_km  Power_HP  Displacement_cm3       Fuel_type         Drive  \\\n",
       "Index                                                                          \n",
       "116465    125000.0     136.0            1598.0          Diesel  Front wheels   \n",
       "116466    192547.0     140.0            1796.0        Gasoline  Front wheels   \n",
       "116467    119000.0     115.0            1598.0        Gasoline  Front wheels   \n",
       "116468    290000.0     100.0            1910.0          Diesel  Front wheels   \n",
       "116469    168779.0     115.0            1598.0        Gasoline  Front wheels   \n",
       "...            ...       ...               ...             ...           ...   \n",
       "36977     200000.0      68.0             995.0        Gasoline  Front wheels   \n",
       "36981     112644.0      68.0            1000.0        Gasoline  Front wheels   \n",
       "36984     126000.0      68.0             995.0        Gasoline  Front wheels   \n",
       "36986     160000.0      75.0             995.0  Gasoline + LPG  Front wheels   \n",
       "37010      70000.0      68.0             995.0        Gasoline  Front wheels   \n",
       "\n",
       "       Transmission  Doors_number  Colour  Features  \n",
       "Index                                                \n",
       "116465       Manual           5.0     red      48.0  \n",
       "116466       Manual           5.0   green      35.0  \n",
       "116467       Manual           5.0   black      32.0  \n",
       "116468       Manual           5.0  silver      25.0  \n",
       "116469       Manual           5.0  silver      24.0  \n",
       "...             ...           ...     ...       ...  \n",
       "36977        Manual           5.0  silver      21.0  \n",
       "36981        Manual           5.0   black      19.0  \n",
       "36984        Manual           5.0   black       7.0  \n",
       "36986        Manual           5.0   other      16.0  \n",
       "37010        Manual           5.0  yellow      15.0  \n",
       "\n",
       "[157342 rows x 14 columns]"
      ]
     },
     "execution_count": 181,
     "metadata": {},
     "output_type": "execute_result"
    }
   ],
   "source": [
    "df"
   ]
  },
  {
   "cell_type": "code",
   "execution_count": 182,
   "id": "f066296d",
   "metadata": {},
   "outputs": [],
   "source": [
    "result_df = pd.concat([y_df,preds_df],axis = 1)"
   ]
  },
  {
   "cell_type": "code",
   "execution_count": 184,
   "id": "6fc10ca4",
   "metadata": {},
   "outputs": [],
   "source": [
    "result_df.columns = [\"Real Price\", \"Predicted Price\"]"
   ]
  },
  {
   "cell_type": "code",
   "execution_count": 186,
   "id": "65008676",
   "metadata": {},
   "outputs": [],
   "source": [
    "result_df[\"Difference\"] = result_df[\"Real Price\"] - result_df[\"Predicted Price\"]"
   ]
  },
  {
   "cell_type": "code",
   "execution_count": 204,
   "id": "16633c94",
   "metadata": {},
   "outputs": [],
   "source": [
    "result_df[\"% of error\"] = abs((result_df[\"Difference\"]/result_df[\"Real Price\"]) * 100).round(2)"
   ]
  },
  {
   "cell_type": "code",
   "execution_count": 205,
   "id": "8970cf6e",
   "metadata": {
    "scrolled": true
   },
   "outputs": [
    {
     "data": {
      "text/html": [
       "<div>\n",
       "<style scoped>\n",
       "    .dataframe tbody tr th:only-of-type {\n",
       "        vertical-align: middle;\n",
       "    }\n",
       "\n",
       "    .dataframe tbody tr th {\n",
       "        vertical-align: top;\n",
       "    }\n",
       "\n",
       "    .dataframe thead th {\n",
       "        text-align: right;\n",
       "    }\n",
       "</style>\n",
       "<table border=\"1\" class=\"dataframe\">\n",
       "  <thead>\n",
       "    <tr style=\"text-align: right;\">\n",
       "      <th></th>\n",
       "      <th>Real Price</th>\n",
       "      <th>Predicted Price</th>\n",
       "      <th>Difference</th>\n",
       "      <th>% of error</th>\n",
       "    </tr>\n",
       "  </thead>\n",
       "  <tbody>\n",
       "    <tr>\n",
       "      <th>0</th>\n",
       "      <td>7700</td>\n",
       "      <td>8149.0</td>\n",
       "      <td>-449.0</td>\n",
       "      <td>5.83</td>\n",
       "    </tr>\n",
       "    <tr>\n",
       "      <th>1</th>\n",
       "      <td>15900</td>\n",
       "      <td>9485.0</td>\n",
       "      <td>6415.0</td>\n",
       "      <td>40.35</td>\n",
       "    </tr>\n",
       "    <tr>\n",
       "      <th>2</th>\n",
       "      <td>22900</td>\n",
       "      <td>23148.0</td>\n",
       "      <td>-248.0</td>\n",
       "      <td>1.08</td>\n",
       "    </tr>\n",
       "    <tr>\n",
       "      <th>3</th>\n",
       "      <td>23500</td>\n",
       "      <td>21524.0</td>\n",
       "      <td>1976.0</td>\n",
       "      <td>8.41</td>\n",
       "    </tr>\n",
       "    <tr>\n",
       "      <th>4</th>\n",
       "      <td>74400</td>\n",
       "      <td>82426.0</td>\n",
       "      <td>-8026.0</td>\n",
       "      <td>10.79</td>\n",
       "    </tr>\n",
       "    <tr>\n",
       "      <th>5</th>\n",
       "      <td>33000</td>\n",
       "      <td>27576.0</td>\n",
       "      <td>5424.0</td>\n",
       "      <td>16.44</td>\n",
       "    </tr>\n",
       "    <tr>\n",
       "      <th>6</th>\n",
       "      <td>24900</td>\n",
       "      <td>28789.0</td>\n",
       "      <td>-3889.0</td>\n",
       "      <td>15.62</td>\n",
       "    </tr>\n",
       "    <tr>\n",
       "      <th>7</th>\n",
       "      <td>6900</td>\n",
       "      <td>7773.0</td>\n",
       "      <td>-873.0</td>\n",
       "      <td>12.65</td>\n",
       "    </tr>\n",
       "    <tr>\n",
       "      <th>8</th>\n",
       "      <td>17200</td>\n",
       "      <td>24171.0</td>\n",
       "      <td>-6971.0</td>\n",
       "      <td>40.53</td>\n",
       "    </tr>\n",
       "    <tr>\n",
       "      <th>9</th>\n",
       "      <td>7900</td>\n",
       "      <td>8648.0</td>\n",
       "      <td>-748.0</td>\n",
       "      <td>9.47</td>\n",
       "    </tr>\n",
       "  </tbody>\n",
       "</table>\n",
       "</div>"
      ],
      "text/plain": [
       "   Real Price  Predicted Price  Difference  % of error\n",
       "0        7700           8149.0      -449.0        5.83\n",
       "1       15900           9485.0      6415.0       40.35\n",
       "2       22900          23148.0      -248.0        1.08\n",
       "3       23500          21524.0      1976.0        8.41\n",
       "4       74400          82426.0     -8026.0       10.79\n",
       "5       33000          27576.0      5424.0       16.44\n",
       "6       24900          28789.0     -3889.0       15.62\n",
       "7        6900           7773.0      -873.0       12.65\n",
       "8       17200          24171.0     -6971.0       40.53\n",
       "9        7900           8648.0      -748.0        9.47"
      ]
     },
     "execution_count": 205,
     "metadata": {},
     "output_type": "execute_result"
    }
   ],
   "source": [
    "result_df.head(10)"
   ]
  },
  {
   "cell_type": "code",
   "execution_count": 212,
   "id": "9ddbda8e",
   "metadata": {},
   "outputs": [
    {
     "data": {
      "text/html": [
       "<div>\n",
       "<style scoped>\n",
       "    .dataframe tbody tr th:only-of-type {\n",
       "        vertical-align: middle;\n",
       "    }\n",
       "\n",
       "    .dataframe tbody tr th {\n",
       "        vertical-align: top;\n",
       "    }\n",
       "\n",
       "    .dataframe thead th {\n",
       "        text-align: right;\n",
       "    }\n",
       "</style>\n",
       "<table border=\"1\" class=\"dataframe\">\n",
       "  <thead>\n",
       "    <tr style=\"text-align: right;\">\n",
       "      <th></th>\n",
       "      <th>Real Price</th>\n",
       "      <th>Predicted Price</th>\n",
       "      <th>Difference</th>\n",
       "      <th>% of error</th>\n",
       "    </tr>\n",
       "  </thead>\n",
       "  <tbody>\n",
       "    <tr>\n",
       "      <th>1</th>\n",
       "      <td>15900</td>\n",
       "      <td>9485.0</td>\n",
       "      <td>6415.0</td>\n",
       "      <td>40.35</td>\n",
       "    </tr>\n",
       "    <tr>\n",
       "      <th>8</th>\n",
       "      <td>17200</td>\n",
       "      <td>24171.0</td>\n",
       "      <td>-6971.0</td>\n",
       "      <td>40.53</td>\n",
       "    </tr>\n",
       "    <tr>\n",
       "      <th>11</th>\n",
       "      <td>13700</td>\n",
       "      <td>20017.0</td>\n",
       "      <td>-6317.0</td>\n",
       "      <td>46.11</td>\n",
       "    </tr>\n",
       "    <tr>\n",
       "      <th>26</th>\n",
       "      <td>29900</td>\n",
       "      <td>85593.0</td>\n",
       "      <td>-55693.0</td>\n",
       "      <td>186.26</td>\n",
       "    </tr>\n",
       "    <tr>\n",
       "      <th>53</th>\n",
       "      <td>26900</td>\n",
       "      <td>63181.0</td>\n",
       "      <td>-36281.0</td>\n",
       "      <td>134.87</td>\n",
       "    </tr>\n",
       "    <tr>\n",
       "      <th>...</th>\n",
       "      <td>...</td>\n",
       "      <td>...</td>\n",
       "      <td>...</td>\n",
       "      <td>...</td>\n",
       "    </tr>\n",
       "    <tr>\n",
       "      <th>47157</th>\n",
       "      <td>54900</td>\n",
       "      <td>86109.0</td>\n",
       "      <td>-31209.0</td>\n",
       "      <td>56.85</td>\n",
       "    </tr>\n",
       "    <tr>\n",
       "      <th>47164</th>\n",
       "      <td>18500</td>\n",
       "      <td>31171.0</td>\n",
       "      <td>-12671.0</td>\n",
       "      <td>68.49</td>\n",
       "    </tr>\n",
       "    <tr>\n",
       "      <th>47181</th>\n",
       "      <td>10000</td>\n",
       "      <td>15992.0</td>\n",
       "      <td>-5992.0</td>\n",
       "      <td>59.92</td>\n",
       "    </tr>\n",
       "    <tr>\n",
       "      <th>47191</th>\n",
       "      <td>32000</td>\n",
       "      <td>46819.0</td>\n",
       "      <td>-14819.0</td>\n",
       "      <td>46.31</td>\n",
       "    </tr>\n",
       "    <tr>\n",
       "      <th>47194</th>\n",
       "      <td>29200</td>\n",
       "      <td>42345.0</td>\n",
       "      <td>-13145.0</td>\n",
       "      <td>45.02</td>\n",
       "    </tr>\n",
       "  </tbody>\n",
       "</table>\n",
       "<p>3432 rows × 4 columns</p>\n",
       "</div>"
      ],
      "text/plain": [
       "       Real Price  Predicted Price  Difference  % of error\n",
       "1           15900           9485.0      6415.0       40.35\n",
       "8           17200          24171.0     -6971.0       40.53\n",
       "11          13700          20017.0     -6317.0       46.11\n",
       "26          29900          85593.0    -55693.0      186.26\n",
       "53          26900          63181.0    -36281.0      134.87\n",
       "...           ...              ...         ...         ...\n",
       "47157       54900          86109.0    -31209.0       56.85\n",
       "47164       18500          31171.0    -12671.0       68.49\n",
       "47181       10000          15992.0     -5992.0       59.92\n",
       "47191       32000          46819.0    -14819.0       46.31\n",
       "47194       29200          42345.0    -13145.0       45.02\n",
       "\n",
       "[3432 rows x 4 columns]"
      ]
     },
     "execution_count": 212,
     "metadata": {},
     "output_type": "execute_result"
    }
   ],
   "source": [
    "result_df[result_df[\"% of error\"] > 40]"
   ]
  },
  {
   "cell_type": "code",
   "execution_count": 206,
   "id": "8003a1e3",
   "metadata": {},
   "outputs": [
    {
     "data": {
      "text/plain": [
       "[<matplotlib.lines.Line2D at 0x20683cf5130>]"
      ]
     },
     "execution_count": 206,
     "metadata": {},
     "output_type": "execute_result"
    },
    {
     "data": {
      "image/png": "[encoded data removed]",
      "text/plain": [
       "<Figure size 432x288 with 1 Axes>"
      ]
     },
     "metadata": {
      "needs_background": "light"
     },
     "output_type": "display_data"
    }
   ],
   "source": [
    "plt.scatter(y_test,preds)\n",
    "\n",
    "# Real Value\n",
    "plt.plot(y_test,y_test,'r')"
   ]
  },
  {
   "cell_type": "code",
   "execution_count": 208,
   "id": "67d0261f",
   "metadata": {},
   "outputs": [],
   "source": [
    "from sklearn.metrics import r2_score"
   ]
  },
  {
   "cell_type": "code",
   "execution_count": 209,
   "id": "1b12bbdf",
   "metadata": {
    "scrolled": true
   },
   "outputs": [
    {
     "data": {
      "text/plain": [
       "0.9164349810245234"
      ]
     },
     "execution_count": 209,
     "metadata": {},
     "output_type": "execute_result"
    }
   ],
   "source": [
    "r2_score(y_test,preds)"
   ]
  },
  {
   "cell_type": "code",
   "execution_count": 219,
   "id": "fa6fd542",
   "metadata": {
    "scrolled": false
   },
   "outputs": [
    {
     "data": {
      "text/plain": [
       "array([11900, 'Used', 'Opel', 'Astra', 2006, 192547.0, 140.0, 1796.0,\n",
       "       'Gasoline', 'Front wheels', 'Manual', 5.0, 'green', 35.0],\n",
       "      dtype=object)"
      ]
     },
     "execution_count": 219,
     "metadata": {},
     "output_type": "execute_result"
    }
   ],
   "source": [
    "df.iloc[1].values"
   ]
  },
  {
   "cell_type": "code",
   "execution_count": 469,
   "id": "76b8c080",
   "metadata": {
    "scrolled": true
   },
   "outputs": [
    {
     "data": {
      "text/plain": [
       "Index(['Price', 'Condition', 'Vehicle_brand', 'Vehicle_model',\n",
       "       'Production_year', 'Mileage_km', 'Power_HP', 'Displacement_cm3',\n",
       "       'Fuel_type', 'Drive', 'Transmission', 'Doors_number', 'Colour',\n",
       "       'Features'],\n",
       "      dtype='object')"
      ]
     },
     "execution_count": 469,
     "metadata": {},
     "output_type": "execute_result"
    }
   ],
   "source": [
    "df.columns"
   ]
  },
  {
   "cell_type": "code",
   "execution_count": 470,
   "id": "1ab7627c",
   "metadata": {},
   "outputs": [
    {
     "data": {
      "text/plain": [
       "array([6900, 'Used', 'Opel', 'Astra', 2006, 214652.0, 105.0, 1598.0,\n",
       "       'Gasoline', 'Front wheels', 'Manual', 5.0, 'black', 13.0],\n",
       "      dtype=object)"
      ]
     },
     "execution_count": 470,
     "metadata": {},
     "output_type": "execute_result"
    }
   ],
   "source": [
    "df.iloc[200].values"
   ]
  },
  {
   "cell_type": "code",
   "execution_count": 495,
   "id": "eec9a2ef",
   "metadata": {},
   "outputs": [],
   "source": [
    "car1 = [[11900,'Used', 'Opel', 'Astra', 2010, 214652.0, 105.0, 1598.0,'Gasoline', 'Front wheels', 'Manual', 5.0, 'black', 13.0],\n",
    "       [ 0,'x', 'x', 'x', 1, 1, 1, 1.0,'x', 'x', 'x', 1.0, 'green', 1.0]]"
   ]
  },
  {
   "cell_type": "code",
   "execution_count": 496,
   "id": "a34c3c25",
   "metadata": {},
   "outputs": [],
   "source": [
    "car1_df = pd.DataFrame(car1)"
   ]
  },
  {
   "cell_type": "code",
   "execution_count": 497,
   "id": "de38d6a0",
   "metadata": {
    "scrolled": true
   },
   "outputs": [
    {
     "data": {
      "text/html": [
       "<div>\n",
       "<style scoped>\n",
       "    .dataframe tbody tr th:only-of-type {\n",
       "        vertical-align: middle;\n",
       "    }\n",
       "\n",
       "    .dataframe tbody tr th {\n",
       "        vertical-align: top;\n",
       "    }\n",
       "\n",
       "    .dataframe thead th {\n",
       "        text-align: right;\n",
       "    }\n",
       "</style>\n",
       "<table border=\"1\" class=\"dataframe\">\n",
       "  <thead>\n",
       "    <tr style=\"text-align: right;\">\n",
       "      <th></th>\n",
       "      <th>0</th>\n",
       "      <th>1</th>\n",
       "      <th>2</th>\n",
       "      <th>3</th>\n",
       "      <th>4</th>\n",
       "      <th>5</th>\n",
       "      <th>6</th>\n",
       "      <th>7</th>\n",
       "      <th>8</th>\n",
       "      <th>9</th>\n",
       "      <th>10</th>\n",
       "      <th>11</th>\n",
       "      <th>12</th>\n",
       "      <th>13</th>\n",
       "    </tr>\n",
       "  </thead>\n",
       "  <tbody>\n",
       "    <tr>\n",
       "      <th>0</th>\n",
       "      <td>11900</td>\n",
       "      <td>Used</td>\n",
       "      <td>Opel</td>\n",
       "      <td>Astra</td>\n",
       "      <td>2010</td>\n",
       "      <td>214652.0</td>\n",
       "      <td>105.0</td>\n",
       "      <td>1598.0</td>\n",
       "      <td>Gasoline</td>\n",
       "      <td>Front wheels</td>\n",
       "      <td>Manual</td>\n",
       "      <td>5.0</td>\n",
       "      <td>black</td>\n",
       "      <td>13.0</td>\n",
       "    </tr>\n",
       "    <tr>\n",
       "      <th>1</th>\n",
       "      <td>0</td>\n",
       "      <td>x</td>\n",
       "      <td>x</td>\n",
       "      <td>x</td>\n",
       "      <td>1</td>\n",
       "      <td>1.0</td>\n",
       "      <td>1.0</td>\n",
       "      <td>1.0</td>\n",
       "      <td>x</td>\n",
       "      <td>x</td>\n",
       "      <td>x</td>\n",
       "      <td>1.0</td>\n",
       "      <td>green</td>\n",
       "      <td>1.0</td>\n",
       "    </tr>\n",
       "  </tbody>\n",
       "</table>\n",
       "</div>"
      ],
      "text/plain": [
       "      0     1     2      3     4         5      6       7         8   \\\n",
       "0  11900  Used  Opel  Astra  2010  214652.0  105.0  1598.0  Gasoline   \n",
       "1      0     x     x      x     1       1.0    1.0     1.0         x   \n",
       "\n",
       "             9       10   11     12    13  \n",
       "0  Front wheels  Manual  5.0  black  13.0  \n",
       "1             x       x  1.0  green   1.0  "
      ]
     },
     "execution_count": 497,
     "metadata": {},
     "output_type": "execute_result"
    }
   ],
   "source": [
    "car1_df"
   ]
  },
  {
   "cell_type": "code",
   "execution_count": 498,
   "id": "04de2bbe",
   "metadata": {},
   "outputs": [],
   "source": [
    "car1_df.drop(1,inplace=True)"
   ]
  },
  {
   "cell_type": "code",
   "execution_count": 499,
   "id": "fec5f6aa",
   "metadata": {},
   "outputs": [],
   "source": [
    "car1_df.columns = df.columns"
   ]
  },
  {
   "cell_type": "code",
   "execution_count": 500,
   "id": "e8d87091",
   "metadata": {
    "scrolled": true
   },
   "outputs": [
    {
     "data": {
      "text/html": [
       "<div>\n",
       "<style scoped>\n",
       "    .dataframe tbody tr th:only-of-type {\n",
       "        vertical-align: middle;\n",
       "    }\n",
       "\n",
       "    .dataframe tbody tr th {\n",
       "        vertical-align: top;\n",
       "    }\n",
       "\n",
       "    .dataframe thead th {\n",
       "        text-align: right;\n",
       "    }\n",
       "</style>\n",
       "<table border=\"1\" class=\"dataframe\">\n",
       "  <thead>\n",
       "    <tr style=\"text-align: right;\">\n",
       "      <th></th>\n",
       "      <th>Price</th>\n",
       "      <th>Condition</th>\n",
       "      <th>Vehicle_brand</th>\n",
       "      <th>Vehicle_model</th>\n",
       "      <th>Production_year</th>\n",
       "      <th>Mileage_km</th>\n",
       "      <th>Power_HP</th>\n",
       "      <th>Displacement_cm3</th>\n",
       "      <th>Fuel_type</th>\n",
       "      <th>Drive</th>\n",
       "      <th>Transmission</th>\n",
       "      <th>Doors_number</th>\n",
       "      <th>Colour</th>\n",
       "      <th>Features</th>\n",
       "    </tr>\n",
       "  </thead>\n",
       "  <tbody>\n",
       "    <tr>\n",
       "      <th>0</th>\n",
       "      <td>11900</td>\n",
       "      <td>Used</td>\n",
       "      <td>Opel</td>\n",
       "      <td>Astra</td>\n",
       "      <td>2010</td>\n",
       "      <td>214652.0</td>\n",
       "      <td>105.0</td>\n",
       "      <td>1598.0</td>\n",
       "      <td>Gasoline</td>\n",
       "      <td>Front wheels</td>\n",
       "      <td>Manual</td>\n",
       "      <td>5.0</td>\n",
       "      <td>black</td>\n",
       "      <td>13.0</td>\n",
       "    </tr>\n",
       "  </tbody>\n",
       "</table>\n",
       "</div>"
      ],
      "text/plain": [
       "   Price Condition Vehicle_brand Vehicle_model  Production_year  Mileage_km  \\\n",
       "0  11900      Used          Opel         Astra             2010    214652.0   \n",
       "\n",
       "   Power_HP  Displacement_cm3 Fuel_type         Drive Transmission  \\\n",
       "0     105.0            1598.0  Gasoline  Front wheels       Manual   \n",
       "\n",
       "   Doors_number Colour  Features  \n",
       "0           5.0  black      13.0  "
      ]
     },
     "execution_count": 500,
     "metadata": {},
     "output_type": "execute_result"
    }
   ],
   "source": [
    "car1_df"
   ]
  },
  {
   "cell_type": "code",
   "execution_count": 501,
   "id": "cb7b4305",
   "metadata": {},
   "outputs": [],
   "source": [
    "car1_dummies = pd.get_dummies(car1_df)"
   ]
  },
  {
   "cell_type": "code",
   "execution_count": 502,
   "id": "a131b539",
   "metadata": {},
   "outputs": [
    {
     "data": {
      "text/html": [
       "<div>\n",
       "<style scoped>\n",
       "    .dataframe tbody tr th:only-of-type {\n",
       "        vertical-align: middle;\n",
       "    }\n",
       "\n",
       "    .dataframe tbody tr th {\n",
       "        vertical-align: top;\n",
       "    }\n",
       "\n",
       "    .dataframe thead th {\n",
       "        text-align: right;\n",
       "    }\n",
       "</style>\n",
       "<table border=\"1\" class=\"dataframe\">\n",
       "  <thead>\n",
       "    <tr style=\"text-align: right;\">\n",
       "      <th></th>\n",
       "      <th>Price</th>\n",
       "      <th>Production_year</th>\n",
       "      <th>Mileage_km</th>\n",
       "      <th>Power_HP</th>\n",
       "      <th>Displacement_cm3</th>\n",
       "      <th>Doors_number</th>\n",
       "      <th>Features</th>\n",
       "      <th>Condition_Used</th>\n",
       "      <th>Vehicle_brand_Opel</th>\n",
       "      <th>Vehicle_model_Astra</th>\n",
       "      <th>Fuel_type_Gasoline</th>\n",
       "      <th>Drive_Front wheels</th>\n",
       "      <th>Transmission_Manual</th>\n",
       "      <th>Colour_black</th>\n",
       "    </tr>\n",
       "  </thead>\n",
       "  <tbody>\n",
       "    <tr>\n",
       "      <th>0</th>\n",
       "      <td>11900</td>\n",
       "      <td>2010</td>\n",
       "      <td>214652.0</td>\n",
       "      <td>105.0</td>\n",
       "      <td>1598.0</td>\n",
       "      <td>5.0</td>\n",
       "      <td>13.0</td>\n",
       "      <td>1</td>\n",
       "      <td>1</td>\n",
       "      <td>1</td>\n",
       "      <td>1</td>\n",
       "      <td>1</td>\n",
       "      <td>1</td>\n",
       "      <td>1</td>\n",
       "    </tr>\n",
       "  </tbody>\n",
       "</table>\n",
       "</div>"
      ],
      "text/plain": [
       "   Price  Production_year  Mileage_km  Power_HP  Displacement_cm3  \\\n",
       "0  11900             2010    214652.0     105.0            1598.0   \n",
       "\n",
       "   Doors_number  Features  Condition_Used  Vehicle_brand_Opel  \\\n",
       "0           5.0      13.0               1                   1   \n",
       "\n",
       "   Vehicle_model_Astra  Fuel_type_Gasoline  Drive_Front wheels  \\\n",
       "0                    1                   1                   1   \n",
       "\n",
       "   Transmission_Manual  Colour_black  \n",
       "0                    1             1  "
      ]
     },
     "execution_count": 502,
     "metadata": {},
     "output_type": "execute_result"
    }
   ],
   "source": [
    "car1_dummies"
   ]
  },
  {
   "cell_type": "code",
   "execution_count": 503,
   "id": "fce7883a",
   "metadata": {
    "scrolled": true
   },
   "outputs": [],
   "source": [
    "car1_full_dummies = pd.concat([df_dum.iloc[[0,1]],car1_dummies]).fillna(0)"
   ]
  },
  {
   "cell_type": "code",
   "execution_count": 504,
   "id": "118d0656",
   "metadata": {
    "scrolled": false
   },
   "outputs": [
    {
     "data": {
      "text/html": [
       "<div>\n",
       "<style scoped>\n",
       "    .dataframe tbody tr th:only-of-type {\n",
       "        vertical-align: middle;\n",
       "    }\n",
       "\n",
       "    .dataframe tbody tr th {\n",
       "        vertical-align: top;\n",
       "    }\n",
       "\n",
       "    .dataframe thead th {\n",
       "        text-align: right;\n",
       "    }\n",
       "</style>\n",
       "<table border=\"1\" class=\"dataframe\">\n",
       "  <thead>\n",
       "    <tr style=\"text-align: right;\">\n",
       "      <th></th>\n",
       "      <th>Price</th>\n",
       "      <th>Production_year</th>\n",
       "      <th>Mileage_km</th>\n",
       "      <th>Power_HP</th>\n",
       "      <th>Displacement_cm3</th>\n",
       "      <th>Doors_number</th>\n",
       "      <th>Features</th>\n",
       "      <th>Condition_Used</th>\n",
       "      <th>Vehicle_brand_Alfa Romeo</th>\n",
       "      <th>Vehicle_brand_Audi</th>\n",
       "      <th>...</th>\n",
       "      <th>Colour_burgundy</th>\n",
       "      <th>Colour_golden</th>\n",
       "      <th>Colour_gray</th>\n",
       "      <th>Colour_green</th>\n",
       "      <th>Colour_other</th>\n",
       "      <th>Colour_red</th>\n",
       "      <th>Colour_silver</th>\n",
       "      <th>Colour_violet</th>\n",
       "      <th>Colour_white</th>\n",
       "      <th>Colour_yellow</th>\n",
       "    </tr>\n",
       "  </thead>\n",
       "  <tbody>\n",
       "    <tr>\n",
       "      <th>0</th>\n",
       "      <td>11900</td>\n",
       "      <td>2010</td>\n",
       "      <td>214652.0</td>\n",
       "      <td>105.0</td>\n",
       "      <td>1598.0</td>\n",
       "      <td>5.0</td>\n",
       "      <td>13.0</td>\n",
       "      <td>1</td>\n",
       "      <td>0.0</td>\n",
       "      <td>0.0</td>\n",
       "      <td>...</td>\n",
       "      <td>0.0</td>\n",
       "      <td>0.0</td>\n",
       "      <td>0.0</td>\n",
       "      <td>0.0</td>\n",
       "      <td>0.0</td>\n",
       "      <td>0.0</td>\n",
       "      <td>0.0</td>\n",
       "      <td>0.0</td>\n",
       "      <td>0.0</td>\n",
       "      <td>0.0</td>\n",
       "    </tr>\n",
       "  </tbody>\n",
       "</table>\n",
       "<p>1 rows × 363 columns</p>\n",
       "</div>"
      ],
      "text/plain": [
       "   Price  Production_year  Mileage_km  Power_HP  Displacement_cm3  \\\n",
       "0  11900             2010    214652.0     105.0            1598.0   \n",
       "\n",
       "   Doors_number  Features  Condition_Used  Vehicle_brand_Alfa Romeo  \\\n",
       "0           5.0      13.0               1                       0.0   \n",
       "\n",
       "   Vehicle_brand_Audi  ...  Colour_burgundy  Colour_golden  Colour_gray  \\\n",
       "0                 0.0  ...              0.0            0.0          0.0   \n",
       "\n",
       "   Colour_green  Colour_other  Colour_red  Colour_silver  Colour_violet  \\\n",
       "0           0.0           0.0         0.0            0.0            0.0   \n",
       "\n",
       "   Colour_white  Colour_yellow  \n",
       "0           0.0            0.0  \n",
       "\n",
       "[1 rows x 363 columns]"
      ]
     },
     "execution_count": 504,
     "metadata": {},
     "output_type": "execute_result"
    }
   ],
   "source": [
    "car1_full_dummies.iloc[[-1]]"
   ]
  },
  {
   "cell_type": "code",
   "execution_count": 505,
   "id": "8ea9c35e",
   "metadata": {},
   "outputs": [
    {
     "data": {
      "text/plain": [
       "0    11900\n",
       "Name: Price, dtype: int64"
      ]
     },
     "execution_count": 505,
     "metadata": {},
     "output_type": "execute_result"
    }
   ],
   "source": [
    "car1_full_dummies.iloc[[-1]][\"Price\"]"
   ]
  },
  {
   "cell_type": "code",
   "execution_count": 506,
   "id": "84f2c0f6",
   "metadata": {},
   "outputs": [],
   "source": [
    "car1_full_dummies.drop(\"Price\", axis = 1 , inplace=True)"
   ]
  },
  {
   "cell_type": "code",
   "execution_count": 507,
   "id": "b6ac571f",
   "metadata": {},
   "outputs": [],
   "source": [
    "car_to_predict = car1_full_dummies.iloc[[-1]].values"
   ]
  },
  {
   "cell_type": "code",
   "execution_count": 508,
   "id": "2ff8fde0",
   "metadata": {},
   "outputs": [
    {
     "name": "stderr",
     "output_type": "stream",
     "text": [
      "c:\\users\\kacpe\\appdata\\local\\programs\\python\\python39\\lib\\site-packages\\sklearn\\base.py:450: UserWarning: X does not have valid feature names, but StandardScaler was fitted with feature names\n",
      "  warnings.warn(\n"
     ]
    }
   ],
   "source": [
    "car_to_predict_s = scaler.transform(car_to_predict)"
   ]
  },
  {
   "cell_type": "code",
   "execution_count": 509,
   "id": "6f8e0038",
   "metadata": {},
   "outputs": [
    {
     "name": "stdout",
     "output_type": "stream",
     "text": [
      "1/1 [==============================] - 1s 906ms/step\n"
     ]
    },
    {
     "data": {
      "text/plain": [
       "array([[16527.125]], dtype=float32)"
      ]
     },
     "execution_count": 509,
     "metadata": {},
     "output_type": "execute_result"
    }
   ],
   "source": [
    "model.predict(car_to_predict_s)"
   ]
  },
  {
   "cell_type": "code",
   "execution_count": null,
   "id": "d2617477",
   "metadata": {},
   "outputs": [],
   "source": []
  },
  {
   "cell_type": "code",
   "execution_count": null,
   "id": "e4fff7ee",
   "metadata": {},
   "outputs": [],
   "source": []
  },
  {
   "cell_type": "code",
   "execution_count": null,
   "id": "3159a3a6",
   "metadata": {},
   "outputs": [],
   "source": []
  }
 ],
 "metadata": {
  "kernelspec": {
   "display_name": "Python 3 (ipykernel)",
   "language": "python",
   "name": "python3"
  },
  "language_info": {
   "codemirror_mode": {
    "name": "ipython",
    "version": 3
   },
   "file_extension": ".py",
   "mimetype": "text/x-python",
   "name": "python",
   "nbconvert_exporter": "python",
   "pygments_lexer": "ipython3",
   "version": "3.9.5"
  }
 },
 "nbformat": 4,
 "nbformat_minor": 5
}
