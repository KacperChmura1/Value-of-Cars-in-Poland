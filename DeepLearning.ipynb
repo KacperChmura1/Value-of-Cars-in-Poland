{
 "cells": [
  {
   "cell_type": "code",
   "execution_count": 59,
   "id": "3ed0af8b",
   "metadata": {},
   "outputs": [],
   "source": [
    "import pandas as pd\n",
    "import matplotlib.pyplot as plt\n",
    "import seaborn as sns\n",
    "import numpy as np"
   ]
  },
  {
   "cell_type": "code",
   "execution_count": 60,
   "id": "0a626ce1",
   "metadata": {},
   "outputs": [],
   "source": [
    "%load_ext pycodestyle_magic\n",
    "%pycodestyle_on"
   ]
  },
  {
   "cell_type": "code",
   "execution_count": 61,
   "id": "b385ee66",
   "metadata": {},
   "outputs": [],
   "source": [
    "import tensorflow as tf"
   ]
  },
  {
   "cell_type": "code",
   "execution_count": 62,
   "id": "3359fee5",
   "metadata": {},
   "outputs": [],
   "source": [
    "from tensorflow.keras.models import Sequential\n",
    "from tensorflow.keras.layers import Dense, Activation\n",
    "from tensorflow.keras.optimizers import Adam\n",
    "from sklearn.metrics import mean_absolute_error\n",
    "from tensorflow.keras.layers import Dropout"
   ]
  },
  {
   "cell_type": "code",
   "execution_count": 63,
   "id": "7dcbef2d",
   "metadata": {},
   "outputs": [],
   "source": [
    "from sklearn.model_selection import train_test_split\n",
    "from sklearn.preprocessing import StandardScaler\n",
    "from sklearn.preprocessing import MinMaxScaler"
   ]
  },
  {
   "cell_type": "code",
   "execution_count": 64,
   "id": "74d4339d",
   "metadata": {},
   "outputs": [],
   "source": [
    "import os.path"
   ]
  },
  {
   "cell_type": "code",
   "execution_count": 65,
   "id": "d5e05c77",
   "metadata": {},
   "outputs": [],
   "source": [
    "from tensorflow.keras.models import load_model"
   ]
  },
  {
   "cell_type": "code",
   "execution_count": 66,
   "id": "2575e5df",
   "metadata": {},
   "outputs": [],
   "source": [
    "from pickle import dump"
   ]
  },
  {
   "cell_type": "code",
   "execution_count": 67,
   "id": "4151552b",
   "metadata": {},
   "outputs": [],
   "source": [
    "from pickle import load"
   ]
  },
  {
   "cell_type": "markdown",
   "id": "befb7567",
   "metadata": {},
   "source": [
    "# Import"
   ]
  },
  {
   "cell_type": "code",
   "execution_count": 73,
   "id": "b342f07b",
   "metadata": {},
   "outputs": [],
   "source": [
    "df = pd.read_csv(\"Data/clean_data_with_features.csv\", index_col=0)"
   ]
  },
  {
   "cell_type": "code",
   "execution_count": 74,
   "id": "0b226901",
   "metadata": {},
   "outputs": [],
   "source": [
    "df.drop(\"Offer_publication_date\", axis=1, inplace=True)"
   ]
  },
  {
   "cell_type": "code",
   "execution_count": 75,
   "id": "3154365a",
   "metadata": {},
   "outputs": [
    {
     "data": {
      "text/plain": [
       "116465    ['ABS', 'Electric front windows', 'Drivers air...\n",
       "116466    ['ABS', 'Electric front windows', 'Drivers air...\n",
       "116467    ['ABS', 'Electric front windows', 'Drivers air...\n",
       "116468    ['ABS', 'Electric front windows', 'Drivers air...\n",
       "116469    ['ABS', 'Electric front windows', 'Drivers air...\n",
       "                                ...                        \n",
       "107242    ['ABS', 'Electric front windows', 'Drivers air...\n",
       "107275    ['Electrically adjustable seats', 'Passengers ...\n",
       "107475    ['ABS', 'Electric front windows', 'Drivers air...\n",
       "107479    ['ABS', 'Electric front windows', 'Drivers air...\n",
       "107482    ['ABS', 'Electric front windows', 'Factory rad...\n",
       "Name: Features, Length: 174770, dtype: object"
      ]
     },
     "execution_count": 75,
     "metadata": {},
     "output_type": "execute_result"
    }
   ],
   "source": [
    "df[\"Features\"]"
   ]
  },
  {
   "cell_type": "code",
   "execution_count": 76,
   "id": "a900d9d8",
   "metadata": {},
   "outputs": [],
   "source": [
    "df.drop(\"Features\", axis=1, inplace=True)"
   ]
  },
  {
   "cell_type": "code",
   "execution_count": 77,
   "id": "c587d8a4",
   "metadata": {
    "scrolled": true
   },
   "outputs": [
    {
     "data": {
      "text/html": [
       "<div>\n",
       "<style scoped>\n",
       "    .dataframe tbody tr th:only-of-type {\n",
       "        vertical-align: middle;\n",
       "    }\n",
       "\n",
       "    .dataframe tbody tr th {\n",
       "        vertical-align: top;\n",
       "    }\n",
       "\n",
       "    .dataframe thead th {\n",
       "        text-align: right;\n",
       "    }\n",
       "</style>\n",
       "<table border=\"1\" class=\"dataframe\">\n",
       "  <thead>\n",
       "    <tr style=\"text-align: right;\">\n",
       "      <th></th>\n",
       "      <th>Price</th>\n",
       "      <th>Condition</th>\n",
       "      <th>Vehicle_brand</th>\n",
       "      <th>Vehicle_model</th>\n",
       "      <th>Production_year</th>\n",
       "      <th>Mileage_km</th>\n",
       "      <th>Power_HP</th>\n",
       "      <th>Displacement_cm3</th>\n",
       "      <th>Fuel_type</th>\n",
       "      <th>Drive</th>\n",
       "      <th>...</th>\n",
       "      <th>Heatedrearseats</th>\n",
       "      <th>Four-zoneairconditioning</th>\n",
       "      <th>TVtuner</th>\n",
       "      <th>Roofrails</th>\n",
       "      <th>Activecruisecontrol</th>\n",
       "      <th>Hook</th>\n",
       "      <th>Laneassistant</th>\n",
       "      <th>HUD(head-updisplay)</th>\n",
       "      <th>Month</th>\n",
       "      <th>Year</th>\n",
       "    </tr>\n",
       "  </thead>\n",
       "  <tbody>\n",
       "    <tr>\n",
       "      <th>116465</th>\n",
       "      <td>42900</td>\n",
       "      <td>Used</td>\n",
       "      <td>Opel</td>\n",
       "      <td>Astra</td>\n",
       "      <td>2015</td>\n",
       "      <td>125000.0</td>\n",
       "      <td>136.0</td>\n",
       "      <td>1598.0</td>\n",
       "      <td>Diesel</td>\n",
       "      <td>Front wheels</td>\n",
       "      <td>...</td>\n",
       "      <td>0</td>\n",
       "      <td>0</td>\n",
       "      <td>0</td>\n",
       "      <td>0</td>\n",
       "      <td>0</td>\n",
       "      <td>1</td>\n",
       "      <td>1</td>\n",
       "      <td>0</td>\n",
       "      <td>5</td>\n",
       "      <td>2021</td>\n",
       "    </tr>\n",
       "    <tr>\n",
       "      <th>116466</th>\n",
       "      <td>11900</td>\n",
       "      <td>Used</td>\n",
       "      <td>Opel</td>\n",
       "      <td>Astra</td>\n",
       "      <td>2006</td>\n",
       "      <td>192547.0</td>\n",
       "      <td>140.0</td>\n",
       "      <td>1796.0</td>\n",
       "      <td>Gasoline</td>\n",
       "      <td>Front wheels</td>\n",
       "      <td>...</td>\n",
       "      <td>0</td>\n",
       "      <td>0</td>\n",
       "      <td>0</td>\n",
       "      <td>1</td>\n",
       "      <td>0</td>\n",
       "      <td>0</td>\n",
       "      <td>0</td>\n",
       "      <td>0</td>\n",
       "      <td>5</td>\n",
       "      <td>2021</td>\n",
       "    </tr>\n",
       "    <tr>\n",
       "      <th>116467</th>\n",
       "      <td>25900</td>\n",
       "      <td>Used</td>\n",
       "      <td>Opel</td>\n",
       "      <td>Astra</td>\n",
       "      <td>2010</td>\n",
       "      <td>119000.0</td>\n",
       "      <td>115.0</td>\n",
       "      <td>1598.0</td>\n",
       "      <td>Gasoline</td>\n",
       "      <td>Front wheels</td>\n",
       "      <td>...</td>\n",
       "      <td>0</td>\n",
       "      <td>0</td>\n",
       "      <td>0</td>\n",
       "      <td>1</td>\n",
       "      <td>0</td>\n",
       "      <td>0</td>\n",
       "      <td>0</td>\n",
       "      <td>0</td>\n",
       "      <td>5</td>\n",
       "      <td>2021</td>\n",
       "    </tr>\n",
       "  </tbody>\n",
       "</table>\n",
       "<p>3 rows × 86 columns</p>\n",
       "</div>"
      ],
      "text/plain": [
       "        Price Condition Vehicle_brand Vehicle_model  Production_year  \\\n",
       "116465  42900      Used          Opel         Astra             2015   \n",
       "116466  11900      Used          Opel         Astra             2006   \n",
       "116467  25900      Used          Opel         Astra             2010   \n",
       "\n",
       "        Mileage_km  Power_HP  Displacement_cm3 Fuel_type         Drive  ...  \\\n",
       "116465    125000.0     136.0            1598.0    Diesel  Front wheels  ...   \n",
       "116466    192547.0     140.0            1796.0  Gasoline  Front wheels  ...   \n",
       "116467    119000.0     115.0            1598.0  Gasoline  Front wheels  ...   \n",
       "\n",
       "       Heatedrearseats Four-zoneairconditioning  TVtuner Roofrails  \\\n",
       "116465               0                        0        0         0   \n",
       "116466               0                        0        0         1   \n",
       "116467               0                        0        0         1   \n",
       "\n",
       "        Activecruisecontrol  Hook  Laneassistant  HUD(head-updisplay)  Month  \\\n",
       "116465                    0     1              1                    0      5   \n",
       "116466                    0     0              0                    0      5   \n",
       "116467                    0     0              0                    0      5   \n",
       "\n",
       "        Year  \n",
       "116465  2021  \n",
       "116466  2021  \n",
       "116467  2021  \n",
       "\n",
       "[3 rows x 86 columns]"
      ]
     },
     "execution_count": 77,
     "metadata": {},
     "output_type": "execute_result"
    }
   ],
   "source": [
    "df.head(3)"
   ]
  },
  {
   "cell_type": "markdown",
   "id": "84ef97ec",
   "metadata": {},
   "source": [
    "# Get dummies"
   ]
  },
  {
   "cell_type": "code",
   "execution_count": 78,
   "id": "5f0a8aab",
   "metadata": {},
   "outputs": [],
   "source": [
    "scaler = MinMaxScaler()"
   ]
  },
  {
   "cell_type": "code",
   "execution_count": 79,
   "id": "ae06a14f",
   "metadata": {
    "scrolled": false
   },
   "outputs": [],
   "source": [
    "df.info()"
   ]
  },
  {
   "cell_type": "code",
   "execution_count": 80,
   "id": "3b48322b",
   "metadata": {},
   "outputs": [],
   "source": [
    "df_dum = pd.get_dummies(df, drop_first=True)"
   ]
  },
  {
   "cell_type": "code",
   "execution_count": 81,
   "id": "37917c04",
   "metadata": {
    "scrolled": true
   },
   "outputs": [
    {
     "data": {
      "text/plain": [
       "Index(['Price', 'Production_year', 'Mileage_km', 'Power_HP',\n",
       "       'Displacement_cm3', 'Doors_number', 'ABS', 'Electricfrontwindows',\n",
       "       'Driversairbag', 'Powersteering',\n",
       "       ...\n",
       "       'Colour_burgundy', 'Colour_golden', 'Colour_gray', 'Colour_green',\n",
       "       'Colour_other', 'Colour_red', 'Colour_silver', 'Colour_violet',\n",
       "       'Colour_white', 'Colour_yellow'],\n",
       "      dtype='object', length=443)"
      ]
     },
     "execution_count": 81,
     "metadata": {},
     "output_type": "execute_result"
    }
   ],
   "source": [
    "df_dum.columns"
   ]
  },
  {
   "cell_type": "code",
   "execution_count": 82,
   "id": "34c8ec6f",
   "metadata": {
    "scrolled": false
   },
   "outputs": [
    {
     "data": {
      "text/plain": [
       "Index(['Price', 'Condition', 'Vehicle_brand', 'Vehicle_model',\n",
       "       'Production_year', 'Mileage_km', 'Power_HP', 'Displacement_cm3',\n",
       "       'Fuel_type', 'Drive', 'Transmission', 'Type', 'Doors_number', 'Colour',\n",
       "       'ABS', 'Electricfrontwindows', 'Driversairbag', 'Powersteering',\n",
       "       'ASR(tractioncontrol)', 'Rearviewcamera', 'Heatedsidemirrors', 'CD',\n",
       "       'Electricallyadjustablemirrors', 'Passengersairbag', 'Alarm',\n",
       "       'Bluetooth', 'Automaticairconditioning', 'Airbagprotectingtheknees',\n",
       "       'Centrallocking', 'Immobilizer', 'Factoryradio', 'Alloywheels',\n",
       "       'Rainsensor', 'On-boardcomputer', 'Multifunctionsteeringwheel',\n",
       "       'AUXsocket', 'Xenonlights', 'USBsocket', 'MP3',\n",
       "       'ESP(stabilizationofthetrack)', 'Frontsideairbags',\n",
       "       'Rearparkingsensors', 'Isofix', 'Aircurtains', 'Tintedwindows',\n",
       "       'Daytimerunninglights', 'Rearsideairbags', 'Foglights',\n",
       "       'Twilightsensor', 'GPSnavigation', 'LEDlights', 'Manualairconditioning',\n",
       "       'Start-Stopsystem', 'Electrochromicrearviewmirror', 'Velorupholstery',\n",
       "       'Electrochromicsidemirrors', 'SDsocket', 'Dualzoneairconditioning',\n",
       "       'Adjustablesuspension', 'Panoramicroof', 'Sunroof',\n",
       "       'Frontparkingsensors', 'Heatedfrontseats', 'Leatherupholstery',\n",
       "       'Electricallyadjustableseats', 'Cruisecontrol', 'Parkingassistant',\n",
       "       'Speedlimiter', 'Heatedwindscreen', 'Electricrearwindows',\n",
       "       'Shiftpaddles', 'Blindspotsensor', 'Aftermarketradio', 'DVDplayer',\n",
       "       'CDchanger', 'Auxiliaryheating', 'Heatedrearseats',\n",
       "       'Four-zoneairconditioning', 'TVtuner', 'Roofrails',\n",
       "       'Activecruisecontrol', 'Hook', 'Laneassistant', 'HUD(head-updisplay)',\n",
       "       'Month', 'Year'],\n",
       "      dtype='object')"
      ]
     },
     "execution_count": 82,
     "metadata": {},
     "output_type": "execute_result"
    }
   ],
   "source": [
    "df.columns"
   ]
  },
  {
   "cell_type": "code",
   "execution_count": 83,
   "id": "e723ab8d",
   "metadata": {},
   "outputs": [
    {
     "data": {
      "text/plain": [
       "(2, 86)"
      ]
     },
     "execution_count": 83,
     "metadata": {},
     "output_type": "execute_result"
    }
   ],
   "source": [
    "df.iloc[[0, 1]].shape"
   ]
  },
  {
   "cell_type": "code",
   "execution_count": 84,
   "id": "26f3fd5f",
   "metadata": {},
   "outputs": [
    {
     "data": {
      "text/plain": [
       "Index(['Price', 'Condition', 'Vehicle_brand', 'Vehicle_model',\n",
       "       'Production_year', 'Mileage_km', 'Power_HP', 'Displacement_cm3',\n",
       "       'Fuel_type', 'Drive', 'Transmission', 'Type', 'Doors_number', 'Colour',\n",
       "       'ABS', 'Electricfrontwindows', 'Driversairbag', 'Powersteering',\n",
       "       'ASR(tractioncontrol)', 'Rearviewcamera', 'Heatedsidemirrors', 'CD',\n",
       "       'Electricallyadjustablemirrors', 'Passengersairbag', 'Alarm',\n",
       "       'Bluetooth', 'Automaticairconditioning', 'Airbagprotectingtheknees',\n",
       "       'Centrallocking', 'Immobilizer', 'Factoryradio', 'Alloywheels',\n",
       "       'Rainsensor', 'On-boardcomputer', 'Multifunctionsteeringwheel',\n",
       "       'AUXsocket', 'Xenonlights', 'USBsocket', 'MP3',\n",
       "       'ESP(stabilizationofthetrack)', 'Frontsideairbags',\n",
       "       'Rearparkingsensors', 'Isofix', 'Aircurtains', 'Tintedwindows',\n",
       "       'Daytimerunninglights', 'Rearsideairbags', 'Foglights',\n",
       "       'Twilightsensor', 'GPSnavigation', 'LEDlights', 'Manualairconditioning',\n",
       "       'Start-Stopsystem', 'Electrochromicrearviewmirror', 'Velorupholstery',\n",
       "       'Electrochromicsidemirrors', 'SDsocket', 'Dualzoneairconditioning',\n",
       "       'Adjustablesuspension', 'Panoramicroof', 'Sunroof',\n",
       "       'Frontparkingsensors', 'Heatedfrontseats', 'Leatherupholstery',\n",
       "       'Electricallyadjustableseats', 'Cruisecontrol', 'Parkingassistant',\n",
       "       'Speedlimiter', 'Heatedwindscreen', 'Electricrearwindows',\n",
       "       'Shiftpaddles', 'Blindspotsensor', 'Aftermarketradio', 'DVDplayer',\n",
       "       'CDchanger', 'Auxiliaryheating', 'Heatedrearseats',\n",
       "       'Four-zoneairconditioning', 'TVtuner', 'Roofrails',\n",
       "       'Activecruisecontrol', 'Hook', 'Laneassistant', 'HUD(head-updisplay)',\n",
       "       'Month', 'Year'],\n",
       "      dtype='object')"
      ]
     },
     "execution_count": 84,
     "metadata": {},
     "output_type": "execute_result"
    }
   ],
   "source": [
    "df.columns"
   ]
  },
  {
   "cell_type": "code",
   "execution_count": 85,
   "id": "25bf0a8c",
   "metadata": {},
   "outputs": [],
   "source": [
    "df.to_csv(\"Data/app.csv\")"
   ]
  },
  {
   "cell_type": "code",
   "execution_count": 86,
   "id": "dab26dd8",
   "metadata": {},
   "outputs": [
    {
     "data": {
      "text/html": [
       "<div>\n",
       "<style scoped>\n",
       "    .dataframe tbody tr th:only-of-type {\n",
       "        vertical-align: middle;\n",
       "    }\n",
       "\n",
       "    .dataframe tbody tr th {\n",
       "        vertical-align: top;\n",
       "    }\n",
       "\n",
       "    .dataframe thead th {\n",
       "        text-align: right;\n",
       "    }\n",
       "</style>\n",
       "<table border=\"1\" class=\"dataframe\">\n",
       "  <thead>\n",
       "    <tr style=\"text-align: right;\">\n",
       "      <th></th>\n",
       "      <th>Price</th>\n",
       "      <th>Condition</th>\n",
       "      <th>Vehicle_brand</th>\n",
       "      <th>Vehicle_model</th>\n",
       "      <th>Production_year</th>\n",
       "      <th>Mileage_km</th>\n",
       "      <th>Power_HP</th>\n",
       "      <th>Displacement_cm3</th>\n",
       "      <th>Fuel_type</th>\n",
       "      <th>Drive</th>\n",
       "      <th>...</th>\n",
       "      <th>Heatedrearseats</th>\n",
       "      <th>Four-zoneairconditioning</th>\n",
       "      <th>TVtuner</th>\n",
       "      <th>Roofrails</th>\n",
       "      <th>Activecruisecontrol</th>\n",
       "      <th>Hook</th>\n",
       "      <th>Laneassistant</th>\n",
       "      <th>HUD(head-updisplay)</th>\n",
       "      <th>Month</th>\n",
       "      <th>Year</th>\n",
       "    </tr>\n",
       "  </thead>\n",
       "  <tbody>\n",
       "    <tr>\n",
       "      <th>116465</th>\n",
       "      <td>42900</td>\n",
       "      <td>Used</td>\n",
       "      <td>Opel</td>\n",
       "      <td>Astra</td>\n",
       "      <td>2015</td>\n",
       "      <td>125000.0</td>\n",
       "      <td>136.0</td>\n",
       "      <td>1598.0</td>\n",
       "      <td>Diesel</td>\n",
       "      <td>Front wheels</td>\n",
       "      <td>...</td>\n",
       "      <td>0</td>\n",
       "      <td>0</td>\n",
       "      <td>0</td>\n",
       "      <td>0</td>\n",
       "      <td>0</td>\n",
       "      <td>1</td>\n",
       "      <td>1</td>\n",
       "      <td>0</td>\n",
       "      <td>5</td>\n",
       "      <td>2021</td>\n",
       "    </tr>\n",
       "    <tr>\n",
       "      <th>116466</th>\n",
       "      <td>11900</td>\n",
       "      <td>Used</td>\n",
       "      <td>Opel</td>\n",
       "      <td>Astra</td>\n",
       "      <td>2006</td>\n",
       "      <td>192547.0</td>\n",
       "      <td>140.0</td>\n",
       "      <td>1796.0</td>\n",
       "      <td>Gasoline</td>\n",
       "      <td>Front wheels</td>\n",
       "      <td>...</td>\n",
       "      <td>0</td>\n",
       "      <td>0</td>\n",
       "      <td>0</td>\n",
       "      <td>1</td>\n",
       "      <td>0</td>\n",
       "      <td>0</td>\n",
       "      <td>0</td>\n",
       "      <td>0</td>\n",
       "      <td>5</td>\n",
       "      <td>2021</td>\n",
       "    </tr>\n",
       "    <tr>\n",
       "      <th>116467</th>\n",
       "      <td>25900</td>\n",
       "      <td>Used</td>\n",
       "      <td>Opel</td>\n",
       "      <td>Astra</td>\n",
       "      <td>2010</td>\n",
       "      <td>119000.0</td>\n",
       "      <td>115.0</td>\n",
       "      <td>1598.0</td>\n",
       "      <td>Gasoline</td>\n",
       "      <td>Front wheels</td>\n",
       "      <td>...</td>\n",
       "      <td>0</td>\n",
       "      <td>0</td>\n",
       "      <td>0</td>\n",
       "      <td>1</td>\n",
       "      <td>0</td>\n",
       "      <td>0</td>\n",
       "      <td>0</td>\n",
       "      <td>0</td>\n",
       "      <td>5</td>\n",
       "      <td>2021</td>\n",
       "    </tr>\n",
       "    <tr>\n",
       "      <th>116468</th>\n",
       "      <td>8400</td>\n",
       "      <td>Used</td>\n",
       "      <td>Opel</td>\n",
       "      <td>Astra</td>\n",
       "      <td>2007</td>\n",
       "      <td>290000.0</td>\n",
       "      <td>100.0</td>\n",
       "      <td>1910.0</td>\n",
       "      <td>Diesel</td>\n",
       "      <td>Front wheels</td>\n",
       "      <td>...</td>\n",
       "      <td>0</td>\n",
       "      <td>0</td>\n",
       "      <td>0</td>\n",
       "      <td>0</td>\n",
       "      <td>0</td>\n",
       "      <td>0</td>\n",
       "      <td>0</td>\n",
       "      <td>0</td>\n",
       "      <td>5</td>\n",
       "      <td>2021</td>\n",
       "    </tr>\n",
       "    <tr>\n",
       "      <th>116469</th>\n",
       "      <td>15999</td>\n",
       "      <td>Used</td>\n",
       "      <td>Opel</td>\n",
       "      <td>Astra</td>\n",
       "      <td>2008</td>\n",
       "      <td>168779.0</td>\n",
       "      <td>115.0</td>\n",
       "      <td>1598.0</td>\n",
       "      <td>Gasoline</td>\n",
       "      <td>Front wheels</td>\n",
       "      <td>...</td>\n",
       "      <td>0</td>\n",
       "      <td>0</td>\n",
       "      <td>0</td>\n",
       "      <td>0</td>\n",
       "      <td>0</td>\n",
       "      <td>0</td>\n",
       "      <td>0</td>\n",
       "      <td>0</td>\n",
       "      <td>5</td>\n",
       "      <td>2021</td>\n",
       "    </tr>\n",
       "    <tr>\n",
       "      <th>...</th>\n",
       "      <td>...</td>\n",
       "      <td>...</td>\n",
       "      <td>...</td>\n",
       "      <td>...</td>\n",
       "      <td>...</td>\n",
       "      <td>...</td>\n",
       "      <td>...</td>\n",
       "      <td>...</td>\n",
       "      <td>...</td>\n",
       "      <td>...</td>\n",
       "      <td>...</td>\n",
       "      <td>...</td>\n",
       "      <td>...</td>\n",
       "      <td>...</td>\n",
       "      <td>...</td>\n",
       "      <td>...</td>\n",
       "      <td>...</td>\n",
       "      <td>...</td>\n",
       "      <td>...</td>\n",
       "      <td>...</td>\n",
       "      <td>...</td>\n",
       "    </tr>\n",
       "    <tr>\n",
       "      <th>107242</th>\n",
       "      <td>84500</td>\n",
       "      <td>Used</td>\n",
       "      <td>Mercedes-Benz</td>\n",
       "      <td>GLK</td>\n",
       "      <td>2012</td>\n",
       "      <td>176000.0</td>\n",
       "      <td>170.0</td>\n",
       "      <td>2143.0</td>\n",
       "      <td>Diesel</td>\n",
       "      <td>4x4 (permanent)</td>\n",
       "      <td>...</td>\n",
       "      <td>0</td>\n",
       "      <td>0</td>\n",
       "      <td>0</td>\n",
       "      <td>1</td>\n",
       "      <td>0</td>\n",
       "      <td>1</td>\n",
       "      <td>1</td>\n",
       "      <td>0</td>\n",
       "      <td>5</td>\n",
       "      <td>2021</td>\n",
       "    </tr>\n",
       "    <tr>\n",
       "      <th>107275</th>\n",
       "      <td>84900</td>\n",
       "      <td>Used</td>\n",
       "      <td>Mercedes-Benz</td>\n",
       "      <td>GLK</td>\n",
       "      <td>2013</td>\n",
       "      <td>199000.0</td>\n",
       "      <td>170.0</td>\n",
       "      <td>2143.0</td>\n",
       "      <td>Diesel</td>\n",
       "      <td>4x4 (permanent)</td>\n",
       "      <td>...</td>\n",
       "      <td>0</td>\n",
       "      <td>0</td>\n",
       "      <td>0</td>\n",
       "      <td>1</td>\n",
       "      <td>0</td>\n",
       "      <td>0</td>\n",
       "      <td>0</td>\n",
       "      <td>0</td>\n",
       "      <td>5</td>\n",
       "      <td>2021</td>\n",
       "    </tr>\n",
       "    <tr>\n",
       "      <th>107475</th>\n",
       "      <td>68265</td>\n",
       "      <td>Used</td>\n",
       "      <td>Mercedes-Benz</td>\n",
       "      <td>GLK</td>\n",
       "      <td>2013</td>\n",
       "      <td>250000.0</td>\n",
       "      <td>204.0</td>\n",
       "      <td>2143.0</td>\n",
       "      <td>Diesel</td>\n",
       "      <td>4x4 (attached automatically)</td>\n",
       "      <td>...</td>\n",
       "      <td>0</td>\n",
       "      <td>0</td>\n",
       "      <td>0</td>\n",
       "      <td>0</td>\n",
       "      <td>1</td>\n",
       "      <td>1</td>\n",
       "      <td>0</td>\n",
       "      <td>0</td>\n",
       "      <td>4</td>\n",
       "      <td>2021</td>\n",
       "    </tr>\n",
       "    <tr>\n",
       "      <th>107479</th>\n",
       "      <td>64900</td>\n",
       "      <td>Used</td>\n",
       "      <td>Mercedes-Benz</td>\n",
       "      <td>GLK</td>\n",
       "      <td>2010</td>\n",
       "      <td>155000.0</td>\n",
       "      <td>231.0</td>\n",
       "      <td>2999.0</td>\n",
       "      <td>Diesel</td>\n",
       "      <td>4x4 (permanent)</td>\n",
       "      <td>...</td>\n",
       "      <td>0</td>\n",
       "      <td>0</td>\n",
       "      <td>0</td>\n",
       "      <td>1</td>\n",
       "      <td>0</td>\n",
       "      <td>1</td>\n",
       "      <td>0</td>\n",
       "      <td>0</td>\n",
       "      <td>4</td>\n",
       "      <td>2021</td>\n",
       "    </tr>\n",
       "    <tr>\n",
       "      <th>107482</th>\n",
       "      <td>47900</td>\n",
       "      <td>Used</td>\n",
       "      <td>Mercedes-Benz</td>\n",
       "      <td>GLK</td>\n",
       "      <td>2010</td>\n",
       "      <td>283000.0</td>\n",
       "      <td>175.0</td>\n",
       "      <td>2200.0</td>\n",
       "      <td>Diesel</td>\n",
       "      <td>4x4 (attached automatically)</td>\n",
       "      <td>...</td>\n",
       "      <td>0</td>\n",
       "      <td>1</td>\n",
       "      <td>0</td>\n",
       "      <td>1</td>\n",
       "      <td>0</td>\n",
       "      <td>1</td>\n",
       "      <td>0</td>\n",
       "      <td>0</td>\n",
       "      <td>4</td>\n",
       "      <td>2021</td>\n",
       "    </tr>\n",
       "  </tbody>\n",
       "</table>\n",
       "<p>174770 rows × 86 columns</p>\n",
       "</div>"
      ],
      "text/plain": [
       "        Price Condition  Vehicle_brand Vehicle_model  Production_year  \\\n",
       "116465  42900      Used           Opel         Astra             2015   \n",
       "116466  11900      Used           Opel         Astra             2006   \n",
       "116467  25900      Used           Opel         Astra             2010   \n",
       "116468   8400      Used           Opel         Astra             2007   \n",
       "116469  15999      Used           Opel         Astra             2008   \n",
       "...       ...       ...            ...           ...              ...   \n",
       "107242  84500      Used  Mercedes-Benz           GLK             2012   \n",
       "107275  84900      Used  Mercedes-Benz           GLK             2013   \n",
       "107475  68265      Used  Mercedes-Benz           GLK             2013   \n",
       "107479  64900      Used  Mercedes-Benz           GLK             2010   \n",
       "107482  47900      Used  Mercedes-Benz           GLK             2010   \n",
       "\n",
       "        Mileage_km  Power_HP  Displacement_cm3 Fuel_type  \\\n",
       "116465    125000.0     136.0            1598.0    Diesel   \n",
       "116466    192547.0     140.0            1796.0  Gasoline   \n",
       "116467    119000.0     115.0            1598.0  Gasoline   \n",
       "116468    290000.0     100.0            1910.0    Diesel   \n",
       "116469    168779.0     115.0            1598.0  Gasoline   \n",
       "...            ...       ...               ...       ...   \n",
       "107242    176000.0     170.0            2143.0    Diesel   \n",
       "107275    199000.0     170.0            2143.0    Diesel   \n",
       "107475    250000.0     204.0            2143.0    Diesel   \n",
       "107479    155000.0     231.0            2999.0    Diesel   \n",
       "107482    283000.0     175.0            2200.0    Diesel   \n",
       "\n",
       "                               Drive  ... Heatedrearseats  \\\n",
       "116465                  Front wheels  ...               0   \n",
       "116466                  Front wheels  ...               0   \n",
       "116467                  Front wheels  ...               0   \n",
       "116468                  Front wheels  ...               0   \n",
       "116469                  Front wheels  ...               0   \n",
       "...                              ...  ...             ...   \n",
       "107242               4x4 (permanent)  ...               0   \n",
       "107275               4x4 (permanent)  ...               0   \n",
       "107475  4x4 (attached automatically)  ...               0   \n",
       "107479               4x4 (permanent)  ...               0   \n",
       "107482  4x4 (attached automatically)  ...               0   \n",
       "\n",
       "       Four-zoneairconditioning  TVtuner Roofrails  Activecruisecontrol  Hook  \\\n",
       "116465                        0        0         0                    0     1   \n",
       "116466                        0        0         1                    0     0   \n",
       "116467                        0        0         1                    0     0   \n",
       "116468                        0        0         0                    0     0   \n",
       "116469                        0        0         0                    0     0   \n",
       "...                         ...      ...       ...                  ...   ...   \n",
       "107242                        0        0         1                    0     1   \n",
       "107275                        0        0         1                    0     0   \n",
       "107475                        0        0         0                    1     1   \n",
       "107479                        0        0         1                    0     1   \n",
       "107482                        1        0         1                    0     1   \n",
       "\n",
       "        Laneassistant  HUD(head-updisplay)  Month  Year  \n",
       "116465              1                    0      5  2021  \n",
       "116466              0                    0      5  2021  \n",
       "116467              0                    0      5  2021  \n",
       "116468              0                    0      5  2021  \n",
       "116469              0                    0      5  2021  \n",
       "...               ...                  ...    ...   ...  \n",
       "107242              1                    0      5  2021  \n",
       "107275              0                    0      5  2021  \n",
       "107475              0                    0      4  2021  \n",
       "107479              0                    0      4  2021  \n",
       "107482              0                    0      4  2021  \n",
       "\n",
       "[174770 rows x 86 columns]"
      ]
     },
     "execution_count": 86,
     "metadata": {},
     "output_type": "execute_result"
    }
   ],
   "source": [
    "df"
   ]
  },
  {
   "cell_type": "markdown",
   "id": "076aae94",
   "metadata": {},
   "source": [
    "# Split and Scale Data"
   ]
  },
  {
   "cell_type": "code",
   "execution_count": 87,
   "id": "49e9f983",
   "metadata": {},
   "outputs": [],
   "source": [
    "X = df_dum.drop([\"Price\"], axis=1)"
   ]
  },
  {
   "cell_type": "code",
   "execution_count": 88,
   "id": "a0fb51c3",
   "metadata": {},
   "outputs": [],
   "source": [
    "y = df_dum[\"Price\"]"
   ]
  },
  {
   "cell_type": "code",
   "execution_count": 89,
   "id": "f3d7d8e3",
   "metadata": {},
   "outputs": [
    {
     "name": "stderr",
     "output_type": "stream",
     "text": [
      "1:80: E501 line too long (90 > 79 characters)\n"
     ]
    }
   ],
   "source": [
    "X_train, X_test, y_train, y_test = train_test_split(X, y, test_size=0.2, random_state=110)"
   ]
  },
  {
   "cell_type": "code",
   "execution_count": 90,
   "id": "7c966da1",
   "metadata": {},
   "outputs": [],
   "source": [
    "scaler = StandardScaler()"
   ]
  },
  {
   "cell_type": "code",
   "execution_count": 91,
   "id": "de18acd3",
   "metadata": {},
   "outputs": [],
   "source": [
    "X_train = scaler.fit_transform(X_train)"
   ]
  },
  {
   "cell_type": "code",
   "execution_count": 92,
   "id": "912b5f50",
   "metadata": {},
   "outputs": [],
   "source": [
    "X_test = scaler.transform(X_test)"
   ]
  },
  {
   "cell_type": "code",
   "execution_count": 93,
   "id": "71434416",
   "metadata": {},
   "outputs": [],
   "source": [
    "dump(scaler, open('Scalers/scaler_with_features.pkl', 'wb'))"
   ]
  },
  {
   "cell_type": "markdown",
   "id": "5e37b2b4",
   "metadata": {},
   "source": [
    "# DeepLearning"
   ]
  },
  {
   "cell_type": "markdown",
   "id": "81f0ee8c",
   "metadata": {},
   "source": [
    "# All price Cars"
   ]
  },
  {
   "cell_type": "code",
   "execution_count": 138,
   "id": "486132bf",
   "metadata": {},
   "outputs": [],
   "source": [
    "#Develop mode with Features Columns"
   ]
  },
  {
   "cell_type": "code",
   "execution_count": 26,
   "id": "dd80a995",
   "metadata": {},
   "outputs": [
    {
     "data": {
      "text/plain": [
       "Index(['Price', 'Condition', 'Vehicle_brand', 'Vehicle_model',\n",
       "       'Production_year', 'Mileage_km', 'Power_HP', 'Displacement_cm3',\n",
       "       'Fuel_type', 'Drive', 'Transmission', 'Type', 'Doors_number', 'Colour',\n",
       "       'ABS', 'Electricfrontwindows', 'Driversairbag', 'Powersteering',\n",
       "       'ASR(tractioncontrol)', 'Rearviewcamera', 'Heatedsidemirrors', 'CD',\n",
       "       'Electricallyadjustablemirrors', 'Passengersairbag', 'Alarm',\n",
       "       'Bluetooth', 'Automaticairconditioning', 'Airbagprotectingtheknees',\n",
       "       'Centrallocking', 'Immobilizer', 'Factoryradio', 'Alloywheels',\n",
       "       'Rainsensor', 'On-boardcomputer', 'Multifunctionsteeringwheel',\n",
       "       'AUXsocket', 'Xenonlights', 'USBsocket', 'MP3',\n",
       "       'ESP(stabilizationofthetrack)', 'Frontsideairbags',\n",
       "       'Rearparkingsensors', 'Isofix', 'Aircurtains', 'Tintedwindows',\n",
       "       'Daytimerunninglights', 'Rearsideairbags', 'Foglights',\n",
       "       'Twilightsensor', 'GPSnavigation', 'LEDlights', 'Manualairconditioning',\n",
       "       'Start-Stopsystem', 'Electrochromicrearviewmirror', 'Velorupholstery',\n",
       "       'Electrochromicsidemirrors', 'SDsocket', 'Dualzoneairconditioning',\n",
       "       'Adjustablesuspension', 'Panoramicroof', 'Sunroof',\n",
       "       'Frontparkingsensors', 'Heatedfrontseats', 'Leatherupholstery',\n",
       "       'Electricallyadjustableseats', 'Cruisecontrol', 'Parkingassistant',\n",
       "       'Speedlimiter', 'Heatedwindscreen', 'Electricrearwindows',\n",
       "       'Shiftpaddles', 'Blindspotsensor', 'Aftermarketradio', 'DVDplayer',\n",
       "       'CDchanger', 'Auxiliaryheating', 'Heatedrearseats',\n",
       "       'Four-zoneairconditioning', 'TVtuner', 'Roofrails',\n",
       "       'Activecruisecontrol', 'Hook', 'Laneassistant', 'HUD(head-updisplay)',\n",
       "       'Month', 'Year'],\n",
       "      dtype='object')"
      ]
     },
     "execution_count": 26,
     "metadata": {},
     "output_type": "execute_result"
    }
   ],
   "source": [
    "df.columns"
   ]
  },
  {
   "cell_type": "code",
   "execution_count": 45,
   "id": "824872e4",
   "metadata": {},
   "outputs": [],
   "source": [
    "model = Sequential()\n",
    "model.add(Dense(100, activation='relu'))\n",
    "model.add(Dense(100, activation='relu'))\n",
    "model.add(Dense(100, activation='relu'))\n",
    "model.add(Dense(100, activation='relu'))\n",
    "model.add(Dense(100, activation='relu'))\n",
    "model.add(Dense(100, activation='relu'))\n",
    "model.add(Dense(100, activation='relu'))\n",
    "\n",
    "model.add(Dense(1))\n",
    "\n",
    "model.compile(optimizer='adam', loss='mae')"
   ]
  },
  {
   "cell_type": "code",
   "execution_count": 47,
   "id": "da640de7",
   "metadata": {
    "scrolled": true
   },
   "outputs": [
    {
     "name": "stdout",
     "output_type": "stream",
     "text": [
      "Epoch 1/30\n",
      "547/547 [==============================] - 9s 10ms/step - loss: 17380.4551 - val_loss: 9674.9932\n",
      "Epoch 2/30\n",
      "547/547 [==============================] - 4s 8ms/step - loss: 8465.1035 - val_loss: 7768.5591\n",
      "Epoch 3/30\n",
      "547/547 [==============================] - 4s 6ms/step - loss: 7432.3262 - val_loss: 7323.6309\n",
      "Epoch 4/30\n",
      "547/547 [==============================] - 3s 6ms/step - loss: 7064.0552 - val_loss: 7919.7729\n",
      "Epoch 5/30\n",
      "547/547 [==============================] - 3s 6ms/step - loss: 6846.0488 - val_loss: 7206.4634\n",
      "Epoch 6/30\n",
      "547/547 [==============================] - 3s 6ms/step - loss: 6679.1353 - val_loss: 6738.7344\n",
      "Epoch 7/30\n",
      "547/547 [==============================] - 3s 6ms/step - loss: 6564.3066 - val_loss: 6745.9644\n",
      "Epoch 8/30\n",
      "547/547 [==============================] - 3s 5ms/step - loss: 6496.4941 - val_loss: 6798.5088\n",
      "Epoch 9/30\n",
      "547/547 [==============================] - 3s 6ms/step - loss: 6412.4233 - val_loss: 6670.7886\n",
      "Epoch 10/30\n",
      "547/547 [==============================] - 3s 6ms/step - loss: 6325.5288 - val_loss: 6666.2080\n",
      "Epoch 11/30\n",
      "547/547 [==============================] - 3s 5ms/step - loss: 6246.1182 - val_loss: 6751.9561\n",
      "Epoch 12/30\n",
      "547/547 [==============================] - 3s 6ms/step - loss: 6173.8691 - val_loss: 6505.8057\n",
      "Epoch 13/30\n",
      "547/547 [==============================] - 3s 6ms/step - loss: 6160.0728 - val_loss: 6422.6646\n",
      "Epoch 14/30\n",
      "547/547 [==============================] - 3s 6ms/step - loss: 6086.6514 - val_loss: 6592.9229\n",
      "Epoch 15/30\n",
      "547/547 [==============================] - 4s 6ms/step - loss: 6083.5527 - val_loss: 6452.7085\n",
      "Epoch 16/30\n",
      "547/547 [==============================] - 3s 6ms/step - loss: 5974.8691 - val_loss: 6361.4775\n",
      "Epoch 17/30\n",
      "547/547 [==============================] - 3s 6ms/step - loss: 5944.1626 - val_loss: 6379.0269\n",
      "Epoch 18/30\n",
      "547/547 [==============================] - 3s 6ms/step - loss: 5920.5674 - val_loss: 6444.3511\n",
      "Epoch 19/30\n",
      "547/547 [==============================] - 3s 6ms/step - loss: 5870.9204 - val_loss: 6413.4097\n",
      "Epoch 20/30\n",
      "547/547 [==============================] - 3s 6ms/step - loss: 5827.2607 - val_loss: 6494.3052\n",
      "Epoch 21/30\n",
      "547/547 [==============================] - 3s 6ms/step - loss: 5811.7793 - val_loss: 6353.0869\n",
      "Epoch 22/30\n",
      "547/547 [==============================] - 3s 6ms/step - loss: 5769.5962 - val_loss: 6429.7500\n",
      "Epoch 23/30\n",
      "547/547 [==============================] - 3s 6ms/step - loss: 5766.1064 - val_loss: 6335.3081\n",
      "Epoch 24/30\n",
      "547/547 [==============================] - 3s 6ms/step - loss: 5717.8223 - val_loss: 6417.6802\n",
      "Epoch 25/30\n",
      "547/547 [==============================] - 3s 6ms/step - loss: 5698.8540 - val_loss: 6272.7720\n",
      "Epoch 26/30\n",
      "547/547 [==============================] - 3s 6ms/step - loss: 5677.6665 - val_loss: 6412.0205\n",
      "Epoch 27/30\n",
      "547/547 [==============================] - 3s 6ms/step - loss: 5662.8989 - val_loss: 6309.2109\n",
      "Epoch 28/30\n",
      "547/547 [==============================] - 3s 6ms/step - loss: 5606.9517 - val_loss: 6266.2280\n",
      "Epoch 29/30\n",
      "547/547 [==============================] - 3s 6ms/step - loss: 5584.6367 - val_loss: 6270.7573\n",
      "Epoch 30/30\n",
      "547/547 [==============================] - 3s 6ms/step - loss: 5579.5493 - val_loss: 6311.8223\n"
     ]
    },
    {
     "data": {
      "text/plain": [
       "<keras.callbacks.History at 0x20f8315a7c0>"
      ]
     },
     "execution_count": 47,
     "metadata": {},
     "output_type": "execute_result"
    }
   ],
   "source": [
    "model.fit(x=X_train, y=y_train.values,\n",
    "          validation_data=(X_test, y_test.values),\n",
    "          batch_size=256, epochs=30)"
   ]
  },
  {
   "cell_type": "code",
   "execution_count": 48,
   "id": "8133f3a9",
   "metadata": {},
   "outputs": [],
   "source": [
    "losses = pd.DataFrame(model.history.history)"
   ]
  },
  {
   "cell_type": "code",
   "execution_count": 49,
   "id": "5d401131",
   "metadata": {
    "scrolled": true
   },
   "outputs": [
    {
     "data": {
      "text/plain": [
       "<AxesSubplot:>"
      ]
     },
     "execution_count": 49,
     "metadata": {},
     "output_type": "execute_result"
    },
    {
     "data": {
      "image/png": "[encoded data removed]",
      "text/plain": [
       "<Figure size 432x288 with 1 Axes>"
      ]
     },
     "metadata": {
      "needs_background": "light"
     },
     "output_type": "display_data"
    }
   ],
   "source": [
    "losses.plot()"
   ]
  },
  {
   "cell_type": "code",
   "execution_count": 28,
   "id": "0fbfcff6",
   "metadata": {},
   "outputs": [],
   "source": [
    "model.save(\"Model/model_with_features.h5\")"
   ]
  },
  {
   "cell_type": "code",
   "execution_count": 25,
   "id": "e0d78592",
   "metadata": {},
   "outputs": [
    {
     "data": {
      "text/plain": [
       "0.11201648212437877"
      ]
     },
     "execution_count": 25,
     "metadata": {},
     "output_type": "execute_result"
    }
   ],
   "source": [
    "5680.0005 / y_test.mean()"
   ]
  },
  {
   "cell_type": "markdown",
   "id": "13fcefcc",
   "metadata": {},
   "source": [
    "# Function to testing models"
   ]
  },
  {
   "cell_type": "code",
   "execution_count": 35,
   "id": "a1d851c0",
   "metadata": {},
   "outputs": [],
   "source": [
    "def test(X_train,y_train,X_test,y_test):\n",
    "    n_layers = round(len(X_train[0])/120)\n",
    "    neurons = round(len(X_train[0])/6)\n",
    "    score = []\n",
    "    \n",
    "    for j in range(1,5):\n",
    "        model = Sequential()\n",
    "        for i in range(0, n_layers*j):\n",
    "            model.add(Dense(neurons*j, activation='relu'))\n",
    "        model.add(Dense(1))\n",
    "        model.compile(optimizer='adam', loss='mae')\n",
    "        model.fit(x=X_train, y=y_train.values,\n",
    "              validation_data=(X_test, y_test.values),\n",
    "              batch_size=128, epochs=5)\n",
    "        preds = model.predict(X_test)\n",
    "        \n",
    "        score.append(\"Number of Layers : \" + str(n_layers*j))\n",
    "        score.append(\"Number of neurons by Layer : \" + str(neurons*j))\n",
    "        score.append(mean_absolute_error(y_test,preds)) \n",
    "    print(score)\n",
    "    return score\n",
    "    "
   ]
  },
  {
   "cell_type": "code",
   "execution_count": 36,
   "id": "a83327b1",
   "metadata": {
    "scrolled": true
   },
   "outputs": [
    {
     "name": "stdout",
     "output_type": "stream",
     "text": [
      "Epoch 1/5\n",
      "972/972 [==============================] - 2s 2ms/step - loss: 20899.5879 - val_loss: 10167.4336\n",
      "Epoch 2/5\n",
      "972/972 [==============================] - 2s 2ms/step - loss: 8656.4492 - val_loss: 7789.6904\n",
      "Epoch 3/5\n",
      "972/972 [==============================] - 2s 2ms/step - loss: 7298.5562 - val_loss: 7139.5269\n",
      "Epoch 4/5\n",
      "972/972 [==============================] - 2s 2ms/step - loss: 6827.2612 - val_loss: 6807.1885\n",
      "Epoch 5/5\n",
      "972/972 [==============================] - 2s 2ms/step - loss: 6590.9785 - val_loss: 6624.1367\n",
      "1667/1667 [==============================] - 2s 960us/step\n",
      "Epoch 1/5\n",
      "972/972 [==============================] - 4s 4ms/step - loss: 11594.3633 - val_loss: 7197.0825\n",
      "Epoch 2/5\n",
      "972/972 [==============================] - 3s 3ms/step - loss: 6712.7646 - val_loss: 6800.8896\n",
      "Epoch 3/5\n",
      "972/972 [==============================] - 3s 3ms/step - loss: 6407.5479 - val_loss: 6611.7358\n",
      "Epoch 4/5\n",
      "972/972 [==============================] - 3s 3ms/step - loss: 6276.7988 - val_loss: 6379.4102\n",
      "Epoch 5/5\n",
      "972/972 [==============================] - 3s 3ms/step - loss: 6172.5000 - val_loss: 6230.2002\n",
      "1667/1667 [==============================] - 2s 1ms/step\n",
      "Epoch 1/5\n",
      "972/972 [==============================] - 6s 6ms/step - loss: 10416.7207 - val_loss: 7727.6909\n",
      "Epoch 2/5\n",
      "972/972 [==============================] - 5s 5ms/step - loss: 6859.5059 - val_loss: 6580.1108\n",
      "Epoch 3/5\n",
      "972/972 [==============================] - 5s 5ms/step - loss: 6498.4282 - val_loss: 6372.7959\n",
      "Epoch 4/5\n",
      "972/972 [==============================] - 5s 5ms/step - loss: 6392.4575 - val_loss: 6320.3037\n",
      "Epoch 5/5\n",
      "972/972 [==============================] - 5s 5ms/step - loss: 6202.9756 - val_loss: 6265.7393\n",
      "1667/1667 [==============================] - 3s 1ms/step\n",
      "Epoch 1/5\n",
      "972/972 [==============================] - 8s 8ms/step - loss: 10035.0713 - val_loss: 7145.5503\n",
      "Epoch 2/5\n",
      "972/972 [==============================] - 7s 7ms/step - loss: 7022.9116 - val_loss: 6891.7666\n",
      "Epoch 3/5\n",
      "972/972 [==============================] - 7s 7ms/step - loss: 6659.2852 - val_loss: 6529.6899\n",
      "Epoch 4/5\n",
      "972/972 [==============================] - 7s 7ms/step - loss: 6427.9624 - val_loss: 6192.9380\n",
      "Epoch 5/5\n",
      "972/972 [==============================] - 7s 7ms/step - loss: 6287.7510 - val_loss: 6653.3472\n",
      "1667/1667 [==============================] - 3s 2ms/step\n",
      "['Number of Layers : 3', 'Number of neurons by Layer : 60', 6624.136367610122, 'Number of Layers : 6', 'Number of neurons by Layer : 120', 6230.200321114519, 'Number of Layers : 9', 'Number of neurons by Layer : 180', 6265.739889162354, 'Number of Layers : 12', 'Number of neurons by Layer : 240', 6653.347421685897]\n"
     ]
    }
   ],
   "source": [
    "score = test(X_train, y_train, X_test, y_test)"
   ]
  },
  {
   "cell_type": "code",
   "execution_count": 291,
   "id": "ffe83bda",
   "metadata": {
    "scrolled": false
   },
   "outputs": [
    {
     "data": {
      "text/plain": [
       "['Number of Layers : 3',\n",
       " 'Number of neurons by Layer : 60',\n",
       " 4745.423315321655,\n",
       " 'Number of Layers : 6',\n",
       " 'Number of neurons by Layer : 120',\n",
       " 4658.609052938467,\n",
       " 'Number of Layers : 9',\n",
       " 'Number of neurons by Layer : 180',\n",
       " 4726.407577611303,\n",
       " 'Number of Layers : 12',\n",
       " 'Number of neurons by Layer : 240',\n",
       " 5646.325984682246]"
      ]
     },
     "execution_count": 291,
     "metadata": {},
     "output_type": "execute_result"
    }
   ],
   "source": [
    "score"
   ]
  },
  {
   "cell_type": "code",
   "execution_count": 292,
   "id": "ca556976",
   "metadata": {},
   "outputs": [],
   "source": [
    "# 6 leyers with 120 neurons"
   ]
  },
  {
   "cell_type": "markdown",
   "id": "e6cf78dc",
   "metadata": {},
   "source": [
    "# Separating brands turned out to be pointless"
   ]
  },
  {
   "cell_type": "markdown",
   "id": "c04cd3f5",
   "metadata": {},
   "source": [
    "# Cars below 200k"
   ]
  },
  {
   "cell_type": "code",
   "execution_count": 94,
   "id": "c169be5d",
   "metadata": {},
   "outputs": [],
   "source": [
    "df_dum_200k = df_dum[df_dum[\"Price\"] < 200000]"
   ]
  },
  {
   "cell_type": "code",
   "execution_count": 95,
   "id": "6f172304",
   "metadata": {},
   "outputs": [
    {
     "name": "stderr",
     "output_type": "stream",
     "text": [
      "1:37: E251 unexpected spaces around keyword / parameter equals\n",
      "1:39: E251 unexpected spaces around keyword / parameter equals\n"
     ]
    }
   ],
   "source": [
    "X = df_dum_200k.drop([\"Price\"], axis = 1)"
   ]
  },
  {
   "cell_type": "code",
   "execution_count": 96,
   "id": "9d7a0370",
   "metadata": {},
   "outputs": [],
   "source": [
    "y = df_dum_200k[\"Price\"]"
   ]
  },
  {
   "cell_type": "code",
   "execution_count": 97,
   "id": "d8937573",
   "metadata": {},
   "outputs": [
    {
     "name": "stderr",
     "output_type": "stream",
     "text": [
      "1:80: E501 line too long (90 > 79 characters)\n"
     ]
    }
   ],
   "source": [
    "X_train, X_test, y_train, y_test = train_test_split(X, y, test_size=0.2, random_state=110)"
   ]
  },
  {
   "cell_type": "code",
   "execution_count": 98,
   "id": "4aae0a89",
   "metadata": {},
   "outputs": [],
   "source": [
    "scaler = StandardScaler()"
   ]
  },
  {
   "cell_type": "code",
   "execution_count": 99,
   "id": "68ff59f9",
   "metadata": {},
   "outputs": [],
   "source": [
    "X_train = scaler.fit_transform(X_train)"
   ]
  },
  {
   "cell_type": "code",
   "execution_count": 100,
   "id": "bebbae78",
   "metadata": {},
   "outputs": [],
   "source": [
    "X_test = scaler.transform(X_test)"
   ]
  },
  {
   "cell_type": "code",
   "execution_count": 101,
   "id": "d3ae406e",
   "metadata": {},
   "outputs": [
    {
     "name": "stderr",
     "output_type": "stream",
     "text": [
      "10:1: E265 block comment should start with '# '\n"
     ]
    }
   ],
   "source": [
    "model = Sequential()\n",
    "\n",
    "model.add(Dense(100, activation='relu'))\n",
    "model.add(Dense(100, activation='relu'))\n",
    "model.add(Dense(100, activation='relu'))\n",
    "model.add(Dense(100, activation='relu'))\n",
    "model.add(Dense(100, activation='relu'))\n",
    "model.add(Dense(100, activation='relu'))\n",
    "model.add(Dense(100, activation='relu'))\n",
    "# model.add(Dense(6,activation='relu'))\n",
    "model.add(Dense(1))\n",
    "\n",
    "model.compile(optimizer='adam', loss='mae')"
   ]
  },
  {
   "cell_type": "code",
   "execution_count": 102,
   "id": "6f27a335",
   "metadata": {
    "scrolled": false
   },
   "outputs": [
    {
     "data": {
      "text/plain": [
       "<keras.callbacks.History at 0x20f89b0da60>"
      ]
     },
     "execution_count": 102,
     "metadata": {},
     "output_type": "execute_result"
    }
   ],
   "source": [
    "model.fit(x=X_train, y=y_train.values,\n",
    "          validation_data=(X_test, y_test.values),\n",
    "          batch_size=256, epochs=50)"
   ]
  },
  {
   "cell_type": "code",
   "execution_count": 106,
   "id": "299e8451",
   "metadata": {},
   "outputs": [],
   "source": [
    "losses = pd.DataFrame(model.history.history)"
   ]
  },
  {
   "cell_type": "code",
   "execution_count": 107,
   "id": "3812dd8a",
   "metadata": {
    "scrolled": true
   },
   "outputs": [
    {
     "data": {
      "text/plain": [
       "<AxesSubplot:>"
      ]
     },
     "execution_count": 107,
     "metadata": {},
     "output_type": "execute_result"
    },
    {
     "data": {
      "image/png": "[encoded data removed]",
      "text/plain": [
       "<Figure size 432x288 with 1 Axes>"
      ]
     },
     "metadata": {
      "needs_background": "light"
     },
     "output_type": "display_data"
    }
   ],
   "source": [
    "losses.plot()"
   ]
  },
  {
   "cell_type": "code",
   "execution_count": 108,
   "id": "eb961e37",
   "metadata": {},
   "outputs": [
    {
     "data": {
      "text/plain": [
       "0.0962324459490948"
      ]
     },
     "execution_count": 108,
     "metadata": {},
     "output_type": "execute_result"
    }
   ],
   "source": [
    "4623.3745 / y_test.mean()"
   ]
  },
  {
   "cell_type": "code",
   "execution_count": 109,
   "id": "d7cf040e",
   "metadata": {},
   "outputs": [],
   "source": [
    "model.save(\"Model/model_with_features_under_200k.h5\")"
   ]
  },
  {
   "cell_type": "code",
   "execution_count": 110,
   "id": "08523ff9",
   "metadata": {
    "scrolled": true
   },
   "outputs": [],
   "source": [
    "preds = model.predict(X_test)"
   ]
  },
  {
   "cell_type": "code",
   "execution_count": 111,
   "id": "05742b42",
   "metadata": {},
   "outputs": [
    {
     "data": {
      "text/plain": [
       "5141.58092904627"
      ]
     },
     "execution_count": 111,
     "metadata": {},
     "output_type": "execute_result"
    },
    {
     "name": "stderr",
     "output_type": "stream",
     "text": [
      "1:35: W291 trailing whitespace\n"
     ]
    }
   ],
   "source": [
    "mean_absolute_error(y_test, preds) "
   ]
  },
  {
   "cell_type": "code",
   "execution_count": 44,
   "id": "bc9584a1",
   "metadata": {},
   "outputs": [],
   "source": [
    "preds_df = pd.DataFrame(preds)"
   ]
  },
  {
   "cell_type": "code",
   "execution_count": 45,
   "id": "efd9a2da",
   "metadata": {},
   "outputs": [],
   "source": [
    "y_df = pd.DataFrame(y_test.values)"
   ]
  },
  {
   "cell_type": "code",
   "execution_count": 46,
   "id": "0eeaf0fc",
   "metadata": {
    "scrolled": false
   },
   "outputs": [
    {
     "data": {
      "text/html": [
       "<div>\n",
       "<style scoped>\n",
       "    .dataframe tbody tr th:only-of-type {\n",
       "        vertical-align: middle;\n",
       "    }\n",
       "\n",
       "    .dataframe tbody tr th {\n",
       "        vertical-align: top;\n",
       "    }\n",
       "\n",
       "    .dataframe thead th {\n",
       "        text-align: right;\n",
       "    }\n",
       "</style>\n",
       "<table border=\"1\" class=\"dataframe\">\n",
       "  <thead>\n",
       "    <tr style=\"text-align: right;\">\n",
       "      <th></th>\n",
       "      <th>0</th>\n",
       "    </tr>\n",
       "  </thead>\n",
       "  <tbody>\n",
       "    <tr>\n",
       "      <th>0</th>\n",
       "      <td>43546.734375</td>\n",
       "    </tr>\n",
       "    <tr>\n",
       "      <th>1</th>\n",
       "      <td>23210.261719</td>\n",
       "    </tr>\n",
       "    <tr>\n",
       "      <th>2</th>\n",
       "      <td>109916.078125</td>\n",
       "    </tr>\n",
       "    <tr>\n",
       "      <th>3</th>\n",
       "      <td>31763.298828</td>\n",
       "    </tr>\n",
       "    <tr>\n",
       "      <th>4</th>\n",
       "      <td>45590.132812</td>\n",
       "    </tr>\n",
       "    <tr>\n",
       "      <th>...</th>\n",
       "      <td>...</td>\n",
       "    </tr>\n",
       "    <tr>\n",
       "      <th>25107</th>\n",
       "      <td>26385.107422</td>\n",
       "    </tr>\n",
       "    <tr>\n",
       "      <th>25108</th>\n",
       "      <td>30669.240234</td>\n",
       "    </tr>\n",
       "    <tr>\n",
       "      <th>25109</th>\n",
       "      <td>20046.054688</td>\n",
       "    </tr>\n",
       "    <tr>\n",
       "      <th>25110</th>\n",
       "      <td>41768.257812</td>\n",
       "    </tr>\n",
       "    <tr>\n",
       "      <th>25111</th>\n",
       "      <td>48673.132812</td>\n",
       "    </tr>\n",
       "  </tbody>\n",
       "</table>\n",
       "<p>25112 rows × 1 columns</p>\n",
       "</div>"
      ],
      "text/plain": [
       "                   0\n",
       "0       43546.734375\n",
       "1       23210.261719\n",
       "2      109916.078125\n",
       "3       31763.298828\n",
       "4       45590.132812\n",
       "...              ...\n",
       "25107   26385.107422\n",
       "25108   30669.240234\n",
       "25109   20046.054688\n",
       "25110   41768.257812\n",
       "25111   48673.132812\n",
       "\n",
       "[25112 rows x 1 columns]"
      ]
     },
     "execution_count": 46,
     "metadata": {},
     "output_type": "execute_result"
    }
   ],
   "source": [
    "preds_df"
   ]
  },
  {
   "cell_type": "code",
   "execution_count": 47,
   "id": "f796a6d8",
   "metadata": {},
   "outputs": [
    {
     "data": {
      "text/html": [
       "<div>\n",
       "<style scoped>\n",
       "    .dataframe tbody tr th:only-of-type {\n",
       "        vertical-align: middle;\n",
       "    }\n",
       "\n",
       "    .dataframe tbody tr th {\n",
       "        vertical-align: top;\n",
       "    }\n",
       "\n",
       "    .dataframe thead th {\n",
       "        text-align: right;\n",
       "    }\n",
       "</style>\n",
       "<table border=\"1\" class=\"dataframe\">\n",
       "  <thead>\n",
       "    <tr style=\"text-align: right;\">\n",
       "      <th></th>\n",
       "      <th>0</th>\n",
       "    </tr>\n",
       "  </thead>\n",
       "  <tbody>\n",
       "    <tr>\n",
       "      <th>0</th>\n",
       "      <td>49900</td>\n",
       "    </tr>\n",
       "    <tr>\n",
       "      <th>1</th>\n",
       "      <td>17700</td>\n",
       "    </tr>\n",
       "    <tr>\n",
       "      <th>2</th>\n",
       "      <td>119999</td>\n",
       "    </tr>\n",
       "    <tr>\n",
       "      <th>3</th>\n",
       "      <td>31900</td>\n",
       "    </tr>\n",
       "    <tr>\n",
       "      <th>4</th>\n",
       "      <td>39900</td>\n",
       "    </tr>\n",
       "    <tr>\n",
       "      <th>...</th>\n",
       "      <td>...</td>\n",
       "    </tr>\n",
       "    <tr>\n",
       "      <th>25107</th>\n",
       "      <td>32500</td>\n",
       "    </tr>\n",
       "    <tr>\n",
       "      <th>25108</th>\n",
       "      <td>33700</td>\n",
       "    </tr>\n",
       "    <tr>\n",
       "      <th>25109</th>\n",
       "      <td>21500</td>\n",
       "    </tr>\n",
       "    <tr>\n",
       "      <th>25110</th>\n",
       "      <td>49900</td>\n",
       "    </tr>\n",
       "    <tr>\n",
       "      <th>25111</th>\n",
       "      <td>49900</td>\n",
       "    </tr>\n",
       "  </tbody>\n",
       "</table>\n",
       "<p>25112 rows × 1 columns</p>\n",
       "</div>"
      ],
      "text/plain": [
       "            0\n",
       "0       49900\n",
       "1       17700\n",
       "2      119999\n",
       "3       31900\n",
       "4       39900\n",
       "...       ...\n",
       "25107   32500\n",
       "25108   33700\n",
       "25109   21500\n",
       "25110   49900\n",
       "25111   49900\n",
       "\n",
       "[25112 rows x 1 columns]"
      ]
     },
     "execution_count": 47,
     "metadata": {},
     "output_type": "execute_result"
    }
   ],
   "source": [
    "y_df"
   ]
  },
  {
   "cell_type": "code",
   "execution_count": 48,
   "id": "30de0268",
   "metadata": {},
   "outputs": [],
   "source": [
    "result = pd.concat([preds_df, y_df], axis = 1, ignore_index=True, join = \"outer\")"
   ]
  },
  {
   "cell_type": "code",
   "execution_count": 49,
   "id": "d506994d",
   "metadata": {},
   "outputs": [],
   "source": [
    "result.columns = [\"Predictions\", \"True_Value\"]"
   ]
  },
  {
   "cell_type": "code",
   "execution_count": 50,
   "id": "20b501fd",
   "metadata": {},
   "outputs": [],
   "source": [
    "result[\"Error\"] = 0"
   ]
  },
  {
   "cell_type": "code",
   "execution_count": 51,
   "id": "9281f719",
   "metadata": {
    "scrolled": true
   },
   "outputs": [
    {
     "name": "stderr",
     "output_type": "stream",
     "text": [
      "C:\\Users\\kacpe\\AppData\\Local\\Temp/ipykernel_24304/87571819.py:2: SettingWithCopyWarning: \n",
      "A value is trying to be set on a copy of a slice from a DataFrame\n",
      "\n",
      "See the caveats in the documentation: https://pandas.pydata.org/pandas-docs/stable/user_guide/indexing.html#returning-a-view-versus-a-copy\n",
      "  result[\"Error\"].iloc[i] = result[\"True_Value\"].iloc[i] - result[\"Predictions\"].iloc[i]\n"
     ]
    }
   ],
   "source": [
    "for i in range(0,len(result)):\n",
    "    result[\"Error\"].iloc[i] = result[\"True_Value\"].iloc[i] - result[\"Predictions\"].iloc[i]"
   ]
  },
  {
   "cell_type": "code",
   "execution_count": 54,
   "id": "97acb69c",
   "metadata": {
    "scrolled": true
   },
   "outputs": [
    {
     "data": {
      "text/html": [
       "<div>\n",
       "<style scoped>\n",
       "    .dataframe tbody tr th:only-of-type {\n",
       "        vertical-align: middle;\n",
       "    }\n",
       "\n",
       "    .dataframe tbody tr th {\n",
       "        vertical-align: top;\n",
       "    }\n",
       "\n",
       "    .dataframe thead th {\n",
       "        text-align: right;\n",
       "    }\n",
       "</style>\n",
       "<table border=\"1\" class=\"dataframe\">\n",
       "  <thead>\n",
       "    <tr style=\"text-align: right;\">\n",
       "      <th></th>\n",
       "      <th>Predictions</th>\n",
       "      <th>True_Value</th>\n",
       "      <th>Error</th>\n",
       "    </tr>\n",
       "  </thead>\n",
       "  <tbody>\n",
       "    <tr>\n",
       "      <th>0</th>\n",
       "      <td>43546.734375</td>\n",
       "      <td>49900</td>\n",
       "      <td>6353.265625</td>\n",
       "    </tr>\n",
       "    <tr>\n",
       "      <th>1</th>\n",
       "      <td>23210.261719</td>\n",
       "      <td>17700</td>\n",
       "      <td>-5510.261719</td>\n",
       "    </tr>\n",
       "    <tr>\n",
       "      <th>2</th>\n",
       "      <td>109916.078125</td>\n",
       "      <td>119999</td>\n",
       "      <td>10082.921875</td>\n",
       "    </tr>\n",
       "    <tr>\n",
       "      <th>3</th>\n",
       "      <td>31763.298828</td>\n",
       "      <td>31900</td>\n",
       "      <td>136.701172</td>\n",
       "    </tr>\n",
       "    <tr>\n",
       "      <th>4</th>\n",
       "      <td>45590.132812</td>\n",
       "      <td>39900</td>\n",
       "      <td>-5690.132812</td>\n",
       "    </tr>\n",
       "    <tr>\n",
       "      <th>5</th>\n",
       "      <td>29887.794922</td>\n",
       "      <td>32900</td>\n",
       "      <td>3012.205078</td>\n",
       "    </tr>\n",
       "    <tr>\n",
       "      <th>6</th>\n",
       "      <td>6286.570801</td>\n",
       "      <td>6299</td>\n",
       "      <td>12.429199</td>\n",
       "    </tr>\n",
       "    <tr>\n",
       "      <th>7</th>\n",
       "      <td>78367.484375</td>\n",
       "      <td>85000</td>\n",
       "      <td>6632.515625</td>\n",
       "    </tr>\n",
       "    <tr>\n",
       "      <th>8</th>\n",
       "      <td>63062.000000</td>\n",
       "      <td>67672</td>\n",
       "      <td>4610.000000</td>\n",
       "    </tr>\n",
       "    <tr>\n",
       "      <th>9</th>\n",
       "      <td>63467.859375</td>\n",
       "      <td>65900</td>\n",
       "      <td>2432.140625</td>\n",
       "    </tr>\n",
       "  </tbody>\n",
       "</table>\n",
       "</div>"
      ],
      "text/plain": [
       "     Predictions  True_Value         Error\n",
       "0   43546.734375       49900   6353.265625\n",
       "1   23210.261719       17700  -5510.261719\n",
       "2  109916.078125      119999  10082.921875\n",
       "3   31763.298828       31900    136.701172\n",
       "4   45590.132812       39900  -5690.132812\n",
       "5   29887.794922       32900   3012.205078\n",
       "6    6286.570801        6299     12.429199\n",
       "7   78367.484375       85000   6632.515625\n",
       "8   63062.000000       67672   4610.000000\n",
       "9   63467.859375       65900   2432.140625"
      ]
     },
     "execution_count": 54,
     "metadata": {},
     "output_type": "execute_result"
    }
   ],
   "source": [
    "result.head(10)"
   ]
  },
  {
   "cell_type": "code",
   "execution_count": 53,
   "id": "9c9a8963",
   "metadata": {
    "scrolled": true
   },
   "outputs": [
    {
     "data": {
      "text/plain": [
       "4597.566691330262"
      ]
     },
     "execution_count": 53,
     "metadata": {},
     "output_type": "execute_result"
    }
   ],
   "source": [
    "np.mean(abs(result[result[\"True_Value\"] < 200000][\"Error\"]))"
   ]
  },
  {
   "cell_type": "code",
   "execution_count": null,
   "id": "32efd59a",
   "metadata": {},
   "outputs": [],
   "source": []
  },
  {
   "cell_type": "markdown",
   "id": "3373c6ab",
   "metadata": {},
   "source": [
    "# Cars 100k max"
   ]
  },
  {
   "cell_type": "code",
   "execution_count": 25,
   "id": "416478c7",
   "metadata": {},
   "outputs": [],
   "source": [
    "df = pd.read_csv(\"Data/clean_data.csv\", index_col=\"Index\")"
   ]
  },
  {
   "cell_type": "code",
   "execution_count": 26,
   "id": "fb4e0532",
   "metadata": {
    "scrolled": true
   },
   "outputs": [
    {
     "data": {
      "text/html": [
       "<div>\n",
       "<style scoped>\n",
       "    .dataframe tbody tr th:only-of-type {\n",
       "        vertical-align: middle;\n",
       "    }\n",
       "\n",
       "    .dataframe tbody tr th {\n",
       "        vertical-align: top;\n",
       "    }\n",
       "\n",
       "    .dataframe thead th {\n",
       "        text-align: right;\n",
       "    }\n",
       "</style>\n",
       "<table border=\"1\" class=\"dataframe\">\n",
       "  <thead>\n",
       "    <tr style=\"text-align: right;\">\n",
       "      <th></th>\n",
       "      <th>Price</th>\n",
       "      <th>Condition</th>\n",
       "      <th>Vehicle_brand</th>\n",
       "      <th>Vehicle_model</th>\n",
       "      <th>Production_year</th>\n",
       "      <th>Mileage_km</th>\n",
       "      <th>Power_HP</th>\n",
       "      <th>Displacement_cm3</th>\n",
       "      <th>Fuel_type</th>\n",
       "      <th>Drive</th>\n",
       "      <th>Transmission</th>\n",
       "      <th>Doors_number</th>\n",
       "      <th>Colour</th>\n",
       "      <th>Features</th>\n",
       "    </tr>\n",
       "    <tr>\n",
       "      <th>Index</th>\n",
       "      <th></th>\n",
       "      <th></th>\n",
       "      <th></th>\n",
       "      <th></th>\n",
       "      <th></th>\n",
       "      <th></th>\n",
       "      <th></th>\n",
       "      <th></th>\n",
       "      <th></th>\n",
       "      <th></th>\n",
       "      <th></th>\n",
       "      <th></th>\n",
       "      <th></th>\n",
       "      <th></th>\n",
       "    </tr>\n",
       "  </thead>\n",
       "  <tbody>\n",
       "    <tr>\n",
       "      <th>116465</th>\n",
       "      <td>42900</td>\n",
       "      <td>Used</td>\n",
       "      <td>Opel</td>\n",
       "      <td>Astra</td>\n",
       "      <td>2015</td>\n",
       "      <td>125000.0</td>\n",
       "      <td>136.0</td>\n",
       "      <td>1598.0</td>\n",
       "      <td>Diesel</td>\n",
       "      <td>Front wheels</td>\n",
       "      <td>Manual</td>\n",
       "      <td>5.0</td>\n",
       "      <td>red</td>\n",
       "      <td>48.0</td>\n",
       "    </tr>\n",
       "    <tr>\n",
       "      <th>116466</th>\n",
       "      <td>11900</td>\n",
       "      <td>Used</td>\n",
       "      <td>Opel</td>\n",
       "      <td>Astra</td>\n",
       "      <td>2006</td>\n",
       "      <td>192547.0</td>\n",
       "      <td>140.0</td>\n",
       "      <td>1796.0</td>\n",
       "      <td>Gasoline</td>\n",
       "      <td>Front wheels</td>\n",
       "      <td>Manual</td>\n",
       "      <td>5.0</td>\n",
       "      <td>green</td>\n",
       "      <td>35.0</td>\n",
       "    </tr>\n",
       "    <tr>\n",
       "      <th>116467</th>\n",
       "      <td>25900</td>\n",
       "      <td>Used</td>\n",
       "      <td>Opel</td>\n",
       "      <td>Astra</td>\n",
       "      <td>2010</td>\n",
       "      <td>119000.0</td>\n",
       "      <td>115.0</td>\n",
       "      <td>1598.0</td>\n",
       "      <td>Gasoline</td>\n",
       "      <td>Front wheels</td>\n",
       "      <td>Manual</td>\n",
       "      <td>5.0</td>\n",
       "      <td>black</td>\n",
       "      <td>32.0</td>\n",
       "    </tr>\n",
       "    <tr>\n",
       "      <th>116468</th>\n",
       "      <td>8400</td>\n",
       "      <td>Used</td>\n",
       "      <td>Opel</td>\n",
       "      <td>Astra</td>\n",
       "      <td>2007</td>\n",
       "      <td>290000.0</td>\n",
       "      <td>100.0</td>\n",
       "      <td>1910.0</td>\n",
       "      <td>Diesel</td>\n",
       "      <td>Front wheels</td>\n",
       "      <td>Manual</td>\n",
       "      <td>5.0</td>\n",
       "      <td>silver</td>\n",
       "      <td>25.0</td>\n",
       "    </tr>\n",
       "    <tr>\n",
       "      <th>116469</th>\n",
       "      <td>15999</td>\n",
       "      <td>Used</td>\n",
       "      <td>Opel</td>\n",
       "      <td>Astra</td>\n",
       "      <td>2008</td>\n",
       "      <td>168779.0</td>\n",
       "      <td>115.0</td>\n",
       "      <td>1598.0</td>\n",
       "      <td>Gasoline</td>\n",
       "      <td>Front wheels</td>\n",
       "      <td>Manual</td>\n",
       "      <td>5.0</td>\n",
       "      <td>silver</td>\n",
       "      <td>24.0</td>\n",
       "    </tr>\n",
       "    <tr>\n",
       "      <th>...</th>\n",
       "      <td>...</td>\n",
       "      <td>...</td>\n",
       "      <td>...</td>\n",
       "      <td>...</td>\n",
       "      <td>...</td>\n",
       "      <td>...</td>\n",
       "      <td>...</td>\n",
       "      <td>...</td>\n",
       "      <td>...</td>\n",
       "      <td>...</td>\n",
       "      <td>...</td>\n",
       "      <td>...</td>\n",
       "      <td>...</td>\n",
       "      <td>...</td>\n",
       "    </tr>\n",
       "    <tr>\n",
       "      <th>36977</th>\n",
       "      <td>9800</td>\n",
       "      <td>Used</td>\n",
       "      <td>Chevrolet</td>\n",
       "      <td>Spark</td>\n",
       "      <td>2010</td>\n",
       "      <td>200000.0</td>\n",
       "      <td>68.0</td>\n",
       "      <td>995.0</td>\n",
       "      <td>Gasoline</td>\n",
       "      <td>Front wheels</td>\n",
       "      <td>Manual</td>\n",
       "      <td>5.0</td>\n",
       "      <td>silver</td>\n",
       "      <td>21.0</td>\n",
       "    </tr>\n",
       "    <tr>\n",
       "      <th>36981</th>\n",
       "      <td>13800</td>\n",
       "      <td>Used</td>\n",
       "      <td>Chevrolet</td>\n",
       "      <td>Spark</td>\n",
       "      <td>2012</td>\n",
       "      <td>112644.0</td>\n",
       "      <td>68.0</td>\n",
       "      <td>1000.0</td>\n",
       "      <td>Gasoline</td>\n",
       "      <td>Front wheels</td>\n",
       "      <td>Manual</td>\n",
       "      <td>5.0</td>\n",
       "      <td>black</td>\n",
       "      <td>19.0</td>\n",
       "    </tr>\n",
       "    <tr>\n",
       "      <th>36984</th>\n",
       "      <td>11500</td>\n",
       "      <td>Used</td>\n",
       "      <td>Chevrolet</td>\n",
       "      <td>Spark</td>\n",
       "      <td>2011</td>\n",
       "      <td>126000.0</td>\n",
       "      <td>68.0</td>\n",
       "      <td>995.0</td>\n",
       "      <td>Gasoline</td>\n",
       "      <td>Front wheels</td>\n",
       "      <td>Manual</td>\n",
       "      <td>5.0</td>\n",
       "      <td>black</td>\n",
       "      <td>7.0</td>\n",
       "    </tr>\n",
       "    <tr>\n",
       "      <th>36986</th>\n",
       "      <td>9300</td>\n",
       "      <td>Used</td>\n",
       "      <td>Chevrolet</td>\n",
       "      <td>Spark</td>\n",
       "      <td>2012</td>\n",
       "      <td>160000.0</td>\n",
       "      <td>75.0</td>\n",
       "      <td>995.0</td>\n",
       "      <td>Gasoline + LPG</td>\n",
       "      <td>Front wheels</td>\n",
       "      <td>Manual</td>\n",
       "      <td>5.0</td>\n",
       "      <td>other</td>\n",
       "      <td>16.0</td>\n",
       "    </tr>\n",
       "    <tr>\n",
       "      <th>37010</th>\n",
       "      <td>14980</td>\n",
       "      <td>Used</td>\n",
       "      <td>Chevrolet</td>\n",
       "      <td>Spark</td>\n",
       "      <td>2013</td>\n",
       "      <td>70000.0</td>\n",
       "      <td>68.0</td>\n",
       "      <td>995.0</td>\n",
       "      <td>Gasoline</td>\n",
       "      <td>Front wheels</td>\n",
       "      <td>Manual</td>\n",
       "      <td>5.0</td>\n",
       "      <td>yellow</td>\n",
       "      <td>15.0</td>\n",
       "    </tr>\n",
       "  </tbody>\n",
       "</table>\n",
       "<p>177733 rows × 14 columns</p>\n",
       "</div>"
      ],
      "text/plain": [
       "        Price Condition Vehicle_brand Vehicle_model  Production_year  \\\n",
       "Index                                                                  \n",
       "116465  42900      Used          Opel         Astra             2015   \n",
       "116466  11900      Used          Opel         Astra             2006   \n",
       "116467  25900      Used          Opel         Astra             2010   \n",
       "116468   8400      Used          Opel         Astra             2007   \n",
       "116469  15999      Used          Opel         Astra             2008   \n",
       "...       ...       ...           ...           ...              ...   \n",
       "36977    9800      Used     Chevrolet         Spark             2010   \n",
       "36981   13800      Used     Chevrolet         Spark             2012   \n",
       "36984   11500      Used     Chevrolet         Spark             2011   \n",
       "36986    9300      Used     Chevrolet         Spark             2012   \n",
       "37010   14980      Used     Chevrolet         Spark             2013   \n",
       "\n",
       "        Mileage_km  Power_HP  Displacement_cm3       Fuel_type         Drive  \\\n",
       "Index                                                                          \n",
       "116465    125000.0     136.0            1598.0          Diesel  Front wheels   \n",
       "116466    192547.0     140.0            1796.0        Gasoline  Front wheels   \n",
       "116467    119000.0     115.0            1598.0        Gasoline  Front wheels   \n",
       "116468    290000.0     100.0            1910.0          Diesel  Front wheels   \n",
       "116469    168779.0     115.0            1598.0        Gasoline  Front wheels   \n",
       "...            ...       ...               ...             ...           ...   \n",
       "36977     200000.0      68.0             995.0        Gasoline  Front wheels   \n",
       "36981     112644.0      68.0            1000.0        Gasoline  Front wheels   \n",
       "36984     126000.0      68.0             995.0        Gasoline  Front wheels   \n",
       "36986     160000.0      75.0             995.0  Gasoline + LPG  Front wheels   \n",
       "37010      70000.0      68.0             995.0        Gasoline  Front wheels   \n",
       "\n",
       "       Transmission  Doors_number  Colour  Features  \n",
       "Index                                                \n",
       "116465       Manual           5.0     red      48.0  \n",
       "116466       Manual           5.0   green      35.0  \n",
       "116467       Manual           5.0   black      32.0  \n",
       "116468       Manual           5.0  silver      25.0  \n",
       "116469       Manual           5.0  silver      24.0  \n",
       "...             ...           ...     ...       ...  \n",
       "36977        Manual           5.0  silver      21.0  \n",
       "36981        Manual           5.0   black      19.0  \n",
       "36984        Manual           5.0   black       7.0  \n",
       "36986        Manual           5.0   other      16.0  \n",
       "37010        Manual           5.0  yellow      15.0  \n",
       "\n",
       "[177733 rows x 14 columns]"
      ]
     },
     "execution_count": 26,
     "metadata": {},
     "output_type": "execute_result"
    }
   ],
   "source": [
    "df"
   ]
  },
  {
   "cell_type": "code",
   "execution_count": 27,
   "id": "a831cacb",
   "metadata": {
    "scrolled": true
   },
   "outputs": [],
   "source": [
    "df_100k = df[df[\"Price\"] < 100000]"
   ]
  },
  {
   "cell_type": "code",
   "execution_count": 28,
   "id": "cddb61c5",
   "metadata": {},
   "outputs": [],
   "source": [
    "df_dum = pd.get_dummies(df_100k, drop_first=True)"
   ]
  },
  {
   "cell_type": "code",
   "execution_count": 29,
   "id": "78d8d889",
   "metadata": {},
   "outputs": [],
   "source": [
    "X = df_dum.drop([\"Price\"], axis = 1)"
   ]
  },
  {
   "cell_type": "code",
   "execution_count": 30,
   "id": "279a74af",
   "metadata": {},
   "outputs": [],
   "source": [
    "y = df_dum[\"Price\"]"
   ]
  },
  {
   "cell_type": "code",
   "execution_count": 21,
   "id": "5684c48e",
   "metadata": {},
   "outputs": [],
   "source": [
    "from sklearn.model_selection import train_test_split\n",
    "from sklearn.preprocessing import StandardScaler"
   ]
  },
  {
   "cell_type": "code",
   "execution_count": 32,
   "id": "9cfb605c",
   "metadata": {},
   "outputs": [],
   "source": [
    "X_train, X_test, y_train, y_test = train_test_split(X, y, test_size=0.1, random_state=110)"
   ]
  },
  {
   "cell_type": "code",
   "execution_count": 33,
   "id": "cba02d38",
   "metadata": {},
   "outputs": [],
   "source": [
    "X_train = scaler.fit_transform(X_train)"
   ]
  },
  {
   "cell_type": "code",
   "execution_count": 34,
   "id": "ff322a09",
   "metadata": {},
   "outputs": [],
   "source": [
    "X_test = scaler.transform(X_test)"
   ]
  },
  {
   "cell_type": "markdown",
   "id": "05928f3d",
   "metadata": {},
   "source": [
    "# Main model start"
   ]
  },
  {
   "cell_type": "code",
   "execution_count": 278,
   "id": "ce73e5bb",
   "metadata": {},
   "outputs": [
    {
     "data": {
      "text/plain": [
       "Index(['Price', 'Condition', 'Vehicle_brand', 'Vehicle_model',\n",
       "       'Production_year', 'Mileage_km', 'Power_HP', 'Displacement_cm3',\n",
       "       'Fuel_type', 'Drive', 'Transmission', 'Doors_number', 'Colour',\n",
       "       'Features'],\n",
       "      dtype='object')"
      ]
     },
     "execution_count": 278,
     "metadata": {},
     "output_type": "execute_result"
    }
   ],
   "source": [
    "df.columns\n"
   ]
  },
  {
   "cell_type": "code",
   "execution_count": 268,
   "id": "1e7cc7f8",
   "metadata": {},
   "outputs": [],
   "source": [
    "df_dum = pd.get_dummies(df)"
   ]
  },
  {
   "cell_type": "code",
   "execution_count": 269,
   "id": "e0bbe6bd",
   "metadata": {},
   "outputs": [],
   "source": [
    "X = df_dum.drop([\"Price\"], axis=1)"
   ]
  },
  {
   "cell_type": "code",
   "execution_count": 270,
   "id": "74cd0382",
   "metadata": {},
   "outputs": [],
   "source": [
    "y = df_dum[\"Price\"]"
   ]
  },
  {
   "cell_type": "code",
   "execution_count": 271,
   "id": "7bf31562",
   "metadata": {},
   "outputs": [],
   "source": [
    "X_train, X_test, y_train, y_test = train_test_split(X, y, test_size=0.1, random_state=110)"
   ]
  },
  {
   "cell_type": "code",
   "execution_count": 272,
   "id": "da6c373e",
   "metadata": {},
   "outputs": [],
   "source": [
    "X_train = scaler.fit_transform(X_train)"
   ]
  },
  {
   "cell_type": "code",
   "execution_count": 273,
   "id": "66a257a0",
   "metadata": {},
   "outputs": [],
   "source": [
    "X_test = scaler.transform(X_test)"
   ]
  },
  {
   "cell_type": "code",
   "execution_count": 274,
   "id": "cb5d3427",
   "metadata": {},
   "outputs": [],
   "source": [
    "dump(scaler, open('Scalers/scaler_app.pkl', 'wb'))"
   ]
  },
  {
   "cell_type": "code",
   "execution_count": 277,
   "id": "f7cd1bea",
   "metadata": {},
   "outputs": [
    {
     "data": {
      "text/plain": [
       "(17774, 370)"
      ]
     },
     "execution_count": 277,
     "metadata": {},
     "output_type": "execute_result"
    }
   ],
   "source": [
    "X_test.shape"
   ]
  },
  {
   "cell_type": "code",
   "execution_count": 214,
   "id": "4f4350ba",
   "metadata": {},
   "outputs": [],
   "source": [
    "from tensorflow.keras.optimizers import SGD"
   ]
  },
  {
   "cell_type": "code",
   "execution_count": 215,
   "id": "af0c3d9f",
   "metadata": {},
   "outputs": [],
   "source": [
    "model = Sequential()\n",
    "model.add(Dense(150, activation='relu'))\n",
    "model.add(Dense(100, activation='relu'))\n",
    "model.add(Dense(100, activation='relu'))\n",
    "model.add(Dense(100, activation='relu'))\n",
    "model.add(Dense(50, activation='relu'))\n",
    "model.add(Dense(50, activation='relu'))\n",
    "model.add(Dense(50, activation='relu'))\n",
    "model.add(Dense(50, activation='relu'))\n",
    "model.add(Dense(25, activation='relu'))\n",
    "model.add(Dense(25, activation='relu'))\n",
    "model.add(Dense(1))\n",
    "\n",
    "model.compile(optimizer='adam', loss='mae')"
   ]
  },
  {
   "cell_type": "code",
   "execution_count": 216,
   "id": "4782608e",
   "metadata": {
    "scrolled": false
   },
   "outputs": [
    {
     "name": "stdout",
     "output_type": "stream",
     "text": [
      "Epoch 1/10\n",
      "625/625 [==============================] - 5s 6ms/step - loss: 13693.7939 - val_loss: 7045.6157\n",
      "Epoch 2/10\n",
      "625/625 [==============================] - 4s 6ms/step - loss: 6703.0078 - val_loss: 6518.1372\n",
      "Epoch 3/10\n",
      "625/625 [==============================] - 4s 6ms/step - loss: 6291.1348 - val_loss: 6217.7812\n",
      "Epoch 4/10\n",
      "625/625 [==============================] - 4s 6ms/step - loss: 6182.0469 - val_loss: 6103.6890\n",
      "Epoch 5/10\n",
      "625/625 [==============================] - 4s 6ms/step - loss: 6066.8013 - val_loss: 6037.8848\n",
      "Epoch 6/10\n",
      "625/625 [==============================] - 4s 6ms/step - loss: 5943.2676 - val_loss: 6183.2334\n",
      "Epoch 7/10\n",
      "625/625 [==============================] - 4s 6ms/step - loss: 5876.2734 - val_loss: 5967.7432\n",
      "Epoch 8/10\n",
      "625/625 [==============================] - 4s 6ms/step - loss: 5841.1411 - val_loss: 5995.3799\n",
      "Epoch 9/10\n",
      "625/625 [==============================] - 4s 6ms/step - loss: 5781.8521 - val_loss: 6155.0015\n",
      "Epoch 10/10\n",
      "625/625 [==============================] - 4s 6ms/step - loss: 5743.4170 - val_loss: 5943.6147\n"
     ]
    },
    {
     "data": {
      "text/plain": [
       "<keras.callbacks.History at 0x18813d771c0>"
      ]
     },
     "execution_count": 216,
     "metadata": {},
     "output_type": "execute_result"
    }
   ],
   "source": [
    "model.fit(x=X_train, y=y_train.values,\n",
    "          validation_data=(X_test, y_test.values),\n",
    "          batch_size=256, epochs=10)"
   ]
  },
  {
   "cell_type": "code",
   "execution_count": 217,
   "id": "56f971fc",
   "metadata": {},
   "outputs": [
    {
     "name": "stdout",
     "output_type": "stream",
     "text": [
      "556/556 [==============================] - 1s 2ms/step\n"
     ]
    }
   ],
   "source": [
    "preds = model.predict(X_test)"
   ]
  },
  {
   "cell_type": "code",
   "execution_count": 218,
   "id": "24e953f3",
   "metadata": {},
   "outputs": [],
   "source": [
    "y_test_df = pd.DataFrame(y_test)"
   ]
  },
  {
   "cell_type": "code",
   "execution_count": 219,
   "id": "7cf2613d",
   "metadata": {},
   "outputs": [],
   "source": [
    "preds_df = pd.DataFrame(preds)"
   ]
  },
  {
   "cell_type": "code",
   "execution_count": 220,
   "id": "b5b9bc28",
   "metadata": {},
   "outputs": [
    {
     "data": {
      "text/plain": [
       "<bound method DataFrame.reset_index of                    0\n",
       "0       28414.380859\n",
       "1       69894.351562\n",
       "2       11990.083984\n",
       "3       50312.265625\n",
       "4      136883.437500\n",
       "...              ...\n",
       "17769   47434.171875\n",
       "17770   16801.523438\n",
       "17771   32324.576172\n",
       "17772  142612.671875\n",
       "17773   88256.929688\n",
       "\n",
       "[17774 rows x 1 columns]>"
      ]
     },
     "execution_count": 220,
     "metadata": {},
     "output_type": "execute_result"
    }
   ],
   "source": [
    "preds_df.reset_index"
   ]
  },
  {
   "cell_type": "code",
   "execution_count": 221,
   "id": "b29de4fa",
   "metadata": {
    "scrolled": true
   },
   "outputs": [],
   "source": [
    "y_test_df.reset_index(drop = True, inplace = True)"
   ]
  },
  {
   "cell_type": "code",
   "execution_count": 222,
   "id": "0eca265b",
   "metadata": {},
   "outputs": [],
   "source": [
    "preds_df.reset_index(drop = True, inplace = True)"
   ]
  },
  {
   "cell_type": "code",
   "execution_count": 223,
   "id": "6b77a078",
   "metadata": {},
   "outputs": [],
   "source": [
    "score = pd.concat([y_test_df, preds_df], axis = 1, ignore_index=True)"
   ]
  },
  {
   "cell_type": "code",
   "execution_count": 224,
   "id": "7ab03619",
   "metadata": {
    "scrolled": true
   },
   "outputs": [
    {
     "data": {
      "text/html": [
       "<div>\n",
       "<style scoped>\n",
       "    .dataframe tbody tr th:only-of-type {\n",
       "        vertical-align: middle;\n",
       "    }\n",
       "\n",
       "    .dataframe tbody tr th {\n",
       "        vertical-align: top;\n",
       "    }\n",
       "\n",
       "    .dataframe thead th {\n",
       "        text-align: right;\n",
       "    }\n",
       "</style>\n",
       "<table border=\"1\" class=\"dataframe\">\n",
       "  <thead>\n",
       "    <tr style=\"text-align: right;\">\n",
       "      <th></th>\n",
       "      <th>0</th>\n",
       "      <th>1</th>\n",
       "    </tr>\n",
       "  </thead>\n",
       "  <tbody>\n",
       "    <tr>\n",
       "      <th>0</th>\n",
       "      <td>29900</td>\n",
       "      <td>28414.380859</td>\n",
       "    </tr>\n",
       "    <tr>\n",
       "      <th>1</th>\n",
       "      <td>65500</td>\n",
       "      <td>69894.351562</td>\n",
       "    </tr>\n",
       "    <tr>\n",
       "      <th>2</th>\n",
       "      <td>14800</td>\n",
       "      <td>11990.083984</td>\n",
       "    </tr>\n",
       "    <tr>\n",
       "      <th>3</th>\n",
       "      <td>48000</td>\n",
       "      <td>50312.265625</td>\n",
       "    </tr>\n",
       "    <tr>\n",
       "      <th>4</th>\n",
       "      <td>121494</td>\n",
       "      <td>136883.437500</td>\n",
       "    </tr>\n",
       "    <tr>\n",
       "      <th>...</th>\n",
       "      <td>...</td>\n",
       "      <td>...</td>\n",
       "    </tr>\n",
       "    <tr>\n",
       "      <th>17769</th>\n",
       "      <td>44500</td>\n",
       "      <td>47434.171875</td>\n",
       "    </tr>\n",
       "    <tr>\n",
       "      <th>17770</th>\n",
       "      <td>12000</td>\n",
       "      <td>16801.523438</td>\n",
       "    </tr>\n",
       "    <tr>\n",
       "      <th>17771</th>\n",
       "      <td>29900</td>\n",
       "      <td>32324.576172</td>\n",
       "    </tr>\n",
       "    <tr>\n",
       "      <th>17772</th>\n",
       "      <td>122877</td>\n",
       "      <td>142612.671875</td>\n",
       "    </tr>\n",
       "    <tr>\n",
       "      <th>17773</th>\n",
       "      <td>45000</td>\n",
       "      <td>88256.929688</td>\n",
       "    </tr>\n",
       "  </tbody>\n",
       "</table>\n",
       "<p>17774 rows × 2 columns</p>\n",
       "</div>"
      ],
      "text/plain": [
       "            0              1\n",
       "0       29900   28414.380859\n",
       "1       65500   69894.351562\n",
       "2       14800   11990.083984\n",
       "3       48000   50312.265625\n",
       "4      121494  136883.437500\n",
       "...       ...            ...\n",
       "17769   44500   47434.171875\n",
       "17770   12000   16801.523438\n",
       "17771   29900   32324.576172\n",
       "17772  122877  142612.671875\n",
       "17773   45000   88256.929688\n",
       "\n",
       "[17774 rows x 2 columns]"
      ]
     },
     "execution_count": 224,
     "metadata": {},
     "output_type": "execute_result"
    }
   ],
   "source": [
    "score"
   ]
  },
  {
   "cell_type": "markdown",
   "id": "1c03d4c2",
   "metadata": {},
   "source": [
    "# Main model End and Single Row Prediction Start"
   ]
  },
  {
   "cell_type": "code",
   "execution_count": 253,
   "id": "fee41bf6",
   "metadata": {},
   "outputs": [],
   "source": [
    "car_df = pd.DataFrame(data = [[42900, 'New', 'Opel', 'Astra', 2015, 125000.0, 136.0, 1598.0,'Diesel', 'Front wheels', 'Manual', 5.0, 'blue', 48.0]], columns = df.columns )"
   ]
  },
  {
   "cell_type": "code",
   "execution_count": 254,
   "id": "e70c6d25",
   "metadata": {
    "scrolled": true
   },
   "outputs": [
    {
     "data": {
      "text/html": [
       "<div>\n",
       "<style scoped>\n",
       "    .dataframe tbody tr th:only-of-type {\n",
       "        vertical-align: middle;\n",
       "    }\n",
       "\n",
       "    .dataframe tbody tr th {\n",
       "        vertical-align: top;\n",
       "    }\n",
       "\n",
       "    .dataframe thead th {\n",
       "        text-align: right;\n",
       "    }\n",
       "</style>\n",
       "<table border=\"1\" class=\"dataframe\">\n",
       "  <thead>\n",
       "    <tr style=\"text-align: right;\">\n",
       "      <th></th>\n",
       "      <th>Price</th>\n",
       "      <th>Condition</th>\n",
       "      <th>Vehicle_brand</th>\n",
       "      <th>Vehicle_model</th>\n",
       "      <th>Production_year</th>\n",
       "      <th>Mileage_km</th>\n",
       "      <th>Power_HP</th>\n",
       "      <th>Displacement_cm3</th>\n",
       "      <th>Fuel_type</th>\n",
       "      <th>Drive</th>\n",
       "      <th>Transmission</th>\n",
       "      <th>Doors_number</th>\n",
       "      <th>Colour</th>\n",
       "      <th>Features</th>\n",
       "    </tr>\n",
       "  </thead>\n",
       "  <tbody>\n",
       "    <tr>\n",
       "      <th>0</th>\n",
       "      <td>42900</td>\n",
       "      <td>New</td>\n",
       "      <td>Opel</td>\n",
       "      <td>Astra</td>\n",
       "      <td>2015</td>\n",
       "      <td>125000.0</td>\n",
       "      <td>136.0</td>\n",
       "      <td>1598.0</td>\n",
       "      <td>Diesel</td>\n",
       "      <td>Front wheels</td>\n",
       "      <td>Manual</td>\n",
       "      <td>5.0</td>\n",
       "      <td>blue</td>\n",
       "      <td>48.0</td>\n",
       "    </tr>\n",
       "  </tbody>\n",
       "</table>\n",
       "</div>"
      ],
      "text/plain": [
       "   Price Condition Vehicle_brand Vehicle_model  Production_year  Mileage_km  \\\n",
       "0  42900       New          Opel         Astra             2015    125000.0   \n",
       "\n",
       "   Power_HP  Displacement_cm3 Fuel_type         Drive Transmission  \\\n",
       "0     136.0            1598.0    Diesel  Front wheels       Manual   \n",
       "\n",
       "   Doors_number Colour  Features  \n",
       "0           5.0   blue      48.0  "
      ]
     },
     "execution_count": 254,
     "metadata": {},
     "output_type": "execute_result"
    }
   ],
   "source": [
    "car_df"
   ]
  },
  {
   "cell_type": "code",
   "execution_count": 255,
   "id": "6a96e958",
   "metadata": {},
   "outputs": [],
   "source": [
    "car_dum = pd.get_dummies(car_df)"
   ]
  },
  {
   "cell_type": "code",
   "execution_count": 256,
   "id": "2afec1b6",
   "metadata": {
    "scrolled": false
   },
   "outputs": [
    {
     "data": {
      "text/html": [
       "<div>\n",
       "<style scoped>\n",
       "    .dataframe tbody tr th:only-of-type {\n",
       "        vertical-align: middle;\n",
       "    }\n",
       "\n",
       "    .dataframe tbody tr th {\n",
       "        vertical-align: top;\n",
       "    }\n",
       "\n",
       "    .dataframe thead th {\n",
       "        text-align: right;\n",
       "    }\n",
       "</style>\n",
       "<table border=\"1\" class=\"dataframe\">\n",
       "  <thead>\n",
       "    <tr style=\"text-align: right;\">\n",
       "      <th></th>\n",
       "      <th>Price</th>\n",
       "      <th>Production_year</th>\n",
       "      <th>Mileage_km</th>\n",
       "      <th>Power_HP</th>\n",
       "      <th>Displacement_cm3</th>\n",
       "      <th>Doors_number</th>\n",
       "      <th>Features</th>\n",
       "      <th>Condition_New</th>\n",
       "      <th>Vehicle_brand_Opel</th>\n",
       "      <th>Vehicle_model_Astra</th>\n",
       "      <th>Fuel_type_Diesel</th>\n",
       "      <th>Drive_Front wheels</th>\n",
       "      <th>Transmission_Manual</th>\n",
       "      <th>Colour_blue</th>\n",
       "    </tr>\n",
       "  </thead>\n",
       "  <tbody>\n",
       "    <tr>\n",
       "      <th>0</th>\n",
       "      <td>42900</td>\n",
       "      <td>2015</td>\n",
       "      <td>125000.0</td>\n",
       "      <td>136.0</td>\n",
       "      <td>1598.0</td>\n",
       "      <td>5.0</td>\n",
       "      <td>48.0</td>\n",
       "      <td>1</td>\n",
       "      <td>1</td>\n",
       "      <td>1</td>\n",
       "      <td>1</td>\n",
       "      <td>1</td>\n",
       "      <td>1</td>\n",
       "      <td>1</td>\n",
       "    </tr>\n",
       "  </tbody>\n",
       "</table>\n",
       "</div>"
      ],
      "text/plain": [
       "   Price  Production_year  Mileage_km  Power_HP  Displacement_cm3  \\\n",
       "0  42900             2015    125000.0     136.0            1598.0   \n",
       "\n",
       "   Doors_number  Features  Condition_New  Vehicle_brand_Opel  \\\n",
       "0           5.0      48.0              1                   1   \n",
       "\n",
       "   Vehicle_model_Astra  Fuel_type_Diesel  Drive_Front wheels  \\\n",
       "0                    1                 1                   1   \n",
       "\n",
       "   Transmission_Manual  Colour_blue  \n",
       "0                    1            1  "
      ]
     },
     "execution_count": 256,
     "metadata": {},
     "output_type": "execute_result"
    }
   ],
   "source": [
    "car_dum"
   ]
  },
  {
   "cell_type": "code",
   "execution_count": 257,
   "id": "8cf33790",
   "metadata": {},
   "outputs": [],
   "source": [
    "df_add = df_dum.iloc[[1, 2]]"
   ]
  },
  {
   "cell_type": "code",
   "execution_count": null,
   "id": "4bb8ab7a",
   "metadata": {},
   "outputs": [],
   "source": []
  },
  {
   "cell_type": "code",
   "execution_count": 275,
   "id": "428c8ba9",
   "metadata": {},
   "outputs": [],
   "source": [
    "df_add.to_csv(\"Data/df_app.csv\")"
   ]
  },
  {
   "cell_type": "code",
   "execution_count": 33,
   "id": "983a2f23",
   "metadata": {},
   "outputs": [
    {
     "data": {
      "text/html": [
       "<div>\n",
       "<style scoped>\n",
       "    .dataframe tbody tr th:only-of-type {\n",
       "        vertical-align: middle;\n",
       "    }\n",
       "\n",
       "    .dataframe tbody tr th {\n",
       "        vertical-align: top;\n",
       "    }\n",
       "\n",
       "    .dataframe thead th {\n",
       "        text-align: right;\n",
       "    }\n",
       "</style>\n",
       "<table border=\"1\" class=\"dataframe\">\n",
       "  <thead>\n",
       "    <tr style=\"text-align: right;\">\n",
       "      <th></th>\n",
       "      <th>Unnamed: 0</th>\n",
       "      <th>Price</th>\n",
       "      <th>Production_year</th>\n",
       "      <th>Mileage_km</th>\n",
       "      <th>Power_HP</th>\n",
       "      <th>Displacement_cm3</th>\n",
       "      <th>Doors_number</th>\n",
       "      <th>Features</th>\n",
       "      <th>Condition_New</th>\n",
       "      <th>Condition_Used</th>\n",
       "      <th>...</th>\n",
       "      <th>Colour_burgundy</th>\n",
       "      <th>Colour_golden</th>\n",
       "      <th>Colour_gray</th>\n",
       "      <th>Colour_green</th>\n",
       "      <th>Colour_other</th>\n",
       "      <th>Colour_red</th>\n",
       "      <th>Colour_silver</th>\n",
       "      <th>Colour_violet</th>\n",
       "      <th>Colour_white</th>\n",
       "      <th>Colour_yellow</th>\n",
       "    </tr>\n",
       "  </thead>\n",
       "  <tbody>\n",
       "    <tr>\n",
       "      <th>0</th>\n",
       "      <td>116466</td>\n",
       "      <td>11900</td>\n",
       "      <td>2006</td>\n",
       "      <td>192547.0</td>\n",
       "      <td>140.0</td>\n",
       "      <td>1796.0</td>\n",
       "      <td>5.0</td>\n",
       "      <td>35.0</td>\n",
       "      <td>0</td>\n",
       "      <td>1.0</td>\n",
       "      <td>...</td>\n",
       "      <td>0.0</td>\n",
       "      <td>0.0</td>\n",
       "      <td>0.0</td>\n",
       "      <td>1.0</td>\n",
       "      <td>0.0</td>\n",
       "      <td>0.0</td>\n",
       "      <td>0.0</td>\n",
       "      <td>0.0</td>\n",
       "      <td>0.0</td>\n",
       "      <td>0.0</td>\n",
       "    </tr>\n",
       "    <tr>\n",
       "      <th>1</th>\n",
       "      <td>116467</td>\n",
       "      <td>25900</td>\n",
       "      <td>2010</td>\n",
       "      <td>119000.0</td>\n",
       "      <td>115.0</td>\n",
       "      <td>1598.0</td>\n",
       "      <td>5.0</td>\n",
       "      <td>32.0</td>\n",
       "      <td>0</td>\n",
       "      <td>1.0</td>\n",
       "      <td>...</td>\n",
       "      <td>0.0</td>\n",
       "      <td>0.0</td>\n",
       "      <td>0.0</td>\n",
       "      <td>0.0</td>\n",
       "      <td>0.0</td>\n",
       "      <td>0.0</td>\n",
       "      <td>0.0</td>\n",
       "      <td>0.0</td>\n",
       "      <td>0.0</td>\n",
       "      <td>0.0</td>\n",
       "    </tr>\n",
       "    <tr>\n",
       "      <th>2</th>\n",
       "      <td>0</td>\n",
       "      <td>42900</td>\n",
       "      <td>2015</td>\n",
       "      <td>125000.0</td>\n",
       "      <td>136.0</td>\n",
       "      <td>1598.0</td>\n",
       "      <td>5.0</td>\n",
       "      <td>48.0</td>\n",
       "      <td>1</td>\n",
       "      <td>0.0</td>\n",
       "      <td>...</td>\n",
       "      <td>0.0</td>\n",
       "      <td>0.0</td>\n",
       "      <td>0.0</td>\n",
       "      <td>0.0</td>\n",
       "      <td>0.0</td>\n",
       "      <td>0.0</td>\n",
       "      <td>0.0</td>\n",
       "      <td>0.0</td>\n",
       "      <td>0.0</td>\n",
       "      <td>0.0</td>\n",
       "    </tr>\n",
       "  </tbody>\n",
       "</table>\n",
       "<p>3 rows × 372 columns</p>\n",
       "</div>"
      ],
      "text/plain": [
       "   Unnamed: 0  Price  Production_year  Mileage_km  Power_HP  Displacement_cm3  \\\n",
       "0      116466  11900             2006    192547.0     140.0            1796.0   \n",
       "1      116467  25900             2010    119000.0     115.0            1598.0   \n",
       "2           0  42900             2015    125000.0     136.0            1598.0   \n",
       "\n",
       "   Doors_number  Features  Condition_New  Condition_Used  ...  \\\n",
       "0           5.0      35.0              0             1.0  ...   \n",
       "1           5.0      32.0              0             1.0  ...   \n",
       "2           5.0      48.0              1             0.0  ...   \n",
       "\n",
       "   Colour_burgundy  Colour_golden  Colour_gray  Colour_green  Colour_other  \\\n",
       "0              0.0            0.0          0.0           1.0           0.0   \n",
       "1              0.0            0.0          0.0           0.0           0.0   \n",
       "2              0.0            0.0          0.0           0.0           0.0   \n",
       "\n",
       "   Colour_red  Colour_silver  Colour_violet  Colour_white  Colour_yellow  \n",
       "0         0.0            0.0            0.0           0.0            0.0  \n",
       "1         0.0            0.0            0.0           0.0            0.0  \n",
       "2         0.0            0.0            0.0           0.0            0.0  \n",
       "\n",
       "[3 rows x 372 columns]"
      ]
     },
     "execution_count": 33,
     "metadata": {},
     "output_type": "execute_result"
    }
   ],
   "source": [
    "pd.read_csv(\"df_app.csv\")"
   ]
  },
  {
   "cell_type": "code",
   "execution_count": 258,
   "id": "95e3a18d",
   "metadata": {
    "scrolled": true
   },
   "outputs": [
    {
     "name": "stderr",
     "output_type": "stream",
     "text": [
      "C:\\Users\\kacpe\\AppData\\Local\\Temp/ipykernel_10268/3076344723.py:1: FutureWarning: The frame.append method is deprecated and will be removed from pandas in a future version. Use pandas.concat instead.\n",
      "  df_add = df_add.append(car_dum).fillna(0)\n"
     ]
    }
   ],
   "source": [
    "df_add = df_add.append(car_dum).fillna(0)"
   ]
  },
  {
   "cell_type": "code",
   "execution_count": 259,
   "id": "3be73358",
   "metadata": {},
   "outputs": [],
   "source": [
    "X_car = df_add.drop(\"Price\", axis=1)"
   ]
  },
  {
   "cell_type": "code",
   "execution_count": 260,
   "id": "3a48813e",
   "metadata": {},
   "outputs": [],
   "source": [
    "to_pred = scaler.transform(X_car)"
   ]
  },
  {
   "cell_type": "code",
   "execution_count": 264,
   "id": "b4704c4d",
   "metadata": {},
   "outputs": [
    {
     "data": {
      "text/plain": [
       "Index(['Price', 'Condition', 'Vehicle_brand', 'Vehicle_model',\n",
       "       'Production_year', 'Mileage_km', 'Power_HP', 'Displacement_cm3',\n",
       "       'Fuel_type', 'Drive', 'Transmission', 'Doors_number', 'Colour',\n",
       "       'Features'],\n",
       "      dtype='object')"
      ]
     },
     "execution_count": 264,
     "metadata": {},
     "output_type": "execute_result"
    }
   ],
   "source": [
    "df.columns"
   ]
  },
  {
   "cell_type": "markdown",
   "id": "d6e215f4",
   "metadata": {},
   "source": [
    "# Single row prediction"
   ]
  },
  {
   "cell_type": "code",
   "execution_count": 261,
   "id": "1f2a2df9",
   "metadata": {},
   "outputs": [
    {
     "name": "stdout",
     "output_type": "stream",
     "text": [
      "1/1 [==============================] - 0s 16ms/step\n"
     ]
    }
   ],
   "source": [
    "car_price = model.predict(to_pred)[-1]"
   ]
  },
  {
   "cell_type": "code",
   "execution_count": 263,
   "id": "b17ed3fa",
   "metadata": {},
   "outputs": [],
   "source": [
    "model.save(\"Model/model_app.h5\")"
   ]
  },
  {
   "cell_type": "code",
   "execution_count": 262,
   "id": "9af85623",
   "metadata": {
    "scrolled": true
   },
   "outputs": [
    {
     "data": {
      "text/plain": [
       "array([53286.03], dtype=float32)"
      ]
     },
     "execution_count": 262,
     "metadata": {},
     "output_type": "execute_result"
    }
   ],
   "source": [
    "car_price"
   ]
  },
  {
   "cell_type": "code",
   "execution_count": null,
   "id": "ae188d54",
   "metadata": {},
   "outputs": [],
   "source": [
    "#37922.22"
   ]
  },
  {
   "cell_type": "code",
   "execution_count": 73,
   "id": "ef755d1c",
   "metadata": {},
   "outputs": [],
   "source": [
    "flex_model = tf.keras.models.load_model(\"Models/model_100k_flexible.hdf5\")"
   ]
  },
  {
   "cell_type": "code",
   "execution_count": 74,
   "id": "6ef8b1ff",
   "metadata": {},
   "outputs": [
    {
     "name": "stdout",
     "output_type": "stream",
     "text": [
      "492/492 [==============================] - 1s 1ms/step\n"
     ]
    },
    {
     "data": {
      "text/plain": [
       "array([[ 7628.3237],\n",
       "       [ 9661.785 ],\n",
       "       [22762.875 ],\n",
       "       ...,\n",
       "       [34224.24  ],\n",
       "       [15487.659 ],\n",
       "       [27871.969 ]], dtype=float32)"
      ]
     },
     "execution_count": 74,
     "metadata": {},
     "output_type": "execute_result"
    }
   ],
   "source": [
    "flex_model.predict(X_test)"
   ]
  },
  {
   "cell_type": "code",
   "execution_count": 40,
   "id": "9730a1dd",
   "metadata": {},
   "outputs": [],
   "source": [
    "losses = pd.DataFrame(model.history.history)"
   ]
  },
  {
   "cell_type": "code",
   "execution_count": 41,
   "id": "b76abfb2",
   "metadata": {
    "scrolled": true
   },
   "outputs": [
    {
     "data": {
      "text/plain": [
       "<AxesSubplot:>"
      ]
     },
     "execution_count": 41,
     "metadata": {},
     "output_type": "execute_result"
    },
    {
     "data": {
      "image/png": "[encoded data removed]",
      "text/plain": [
       "<Figure size 432x288 with 1 Axes>"
      ]
     },
     "metadata": {
      "needs_background": "light"
     },
     "output_type": "display_data"
    }
   ],
   "source": [
    "losses.plot()"
   ]
  },
  {
   "cell_type": "code",
   "execution_count": 42,
   "id": "e9ca5e9f",
   "metadata": {
    "scrolled": true
   },
   "outputs": [
    {
     "name": "stdout",
     "output_type": "stream",
     "text": [
      "492/492 [==============================] - 1s 1ms/step\n"
     ]
    }
   ],
   "source": [
    "preds = model.predict(X_test)"
   ]
  },
  {
   "cell_type": "code",
   "execution_count": 43,
   "id": "c6761cfb",
   "metadata": {
    "scrolled": true
   },
   "outputs": [
    {
     "data": {
      "text/plain": [
       "0.12780784457549865"
      ]
     },
     "execution_count": 43,
     "metadata": {},
     "output_type": "execute_result"
    }
   ],
   "source": [
    "mean_absolute_error(y_test,preds) / y_test.mean()"
   ]
  },
  {
   "cell_type": "code",
   "execution_count": 44,
   "id": "ad2521d9",
   "metadata": {
    "scrolled": true
   },
   "outputs": [
    {
     "data": {
      "text/html": [
       "<div>\n",
       "<style scoped>\n",
       "    .dataframe tbody tr th:only-of-type {\n",
       "        vertical-align: middle;\n",
       "    }\n",
       "\n",
       "    .dataframe tbody tr th {\n",
       "        vertical-align: top;\n",
       "    }\n",
       "\n",
       "    .dataframe thead th {\n",
       "        text-align: right;\n",
       "    }\n",
       "</style>\n",
       "<table border=\"1\" class=\"dataframe\">\n",
       "  <thead>\n",
       "    <tr style=\"text-align: right;\">\n",
       "      <th></th>\n",
       "      <th>0</th>\n",
       "    </tr>\n",
       "  </thead>\n",
       "  <tbody>\n",
       "    <tr>\n",
       "      <th>0</th>\n",
       "      <td>7700</td>\n",
       "    </tr>\n",
       "    <tr>\n",
       "      <th>1</th>\n",
       "      <td>15900</td>\n",
       "    </tr>\n",
       "    <tr>\n",
       "      <th>2</th>\n",
       "      <td>22900</td>\n",
       "    </tr>\n",
       "    <tr>\n",
       "      <th>3</th>\n",
       "      <td>23500</td>\n",
       "    </tr>\n",
       "    <tr>\n",
       "      <th>4</th>\n",
       "      <td>74400</td>\n",
       "    </tr>\n",
       "    <tr>\n",
       "      <th>...</th>\n",
       "      <td>...</td>\n",
       "    </tr>\n",
       "    <tr>\n",
       "      <th>15730</th>\n",
       "      <td>19800</td>\n",
       "    </tr>\n",
       "    <tr>\n",
       "      <th>15731</th>\n",
       "      <td>36900</td>\n",
       "    </tr>\n",
       "    <tr>\n",
       "      <th>15732</th>\n",
       "      <td>30900</td>\n",
       "    </tr>\n",
       "    <tr>\n",
       "      <th>15733</th>\n",
       "      <td>13900</td>\n",
       "    </tr>\n",
       "    <tr>\n",
       "      <th>15734</th>\n",
       "      <td>35000</td>\n",
       "    </tr>\n",
       "  </tbody>\n",
       "</table>\n",
       "<p>15735 rows × 1 columns</p>\n",
       "</div>"
      ],
      "text/plain": [
       "           0\n",
       "0       7700\n",
       "1      15900\n",
       "2      22900\n",
       "3      23500\n",
       "4      74400\n",
       "...      ...\n",
       "15730  19800\n",
       "15731  36900\n",
       "15732  30900\n",
       "15733  13900\n",
       "15734  35000\n",
       "\n",
       "[15735 rows x 1 columns]"
      ]
     },
     "execution_count": 44,
     "metadata": {},
     "output_type": "execute_result"
    }
   ],
   "source": [
    "y_df = pd.DataFrame(y_test.values)\n",
    "y_df"
   ]
  },
  {
   "cell_type": "code",
   "execution_count": 45,
   "id": "26b6074d",
   "metadata": {},
   "outputs": [
    {
     "data": {
      "text/html": [
       "<div>\n",
       "<style scoped>\n",
       "    .dataframe tbody tr th:only-of-type {\n",
       "        vertical-align: middle;\n",
       "    }\n",
       "\n",
       "    .dataframe tbody tr th {\n",
       "        vertical-align: top;\n",
       "    }\n",
       "\n",
       "    .dataframe thead th {\n",
       "        text-align: right;\n",
       "    }\n",
       "</style>\n",
       "<table border=\"1\" class=\"dataframe\">\n",
       "  <thead>\n",
       "    <tr style=\"text-align: right;\">\n",
       "      <th></th>\n",
       "      <th>0</th>\n",
       "    </tr>\n",
       "  </thead>\n",
       "  <tbody>\n",
       "    <tr>\n",
       "      <th>0</th>\n",
       "      <td>7504.0</td>\n",
       "    </tr>\n",
       "    <tr>\n",
       "      <th>1</th>\n",
       "      <td>11570.0</td>\n",
       "    </tr>\n",
       "    <tr>\n",
       "      <th>2</th>\n",
       "      <td>21814.0</td>\n",
       "    </tr>\n",
       "    <tr>\n",
       "      <th>3</th>\n",
       "      <td>21736.0</td>\n",
       "    </tr>\n",
       "    <tr>\n",
       "      <th>4</th>\n",
       "      <td>81777.0</td>\n",
       "    </tr>\n",
       "    <tr>\n",
       "      <th>...</th>\n",
       "      <td>...</td>\n",
       "    </tr>\n",
       "    <tr>\n",
       "      <th>15730</th>\n",
       "      <td>18104.0</td>\n",
       "    </tr>\n",
       "    <tr>\n",
       "      <th>15731</th>\n",
       "      <td>35907.0</td>\n",
       "    </tr>\n",
       "    <tr>\n",
       "      <th>15732</th>\n",
       "      <td>32245.0</td>\n",
       "    </tr>\n",
       "    <tr>\n",
       "      <th>15733</th>\n",
       "      <td>14841.0</td>\n",
       "    </tr>\n",
       "    <tr>\n",
       "      <th>15734</th>\n",
       "      <td>26463.0</td>\n",
       "    </tr>\n",
       "  </tbody>\n",
       "</table>\n",
       "<p>15735 rows × 1 columns</p>\n",
       "</div>"
      ],
      "text/plain": [
       "             0\n",
       "0       7504.0\n",
       "1      11570.0\n",
       "2      21814.0\n",
       "3      21736.0\n",
       "4      81777.0\n",
       "...        ...\n",
       "15730  18104.0\n",
       "15731  35907.0\n",
       "15732  32245.0\n",
       "15733  14841.0\n",
       "15734  26463.0\n",
       "\n",
       "[15735 rows x 1 columns]"
      ]
     },
     "execution_count": 45,
     "metadata": {},
     "output_type": "execute_result"
    }
   ],
   "source": [
    "preds_df = pd.DataFrame(preds.round())\n",
    "preds_df"
   ]
  },
  {
   "cell_type": "code",
   "execution_count": 46,
   "id": "72beb6d3",
   "metadata": {},
   "outputs": [
    {
     "data": {
      "text/html": [
       "<div>\n",
       "<style scoped>\n",
       "    .dataframe tbody tr th:only-of-type {\n",
       "        vertical-align: middle;\n",
       "    }\n",
       "\n",
       "    .dataframe tbody tr th {\n",
       "        vertical-align: top;\n",
       "    }\n",
       "\n",
       "    .dataframe thead th {\n",
       "        text-align: right;\n",
       "    }\n",
       "</style>\n",
       "<table border=\"1\" class=\"dataframe\">\n",
       "  <thead>\n",
       "    <tr style=\"text-align: right;\">\n",
       "      <th></th>\n",
       "      <th>Condition</th>\n",
       "      <th>Vehicle_brand</th>\n",
       "      <th>Vehicle_model</th>\n",
       "      <th>Production_year</th>\n",
       "      <th>Mileage_km</th>\n",
       "      <th>Power_HP</th>\n",
       "      <th>Displacement_cm3</th>\n",
       "      <th>Fuel_type</th>\n",
       "      <th>Drive</th>\n",
       "      <th>Transmission</th>\n",
       "      <th>Doors_number</th>\n",
       "      <th>Colour</th>\n",
       "      <th>Features</th>\n",
       "    </tr>\n",
       "    <tr>\n",
       "      <th>Index</th>\n",
       "      <th></th>\n",
       "      <th></th>\n",
       "      <th></th>\n",
       "      <th></th>\n",
       "      <th></th>\n",
       "      <th></th>\n",
       "      <th></th>\n",
       "      <th></th>\n",
       "      <th></th>\n",
       "      <th></th>\n",
       "      <th></th>\n",
       "      <th></th>\n",
       "      <th></th>\n",
       "    </tr>\n",
       "  </thead>\n",
       "  <tbody>\n",
       "    <tr>\n",
       "      <th>116465</th>\n",
       "      <td>Used</td>\n",
       "      <td>Opel</td>\n",
       "      <td>Astra</td>\n",
       "      <td>2015</td>\n",
       "      <td>125000.0</td>\n",
       "      <td>136.0</td>\n",
       "      <td>1598.0</td>\n",
       "      <td>Diesel</td>\n",
       "      <td>Front wheels</td>\n",
       "      <td>Manual</td>\n",
       "      <td>5.0</td>\n",
       "      <td>red</td>\n",
       "      <td>48.0</td>\n",
       "    </tr>\n",
       "    <tr>\n",
       "      <th>116466</th>\n",
       "      <td>Used</td>\n",
       "      <td>Opel</td>\n",
       "      <td>Astra</td>\n",
       "      <td>2006</td>\n",
       "      <td>192547.0</td>\n",
       "      <td>140.0</td>\n",
       "      <td>1796.0</td>\n",
       "      <td>Gasoline</td>\n",
       "      <td>Front wheels</td>\n",
       "      <td>Manual</td>\n",
       "      <td>5.0</td>\n",
       "      <td>green</td>\n",
       "      <td>35.0</td>\n",
       "    </tr>\n",
       "    <tr>\n",
       "      <th>116467</th>\n",
       "      <td>Used</td>\n",
       "      <td>Opel</td>\n",
       "      <td>Astra</td>\n",
       "      <td>2010</td>\n",
       "      <td>119000.0</td>\n",
       "      <td>115.0</td>\n",
       "      <td>1598.0</td>\n",
       "      <td>Gasoline</td>\n",
       "      <td>Front wheels</td>\n",
       "      <td>Manual</td>\n",
       "      <td>5.0</td>\n",
       "      <td>black</td>\n",
       "      <td>32.0</td>\n",
       "    </tr>\n",
       "    <tr>\n",
       "      <th>116468</th>\n",
       "      <td>Used</td>\n",
       "      <td>Opel</td>\n",
       "      <td>Astra</td>\n",
       "      <td>2007</td>\n",
       "      <td>290000.0</td>\n",
       "      <td>100.0</td>\n",
       "      <td>1910.0</td>\n",
       "      <td>Diesel</td>\n",
       "      <td>Front wheels</td>\n",
       "      <td>Manual</td>\n",
       "      <td>5.0</td>\n",
       "      <td>silver</td>\n",
       "      <td>25.0</td>\n",
       "    </tr>\n",
       "    <tr>\n",
       "      <th>116469</th>\n",
       "      <td>Used</td>\n",
       "      <td>Opel</td>\n",
       "      <td>Astra</td>\n",
       "      <td>2008</td>\n",
       "      <td>168779.0</td>\n",
       "      <td>115.0</td>\n",
       "      <td>1598.0</td>\n",
       "      <td>Gasoline</td>\n",
       "      <td>Front wheels</td>\n",
       "      <td>Manual</td>\n",
       "      <td>5.0</td>\n",
       "      <td>silver</td>\n",
       "      <td>24.0</td>\n",
       "    </tr>\n",
       "    <tr>\n",
       "      <th>...</th>\n",
       "      <td>...</td>\n",
       "      <td>...</td>\n",
       "      <td>...</td>\n",
       "      <td>...</td>\n",
       "      <td>...</td>\n",
       "      <td>...</td>\n",
       "      <td>...</td>\n",
       "      <td>...</td>\n",
       "      <td>...</td>\n",
       "      <td>...</td>\n",
       "      <td>...</td>\n",
       "      <td>...</td>\n",
       "      <td>...</td>\n",
       "    </tr>\n",
       "    <tr>\n",
       "      <th>36977</th>\n",
       "      <td>Used</td>\n",
       "      <td>Chevrolet</td>\n",
       "      <td>Spark</td>\n",
       "      <td>2010</td>\n",
       "      <td>200000.0</td>\n",
       "      <td>68.0</td>\n",
       "      <td>995.0</td>\n",
       "      <td>Gasoline</td>\n",
       "      <td>Front wheels</td>\n",
       "      <td>Manual</td>\n",
       "      <td>5.0</td>\n",
       "      <td>silver</td>\n",
       "      <td>21.0</td>\n",
       "    </tr>\n",
       "    <tr>\n",
       "      <th>36981</th>\n",
       "      <td>Used</td>\n",
       "      <td>Chevrolet</td>\n",
       "      <td>Spark</td>\n",
       "      <td>2012</td>\n",
       "      <td>112644.0</td>\n",
       "      <td>68.0</td>\n",
       "      <td>1000.0</td>\n",
       "      <td>Gasoline</td>\n",
       "      <td>Front wheels</td>\n",
       "      <td>Manual</td>\n",
       "      <td>5.0</td>\n",
       "      <td>black</td>\n",
       "      <td>19.0</td>\n",
       "    </tr>\n",
       "    <tr>\n",
       "      <th>36984</th>\n",
       "      <td>Used</td>\n",
       "      <td>Chevrolet</td>\n",
       "      <td>Spark</td>\n",
       "      <td>2011</td>\n",
       "      <td>126000.0</td>\n",
       "      <td>68.0</td>\n",
       "      <td>995.0</td>\n",
       "      <td>Gasoline</td>\n",
       "      <td>Front wheels</td>\n",
       "      <td>Manual</td>\n",
       "      <td>5.0</td>\n",
       "      <td>black</td>\n",
       "      <td>7.0</td>\n",
       "    </tr>\n",
       "    <tr>\n",
       "      <th>36986</th>\n",
       "      <td>Used</td>\n",
       "      <td>Chevrolet</td>\n",
       "      <td>Spark</td>\n",
       "      <td>2012</td>\n",
       "      <td>160000.0</td>\n",
       "      <td>75.0</td>\n",
       "      <td>995.0</td>\n",
       "      <td>Gasoline + LPG</td>\n",
       "      <td>Front wheels</td>\n",
       "      <td>Manual</td>\n",
       "      <td>5.0</td>\n",
       "      <td>other</td>\n",
       "      <td>16.0</td>\n",
       "    </tr>\n",
       "    <tr>\n",
       "      <th>37010</th>\n",
       "      <td>Used</td>\n",
       "      <td>Chevrolet</td>\n",
       "      <td>Spark</td>\n",
       "      <td>2013</td>\n",
       "      <td>70000.0</td>\n",
       "      <td>68.0</td>\n",
       "      <td>995.0</td>\n",
       "      <td>Gasoline</td>\n",
       "      <td>Front wheels</td>\n",
       "      <td>Manual</td>\n",
       "      <td>5.0</td>\n",
       "      <td>yellow</td>\n",
       "      <td>15.0</td>\n",
       "    </tr>\n",
       "  </tbody>\n",
       "</table>\n",
       "<p>177733 rows × 13 columns</p>\n",
       "</div>"
      ],
      "text/plain": [
       "       Condition Vehicle_brand Vehicle_model  Production_year  Mileage_km  \\\n",
       "Index                                                                       \n",
       "116465      Used          Opel         Astra             2015    125000.0   \n",
       "116466      Used          Opel         Astra             2006    192547.0   \n",
       "116467      Used          Opel         Astra             2010    119000.0   \n",
       "116468      Used          Opel         Astra             2007    290000.0   \n",
       "116469      Used          Opel         Astra             2008    168779.0   \n",
       "...          ...           ...           ...              ...         ...   \n",
       "36977       Used     Chevrolet         Spark             2010    200000.0   \n",
       "36981       Used     Chevrolet         Spark             2012    112644.0   \n",
       "36984       Used     Chevrolet         Spark             2011    126000.0   \n",
       "36986       Used     Chevrolet         Spark             2012    160000.0   \n",
       "37010       Used     Chevrolet         Spark             2013     70000.0   \n",
       "\n",
       "        Power_HP  Displacement_cm3       Fuel_type         Drive Transmission  \\\n",
       "Index                                                                           \n",
       "116465     136.0            1598.0          Diesel  Front wheels       Manual   \n",
       "116466     140.0            1796.0        Gasoline  Front wheels       Manual   \n",
       "116467     115.0            1598.0        Gasoline  Front wheels       Manual   \n",
       "116468     100.0            1910.0          Diesel  Front wheels       Manual   \n",
       "116469     115.0            1598.0        Gasoline  Front wheels       Manual   \n",
       "...          ...               ...             ...           ...          ...   \n",
       "36977       68.0             995.0        Gasoline  Front wheels       Manual   \n",
       "36981       68.0            1000.0        Gasoline  Front wheels       Manual   \n",
       "36984       68.0             995.0        Gasoline  Front wheels       Manual   \n",
       "36986       75.0             995.0  Gasoline + LPG  Front wheels       Manual   \n",
       "37010       68.0             995.0        Gasoline  Front wheels       Manual   \n",
       "\n",
       "        Doors_number  Colour  Features  \n",
       "Index                                   \n",
       "116465           5.0     red      48.0  \n",
       "116466           5.0   green      35.0  \n",
       "116467           5.0   black      32.0  \n",
       "116468           5.0  silver      25.0  \n",
       "116469           5.0  silver      24.0  \n",
       "...              ...     ...       ...  \n",
       "36977            5.0  silver      21.0  \n",
       "36981            5.0   black      19.0  \n",
       "36984            5.0   black       7.0  \n",
       "36986            5.0   other      16.0  \n",
       "37010            5.0  yellow      15.0  \n",
       "\n",
       "[177733 rows x 13 columns]"
      ]
     },
     "execution_count": 46,
     "metadata": {},
     "output_type": "execute_result"
    }
   ],
   "source": [
    "df.drop(\"Price\", axis=1)"
   ]
  },
  {
   "cell_type": "code",
   "execution_count": 47,
   "id": "f066296d",
   "metadata": {},
   "outputs": [],
   "source": [
    "result_df = pd.concat([y_df, preds_df], axis=1)"
   ]
  },
  {
   "cell_type": "code",
   "execution_count": 48,
   "id": "6fc10ca4",
   "metadata": {},
   "outputs": [],
   "source": [
    "result_df.columns = [\"Real Price\", \"Predicted Price\"]"
   ]
  },
  {
   "cell_type": "code",
   "execution_count": 49,
   "id": "65008676",
   "metadata": {},
   "outputs": [],
   "source": [
    "result_df[\"Difference\"] = result_df[\"Real Price\"] - result_df[\"Predicted Price\"]\n",
    "result_df[\"ABS Difference\"] = abs(result_df[\"Real Price\"] - result_df[\"Predicted Price\"])"
   ]
  },
  {
   "cell_type": "code",
   "execution_count": 50,
   "id": "16633c94",
   "metadata": {},
   "outputs": [],
   "source": [
    "result_df[\"% of error\"] = abs((result_df[\"Difference\"]/result_df[\"Real Price\"]) * 100).round(2)"
   ]
  },
  {
   "cell_type": "code",
   "execution_count": 51,
   "id": "8970cf6e",
   "metadata": {
    "scrolled": false
   },
   "outputs": [
    {
     "data": {
      "text/html": [
       "<div>\n",
       "<style scoped>\n",
       "    .dataframe tbody tr th:only-of-type {\n",
       "        vertical-align: middle;\n",
       "    }\n",
       "\n",
       "    .dataframe tbody tr th {\n",
       "        vertical-align: top;\n",
       "    }\n",
       "\n",
       "    .dataframe thead th {\n",
       "        text-align: right;\n",
       "    }\n",
       "</style>\n",
       "<table border=\"1\" class=\"dataframe\">\n",
       "  <thead>\n",
       "    <tr style=\"text-align: right;\">\n",
       "      <th></th>\n",
       "      <th>Real Price</th>\n",
       "      <th>Predicted Price</th>\n",
       "      <th>Difference</th>\n",
       "      <th>ABS Difference</th>\n",
       "      <th>% of error</th>\n",
       "    </tr>\n",
       "  </thead>\n",
       "  <tbody>\n",
       "    <tr>\n",
       "      <th>0</th>\n",
       "      <td>7700</td>\n",
       "      <td>7504.0</td>\n",
       "      <td>196.0</td>\n",
       "      <td>196.0</td>\n",
       "      <td>2.55</td>\n",
       "    </tr>\n",
       "    <tr>\n",
       "      <th>1</th>\n",
       "      <td>15900</td>\n",
       "      <td>11570.0</td>\n",
       "      <td>4330.0</td>\n",
       "      <td>4330.0</td>\n",
       "      <td>27.23</td>\n",
       "    </tr>\n",
       "    <tr>\n",
       "      <th>2</th>\n",
       "      <td>22900</td>\n",
       "      <td>21814.0</td>\n",
       "      <td>1086.0</td>\n",
       "      <td>1086.0</td>\n",
       "      <td>4.74</td>\n",
       "    </tr>\n",
       "    <tr>\n",
       "      <th>3</th>\n",
       "      <td>23500</td>\n",
       "      <td>21736.0</td>\n",
       "      <td>1764.0</td>\n",
       "      <td>1764.0</td>\n",
       "      <td>7.51</td>\n",
       "    </tr>\n",
       "    <tr>\n",
       "      <th>4</th>\n",
       "      <td>74400</td>\n",
       "      <td>81777.0</td>\n",
       "      <td>-7377.0</td>\n",
       "      <td>7377.0</td>\n",
       "      <td>9.92</td>\n",
       "    </tr>\n",
       "    <tr>\n",
       "      <th>5</th>\n",
       "      <td>33000</td>\n",
       "      <td>26514.0</td>\n",
       "      <td>6486.0</td>\n",
       "      <td>6486.0</td>\n",
       "      <td>19.65</td>\n",
       "    </tr>\n",
       "    <tr>\n",
       "      <th>6</th>\n",
       "      <td>24900</td>\n",
       "      <td>28323.0</td>\n",
       "      <td>-3423.0</td>\n",
       "      <td>3423.0</td>\n",
       "      <td>13.75</td>\n",
       "    </tr>\n",
       "    <tr>\n",
       "      <th>7</th>\n",
       "      <td>6900</td>\n",
       "      <td>4571.0</td>\n",
       "      <td>2329.0</td>\n",
       "      <td>2329.0</td>\n",
       "      <td>33.75</td>\n",
       "    </tr>\n",
       "    <tr>\n",
       "      <th>8</th>\n",
       "      <td>17200</td>\n",
       "      <td>23300.0</td>\n",
       "      <td>-6100.0</td>\n",
       "      <td>6100.0</td>\n",
       "      <td>35.47</td>\n",
       "    </tr>\n",
       "    <tr>\n",
       "      <th>9</th>\n",
       "      <td>7900</td>\n",
       "      <td>8874.0</td>\n",
       "      <td>-974.0</td>\n",
       "      <td>974.0</td>\n",
       "      <td>12.33</td>\n",
       "    </tr>\n",
       "  </tbody>\n",
       "</table>\n",
       "</div>"
      ],
      "text/plain": [
       "   Real Price  Predicted Price  Difference  ABS Difference  % of error\n",
       "0        7700           7504.0       196.0           196.0        2.55\n",
       "1       15900          11570.0      4330.0          4330.0       27.23\n",
       "2       22900          21814.0      1086.0          1086.0        4.74\n",
       "3       23500          21736.0      1764.0          1764.0        7.51\n",
       "4       74400          81777.0     -7377.0          7377.0        9.92\n",
       "5       33000          26514.0      6486.0          6486.0       19.65\n",
       "6       24900          28323.0     -3423.0          3423.0       13.75\n",
       "7        6900           4571.0      2329.0          2329.0       33.75\n",
       "8       17200          23300.0     -6100.0          6100.0       35.47\n",
       "9        7900           8874.0      -974.0           974.0       12.33"
      ]
     },
     "execution_count": 51,
     "metadata": {},
     "output_type": "execute_result"
    }
   ],
   "source": [
    "result_df.head(10)"
   ]
  },
  {
   "cell_type": "markdown",
   "id": "1295f6df",
   "metadata": {},
   "source": [
    "# 0k - 10K"
   ]
  },
  {
   "cell_type": "code",
   "execution_count": 52,
   "id": "7a6f3a32",
   "metadata": {},
   "outputs": [
    {
     "data": {
      "text/plain": [
       "0.30798827496578896"
      ]
     },
     "execution_count": 52,
     "metadata": {},
     "output_type": "execute_result"
    }
   ],
   "source": [
    "result_df[(result_df[\"Real Price\"] < 10000)][\"ABS Difference\"].mean() / result_df[(result_df[\"Real Price\"] < 10000)][\"Real Price\"].mean()"
   ]
  },
  {
   "cell_type": "markdown",
   "id": "b6284b12",
   "metadata": {},
   "source": [
    "# 10k - 25k"
   ]
  },
  {
   "cell_type": "code",
   "execution_count": 53,
   "id": "60d7184c",
   "metadata": {},
   "outputs": [
    {
     "data": {
      "text/plain": [
       "0.15896554161061546"
      ]
     },
     "execution_count": 53,
     "metadata": {},
     "output_type": "execute_result"
    }
   ],
   "source": [
    "result_df[(result_df[\"Real Price\"] > 10000  ) & (result_df[\"Real Price\"] < 25000)][\"ABS Difference\"].mean() / result_df[(result_df[\"Real Price\"] > 10000  ) & (result_df[\"Real Price\"] < 25000)][\"Real Price\"].mean()"
   ]
  },
  {
   "cell_type": "markdown",
   "id": "a75e580c",
   "metadata": {},
   "source": [
    "# 25k - 50k"
   ]
  },
  {
   "cell_type": "code",
   "execution_count": 54,
   "id": "fb8a850a",
   "metadata": {},
   "outputs": [
    {
     "data": {
      "text/plain": [
       "0.12832104719162077"
      ]
     },
     "execution_count": 54,
     "metadata": {},
     "output_type": "execute_result"
    }
   ],
   "source": [
    "result_df[(result_df[\"Real Price\"] > 25000  ) & (result_df[\"Real Price\"] < 50000)][\"ABS Difference\"].mean() / result_df[(result_df[\"Real Price\"] > 25000  ) & (result_df[\"Real Price\"] < 50000)][\"Real Price\"].mean()"
   ]
  },
  {
   "cell_type": "markdown",
   "id": "7086f863",
   "metadata": {},
   "source": [
    "# 50k - 100k"
   ]
  },
  {
   "cell_type": "code",
   "execution_count": 55,
   "id": "9186111f",
   "metadata": {
    "scrolled": true
   },
   "outputs": [
    {
     "data": {
      "text/plain": [
       "0.10920055301390588"
      ]
     },
     "execution_count": 55,
     "metadata": {},
     "output_type": "execute_result"
    }
   ],
   "source": [
    "result_df[(result_df[\"Real Price\"] > 50000  ) & (result_df[\"Real Price\"] < 100000)][\"ABS Difference\"].mean() / result_df[(result_df[\"Real Price\"] > 50000  ) & (result_df[\"Real Price\"] < 100000)][\"Real Price\"].mean()"
   ]
  },
  {
   "cell_type": "code",
   "execution_count": null,
   "id": "3cbd24ce",
   "metadata": {},
   "outputs": [],
   "source": []
  },
  {
   "cell_type": "markdown",
   "id": "c5bc912d",
   "metadata": {},
   "source": [
    "# I decided to train the models for these price ranges separately"
   ]
  },
  {
   "cell_type": "code",
   "execution_count": 56,
   "id": "1f2a53cd",
   "metadata": {},
   "outputs": [
    {
     "name": "stdout",
     "output_type": "stream",
     "text": [
      "Current working directory: C:\\Users\\kacpe\\Desktop\\programowanie\\Programowanie_w_Python\\Car_Value_Project\n"
     ]
    }
   ],
   "source": [
    "import os\n",
    "cwd = os.getcwd()\n",
    "\n",
    "print(\"Current working directory: {0}\".format(cwd))"
   ]
  },
  {
   "cell_type": "code",
   "execution_count": 57,
   "id": "357b72f4",
   "metadata": {},
   "outputs": [],
   "source": [
    "score = []"
   ]
  },
  {
   "cell_type": "code",
   "execution_count": 63,
   "id": "c1378559",
   "metadata": {},
   "outputs": [],
   "source": [
    "def model_treining(df):\n",
    "    df_dummies = pd.get_dummies(df,drop_first=True)\n",
    "    X = df_dummies.drop(\"Price\", axis = 1)\n",
    "    y = df_dummies[\"Price\"]\n",
    "    X_train, X_test, y_train, y_test = train_test_split(X, y, test_size=0.2, random_state=110)\n",
    "    scaler = StandardScaler()\n",
    "    X_train = scaler.fit_transform(X_train)\n",
    "    X_test = scaler.transform(X_test)\n",
    "    \n",
    "    model = Sequential()\n",
    "    model.add(Dense(100, activation='relu'))\n",
    "    model.add(Dense(100, activation='relu'))\n",
    "    model.add(Dense(100, activation='relu'))\n",
    "    model.add(Dense(50, activation='relu'))\n",
    "    model.add(Dense(50, activation='relu'))\n",
    "    model.add(Dense(50, activation='relu'))\n",
    "    model.add(Dense(50, activation='relu'))\n",
    "    model.add(Dense(25, activation='relu'))\n",
    "    model.add(Dense(25, activation='relu'))\n",
    "    model.add(Dense(1))\n",
    "\n",
    "    model.compile(optimizer='adam', loss='mae')\n",
    "    model.fit(x=X_train, y=y_train.values,\n",
    "          validation_data=(X_test, y_test.values),\n",
    "          batch_size=256, epochs=100)\n",
    "    preds = model.predict(X_test)\n",
    "    print(mean_absolute_error(y_test,preds) / y_test.mean())\n",
    "    score.append(mean_absolute_error(y_test,preds) / y_test.mean())\n",
    "    plt.clf()\n",
    "    plt.scatter(y_test, preds)\n",
    "    \n",
    "    plt.plot(y_test,y_test,'r')\n",
    "    tf.keras.models.save_model(model,  \"Models/model_10k.hdf5\")\n",
    "    #tf.keras.models.save_model(model,  name + \".hdf5\")\n",
    "    return model\n",
    "    "
   ]
  },
  {
   "cell_type": "markdown",
   "id": "2c438a01",
   "metadata": {},
   "source": [
    "# Models Real Trening to save and deploy"
   ]
  },
  {
   "cell_type": "code",
   "execution_count": 23,
   "id": "435beef4",
   "metadata": {},
   "outputs": [],
   "source": [
    "df_10k = df[df[\"Price\"] < 10000]"
   ]
  },
  {
   "cell_type": "code",
   "execution_count": 24,
   "id": "29ff45e4",
   "metadata": {},
   "outputs": [
    {
     "name": "stdout",
     "output_type": "stream",
     "text": [
      "Epoch 1/100\n",
      "61/61 [==============================] - 1s 8ms/step - loss: 5954.3989 - val_loss: 2085.0891\n",
      "Epoch 2/100\n",
      "61/61 [==============================] - 0s 4ms/step - loss: 1790.1096 - val_loss: 1515.9852\n",
      "Epoch 3/100\n",
      "61/61 [==============================] - 0s 4ms/step - loss: 1476.7054 - val_loss: 1414.0381\n",
      "Epoch 4/100\n",
      "61/61 [==============================] - 0s 4ms/step - loss: 1405.5369 - val_loss: 1401.8839\n",
      "Epoch 5/100\n",
      "61/61 [==============================] - 0s 4ms/step - loss: 1361.5146 - val_loss: 1365.4457\n",
      "Epoch 6/100\n",
      "61/61 [==============================] - 0s 4ms/step - loss: 1344.0397 - val_loss: 1333.6884\n",
      "Epoch 7/100\n",
      "61/61 [==============================] - 0s 4ms/step - loss: 1332.4922 - val_loss: 1330.7166\n",
      "Epoch 8/100\n",
      "61/61 [==============================] - 0s 4ms/step - loss: 1319.1776 - val_loss: 1328.8373\n",
      "Epoch 9/100\n",
      "61/61 [==============================] - 0s 4ms/step - loss: 1306.1880 - val_loss: 1316.6429\n",
      "Epoch 10/100\n",
      "61/61 [==============================] - 0s 4ms/step - loss: 1302.0598 - val_loss: 1313.1515\n",
      "Epoch 11/100\n",
      "61/61 [==============================] - 0s 4ms/step - loss: 1292.7837 - val_loss: 1316.6899\n",
      "Epoch 12/100\n",
      "61/61 [==============================] - 0s 4ms/step - loss: 1287.7153 - val_loss: 1310.9147\n",
      "Epoch 13/100\n",
      "61/61 [==============================] - 0s 4ms/step - loss: 1284.4596 - val_loss: 1306.9442\n",
      "Epoch 14/100\n",
      "61/61 [==============================] - 0s 4ms/step - loss: 1289.0850 - val_loss: 1320.0745\n",
      "Epoch 15/100\n",
      "61/61 [==============================] - 0s 4ms/step - loss: 1280.0540 - val_loss: 1315.6176\n",
      "Epoch 16/100\n",
      "61/61 [==============================] - 0s 4ms/step - loss: 1273.5953 - val_loss: 1307.3406\n",
      "Epoch 17/100\n",
      "61/61 [==============================] - 0s 4ms/step - loss: 1266.1456 - val_loss: 1300.8403\n",
      "Epoch 18/100\n",
      "61/61 [==============================] - 0s 4ms/step - loss: 1271.2390 - val_loss: 1305.2096\n",
      "Epoch 19/100\n",
      "61/61 [==============================] - 0s 4ms/step - loss: 1271.5352 - val_loss: 1309.3820\n",
      "Epoch 20/100\n",
      "61/61 [==============================] - 0s 4ms/step - loss: 1258.7183 - val_loss: 1298.5015\n",
      "Epoch 21/100\n",
      "61/61 [==============================] - 0s 4ms/step - loss: 1256.5565 - val_loss: 1302.1488\n",
      "Epoch 22/100\n",
      "61/61 [==============================] - 0s 4ms/step - loss: 1256.7085 - val_loss: 1300.5068\n",
      "Epoch 23/100\n",
      "61/61 [==============================] - 0s 4ms/step - loss: 1251.5161 - val_loss: 1299.7271\n",
      "Epoch 24/100\n",
      "61/61 [==============================] - 0s 4ms/step - loss: 1246.6543 - val_loss: 1297.4764\n",
      "Epoch 25/100\n",
      "61/61 [==============================] - 0s 4ms/step - loss: 1247.7872 - val_loss: 1294.9814\n",
      "Epoch 26/100\n",
      "61/61 [==============================] - 0s 4ms/step - loss: 1241.3617 - val_loss: 1305.4275\n",
      "Epoch 27/100\n",
      "61/61 [==============================] - 0s 4ms/step - loss: 1239.3718 - val_loss: 1291.4503\n",
      "Epoch 28/100\n",
      "61/61 [==============================] - 0s 4ms/step - loss: 1241.7903 - val_loss: 1312.0562\n",
      "Epoch 29/100\n",
      "61/61 [==============================] - 0s 4ms/step - loss: 1239.4972 - val_loss: 1304.6877\n",
      "Epoch 30/100\n",
      "61/61 [==============================] - 0s 4ms/step - loss: 1240.4000 - val_loss: 1298.8369\n",
      "Epoch 31/100\n",
      "61/61 [==============================] - 0s 4ms/step - loss: 1232.7886 - val_loss: 1306.0947\n",
      "Epoch 32/100\n",
      "61/61 [==============================] - 0s 4ms/step - loss: 1231.7577 - val_loss: 1294.4053\n",
      "Epoch 33/100\n",
      "61/61 [==============================] - 0s 4ms/step - loss: 1229.4749 - val_loss: 1292.3618\n",
      "Epoch 34/100\n",
      "61/61 [==============================] - 0s 4ms/step - loss: 1223.0145 - val_loss: 1291.2910\n",
      "Epoch 35/100\n",
      "61/61 [==============================] - 0s 4ms/step - loss: 1223.1023 - val_loss: 1298.7517\n",
      "Epoch 36/100\n",
      "61/61 [==============================] - 0s 4ms/step - loss: 1219.2505 - val_loss: 1291.6278\n",
      "Epoch 37/100\n",
      "61/61 [==============================] - 0s 4ms/step - loss: 1222.3912 - val_loss: 1294.6472\n",
      "Epoch 38/100\n",
      "61/61 [==============================] - 0s 4ms/step - loss: 1220.0803 - val_loss: 1296.9387\n",
      "Epoch 39/100\n",
      "61/61 [==============================] - 0s 4ms/step - loss: 1213.0249 - val_loss: 1290.9246\n",
      "Epoch 40/100\n",
      "61/61 [==============================] - 0s 4ms/step - loss: 1215.3916 - val_loss: 1312.6914\n",
      "Epoch 41/100\n",
      "61/61 [==============================] - 0s 4ms/step - loss: 1210.1829 - val_loss: 1301.4475\n",
      "Epoch 42/100\n",
      "61/61 [==============================] - 0s 4ms/step - loss: 1211.2561 - val_loss: 1294.9622\n",
      "Epoch 43/100\n",
      "61/61 [==============================] - 0s 4ms/step - loss: 1215.5061 - val_loss: 1303.5247\n",
      "Epoch 44/100\n",
      "61/61 [==============================] - 0s 4ms/step - loss: 1213.9968 - val_loss: 1299.0499\n",
      "Epoch 45/100\n",
      "61/61 [==============================] - 0s 4ms/step - loss: 1211.9618 - val_loss: 1317.7928\n",
      "Epoch 46/100\n",
      "61/61 [==============================] - 0s 4ms/step - loss: 1202.8590 - val_loss: 1307.5865\n",
      "Epoch 47/100\n",
      "61/61 [==============================] - 0s 4ms/step - loss: 1201.3040 - val_loss: 1299.3373\n",
      "Epoch 48/100\n",
      "61/61 [==============================] - 0s 4ms/step - loss: 1203.0453 - val_loss: 1297.9072\n",
      "Epoch 49/100\n",
      "61/61 [==============================] - 0s 4ms/step - loss: 1196.8602 - val_loss: 1302.5767\n",
      "Epoch 50/100\n",
      "61/61 [==============================] - 0s 4ms/step - loss: 1201.8519 - val_loss: 1295.1443\n",
      "Epoch 51/100\n",
      "61/61 [==============================] - 0s 4ms/step - loss: 1191.1886 - val_loss: 1291.6681\n",
      "Epoch 52/100\n",
      "61/61 [==============================] - 0s 4ms/step - loss: 1191.3989 - val_loss: 1290.4834\n",
      "Epoch 53/100\n",
      "61/61 [==============================] - 0s 4ms/step - loss: 1185.9873 - val_loss: 1294.4141\n",
      "Epoch 54/100\n",
      "61/61 [==============================] - 0s 4ms/step - loss: 1188.9775 - val_loss: 1294.0769\n",
      "Epoch 55/100\n",
      "61/61 [==============================] - 0s 4ms/step - loss: 1184.9987 - val_loss: 1320.0607\n",
      "Epoch 56/100\n",
      "61/61 [==============================] - 0s 4ms/step - loss: 1193.1456 - val_loss: 1306.4998\n",
      "Epoch 57/100\n",
      "61/61 [==============================] - 0s 4ms/step - loss: 1187.0155 - val_loss: 1295.7505\n",
      "Epoch 58/100\n",
      "61/61 [==============================] - 0s 4ms/step - loss: 1179.2302 - val_loss: 1289.0951\n",
      "Epoch 59/100\n",
      "61/61 [==============================] - 0s 4ms/step - loss: 1177.7362 - val_loss: 1303.0569\n",
      "Epoch 60/100\n",
      "61/61 [==============================] - 0s 4ms/step - loss: 1178.1486 - val_loss: 1296.1826\n",
      "Epoch 61/100\n",
      "61/61 [==============================] - 0s 4ms/step - loss: 1174.7876 - val_loss: 1296.6993\n",
      "Epoch 62/100\n",
      "61/61 [==============================] - 0s 4ms/step - loss: 1170.5649 - val_loss: 1295.5068\n",
      "Epoch 63/100\n",
      "61/61 [==============================] - 0s 4ms/step - loss: 1175.5659 - val_loss: 1295.6262\n",
      "Epoch 64/100\n",
      "61/61 [==============================] - 0s 4ms/step - loss: 1171.0961 - val_loss: 1296.2107\n",
      "Epoch 65/100\n",
      "61/61 [==============================] - 0s 4ms/step - loss: 1164.0273 - val_loss: 1301.7452\n",
      "Epoch 66/100\n",
      "61/61 [==============================] - 0s 4ms/step - loss: 1165.6591 - val_loss: 1296.7581\n",
      "Epoch 67/100\n",
      "61/61 [==============================] - 0s 4ms/step - loss: 1157.5762 - val_loss: 1303.6458\n",
      "Epoch 68/100\n",
      "61/61 [==============================] - 0s 4ms/step - loss: 1153.2542 - val_loss: 1289.1814\n",
      "Epoch 69/100\n",
      "61/61 [==============================] - 0s 4ms/step - loss: 1149.9618 - val_loss: 1291.7871\n",
      "Epoch 70/100\n",
      "61/61 [==============================] - 0s 4ms/step - loss: 1150.9824 - val_loss: 1293.7236\n",
      "Epoch 71/100\n",
      "61/61 [==============================] - 0s 4ms/step - loss: 1146.4851 - val_loss: 1302.5920\n",
      "Epoch 72/100\n",
      "61/61 [==============================] - 0s 4ms/step - loss: 1151.4734 - val_loss: 1302.5414\n",
      "Epoch 73/100\n",
      "61/61 [==============================] - 0s 4ms/step - loss: 1142.5590 - val_loss: 1294.0090\n",
      "Epoch 74/100\n",
      "61/61 [==============================] - 0s 4ms/step - loss: 1141.0027 - val_loss: 1299.9662\n",
      "Epoch 75/100\n",
      "61/61 [==============================] - 0s 4ms/step - loss: 1136.7260 - val_loss: 1294.0571\n",
      "Epoch 76/100\n",
      "61/61 [==============================] - 0s 4ms/step - loss: 1132.4504 - val_loss: 1292.6553\n",
      "Epoch 77/100\n",
      "61/61 [==============================] - 0s 4ms/step - loss: 1130.0327 - val_loss: 1297.3496\n",
      "Epoch 78/100\n",
      "61/61 [==============================] - 0s 4ms/step - loss: 1127.1038 - val_loss: 1295.4596\n",
      "Epoch 79/100\n",
      "61/61 [==============================] - 0s 4ms/step - loss: 1119.5498 - val_loss: 1296.4298\n",
      "Epoch 80/100\n",
      "61/61 [==============================] - 0s 4ms/step - loss: 1132.2876 - val_loss: 1293.1376\n",
      "Epoch 81/100\n",
      "61/61 [==============================] - 0s 4ms/step - loss: 1117.1930 - val_loss: 1296.6444\n",
      "Epoch 82/100\n",
      "61/61 [==============================] - 0s 4ms/step - loss: 1115.7706 - val_loss: 1292.6719\n",
      "Epoch 83/100\n",
      "61/61 [==============================] - 0s 4ms/step - loss: 1119.2596 - val_loss: 1298.5586\n",
      "Epoch 84/100\n",
      "61/61 [==============================] - 0s 4ms/step - loss: 1118.7911 - val_loss: 1287.7725\n",
      "Epoch 85/100\n",
      "61/61 [==============================] - 0s 4ms/step - loss: 1109.8929 - val_loss: 1291.1481\n",
      "Epoch 86/100\n",
      "61/61 [==============================] - 0s 4ms/step - loss: 1107.1855 - val_loss: 1295.3778\n",
      "Epoch 87/100\n",
      "61/61 [==============================] - 0s 4ms/step - loss: 1105.0638 - val_loss: 1291.4110\n",
      "Epoch 88/100\n",
      "61/61 [==============================] - 0s 4ms/step - loss: 1098.9554 - val_loss: 1287.6093\n",
      "Epoch 89/100\n",
      "61/61 [==============================] - 0s 4ms/step - loss: 1100.6838 - val_loss: 1322.2401\n",
      "Epoch 90/100\n",
      "61/61 [==============================] - 0s 4ms/step - loss: 1100.5369 - val_loss: 1294.5210\n",
      "Epoch 91/100\n",
      "61/61 [==============================] - 0s 4ms/step - loss: 1094.1804 - val_loss: 1296.2722\n",
      "Epoch 92/100\n",
      "61/61 [==============================] - 0s 4ms/step - loss: 1091.1707 - val_loss: 1284.9368\n",
      "Epoch 93/100\n",
      "61/61 [==============================] - 0s 4ms/step - loss: 1091.0583 - val_loss: 1289.6002\n",
      "Epoch 94/100\n",
      "61/61 [==============================] - 0s 4ms/step - loss: 1085.8915 - val_loss: 1286.5969\n",
      "Epoch 95/100\n",
      "61/61 [==============================] - 0s 4ms/step - loss: 1086.2004 - val_loss: 1297.0970\n",
      "Epoch 96/100\n",
      "61/61 [==============================] - 0s 4ms/step - loss: 1087.5217 - val_loss: 1284.3234\n",
      "Epoch 97/100\n",
      "61/61 [==============================] - 0s 4ms/step - loss: 1082.5159 - val_loss: 1282.8048\n",
      "Epoch 98/100\n",
      "61/61 [==============================] - 0s 4ms/step - loss: 1079.2405 - val_loss: 1283.5038\n",
      "Epoch 99/100\n",
      "61/61 [==============================] - 0s 4ms/step - loss: 1078.0116 - val_loss: 1297.0978\n",
      "Epoch 100/100\n",
      "61/61 [==============================] - 0s 4ms/step - loss: 1085.6809 - val_loss: 1312.7262\n",
      "121/121 [==============================] - 0s 1ms/step\n",
      "0.18848322700401254\n"
     ]
    }
   ],
   "source": [
    "    df_dummies = pd.get_dummies(df_10k,drop_first=True)\n",
    "    df_dummies.to_csv(\"Data/df_dummies_10k.csv\")\n",
    "    X = df_dummies.drop(\"Price\", axis = 1)\n",
    "    y = df_dummies[\"Price\"]\n",
    "    X_train, X_test, y_train, y_test = train_test_split(X, y, test_size=0.2, random_state=110)\n",
    "    scaler10k = StandardScaler()\n",
    "    X_train = scaler10k.fit_transform(X_train)\n",
    "    X_test = scaler10k.transform(X_test)\n",
    "    \n",
    "    model = Sequential()\n",
    "    model.add(Dense(100, activation='relu'))\n",
    "    model.add(Dense(100, activation='relu'))\n",
    "    model.add(Dense(100, activation='relu'))\n",
    "    model.add(Dense(50, activation='relu'))\n",
    "    model.add(Dense(50, activation='relu'))\n",
    "    model.add(Dense(50, activation='relu'))\n",
    "    model.add(Dense(50, activation='relu'))\n",
    "    model.add(Dense(25, activation='relu'))\n",
    "    model.add(Dense(25, activation='relu'))\n",
    "    #model.add(Dense(6,activation='relu'))\n",
    "    model.add(Dense(1))\n",
    "\n",
    "    model.compile(optimizer='adam', loss='mae')\n",
    "    model.fit(x=X_train, y=y_train.values,\n",
    "          validation_data=(X_test, y_test.values),\n",
    "          batch_size=256, epochs=100)\n",
    "    preds = model.predict(X_test)\n",
    "    X_test.shape\n",
    "    print(mean_absolute_error(y_test, preds) / y_test.mean())"
   ]
  },
  {
   "cell_type": "code",
   "execution_count": 25,
   "id": "c443ca43",
   "metadata": {},
   "outputs": [],
   "source": [
    "#Save model and scaler "
   ]
  },
  {
   "cell_type": "code",
   "execution_count": 26,
   "id": "2025c1ce",
   "metadata": {},
   "outputs": [],
   "source": [
    "dump(scaler10k, open('Scalers/scaler10k.pkl', 'wb'))"
   ]
  },
  {
   "cell_type": "code",
   "execution_count": 27,
   "id": "9744eee7",
   "metadata": {},
   "outputs": [],
   "source": [
    "model.save(\"Model/model_10k.h5\")"
   ]
  },
  {
   "cell_type": "code",
   "execution_count": 188,
   "id": "067e3911",
   "metadata": {
    "scrolled": true
   },
   "outputs": [],
   "source": [
    "#model_treining(df_10k)\n",
    "#model_10k = tf.keras.models.load_model(\"Models/model_10k.hdf5\")"
   ]
  },
  {
   "cell_type": "code",
   "execution_count": 189,
   "id": "56237000",
   "metadata": {},
   "outputs": [
    {
     "data": {
      "text/plain": [
       "array(['Opel', 'Audi', 'BMW', 'Volkswagen', 'Škoda', 'Ford', 'Renault',\n",
       "       'Mercedes-Benz', 'Toyota', 'Seat', 'Nissan', 'Kia', 'Hyundai',\n",
       "       'Peugeot', 'Mazda', 'Honda', 'Citroën', 'Fiat', 'Volvo', 'Dacia',\n",
       "       'Suzuki', 'Mitsubishi', 'Jeep', 'MINI', 'Saab', 'Alfa Romeo',\n",
       "       'Chevrolet', 'Subaru', 'Jaguar', 'Lexus', 'Chrysler', 'Smart',\n",
       "       'Land Rover'], dtype=object)"
      ]
     },
     "execution_count": 189,
     "metadata": {},
     "output_type": "execute_result"
    }
   ],
   "source": [
    "df_10k[\"Vehicle_brand\"].unique()"
   ]
  },
  {
   "cell_type": "code",
   "execution_count": 81,
   "id": "a86a0b57",
   "metadata": {},
   "outputs": [],
   "source": [
    "df_25k = df[(df[\"Price\"] > 10000) & (df[\"Price\"] < 25000)]"
   ]
  },
  {
   "cell_type": "code",
   "execution_count": 89,
   "id": "dd4a829a",
   "metadata": {
    "scrolled": true
   },
   "outputs": [
    {
     "name": "stdout",
     "output_type": "stream",
     "text": [
      "318/318 [==============================] - 0s 1ms/step\n",
      "1.0000004231705446\n"
     ]
    }
   ],
   "source": [
    "    df_dummies = pd.get_dummies(df_25k, drop_first=True)\n",
    "    df_dummies.to_csv(\"Data/df_dummies_25k.csv\")\n",
    "    X = df_dummies.drop(\"Price\", axis = 1)\n",
    "    y = df_dummies[\"Price\"]\n",
    "    X_train, X_test, y_train, y_test = train_test_split(X, y, test_size=0.2, random_state=110)\n",
    "    scaler25k = StandardScaler()\n",
    "    X_train = scaler25k.fit_transform(X_train)\n",
    "    X_test = scaler25k.transform(X_test)\n",
    "    \n",
    "    model = Sequential()\n",
    "    model.add(Dense(100, activation='relu'))\n",
    "    model.add(Dense(100, activation='relu'))\n",
    "    model.add(Dense(100, activation='relu'))\n",
    "    model.add(Dense(50, activation='relu'))\n",
    "    model.add(Dense(50, activation='relu'))\n",
    "    model.add(Dense(50, activation='relu'))\n",
    "    model.add(Dense(50, activation='relu'))\n",
    "    model.add(Dense(25, activation='relu'))\n",
    "    model.add(Dense(25, activation='relu'))\n",
    "    model.add(Dense(1))\n",
    "\n",
    "    model.compile(optimizer='adam', loss='mae')\n",
    "    preds = model.predict(X_test)\n",
    "    print(mean_absolute_error(y_test, preds) / y_test.mean())"
   ]
  },
  {
   "cell_type": "code",
   "execution_count": 90,
   "id": "f0a6444d",
   "metadata": {},
   "outputs": [],
   "source": [
    "#Save model and scaler"
   ]
  },
  {
   "cell_type": "code",
   "execution_count": 92,
   "id": "873ee973",
   "metadata": {},
   "outputs": [],
   "source": [
    "model.save(\"Model/model_25k.h5\")"
   ]
  },
  {
   "cell_type": "code",
   "execution_count": 93,
   "id": "2a156e58",
   "metadata": {},
   "outputs": [],
   "source": [
    "dump(scaler25k, open('Scalers/scaler25k.pkl', 'wb'))"
   ]
  },
  {
   "cell_type": "code",
   "execution_count": 94,
   "id": "f99ebd66",
   "metadata": {},
   "outputs": [],
   "source": [
    "df_50k = df[(df[\"Price\"] > 25000) & (df[\"Price\"] < 50000)]"
   ]
  },
  {
   "cell_type": "code",
   "execution_count": 99,
   "id": "658cfed5",
   "metadata": {
    "scrolled": false
   },
   "outputs": [
    {
     "name": "stdout",
     "output_type": "stream",
     "text": [
      "292/292 [==============================] - 0s 1ms/step\n",
      "1.0000013326566095\n"
     ]
    }
   ],
   "source": [
    "    df_dummies = pd.get_dummies(df_50k, drop_first=True)\n",
    "    df_dummies.to_csv(\"Data/df_dummies_50k.csv\")\n",
    "    X = df_dummies.drop(\"Price\", axis = 1)\n",
    "    y = df_dummies[\"Price\"]\n",
    "    X_train, X_test, y_train, y_test = train_test_split(X, y, test_size=0.2, random_state=110)\n",
    "    scaler50k = StandardScaler()\n",
    "    X_train = scaler50k.fit_transform(X_train)\n",
    "    X_test = scaler50k.transform(X_test)\n",
    "    \n",
    "    model = Sequential()\n",
    "    model.add(Dense(100, activation='relu'))\n",
    "    model.add(Dense(100, activation='relu'))\n",
    "    model.add(Dense(100, activation='relu'))\n",
    "    model.add(Dense(50, activation='relu'))\n",
    "    model.add(Dense(50, activation='relu'))\n",
    "    model.add(Dense(50, activation='relu'))\n",
    "    model.add(Dense(50, activation='relu'))\n",
    "    model.add(Dense(25, activation='relu'))\n",
    "    model.add(Dense(25, activation='relu'))\n",
    "    model.add(Dense(1))\n",
    "\n",
    "    model.compile(optimizer='adam', loss='mae')\n",
    "    preds = model.predict(X_test)\n",
    "    print(mean_absolute_error(y_test,preds) / y_test.mean())"
   ]
  },
  {
   "cell_type": "code",
   "execution_count": 100,
   "id": "2dd9b2b2",
   "metadata": {},
   "outputs": [],
   "source": [
    "model.save(\"Model/model_50k.h5\")"
   ]
  },
  {
   "cell_type": "code",
   "execution_count": 101,
   "id": "65782071",
   "metadata": {},
   "outputs": [],
   "source": [
    "dump(scaler50k, open('Scalers/scaler50k.pkl', 'wb'))"
   ]
  },
  {
   "cell_type": "code",
   "execution_count": null,
   "id": "70898c38",
   "metadata": {},
   "outputs": [],
   "source": []
  },
  {
   "cell_type": "code",
   "execution_count": 103,
   "id": "139b1469",
   "metadata": {},
   "outputs": [],
   "source": [
    "df_100k = df[(df[\"Price\"] > 50000) & (df[\"Price\"] < 100000)]"
   ]
  },
  {
   "cell_type": "code",
   "execution_count": 104,
   "id": "54d3bc8a",
   "metadata": {
    "scrolled": false
   },
   "outputs": [
    {
     "name": "stdout",
     "output_type": "stream",
     "text": [
      "250/250 [==============================] - 0s 1ms/step\n",
      "0.9999990622239932\n"
     ]
    }
   ],
   "source": [
    "    df_dummies = pd.get_dummies(df_100k,drop_first=True)\n",
    "    df_dummies.to_csv(\"Data/df_dummies_100k.csv\")\n",
    "    X = df_dummies.drop(\"Price\", axis = 1)\n",
    "    y = df_dummies[\"Price\"]\n",
    "    X_train, X_test, y_train, y_test = train_test_split(X, y, test_size=0.2, random_state=110)\n",
    "    scaler100k = StandardScaler()\n",
    "    X_train = scaler100k.fit_transform(X_train)\n",
    "    X_test = scaler100k.transform(X_test)\n",
    "    \n",
    "    model = Sequential()\n",
    "    model.add(Dense(100, activation='relu'))\n",
    "    model.add(Dense(100, activation='relu'))\n",
    "    model.add(Dense(100, activation='relu'))\n",
    "    model.add(Dense(50, activation='relu'))\n",
    "    model.add(Dense(50, activation='relu'))\n",
    "    model.add(Dense(50, activation='relu'))\n",
    "    model.add(Dense(50, activation='relu'))\n",
    "    model.add(Dense(25, activation='relu'))\n",
    "    model.add(Dense(25, activation='relu'))\n",
    "    model.add(Dense(1))\n",
    "\n",
    "    model.compile(optimizer='adam', loss='mae')\n",
    "    preds = model.predict(X_test)\n",
    "    print(mean_absolute_error(y_test,preds) / y_test.mean())"
   ]
  },
  {
   "cell_type": "code",
   "execution_count": 105,
   "id": "b5e16a4a",
   "metadata": {},
   "outputs": [],
   "source": [
    "dump(scaler100k, open('Scalers/scaler100k.pkl', 'wb'))"
   ]
  },
  {
   "cell_type": "code",
   "execution_count": 69,
   "id": "c2f77b06",
   "metadata": {},
   "outputs": [],
   "source": [
    "model.save(\"Model/model_100k.h5\")"
   ]
  },
  {
   "cell_type": "code",
   "execution_count": 107,
   "id": "ecacbd62",
   "metadata": {},
   "outputs": [],
   "source": [
    "df_200k = df[(df[\"Price\"] > 100000) & (df[\"Price\"] < 200000)]"
   ]
  },
  {
   "cell_type": "code",
   "execution_count": 109,
   "id": "599bc6d4",
   "metadata": {
    "scrolled": true
   },
   "outputs": [
    {
     "name": "stdout",
     "output_type": "stream",
     "text": [
      "128/128 [==============================] - 0s 1ms/step\n",
      "1.0000006314812917\n"
     ]
    }
   ],
   "source": [
    "    df_dummies = pd.get_dummies(df_200k,drop_first=True)\n",
    "    df_dummies.to_csv(\"Data/df_dummies_200k.csv\")\n",
    "    X = df_dummies.drop(\"Price\", axis = 1)\n",
    "    y = df_dummies[\"Price\"]\n",
    "    X_train, X_test, y_train, y_test = train_test_split(X, y, test_size=0.2, random_state=110)\n",
    "    scaler200k = StandardScaler()\n",
    "    X_train = scaler200k.fit_transform(X_train)\n",
    "    X_test = scaler200k.transform(X_test)\n",
    "    \n",
    "    model = Sequential()\n",
    "    model.add(Dense(100, activation='relu'))\n",
    "    model.add(Dense(100, activation='relu'))\n",
    "    model.add(Dense(100, activation='relu'))\n",
    "    model.add(Dense(50, activation='relu'))\n",
    "    model.add(Dense(50, activation='relu'))\n",
    "    model.add(Dense(50, activation='relu'))\n",
    "    model.add(Dense(50, activation='relu'))\n",
    "    model.add(Dense(25, activation='relu'))\n",
    "    model.add(Dense(25, activation='relu'))\n",
    "    model.add(Dense(1))\n",
    "\n",
    "    model.compile(optimizer='adam',loss='mae')\n",
    "\n",
    "    preds = model.predict(X_test)\n",
    "    print(mean_absolute_error(y_test,preds) / y_test.mean())"
   ]
  },
  {
   "cell_type": "code",
   "execution_count": 110,
   "id": "60488f91",
   "metadata": {},
   "outputs": [],
   "source": [
    "model.save(\"Model/model_200k.h5\")"
   ]
  },
  {
   "cell_type": "code",
   "execution_count": 28,
   "id": "ad12be08",
   "metadata": {},
   "outputs": [
    {
     "ename": "NameError",
     "evalue": "name 'scaler200k' is not defined",
     "output_type": "error",
     "traceback": [
      "\u001b[1;31m---------------------------------------------------------------------------\u001b[0m",
      "\u001b[1;31mNameError\u001b[0m                                 Traceback (most recent call last)",
      "\u001b[1;32m~\\AppData\\Local\\Temp/ipykernel_10268/2093373460.py\u001b[0m in \u001b[0;36m<module>\u001b[1;34m\u001b[0m\n\u001b[1;32m----> 1\u001b[1;33m \u001b[0mdump\u001b[0m\u001b[1;33m(\u001b[0m\u001b[0mscaler200k\u001b[0m\u001b[1;33m,\u001b[0m \u001b[0mopen\u001b[0m\u001b[1;33m(\u001b[0m\u001b[1;34m'Scalers/scaler200k.pkl'\u001b[0m\u001b[1;33m,\u001b[0m \u001b[1;34m'wb'\u001b[0m\u001b[1;33m)\u001b[0m\u001b[1;33m)\u001b[0m\u001b[1;33m\u001b[0m\u001b[1;33m\u001b[0m\u001b[0m\n\u001b[0m",
      "\u001b[1;31mNameError\u001b[0m: name 'scaler200k' is not defined"
     ]
    }
   ],
   "source": [
    "dump(scaler200k, open('Scalers/scaler200k.pkl', 'wb'))"
   ]
  },
  {
   "cell_type": "code",
   "execution_count": 35,
   "id": "0314c84c",
   "metadata": {},
   "outputs": [],
   "source": [
    "model_10k = load_model(\"Model/model_10k.h5\")"
   ]
  },
  {
   "cell_type": "code",
   "execution_count": 36,
   "id": "9c1dcb81",
   "metadata": {},
   "outputs": [],
   "source": [
    "model_25k =load_model(\"Model/model_25k.h5\")"
   ]
  },
  {
   "cell_type": "code",
   "execution_count": 37,
   "id": "087a24ec",
   "metadata": {},
   "outputs": [],
   "source": [
    "model_50k =load_model(\"Model/model_50k.h5\")"
   ]
  },
  {
   "cell_type": "code",
   "execution_count": 38,
   "id": "c3d95a59",
   "metadata": {},
   "outputs": [],
   "source": [
    "model_100k = load_model(\"Model/model_100k.h5\")"
   ]
  },
  {
   "cell_type": "code",
   "execution_count": 39,
   "id": "c5a5e199",
   "metadata": {},
   "outputs": [],
   "source": [
    "model_200k = load_model(\"Model/model_100k.h5\")"
   ]
  },
  {
   "cell_type": "code",
   "execution_count": 40,
   "id": "8bb495a3",
   "metadata": {},
   "outputs": [],
   "source": [
    "scaler10k = load(open('Scalers/scaler10k.pkl', 'rb'))"
   ]
  },
  {
   "cell_type": "code",
   "execution_count": 41,
   "id": "44a1b4c8",
   "metadata": {},
   "outputs": [],
   "source": [
    "scaler25k = load(open('Scalers/scaler25k.pkl', 'rb'))"
   ]
  },
  {
   "cell_type": "code",
   "execution_count": 42,
   "id": "037d6d44",
   "metadata": {},
   "outputs": [],
   "source": [
    "scaler50k = load(open('Scalers/scaler50k.pkl', 'rb'))"
   ]
  },
  {
   "cell_type": "code",
   "execution_count": 43,
   "id": "aacc91fc",
   "metadata": {},
   "outputs": [],
   "source": [
    "scaler100k = load(open('Scalers/scaler100k.pkl', 'rb'))"
   ]
  },
  {
   "cell_type": "code",
   "execution_count": 44,
   "id": "11306cda",
   "metadata": {},
   "outputs": [],
   "source": [
    "scaler200k = load(open('Scalers/scaler200k.pkl', 'rb'))"
   ]
  },
  {
   "cell_type": "code",
   "execution_count": null,
   "id": "560a75bf",
   "metadata": {},
   "outputs": [],
   "source": []
  },
  {
   "cell_type": "code",
   "execution_count": 232,
   "id": "65308bb5",
   "metadata": {
    "scrolled": true
   },
   "outputs": [],
   "source": [
    "car = pd.DataFrame(columns = df.columns, data = [[199000, 'Used', 'Opel', 'Astra', 2005, 235000.0, 105.0, 1598.0,\n",
    "       'Gasoline + LPG', 'Front wheels', 'Manual', 5.0, 'black', 16.0]])"
   ]
  },
  {
   "cell_type": "code",
   "execution_count": 233,
   "id": "6a9261c5",
   "metadata": {},
   "outputs": [],
   "source": [
    "df_dum = pd.get_dummies"
   ]
  },
  {
   "cell_type": "code",
   "execution_count": 234,
   "id": "381f22eb",
   "metadata": {},
   "outputs": [],
   "source": [
    "X = df.drop(\"Price\",axis = 1)"
   ]
  },
  {
   "cell_type": "code",
   "execution_count": null,
   "id": "6b8087bb",
   "metadata": {},
   "outputs": [],
   "source": []
  },
  {
   "cell_type": "code",
   "execution_count": 237,
   "id": "9f62336e",
   "metadata": {
    "scrolled": true
   },
   "outputs": [
    {
     "name": "stderr",
     "output_type": "stream",
     "text": [
      "C:\\Users\\kacpe\\AppData\\Local\\Temp/ipykernel_19776/2895465081.py:27: FutureWarning: The frame.append method is deprecated and will be removed from pandas in a future version. Use pandas.concat instead.\n",
      "  df_200k_c = df_200k.append(car)\n"
     ]
    },
    {
     "ename": "ValueError",
     "evalue": "in user code:\n\n    File \"c:\\users\\kacpe\\appdata\\local\\programs\\python\\python39\\lib\\site-packages\\keras\\engine\\training.py\", line 1845, in predict_function  *\n        return step_function(self, iterator)\n    File \"c:\\users\\kacpe\\appdata\\local\\programs\\python\\python39\\lib\\site-packages\\keras\\engine\\training.py\", line 1834, in step_function  **\n        outputs = model.distribute_strategy.run(run_step, args=(data,))\n    File \"c:\\users\\kacpe\\appdata\\local\\programs\\python\\python39\\lib\\site-packages\\keras\\engine\\training.py\", line 1823, in run_step  **\n        outputs = model.predict_step(data)\n    File \"c:\\users\\kacpe\\appdata\\local\\programs\\python\\python39\\lib\\site-packages\\keras\\engine\\training.py\", line 1791, in predict_step\n        return self(x, training=False)\n    File \"c:\\users\\kacpe\\appdata\\local\\programs\\python\\python39\\lib\\site-packages\\keras\\utils\\traceback_utils.py\", line 67, in error_handler\n        raise e.with_traceback(filtered_tb) from None\n    File \"c:\\users\\kacpe\\appdata\\local\\programs\\python\\python39\\lib\\site-packages\\keras\\engine\\input_spec.py\", line 264, in assert_input_compatibility\n        raise ValueError(f'Input {input_index} of layer \"{layer_name}\" is '\n\n    ValueError: Input 0 of layer \"sequential_8\" is incompatible with the layer: expected shape=(None, 320), found shape=(None, 249)\n",
     "output_type": "error",
     "traceback": [
      "\u001b[1;31m---------------------------------------------------------------------------\u001b[0m",
      "\u001b[1;31mValueError\u001b[0m                                Traceback (most recent call last)",
      "\u001b[1;32m~\\AppData\\Local\\Temp/ipykernel_19776/2895465081.py\u001b[0m in \u001b[0;36m<module>\u001b[1;34m\u001b[0m\n\u001b[0;32m     29\u001b[0m     \u001b[0mdf_200k_c_dum\u001b[0m \u001b[1;33m=\u001b[0m \u001b[0mpd\u001b[0m\u001b[1;33m.\u001b[0m\u001b[0mget_dummies\u001b[0m\u001b[1;33m(\u001b[0m\u001b[0mdf_200k_c\u001b[0m\u001b[1;33m,\u001b[0m\u001b[0mdrop_first\u001b[0m\u001b[1;33m=\u001b[0m\u001b[1;32mTrue\u001b[0m\u001b[1;33m)\u001b[0m\u001b[1;33m\u001b[0m\u001b[1;33m\u001b[0m\u001b[0m\n\u001b[0;32m     30\u001b[0m     \u001b[0mcar1\u001b[0m \u001b[1;33m=\u001b[0m \u001b[0mscaler200k\u001b[0m\u001b[1;33m.\u001b[0m\u001b[0mtransform\u001b[0m\u001b[1;33m(\u001b[0m\u001b[0mdf_200k_c_dum\u001b[0m\u001b[1;33m.\u001b[0m\u001b[0miloc\u001b[0m\u001b[1;33m[\u001b[0m\u001b[1;33m[\u001b[0m\u001b[1;33m-\u001b[0m\u001b[1;36m2\u001b[0m\u001b[1;33m,\u001b[0m\u001b[1;33m-\u001b[0m\u001b[1;36m1\u001b[0m\u001b[1;33m]\u001b[0m\u001b[1;33m]\u001b[0m\u001b[1;33m)\u001b[0m\u001b[1;33m\u001b[0m\u001b[1;33m\u001b[0m\u001b[0m\n\u001b[1;32m---> 31\u001b[1;33m     \u001b[0mprediction\u001b[0m \u001b[1;33m=\u001b[0m \u001b[0mmodel_200k\u001b[0m\u001b[1;33m.\u001b[0m\u001b[0mpredict\u001b[0m\u001b[1;33m(\u001b[0m\u001b[0mcar1\u001b[0m\u001b[1;33m)\u001b[0m\u001b[1;33m[\u001b[0m\u001b[1;36m1\u001b[0m\u001b[1;33m]\u001b[0m\u001b[1;33m\u001b[0m\u001b[1;33m\u001b[0m\u001b[0m\n\u001b[0m",
      "\u001b[1;32mc:\\users\\kacpe\\appdata\\local\\programs\\python\\python39\\lib\\site-packages\\keras\\utils\\traceback_utils.py\u001b[0m in \u001b[0;36merror_handler\u001b[1;34m(*args, **kwargs)\u001b[0m\n\u001b[0;32m     65\u001b[0m     \u001b[1;32mexcept\u001b[0m \u001b[0mException\u001b[0m \u001b[1;32mas\u001b[0m \u001b[0me\u001b[0m\u001b[1;33m:\u001b[0m  \u001b[1;31m# pylint: disable=broad-except\u001b[0m\u001b[1;33m\u001b[0m\u001b[1;33m\u001b[0m\u001b[0m\n\u001b[0;32m     66\u001b[0m       \u001b[0mfiltered_tb\u001b[0m \u001b[1;33m=\u001b[0m \u001b[0m_process_traceback_frames\u001b[0m\u001b[1;33m(\u001b[0m\u001b[0me\u001b[0m\u001b[1;33m.\u001b[0m\u001b[0m__traceback__\u001b[0m\u001b[1;33m)\u001b[0m\u001b[1;33m\u001b[0m\u001b[1;33m\u001b[0m\u001b[0m\n\u001b[1;32m---> 67\u001b[1;33m       \u001b[1;32mraise\u001b[0m \u001b[0me\u001b[0m\u001b[1;33m.\u001b[0m\u001b[0mwith_traceback\u001b[0m\u001b[1;33m(\u001b[0m\u001b[0mfiltered_tb\u001b[0m\u001b[1;33m)\u001b[0m \u001b[1;32mfrom\u001b[0m \u001b[1;32mNone\u001b[0m\u001b[1;33m\u001b[0m\u001b[1;33m\u001b[0m\u001b[0m\n\u001b[0m\u001b[0;32m     68\u001b[0m     \u001b[1;32mfinally\u001b[0m\u001b[1;33m:\u001b[0m\u001b[1;33m\u001b[0m\u001b[1;33m\u001b[0m\u001b[0m\n\u001b[0;32m     69\u001b[0m       \u001b[1;32mdel\u001b[0m \u001b[0mfiltered_tb\u001b[0m\u001b[1;33m\u001b[0m\u001b[1;33m\u001b[0m\u001b[0m\n",
      "\u001b[1;32mc:\\users\\kacpe\\appdata\\local\\programs\\python\\python39\\lib\\site-packages\\keras\\engine\\training.py\u001b[0m in \u001b[0;36mtf__predict_function\u001b[1;34m(iterator)\u001b[0m\n\u001b[0;32m     13\u001b[0m                 \u001b[1;32mtry\u001b[0m\u001b[1;33m:\u001b[0m\u001b[1;33m\u001b[0m\u001b[1;33m\u001b[0m\u001b[0m\n\u001b[0;32m     14\u001b[0m                     \u001b[0mdo_return\u001b[0m \u001b[1;33m=\u001b[0m \u001b[1;32mTrue\u001b[0m\u001b[1;33m\u001b[0m\u001b[1;33m\u001b[0m\u001b[0m\n\u001b[1;32m---> 15\u001b[1;33m                     \u001b[0mretval_\u001b[0m \u001b[1;33m=\u001b[0m \u001b[0mag__\u001b[0m\u001b[1;33m.\u001b[0m\u001b[0mconverted_call\u001b[0m\u001b[1;33m(\u001b[0m\u001b[0mag__\u001b[0m\u001b[1;33m.\u001b[0m\u001b[0mld\u001b[0m\u001b[1;33m(\u001b[0m\u001b[0mstep_function\u001b[0m\u001b[1;33m)\u001b[0m\u001b[1;33m,\u001b[0m \u001b[1;33m(\u001b[0m\u001b[0mag__\u001b[0m\u001b[1;33m.\u001b[0m\u001b[0mld\u001b[0m\u001b[1;33m(\u001b[0m\u001b[0mself\u001b[0m\u001b[1;33m)\u001b[0m\u001b[1;33m,\u001b[0m \u001b[0mag__\u001b[0m\u001b[1;33m.\u001b[0m\u001b[0mld\u001b[0m\u001b[1;33m(\u001b[0m\u001b[0miterator\u001b[0m\u001b[1;33m)\u001b[0m\u001b[1;33m)\u001b[0m\u001b[1;33m,\u001b[0m \u001b[1;32mNone\u001b[0m\u001b[1;33m,\u001b[0m \u001b[0mfscope\u001b[0m\u001b[1;33m)\u001b[0m\u001b[1;33m\u001b[0m\u001b[1;33m\u001b[0m\u001b[0m\n\u001b[0m\u001b[0;32m     16\u001b[0m                 \u001b[1;32mexcept\u001b[0m\u001b[1;33m:\u001b[0m\u001b[1;33m\u001b[0m\u001b[1;33m\u001b[0m\u001b[0m\n\u001b[0;32m     17\u001b[0m                     \u001b[0mdo_return\u001b[0m \u001b[1;33m=\u001b[0m \u001b[1;32mFalse\u001b[0m\u001b[1;33m\u001b[0m\u001b[1;33m\u001b[0m\u001b[0m\n",
      "\u001b[1;31mValueError\u001b[0m: in user code:\n\n    File \"c:\\users\\kacpe\\appdata\\local\\programs\\python\\python39\\lib\\site-packages\\keras\\engine\\training.py\", line 1845, in predict_function  *\n        return step_function(self, iterator)\n    File \"c:\\users\\kacpe\\appdata\\local\\programs\\python\\python39\\lib\\site-packages\\keras\\engine\\training.py\", line 1834, in step_function  **\n        outputs = model.distribute_strategy.run(run_step, args=(data,))\n    File \"c:\\users\\kacpe\\appdata\\local\\programs\\python\\python39\\lib\\site-packages\\keras\\engine\\training.py\", line 1823, in run_step  **\n        outputs = model.predict_step(data)\n    File \"c:\\users\\kacpe\\appdata\\local\\programs\\python\\python39\\lib\\site-packages\\keras\\engine\\training.py\", line 1791, in predict_step\n        return self(x, training=False)\n    File \"c:\\users\\kacpe\\appdata\\local\\programs\\python\\python39\\lib\\site-packages\\keras\\utils\\traceback_utils.py\", line 67, in error_handler\n        raise e.with_traceback(filtered_tb) from None\n    File \"c:\\users\\kacpe\\appdata\\local\\programs\\python\\python39\\lib\\site-packages\\keras\\engine\\input_spec.py\", line 264, in assert_input_compatibility\n        raise ValueError(f'Input {input_index} of layer \"{layer_name}\" is '\n\n    ValueError: Input 0 of layer \"sequential_8\" is incompatible with the layer: expected shape=(None, 320), found shape=(None, 249)\n"
     ]
    }
   ],
   "source": [
    "if car[\"Price\"].values[0] < 10000:\n",
    "    df_10k_c = df_10k.append(car)\n",
    "    df_10k_c.drop(\"Price\",axis = 1,inplace = True)\n",
    "    df_10k_c_dum = pd.get_dummies(df_10k_c,drop_first=True)\n",
    "    car1 = scaler10k.transform(df_10k_c_dum.iloc[[-2,-1]])\n",
    "    prediction = model_10k.predict(car1)[1]\n",
    "    \n",
    "elif (car[\"Price\"].values[0] > 10000) & (car[\"Price\"].values[0] < 25000):\n",
    "    df_25k_c = df_25k.append(car)\n",
    "    df_25k_c.drop(\"Price\",axis = 1,inplace = True)\n",
    "    df_25k_c_dum = pd.get_dummies(df_25k_c,drop_first=True)\n",
    "    car1 = scaler25k.transform(df_25k_c_dum.iloc[[-2,-1]])\n",
    "    prediction = model_25k.predict(car1)[1]\n",
    "elif (car[\"Price\"].values[0] > 25000) & (car[\"Price\"].values[0] < 50000):\n",
    "    df_50k_c = df_50k.append(car)\n",
    "    df_50k_c.drop(\"Price\",axis = 1,inplace = True)\n",
    "    df_50k_c_dum = pd.get_dummies(df_50k_c,drop_first=True)\n",
    "    car1 = scaler50k.transform(df_50k_c_dum.iloc[[-2,-1]])\n",
    "    prediction = model_50k.predict(car1)[1]\n",
    "elif (car[\"Price\"].values[0] > 50000) & (car[\"Price\"].values[0] < 100000):\n",
    "    df_100k_c = df_100k.append(car)\n",
    "    df_100k_c.drop(\"Price\",axis = 1,inplace = True)\n",
    "    df_100k_c_dum = pd.get_dummies(df_100k_c,drop_first=True)\n",
    "    car1 = scaler100k.transform(df_100k_c_dum.iloc[[-2,-1]])\n",
    "    prediction = model_100k.predict(car1)[1]\n",
    "elif (car[\"Price\"].values[0] > 100000) & (car[\"Price\"].values[0] < 200000):\n",
    "    df_200k_c = df_200k.append(car)\n",
    "    df_200k_c.drop(\"Price\",axis = 1,inplace = True)\n",
    "    df_200k_c_dum = pd.get_dummies(df_200k_c,drop_first=True)\n",
    "    car1 = scaler200k.transform(df_200k_c_dum.iloc[[-2,-1]])\n",
    "    prediction = model_200k.predict(car1)[1]"
   ]
  },
  {
   "cell_type": "code",
   "execution_count": null,
   "id": "444bf8b7",
   "metadata": {},
   "outputs": [],
   "source": [
    "X_train, X_test, y_train, y_test = train_test_split(X, y, test_size=0.2, random_state=110)"
   ]
  },
  {
   "cell_type": "code",
   "execution_count": 216,
   "id": "816beea4",
   "metadata": {},
   "outputs": [],
   "source": [
    "model_25k = load_model(\"Model/model_25k.h5\")"
   ]
  },
  {
   "cell_type": "code",
   "execution_count": 217,
   "id": "cadaa597",
   "metadata": {},
   "outputs": [],
   "source": [
    "df_dummies_25k = pd.read_csv(\"Data/df_dummies_25k.csv\", index_col=  \"Index\")"
   ]
  },
  {
   "cell_type": "code",
   "execution_count": 209,
   "id": "94f7f38c",
   "metadata": {},
   "outputs": [],
   "source": [
    "model_50k = load_model(\"Model/model_50k.h5\")"
   ]
  },
  {
   "cell_type": "code",
   "execution_count": 218,
   "id": "7215ab67",
   "metadata": {},
   "outputs": [
    {
     "data": {
      "text/html": [
       "<div>\n",
       "<style scoped>\n",
       "    .dataframe tbody tr th:only-of-type {\n",
       "        vertical-align: middle;\n",
       "    }\n",
       "\n",
       "    .dataframe tbody tr th {\n",
       "        vertical-align: top;\n",
       "    }\n",
       "\n",
       "    .dataframe thead th {\n",
       "        text-align: right;\n",
       "    }\n",
       "</style>\n",
       "<table border=\"1\" class=\"dataframe\">\n",
       "  <thead>\n",
       "    <tr style=\"text-align: right;\">\n",
       "      <th></th>\n",
       "      <th>Price</th>\n",
       "      <th>Production_year</th>\n",
       "      <th>Mileage_km</th>\n",
       "      <th>Power_HP</th>\n",
       "      <th>Displacement_cm3</th>\n",
       "      <th>Doors_number</th>\n",
       "      <th>Features</th>\n",
       "      <th>Condition_Used</th>\n",
       "      <th>Vehicle_brand_Alfa Romeo</th>\n",
       "      <th>Vehicle_brand_Audi</th>\n",
       "      <th>...</th>\n",
       "      <th>Colour_burgundy</th>\n",
       "      <th>Colour_golden</th>\n",
       "      <th>Colour_gray</th>\n",
       "      <th>Colour_green</th>\n",
       "      <th>Colour_other</th>\n",
       "      <th>Colour_red</th>\n",
       "      <th>Colour_silver</th>\n",
       "      <th>Colour_violet</th>\n",
       "      <th>Colour_white</th>\n",
       "      <th>Colour_yellow</th>\n",
       "    </tr>\n",
       "    <tr>\n",
       "      <th>Index</th>\n",
       "      <th></th>\n",
       "      <th></th>\n",
       "      <th></th>\n",
       "      <th></th>\n",
       "      <th></th>\n",
       "      <th></th>\n",
       "      <th></th>\n",
       "      <th></th>\n",
       "      <th></th>\n",
       "      <th></th>\n",
       "      <th></th>\n",
       "      <th></th>\n",
       "      <th></th>\n",
       "      <th></th>\n",
       "      <th></th>\n",
       "      <th></th>\n",
       "      <th></th>\n",
       "      <th></th>\n",
       "      <th></th>\n",
       "      <th></th>\n",
       "      <th></th>\n",
       "    </tr>\n",
       "  </thead>\n",
       "  <tbody>\n",
       "    <tr>\n",
       "      <th>116465</th>\n",
       "      <td>42900</td>\n",
       "      <td>2015</td>\n",
       "      <td>125000.0</td>\n",
       "      <td>136.0</td>\n",
       "      <td>1598.0</td>\n",
       "      <td>5.0</td>\n",
       "      <td>48.0</td>\n",
       "      <td>1</td>\n",
       "      <td>0</td>\n",
       "      <td>0</td>\n",
       "      <td>...</td>\n",
       "      <td>0</td>\n",
       "      <td>0</td>\n",
       "      <td>0</td>\n",
       "      <td>0</td>\n",
       "      <td>0</td>\n",
       "      <td>1</td>\n",
       "      <td>0</td>\n",
       "      <td>0</td>\n",
       "      <td>0</td>\n",
       "      <td>0</td>\n",
       "    </tr>\n",
       "    <tr>\n",
       "      <th>116467</th>\n",
       "      <td>25900</td>\n",
       "      <td>2010</td>\n",
       "      <td>119000.0</td>\n",
       "      <td>115.0</td>\n",
       "      <td>1598.0</td>\n",
       "      <td>5.0</td>\n",
       "      <td>32.0</td>\n",
       "      <td>1</td>\n",
       "      <td>0</td>\n",
       "      <td>0</td>\n",
       "      <td>...</td>\n",
       "      <td>0</td>\n",
       "      <td>0</td>\n",
       "      <td>0</td>\n",
       "      <td>0</td>\n",
       "      <td>0</td>\n",
       "      <td>0</td>\n",
       "      <td>0</td>\n",
       "      <td>0</td>\n",
       "      <td>0</td>\n",
       "      <td>0</td>\n",
       "    </tr>\n",
       "    <tr>\n",
       "      <th>116472</th>\n",
       "      <td>25900</td>\n",
       "      <td>2013</td>\n",
       "      <td>125000.0</td>\n",
       "      <td>100.0</td>\n",
       "      <td>1398.0</td>\n",
       "      <td>5.0</td>\n",
       "      <td>41.0</td>\n",
       "      <td>1</td>\n",
       "      <td>0</td>\n",
       "      <td>0</td>\n",
       "      <td>...</td>\n",
       "      <td>0</td>\n",
       "      <td>0</td>\n",
       "      <td>1</td>\n",
       "      <td>0</td>\n",
       "      <td>0</td>\n",
       "      <td>0</td>\n",
       "      <td>0</td>\n",
       "      <td>0</td>\n",
       "      <td>0</td>\n",
       "      <td>0</td>\n",
       "    </tr>\n",
       "    <tr>\n",
       "      <th>116478</th>\n",
       "      <td>37500</td>\n",
       "      <td>2017</td>\n",
       "      <td>196000.0</td>\n",
       "      <td>110.0</td>\n",
       "      <td>1598.0</td>\n",
       "      <td>5.0</td>\n",
       "      <td>30.0</td>\n",
       "      <td>1</td>\n",
       "      <td>0</td>\n",
       "      <td>0</td>\n",
       "      <td>...</td>\n",
       "      <td>0</td>\n",
       "      <td>0</td>\n",
       "      <td>0</td>\n",
       "      <td>0</td>\n",
       "      <td>0</td>\n",
       "      <td>0</td>\n",
       "      <td>1</td>\n",
       "      <td>0</td>\n",
       "      <td>0</td>\n",
       "      <td>0</td>\n",
       "    </tr>\n",
       "    <tr>\n",
       "      <th>116485</th>\n",
       "      <td>34999</td>\n",
       "      <td>2014</td>\n",
       "      <td>146141.0</td>\n",
       "      <td>140.0</td>\n",
       "      <td>1364.0</td>\n",
       "      <td>5.0</td>\n",
       "      <td>33.0</td>\n",
       "      <td>1</td>\n",
       "      <td>0</td>\n",
       "      <td>0</td>\n",
       "      <td>...</td>\n",
       "      <td>0</td>\n",
       "      <td>0</td>\n",
       "      <td>0</td>\n",
       "      <td>0</td>\n",
       "      <td>0</td>\n",
       "      <td>1</td>\n",
       "      <td>0</td>\n",
       "      <td>0</td>\n",
       "      <td>0</td>\n",
       "      <td>0</td>\n",
       "    </tr>\n",
       "  </tbody>\n",
       "</table>\n",
       "<p>5 rows × 341 columns</p>\n",
       "</div>"
      ],
      "text/plain": [
       "        Price  Production_year  Mileage_km  Power_HP  Displacement_cm3  \\\n",
       "Index                                                                    \n",
       "116465  42900             2015    125000.0     136.0            1598.0   \n",
       "116467  25900             2010    119000.0     115.0            1598.0   \n",
       "116472  25900             2013    125000.0     100.0            1398.0   \n",
       "116478  37500             2017    196000.0     110.0            1598.0   \n",
       "116485  34999             2014    146141.0     140.0            1364.0   \n",
       "\n",
       "        Doors_number  Features  Condition_Used  Vehicle_brand_Alfa Romeo  \\\n",
       "Index                                                                      \n",
       "116465           5.0      48.0               1                         0   \n",
       "116467           5.0      32.0               1                         0   \n",
       "116472           5.0      41.0               1                         0   \n",
       "116478           5.0      30.0               1                         0   \n",
       "116485           5.0      33.0               1                         0   \n",
       "\n",
       "        Vehicle_brand_Audi  ...  Colour_burgundy  Colour_golden  Colour_gray  \\\n",
       "Index                       ...                                                \n",
       "116465                   0  ...                0              0            0   \n",
       "116467                   0  ...                0              0            0   \n",
       "116472                   0  ...                0              0            1   \n",
       "116478                   0  ...                0              0            0   \n",
       "116485                   0  ...                0              0            0   \n",
       "\n",
       "        Colour_green  Colour_other  Colour_red  Colour_silver  Colour_violet  \\\n",
       "Index                                                                          \n",
       "116465             0             0           1              0              0   \n",
       "116467             0             0           0              0              0   \n",
       "116472             0             0           0              0              0   \n",
       "116478             0             0           0              1              0   \n",
       "116485             0             0           1              0              0   \n",
       "\n",
       "        Colour_white  Colour_yellow  \n",
       "Index                                \n",
       "116465             0              0  \n",
       "116467             0              0  \n",
       "116472             0              0  \n",
       "116478             0              0  \n",
       "116485             0              0  \n",
       "\n",
       "[5 rows x 341 columns]"
      ]
     },
     "execution_count": 218,
     "metadata": {},
     "output_type": "execute_result"
    }
   ],
   "source": [
    "df_dummies_50k = pd.read_csv(\"Data/df_dummies_50k.csv\", index_col=  \"Index\")\n",
    "df_dummies_50k.head()"
   ]
  },
  {
   "cell_type": "code",
   "execution_count": 219,
   "id": "206aca45",
   "metadata": {},
   "outputs": [
    {
     "data": {
      "text/html": [
       "<div>\n",
       "<style scoped>\n",
       "    .dataframe tbody tr th:only-of-type {\n",
       "        vertical-align: middle;\n",
       "    }\n",
       "\n",
       "    .dataframe tbody tr th {\n",
       "        vertical-align: top;\n",
       "    }\n",
       "\n",
       "    .dataframe thead th {\n",
       "        text-align: right;\n",
       "    }\n",
       "</style>\n",
       "<table border=\"1\" class=\"dataframe\">\n",
       "  <thead>\n",
       "    <tr style=\"text-align: right;\">\n",
       "      <th></th>\n",
       "      <th>Price</th>\n",
       "      <th>Production_year</th>\n",
       "      <th>Mileage_km</th>\n",
       "      <th>Power_HP</th>\n",
       "      <th>Displacement_cm3</th>\n",
       "      <th>Doors_number</th>\n",
       "      <th>Features</th>\n",
       "      <th>Condition_Used</th>\n",
       "      <th>Vehicle_brand_Alfa Romeo</th>\n",
       "      <th>Vehicle_brand_Audi</th>\n",
       "      <th>...</th>\n",
       "      <th>Colour_burgundy</th>\n",
       "      <th>Colour_golden</th>\n",
       "      <th>Colour_gray</th>\n",
       "      <th>Colour_green</th>\n",
       "      <th>Colour_other</th>\n",
       "      <th>Colour_red</th>\n",
       "      <th>Colour_silver</th>\n",
       "      <th>Colour_violet</th>\n",
       "      <th>Colour_white</th>\n",
       "      <th>Colour_yellow</th>\n",
       "    </tr>\n",
       "    <tr>\n",
       "      <th>Index</th>\n",
       "      <th></th>\n",
       "      <th></th>\n",
       "      <th></th>\n",
       "      <th></th>\n",
       "      <th></th>\n",
       "      <th></th>\n",
       "      <th></th>\n",
       "      <th></th>\n",
       "      <th></th>\n",
       "      <th></th>\n",
       "      <th></th>\n",
       "      <th></th>\n",
       "      <th></th>\n",
       "      <th></th>\n",
       "      <th></th>\n",
       "      <th></th>\n",
       "      <th></th>\n",
       "      <th></th>\n",
       "      <th></th>\n",
       "      <th></th>\n",
       "      <th></th>\n",
       "    </tr>\n",
       "  </thead>\n",
       "  <tbody>\n",
       "    <tr>\n",
       "      <th>116476</th>\n",
       "      <td>54900</td>\n",
       "      <td>2018</td>\n",
       "      <td>65055.0</td>\n",
       "      <td>110.0</td>\n",
       "      <td>1598.0</td>\n",
       "      <td>5.0</td>\n",
       "      <td>36.0</td>\n",
       "      <td>1</td>\n",
       "      <td>0</td>\n",
       "      <td>0</td>\n",
       "      <td>...</td>\n",
       "      <td>0</td>\n",
       "      <td>0</td>\n",
       "      <td>0</td>\n",
       "      <td>0</td>\n",
       "      <td>0</td>\n",
       "      <td>0</td>\n",
       "      <td>1</td>\n",
       "      <td>0</td>\n",
       "      <td>0</td>\n",
       "      <td>0</td>\n",
       "    </tr>\n",
       "    <tr>\n",
       "      <th>116481</th>\n",
       "      <td>55000</td>\n",
       "      <td>2012</td>\n",
       "      <td>184000.0</td>\n",
       "      <td>280.0</td>\n",
       "      <td>1998.0</td>\n",
       "      <td>3.0</td>\n",
       "      <td>31.0</td>\n",
       "      <td>1</td>\n",
       "      <td>0</td>\n",
       "      <td>0</td>\n",
       "      <td>...</td>\n",
       "      <td>0</td>\n",
       "      <td>0</td>\n",
       "      <td>0</td>\n",
       "      <td>0</td>\n",
       "      <td>0</td>\n",
       "      <td>0</td>\n",
       "      <td>0</td>\n",
       "      <td>0</td>\n",
       "      <td>0</td>\n",
       "      <td>0</td>\n",
       "    </tr>\n",
       "    <tr>\n",
       "      <th>116482</th>\n",
       "      <td>52000</td>\n",
       "      <td>2017</td>\n",
       "      <td>22300.0</td>\n",
       "      <td>115.0</td>\n",
       "      <td>1598.0</td>\n",
       "      <td>5.0</td>\n",
       "      <td>34.0</td>\n",
       "      <td>1</td>\n",
       "      <td>0</td>\n",
       "      <td>0</td>\n",
       "      <td>...</td>\n",
       "      <td>0</td>\n",
       "      <td>0</td>\n",
       "      <td>0</td>\n",
       "      <td>0</td>\n",
       "      <td>0</td>\n",
       "      <td>0</td>\n",
       "      <td>1</td>\n",
       "      <td>0</td>\n",
       "      <td>0</td>\n",
       "      <td>0</td>\n",
       "    </tr>\n",
       "    <tr>\n",
       "      <th>116484</th>\n",
       "      <td>71200</td>\n",
       "      <td>2018</td>\n",
       "      <td>67499.0</td>\n",
       "      <td>150.0</td>\n",
       "      <td>1399.0</td>\n",
       "      <td>5.0</td>\n",
       "      <td>42.0</td>\n",
       "      <td>1</td>\n",
       "      <td>0</td>\n",
       "      <td>0</td>\n",
       "      <td>...</td>\n",
       "      <td>0</td>\n",
       "      <td>0</td>\n",
       "      <td>1</td>\n",
       "      <td>0</td>\n",
       "      <td>0</td>\n",
       "      <td>0</td>\n",
       "      <td>0</td>\n",
       "      <td>0</td>\n",
       "      <td>0</td>\n",
       "      <td>0</td>\n",
       "    </tr>\n",
       "    <tr>\n",
       "      <th>116489</th>\n",
       "      <td>55000</td>\n",
       "      <td>2018</td>\n",
       "      <td>48336.0</td>\n",
       "      <td>125.0</td>\n",
       "      <td>1399.0</td>\n",
       "      <td>5.0</td>\n",
       "      <td>22.0</td>\n",
       "      <td>1</td>\n",
       "      <td>0</td>\n",
       "      <td>0</td>\n",
       "      <td>...</td>\n",
       "      <td>1</td>\n",
       "      <td>0</td>\n",
       "      <td>0</td>\n",
       "      <td>0</td>\n",
       "      <td>0</td>\n",
       "      <td>0</td>\n",
       "      <td>0</td>\n",
       "      <td>0</td>\n",
       "      <td>0</td>\n",
       "      <td>0</td>\n",
       "    </tr>\n",
       "  </tbody>\n",
       "</table>\n",
       "<p>5 rows × 321 columns</p>\n",
       "</div>"
      ],
      "text/plain": [
       "        Price  Production_year  Mileage_km  Power_HP  Displacement_cm3  \\\n",
       "Index                                                                    \n",
       "116476  54900             2018     65055.0     110.0            1598.0   \n",
       "116481  55000             2012    184000.0     280.0            1998.0   \n",
       "116482  52000             2017     22300.0     115.0            1598.0   \n",
       "116484  71200             2018     67499.0     150.0            1399.0   \n",
       "116489  55000             2018     48336.0     125.0            1399.0   \n",
       "\n",
       "        Doors_number  Features  Condition_Used  Vehicle_brand_Alfa Romeo  \\\n",
       "Index                                                                      \n",
       "116476           5.0      36.0               1                         0   \n",
       "116481           3.0      31.0               1                         0   \n",
       "116482           5.0      34.0               1                         0   \n",
       "116484           5.0      42.0               1                         0   \n",
       "116489           5.0      22.0               1                         0   \n",
       "\n",
       "        Vehicle_brand_Audi  ...  Colour_burgundy  Colour_golden  Colour_gray  \\\n",
       "Index                       ...                                                \n",
       "116476                   0  ...                0              0            0   \n",
       "116481                   0  ...                0              0            0   \n",
       "116482                   0  ...                0              0            0   \n",
       "116484                   0  ...                0              0            1   \n",
       "116489                   0  ...                1              0            0   \n",
       "\n",
       "        Colour_green  Colour_other  Colour_red  Colour_silver  Colour_violet  \\\n",
       "Index                                                                          \n",
       "116476             0             0           0              1              0   \n",
       "116481             0             0           0              0              0   \n",
       "116482             0             0           0              1              0   \n",
       "116484             0             0           0              0              0   \n",
       "116489             0             0           0              0              0   \n",
       "\n",
       "        Colour_white  Colour_yellow  \n",
       "Index                                \n",
       "116476             0              0  \n",
       "116481             0              0  \n",
       "116482             0              0  \n",
       "116484             0              0  \n",
       "116489             0              0  \n",
       "\n",
       "[5 rows x 321 columns]"
      ]
     },
     "execution_count": 219,
     "metadata": {},
     "output_type": "execute_result"
    }
   ],
   "source": [
    "model_100k = load_model(\"Model/model_100k.h5\")\n",
    "df_dummies_100k = pd.read_csv(\"Data/df_dummies_100k.csv\", index_col=  \"Index\")\n",
    "df_dummies_100k.head()"
   ]
  },
  {
   "cell_type": "code",
   "execution_count": 220,
   "id": "151d61ad",
   "metadata": {},
   "outputs": [
    {
     "data": {
      "text/html": [
       "<div>\n",
       "<style scoped>\n",
       "    .dataframe tbody tr th:only-of-type {\n",
       "        vertical-align: middle;\n",
       "    }\n",
       "\n",
       "    .dataframe tbody tr th {\n",
       "        vertical-align: top;\n",
       "    }\n",
       "\n",
       "    .dataframe thead th {\n",
       "        text-align: right;\n",
       "    }\n",
       "</style>\n",
       "<table border=\"1\" class=\"dataframe\">\n",
       "  <thead>\n",
       "    <tr style=\"text-align: right;\">\n",
       "      <th></th>\n",
       "      <th>Price</th>\n",
       "      <th>Production_year</th>\n",
       "      <th>Mileage_km</th>\n",
       "      <th>Power_HP</th>\n",
       "      <th>Displacement_cm3</th>\n",
       "      <th>Doors_number</th>\n",
       "      <th>Features</th>\n",
       "      <th>Condition_Used</th>\n",
       "      <th>Vehicle_brand_Audi</th>\n",
       "      <th>Vehicle_brand_BMW</th>\n",
       "      <th>...</th>\n",
       "      <th>Colour_burgundy</th>\n",
       "      <th>Colour_golden</th>\n",
       "      <th>Colour_gray</th>\n",
       "      <th>Colour_green</th>\n",
       "      <th>Colour_other</th>\n",
       "      <th>Colour_red</th>\n",
       "      <th>Colour_silver</th>\n",
       "      <th>Colour_violet</th>\n",
       "      <th>Colour_white</th>\n",
       "      <th>Colour_yellow</th>\n",
       "    </tr>\n",
       "    <tr>\n",
       "      <th>Index</th>\n",
       "      <th></th>\n",
       "      <th></th>\n",
       "      <th></th>\n",
       "      <th></th>\n",
       "      <th></th>\n",
       "      <th></th>\n",
       "      <th></th>\n",
       "      <th></th>\n",
       "      <th></th>\n",
       "      <th></th>\n",
       "      <th></th>\n",
       "      <th></th>\n",
       "      <th></th>\n",
       "      <th></th>\n",
       "      <th></th>\n",
       "      <th></th>\n",
       "      <th></th>\n",
       "      <th></th>\n",
       "      <th></th>\n",
       "      <th></th>\n",
       "      <th></th>\n",
       "    </tr>\n",
       "  </thead>\n",
       "  <tbody>\n",
       "    <tr>\n",
       "      <th>119069</th>\n",
       "      <td>130000</td>\n",
       "      <td>2018</td>\n",
       "      <td>1560.0</td>\n",
       "      <td>280.0</td>\n",
       "      <td>1998.0</td>\n",
       "      <td>3.0</td>\n",
       "      <td>44.000000</td>\n",
       "      <td>1</td>\n",
       "      <td>0</td>\n",
       "      <td>0</td>\n",
       "      <td>...</td>\n",
       "      <td>0</td>\n",
       "      <td>0</td>\n",
       "      <td>0</td>\n",
       "      <td>0</td>\n",
       "      <td>0</td>\n",
       "      <td>0</td>\n",
       "      <td>0</td>\n",
       "      <td>0</td>\n",
       "      <td>0</td>\n",
       "      <td>0</td>\n",
       "    </tr>\n",
       "    <tr>\n",
       "      <th>4490</th>\n",
       "      <td>154699</td>\n",
       "      <td>2021</td>\n",
       "      <td>10.0</td>\n",
       "      <td>150.0</td>\n",
       "      <td>1984.0</td>\n",
       "      <td>5.0</td>\n",
       "      <td>37.000000</td>\n",
       "      <td>0</td>\n",
       "      <td>1</td>\n",
       "      <td>0</td>\n",
       "      <td>...</td>\n",
       "      <td>0</td>\n",
       "      <td>0</td>\n",
       "      <td>0</td>\n",
       "      <td>0</td>\n",
       "      <td>0</td>\n",
       "      <td>0</td>\n",
       "      <td>0</td>\n",
       "      <td>0</td>\n",
       "      <td>0</td>\n",
       "      <td>0</td>\n",
       "    </tr>\n",
       "    <tr>\n",
       "      <th>4507</th>\n",
       "      <td>145900</td>\n",
       "      <td>2019</td>\n",
       "      <td>28000.0</td>\n",
       "      <td>150.0</td>\n",
       "      <td>1968.0</td>\n",
       "      <td>4.0</td>\n",
       "      <td>38.000000</td>\n",
       "      <td>1</td>\n",
       "      <td>1</td>\n",
       "      <td>0</td>\n",
       "      <td>...</td>\n",
       "      <td>0</td>\n",
       "      <td>0</td>\n",
       "      <td>1</td>\n",
       "      <td>0</td>\n",
       "      <td>0</td>\n",
       "      <td>0</td>\n",
       "      <td>0</td>\n",
       "      <td>0</td>\n",
       "      <td>0</td>\n",
       "      <td>0</td>\n",
       "    </tr>\n",
       "    <tr>\n",
       "      <th>4518</th>\n",
       "      <td>109900</td>\n",
       "      <td>2019</td>\n",
       "      <td>6645.0</td>\n",
       "      <td>190.0</td>\n",
       "      <td>1984.0</td>\n",
       "      <td>5.0</td>\n",
       "      <td>52.000000</td>\n",
       "      <td>1</td>\n",
       "      <td>1</td>\n",
       "      <td>0</td>\n",
       "      <td>...</td>\n",
       "      <td>0</td>\n",
       "      <td>0</td>\n",
       "      <td>0</td>\n",
       "      <td>0</td>\n",
       "      <td>0</td>\n",
       "      <td>0</td>\n",
       "      <td>1</td>\n",
       "      <td>0</td>\n",
       "      <td>0</td>\n",
       "      <td>0</td>\n",
       "    </tr>\n",
       "    <tr>\n",
       "      <th>4539</th>\n",
       "      <td>122000</td>\n",
       "      <td>2020</td>\n",
       "      <td>7.0</td>\n",
       "      <td>150.0</td>\n",
       "      <td>1984.0</td>\n",
       "      <td>5.0</td>\n",
       "      <td>32.729672</td>\n",
       "      <td>0</td>\n",
       "      <td>1</td>\n",
       "      <td>0</td>\n",
       "      <td>...</td>\n",
       "      <td>0</td>\n",
       "      <td>0</td>\n",
       "      <td>0</td>\n",
       "      <td>0</td>\n",
       "      <td>0</td>\n",
       "      <td>0</td>\n",
       "      <td>0</td>\n",
       "      <td>0</td>\n",
       "      <td>0</td>\n",
       "      <td>0</td>\n",
       "    </tr>\n",
       "  </tbody>\n",
       "</table>\n",
       "<p>5 rows × 250 columns</p>\n",
       "</div>"
      ],
      "text/plain": [
       "         Price  Production_year  Mileage_km  Power_HP  Displacement_cm3  \\\n",
       "Index                                                                     \n",
       "119069  130000             2018      1560.0     280.0            1998.0   \n",
       "4490    154699             2021        10.0     150.0            1984.0   \n",
       "4507    145900             2019     28000.0     150.0            1968.0   \n",
       "4518    109900             2019      6645.0     190.0            1984.0   \n",
       "4539    122000             2020         7.0     150.0            1984.0   \n",
       "\n",
       "        Doors_number   Features  Condition_Used  Vehicle_brand_Audi  \\\n",
       "Index                                                                 \n",
       "119069           3.0  44.000000               1                   0   \n",
       "4490             5.0  37.000000               0                   1   \n",
       "4507             4.0  38.000000               1                   1   \n",
       "4518             5.0  52.000000               1                   1   \n",
       "4539             5.0  32.729672               0                   1   \n",
       "\n",
       "        Vehicle_brand_BMW  ...  Colour_burgundy  Colour_golden  Colour_gray  \\\n",
       "Index                      ...                                                \n",
       "119069                  0  ...                0              0            0   \n",
       "4490                    0  ...                0              0            0   \n",
       "4507                    0  ...                0              0            1   \n",
       "4518                    0  ...                0              0            0   \n",
       "4539                    0  ...                0              0            0   \n",
       "\n",
       "        Colour_green  Colour_other  Colour_red  Colour_silver  Colour_violet  \\\n",
       "Index                                                                          \n",
       "119069             0             0           0              0              0   \n",
       "4490               0             0           0              0              0   \n",
       "4507               0             0           0              0              0   \n",
       "4518               0             0           0              1              0   \n",
       "4539               0             0           0              0              0   \n",
       "\n",
       "        Colour_white  Colour_yellow  \n",
       "Index                                \n",
       "119069             0              0  \n",
       "4490               0              0  \n",
       "4507               0              0  \n",
       "4518               0              0  \n",
       "4539               0              0  \n",
       "\n",
       "[5 rows x 250 columns]"
      ]
     },
     "execution_count": 220,
     "metadata": {},
     "output_type": "execute_result"
    }
   ],
   "source": [
    "model_200k = load_model(\"Model/model_200k.h5\")\n",
    "df_dummies_200k = pd.read_csv(\"Data/df_dummies_200k.csv\", index_col=  \"Index\")\n",
    "df_dummies_200k.head()"
   ]
  },
  {
   "cell_type": "markdown",
   "id": "813d70ad",
   "metadata": {},
   "source": [
    "# Second Attempt\n"
   ]
  },
  {
   "cell_type": "code",
   "execution_count": 55,
   "id": "7e672ea1",
   "metadata": {},
   "outputs": [],
   "source": [
    "X_dum = pd.get_dummies(df)"
   ]
  },
  {
   "cell_type": "code",
   "execution_count": 56,
   "id": "8a4aec0b",
   "metadata": {},
   "outputs": [],
   "source": [
    "X1 = X_dum.drop(\"Price\", axis = 1)"
   ]
  },
  {
   "cell_type": "code",
   "execution_count": 57,
   "id": "eab41b53",
   "metadata": {},
   "outputs": [
    {
     "data": {
      "text/html": [
       "<div>\n",
       "<style scoped>\n",
       "    .dataframe tbody tr th:only-of-type {\n",
       "        vertical-align: middle;\n",
       "    }\n",
       "\n",
       "    .dataframe tbody tr th {\n",
       "        vertical-align: top;\n",
       "    }\n",
       "\n",
       "    .dataframe thead th {\n",
       "        text-align: right;\n",
       "    }\n",
       "</style>\n",
       "<table border=\"1\" class=\"dataframe\">\n",
       "  <thead>\n",
       "    <tr style=\"text-align: right;\">\n",
       "      <th></th>\n",
       "      <th>Production_year</th>\n",
       "      <th>Mileage_km</th>\n",
       "      <th>Power_HP</th>\n",
       "      <th>Displacement_cm3</th>\n",
       "      <th>Doors_number</th>\n",
       "      <th>Features</th>\n",
       "      <th>Condition_New</th>\n",
       "      <th>Condition_Used</th>\n",
       "      <th>Vehicle_brand_Abarth</th>\n",
       "      <th>Vehicle_brand_Alfa Romeo</th>\n",
       "      <th>...</th>\n",
       "      <th>Colour_burgundy</th>\n",
       "      <th>Colour_golden</th>\n",
       "      <th>Colour_gray</th>\n",
       "      <th>Colour_green</th>\n",
       "      <th>Colour_other</th>\n",
       "      <th>Colour_red</th>\n",
       "      <th>Colour_silver</th>\n",
       "      <th>Colour_violet</th>\n",
       "      <th>Colour_white</th>\n",
       "      <th>Colour_yellow</th>\n",
       "    </tr>\n",
       "    <tr>\n",
       "      <th>Index</th>\n",
       "      <th></th>\n",
       "      <th></th>\n",
       "      <th></th>\n",
       "      <th></th>\n",
       "      <th></th>\n",
       "      <th></th>\n",
       "      <th></th>\n",
       "      <th></th>\n",
       "      <th></th>\n",
       "      <th></th>\n",
       "      <th></th>\n",
       "      <th></th>\n",
       "      <th></th>\n",
       "      <th></th>\n",
       "      <th></th>\n",
       "      <th></th>\n",
       "      <th></th>\n",
       "      <th></th>\n",
       "      <th></th>\n",
       "      <th></th>\n",
       "      <th></th>\n",
       "    </tr>\n",
       "  </thead>\n",
       "  <tbody>\n",
       "    <tr>\n",
       "      <th>116465</th>\n",
       "      <td>2015</td>\n",
       "      <td>125000.0</td>\n",
       "      <td>136.0</td>\n",
       "      <td>1598.0</td>\n",
       "      <td>5.0</td>\n",
       "      <td>48.0</td>\n",
       "      <td>0</td>\n",
       "      <td>1</td>\n",
       "      <td>0</td>\n",
       "      <td>0</td>\n",
       "      <td>...</td>\n",
       "      <td>0</td>\n",
       "      <td>0</td>\n",
       "      <td>0</td>\n",
       "      <td>0</td>\n",
       "      <td>0</td>\n",
       "      <td>1</td>\n",
       "      <td>0</td>\n",
       "      <td>0</td>\n",
       "      <td>0</td>\n",
       "      <td>0</td>\n",
       "    </tr>\n",
       "    <tr>\n",
       "      <th>116466</th>\n",
       "      <td>2006</td>\n",
       "      <td>192547.0</td>\n",
       "      <td>140.0</td>\n",
       "      <td>1796.0</td>\n",
       "      <td>5.0</td>\n",
       "      <td>35.0</td>\n",
       "      <td>0</td>\n",
       "      <td>1</td>\n",
       "      <td>0</td>\n",
       "      <td>0</td>\n",
       "      <td>...</td>\n",
       "      <td>0</td>\n",
       "      <td>0</td>\n",
       "      <td>0</td>\n",
       "      <td>1</td>\n",
       "      <td>0</td>\n",
       "      <td>0</td>\n",
       "      <td>0</td>\n",
       "      <td>0</td>\n",
       "      <td>0</td>\n",
       "      <td>0</td>\n",
       "    </tr>\n",
       "    <tr>\n",
       "      <th>116467</th>\n",
       "      <td>2010</td>\n",
       "      <td>119000.0</td>\n",
       "      <td>115.0</td>\n",
       "      <td>1598.0</td>\n",
       "      <td>5.0</td>\n",
       "      <td>32.0</td>\n",
       "      <td>0</td>\n",
       "      <td>1</td>\n",
       "      <td>0</td>\n",
       "      <td>0</td>\n",
       "      <td>...</td>\n",
       "      <td>0</td>\n",
       "      <td>0</td>\n",
       "      <td>0</td>\n",
       "      <td>0</td>\n",
       "      <td>0</td>\n",
       "      <td>0</td>\n",
       "      <td>0</td>\n",
       "      <td>0</td>\n",
       "      <td>0</td>\n",
       "      <td>0</td>\n",
       "    </tr>\n",
       "    <tr>\n",
       "      <th>116468</th>\n",
       "      <td>2007</td>\n",
       "      <td>290000.0</td>\n",
       "      <td>100.0</td>\n",
       "      <td>1910.0</td>\n",
       "      <td>5.0</td>\n",
       "      <td>25.0</td>\n",
       "      <td>0</td>\n",
       "      <td>1</td>\n",
       "      <td>0</td>\n",
       "      <td>0</td>\n",
       "      <td>...</td>\n",
       "      <td>0</td>\n",
       "      <td>0</td>\n",
       "      <td>0</td>\n",
       "      <td>0</td>\n",
       "      <td>0</td>\n",
       "      <td>0</td>\n",
       "      <td>1</td>\n",
       "      <td>0</td>\n",
       "      <td>0</td>\n",
       "      <td>0</td>\n",
       "    </tr>\n",
       "    <tr>\n",
       "      <th>116469</th>\n",
       "      <td>2008</td>\n",
       "      <td>168779.0</td>\n",
       "      <td>115.0</td>\n",
       "      <td>1598.0</td>\n",
       "      <td>5.0</td>\n",
       "      <td>24.0</td>\n",
       "      <td>0</td>\n",
       "      <td>1</td>\n",
       "      <td>0</td>\n",
       "      <td>0</td>\n",
       "      <td>...</td>\n",
       "      <td>0</td>\n",
       "      <td>0</td>\n",
       "      <td>0</td>\n",
       "      <td>0</td>\n",
       "      <td>0</td>\n",
       "      <td>0</td>\n",
       "      <td>1</td>\n",
       "      <td>0</td>\n",
       "      <td>0</td>\n",
       "      <td>0</td>\n",
       "    </tr>\n",
       "    <tr>\n",
       "      <th>...</th>\n",
       "      <td>...</td>\n",
       "      <td>...</td>\n",
       "      <td>...</td>\n",
       "      <td>...</td>\n",
       "      <td>...</td>\n",
       "      <td>...</td>\n",
       "      <td>...</td>\n",
       "      <td>...</td>\n",
       "      <td>...</td>\n",
       "      <td>...</td>\n",
       "      <td>...</td>\n",
       "      <td>...</td>\n",
       "      <td>...</td>\n",
       "      <td>...</td>\n",
       "      <td>...</td>\n",
       "      <td>...</td>\n",
       "      <td>...</td>\n",
       "      <td>...</td>\n",
       "      <td>...</td>\n",
       "      <td>...</td>\n",
       "      <td>...</td>\n",
       "    </tr>\n",
       "    <tr>\n",
       "      <th>36977</th>\n",
       "      <td>2010</td>\n",
       "      <td>200000.0</td>\n",
       "      <td>68.0</td>\n",
       "      <td>995.0</td>\n",
       "      <td>5.0</td>\n",
       "      <td>21.0</td>\n",
       "      <td>0</td>\n",
       "      <td>1</td>\n",
       "      <td>0</td>\n",
       "      <td>0</td>\n",
       "      <td>...</td>\n",
       "      <td>0</td>\n",
       "      <td>0</td>\n",
       "      <td>0</td>\n",
       "      <td>0</td>\n",
       "      <td>0</td>\n",
       "      <td>0</td>\n",
       "      <td>1</td>\n",
       "      <td>0</td>\n",
       "      <td>0</td>\n",
       "      <td>0</td>\n",
       "    </tr>\n",
       "    <tr>\n",
       "      <th>36981</th>\n",
       "      <td>2012</td>\n",
       "      <td>112644.0</td>\n",
       "      <td>68.0</td>\n",
       "      <td>1000.0</td>\n",
       "      <td>5.0</td>\n",
       "      <td>19.0</td>\n",
       "      <td>0</td>\n",
       "      <td>1</td>\n",
       "      <td>0</td>\n",
       "      <td>0</td>\n",
       "      <td>...</td>\n",
       "      <td>0</td>\n",
       "      <td>0</td>\n",
       "      <td>0</td>\n",
       "      <td>0</td>\n",
       "      <td>0</td>\n",
       "      <td>0</td>\n",
       "      <td>0</td>\n",
       "      <td>0</td>\n",
       "      <td>0</td>\n",
       "      <td>0</td>\n",
       "    </tr>\n",
       "    <tr>\n",
       "      <th>36984</th>\n",
       "      <td>2011</td>\n",
       "      <td>126000.0</td>\n",
       "      <td>68.0</td>\n",
       "      <td>995.0</td>\n",
       "      <td>5.0</td>\n",
       "      <td>7.0</td>\n",
       "      <td>0</td>\n",
       "      <td>1</td>\n",
       "      <td>0</td>\n",
       "      <td>0</td>\n",
       "      <td>...</td>\n",
       "      <td>0</td>\n",
       "      <td>0</td>\n",
       "      <td>0</td>\n",
       "      <td>0</td>\n",
       "      <td>0</td>\n",
       "      <td>0</td>\n",
       "      <td>0</td>\n",
       "      <td>0</td>\n",
       "      <td>0</td>\n",
       "      <td>0</td>\n",
       "    </tr>\n",
       "    <tr>\n",
       "      <th>36986</th>\n",
       "      <td>2012</td>\n",
       "      <td>160000.0</td>\n",
       "      <td>75.0</td>\n",
       "      <td>995.0</td>\n",
       "      <td>5.0</td>\n",
       "      <td>16.0</td>\n",
       "      <td>0</td>\n",
       "      <td>1</td>\n",
       "      <td>0</td>\n",
       "      <td>0</td>\n",
       "      <td>...</td>\n",
       "      <td>0</td>\n",
       "      <td>0</td>\n",
       "      <td>0</td>\n",
       "      <td>0</td>\n",
       "      <td>1</td>\n",
       "      <td>0</td>\n",
       "      <td>0</td>\n",
       "      <td>0</td>\n",
       "      <td>0</td>\n",
       "      <td>0</td>\n",
       "    </tr>\n",
       "    <tr>\n",
       "      <th>37010</th>\n",
       "      <td>2013</td>\n",
       "      <td>70000.0</td>\n",
       "      <td>68.0</td>\n",
       "      <td>995.0</td>\n",
       "      <td>5.0</td>\n",
       "      <td>15.0</td>\n",
       "      <td>0</td>\n",
       "      <td>1</td>\n",
       "      <td>0</td>\n",
       "      <td>0</td>\n",
       "      <td>...</td>\n",
       "      <td>0</td>\n",
       "      <td>0</td>\n",
       "      <td>0</td>\n",
       "      <td>0</td>\n",
       "      <td>0</td>\n",
       "      <td>0</td>\n",
       "      <td>0</td>\n",
       "      <td>0</td>\n",
       "      <td>0</td>\n",
       "      <td>1</td>\n",
       "    </tr>\n",
       "  </tbody>\n",
       "</table>\n",
       "<p>177733 rows × 370 columns</p>\n",
       "</div>"
      ],
      "text/plain": [
       "        Production_year  Mileage_km  Power_HP  Displacement_cm3  Doors_number  \\\n",
       "Index                                                                           \n",
       "116465             2015    125000.0     136.0            1598.0           5.0   \n",
       "116466             2006    192547.0     140.0            1796.0           5.0   \n",
       "116467             2010    119000.0     115.0            1598.0           5.0   \n",
       "116468             2007    290000.0     100.0            1910.0           5.0   \n",
       "116469             2008    168779.0     115.0            1598.0           5.0   \n",
       "...                 ...         ...       ...               ...           ...   \n",
       "36977              2010    200000.0      68.0             995.0           5.0   \n",
       "36981              2012    112644.0      68.0            1000.0           5.0   \n",
       "36984              2011    126000.0      68.0             995.0           5.0   \n",
       "36986              2012    160000.0      75.0             995.0           5.0   \n",
       "37010              2013     70000.0      68.0             995.0           5.0   \n",
       "\n",
       "        Features  Condition_New  Condition_Used  Vehicle_brand_Abarth  \\\n",
       "Index                                                                   \n",
       "116465      48.0              0               1                     0   \n",
       "116466      35.0              0               1                     0   \n",
       "116467      32.0              0               1                     0   \n",
       "116468      25.0              0               1                     0   \n",
       "116469      24.0              0               1                     0   \n",
       "...          ...            ...             ...                   ...   \n",
       "36977       21.0              0               1                     0   \n",
       "36981       19.0              0               1                     0   \n",
       "36984        7.0              0               1                     0   \n",
       "36986       16.0              0               1                     0   \n",
       "37010       15.0              0               1                     0   \n",
       "\n",
       "        Vehicle_brand_Alfa Romeo  ...  Colour_burgundy  Colour_golden  \\\n",
       "Index                             ...                                   \n",
       "116465                         0  ...                0              0   \n",
       "116466                         0  ...                0              0   \n",
       "116467                         0  ...                0              0   \n",
       "116468                         0  ...                0              0   \n",
       "116469                         0  ...                0              0   \n",
       "...                          ...  ...              ...            ...   \n",
       "36977                          0  ...                0              0   \n",
       "36981                          0  ...                0              0   \n",
       "36984                          0  ...                0              0   \n",
       "36986                          0  ...                0              0   \n",
       "37010                          0  ...                0              0   \n",
       "\n",
       "        Colour_gray  Colour_green  Colour_other  Colour_red  Colour_silver  \\\n",
       "Index                                                                        \n",
       "116465            0             0             0           1              0   \n",
       "116466            0             1             0           0              0   \n",
       "116467            0             0             0           0              0   \n",
       "116468            0             0             0           0              1   \n",
       "116469            0             0             0           0              1   \n",
       "...             ...           ...           ...         ...            ...   \n",
       "36977             0             0             0           0              1   \n",
       "36981             0             0             0           0              0   \n",
       "36984             0             0             0           0              0   \n",
       "36986             0             0             1           0              0   \n",
       "37010             0             0             0           0              0   \n",
       "\n",
       "        Colour_violet  Colour_white  Colour_yellow  \n",
       "Index                                               \n",
       "116465              0             0              0  \n",
       "116466              0             0              0  \n",
       "116467              0             0              0  \n",
       "116468              0             0              0  \n",
       "116469              0             0              0  \n",
       "...               ...           ...            ...  \n",
       "36977               0             0              0  \n",
       "36981               0             0              0  \n",
       "36984               0             0              0  \n",
       "36986               0             0              0  \n",
       "37010               0             0              1  \n",
       "\n",
       "[177733 rows x 370 columns]"
      ]
     },
     "execution_count": 57,
     "metadata": {},
     "output_type": "execute_result"
    }
   ],
   "source": [
    "X1"
   ]
  },
  {
   "cell_type": "code",
   "execution_count": 58,
   "id": "a0a2a0d6",
   "metadata": {},
   "outputs": [],
   "source": [
    "y = df[\"Price\"]"
   ]
  },
  {
   "cell_type": "code",
   "execution_count": 59,
   "id": "12799467",
   "metadata": {},
   "outputs": [],
   "source": [
    "scaler = StandardScaler()"
   ]
  },
  {
   "cell_type": "code",
   "execution_count": 64,
   "id": "26ac4534",
   "metadata": {},
   "outputs": [],
   "source": [
    "scaler_flex = scaler.fit(X1)"
   ]
  },
  {
   "cell_type": "code",
   "execution_count": null,
   "id": "1d5b90a3",
   "metadata": {},
   "outputs": [],
   "source": [
    "#42900"
   ]
  },
  {
   "cell_type": "code",
   "execution_count": 120,
   "id": "911d3654",
   "metadata": {},
   "outputs": [
    {
     "data": {
      "text/plain": [
       "array([42900, 'Used', 'Opel', 'Astra', 2015, 125000.0, 136.0, 1598.0,\n",
       "       'Diesel', 'Front wheels', 'Manual', 5.0, 'red', 48.0], dtype=object)"
      ]
     },
     "execution_count": 120,
     "metadata": {},
     "output_type": "execute_result"
    }
   ],
   "source": [
    "df.iloc[0].values"
   ]
  },
  {
   "cell_type": "code",
   "execution_count": 121,
   "id": "b43d0205",
   "metadata": {},
   "outputs": [],
   "source": [
    "car = pd.DataFrame(columns = df.columns, data = [df.iloc[0].values])"
   ]
  },
  {
   "cell_type": "code",
   "execution_count": 141,
   "id": "1440dd41",
   "metadata": {},
   "outputs": [],
   "source": [
    "def model_treining(df,name,car):\n",
    "    df = pd.get_dummies(df,drop_first=True)\n",
    "    df = df.append(car)\n",
    "    if name == \"10k\":\n",
    "        df = df[df[\"Price\"] < 10000]\n",
    "    elif name == \"25k\":\n",
    "        df = df[(df[\"Price\"] > 10000) & (df[\"Price\"] < 25000)]\n",
    "    elif name == \"50k\":\n",
    "        df = df[(df[\"Price\"] > 25000) & (df[\"Price\"] < 50000)]\n",
    "    elif name ==\"100k\":\n",
    "        df = df[(df[\"Price\"] > 50000) & (df[\"Price\"] < 100000)]\n",
    "    elif name == \"200k\":\n",
    "        df = df[(df[\"Price\"] > 100000) & (df[\"Price\"] < 200000)]\n",
    "    df_dum10k = df\n",
    "    X = df_dummies.drop(\"Price\", axis = 1)\n",
    "    y = df_dummies[\"Price\"]\n",
    "    X_train, X_test, y_train, y_test = train_test_split(X, y, test_size=0.2)\n",
    "    scaler = StandardScaler()\n",
    "    X_train = scaler.fit_transform(X_train)\n",
    "    X_test = scaler.transform(X_test)\n",
    "    \n",
    "    model = Sequential()\n",
    "    model.add(Dense(100,activation='relu'))\n",
    "    model.add(Dense(100,activation='relu'))\n",
    "    model.add(Dense(100,activation='relu'))\n",
    "    model.add(Dense(50,activation='relu'))\n",
    "    model.add(Dense(50,activation='relu'))\n",
    "    model.add(Dense(50,activation='relu'))\n",
    "    model.add(Dense(50,activation='relu'))\n",
    "    model.add(Dense(25,activation='relu'))\n",
    "    model.add(Dense(25,activation='relu'))\n",
    "    #model.add(Dense(6,activation='relu'))\n",
    "    model.add(Dense(1))\n",
    "\n",
    "    model.compile(optimizer='adam',loss='mae')\n",
    "    model.fit(x=X_train,y=y_train.values,\n",
    "          validation_data=(X_test,y_test.values),\n",
    "          batch_size=256,epochs=10)\n",
    "    preds = model.predict(X_test)\n",
    "    print(mean_absolute_error(y_test,preds) / y_test.mean())\n",
    "    #score.append(mean_absolute_error(y_test,preds) / y_test.mean())\n",
    "    plt.clf()\n",
    "    plt.scatter(y_test,preds)\n",
    "    \n",
    "    plt.plot(y_test,y_test,'r')\n",
    "    model.save(\"Models/model_\" +name + \".h5\")\n",
    "\n",
    "    return df_dum10k, preds[-1]"
   ]
  },
  {
   "cell_type": "code",
   "execution_count": 143,
   "id": "c25d14ee",
   "metadata": {
    "scrolled": false
   },
   "outputs": [
    {
     "name": "stderr",
     "output_type": "stream",
     "text": [
      "C:\\Users\\kacpe\\AppData\\Local\\Temp/ipykernel_10268/1096286829.py:3: FutureWarning: The frame.append method is deprecated and will be removed from pandas in a future version. Use pandas.concat instead.\n",
      "  df = df.append(car)\n"
     ]
    },
    {
     "name": "stdout",
     "output_type": "stream",
     "text": [
      "Epoch 1/10\n",
      "61/61 [==============================] - 1s 7ms/step - loss: 6042.0576 - val_loss: 2343.1133\n",
      "Epoch 2/10\n",
      "61/61 [==============================] - 0s 5ms/step - loss: 1790.9000 - val_loss: 1548.8718\n",
      "Epoch 3/10\n",
      "61/61 [==============================] - 0s 5ms/step - loss: 1492.5311 - val_loss: 1442.8864\n",
      "Epoch 4/10\n",
      "61/61 [==============================] - 0s 5ms/step - loss: 1413.1193 - val_loss: 1392.4724\n",
      "Epoch 5/10\n",
      "61/61 [==============================] - 0s 5ms/step - loss: 1365.5427 - val_loss: 1361.3601\n",
      "Epoch 6/10\n",
      "61/61 [==============================] - 0s 5ms/step - loss: 1338.8765 - val_loss: 1356.8586\n",
      "Epoch 7/10\n",
      "61/61 [==============================] - 0s 5ms/step - loss: 1323.2778 - val_loss: 1343.1445\n",
      "Epoch 8/10\n",
      "61/61 [==============================] - 0s 5ms/step - loss: 1311.0385 - val_loss: 1331.2534\n",
      "Epoch 9/10\n",
      "61/61 [==============================] - 0s 5ms/step - loss: 1304.3724 - val_loss: 1323.4054\n",
      "Epoch 10/10\n",
      "61/61 [==============================] - 0s 5ms/step - loss: 1300.5734 - val_loss: 1331.2684\n",
      "121/121 [==============================] - 0s 1ms/step\n",
      "0.1932762308604152\n"
     ]
    },
    {
     "data": {
      "image/png": "[encoded data removed]",
      "text/plain": [
       "<Figure size 432x288 with 1 Axes>"
      ]
     },
     "metadata": {
      "needs_background": "light"
     },
     "output_type": "display_data"
    }
   ],
   "source": [
    "df_dum10k, car1  = model_treining(df,\"10k\",car)"
   ]
  },
  {
   "cell_type": "code",
   "execution_count": 144,
   "id": "ff1527fc",
   "metadata": {},
   "outputs": [
    {
     "data": {
      "text/plain": [
       "array([9821.587], dtype=float32)"
      ]
     },
     "execution_count": 144,
     "metadata": {},
     "output_type": "execute_result"
    }
   ],
   "source": [
    "car1"
   ]
  },
  {
   "cell_type": "code",
   "execution_count": null,
   "id": "089b2776",
   "metadata": {},
   "outputs": [],
   "source": []
  },
  {
   "cell_type": "code",
   "execution_count": 140,
   "id": "2fafce35",
   "metadata": {},
   "outputs": [],
   "source": [
    "model_10k =load_model(\"Model/model_10k.h5\")"
   ]
  },
  {
   "cell_type": "code",
   "execution_count": 99,
   "id": "c55109e2",
   "metadata": {
    "scrolled": true
   },
   "outputs": [
    {
     "data": {
      "text/html": [
       "<div>\n",
       "<style scoped>\n",
       "    .dataframe tbody tr th:only-of-type {\n",
       "        vertical-align: middle;\n",
       "    }\n",
       "\n",
       "    .dataframe tbody tr th {\n",
       "        vertical-align: top;\n",
       "    }\n",
       "\n",
       "    .dataframe thead th {\n",
       "        text-align: right;\n",
       "    }\n",
       "</style>\n",
       "<table border=\"1\" class=\"dataframe\">\n",
       "  <thead>\n",
       "    <tr style=\"text-align: right;\">\n",
       "      <th></th>\n",
       "      <th>Price</th>\n",
       "      <th>Production_year</th>\n",
       "      <th>Mileage_km</th>\n",
       "      <th>Power_HP</th>\n",
       "      <th>Displacement_cm3</th>\n",
       "      <th>Doors_number</th>\n",
       "      <th>Features</th>\n",
       "      <th>Condition_Used</th>\n",
       "      <th>Vehicle_brand_Alfa Romeo</th>\n",
       "      <th>Vehicle_brand_Audi</th>\n",
       "      <th>...</th>\n",
       "      <th>Colour_burgundy</th>\n",
       "      <th>Colour_golden</th>\n",
       "      <th>Colour_gray</th>\n",
       "      <th>Colour_green</th>\n",
       "      <th>Colour_other</th>\n",
       "      <th>Colour_red</th>\n",
       "      <th>Colour_silver</th>\n",
       "      <th>Colour_violet</th>\n",
       "      <th>Colour_white</th>\n",
       "      <th>Colour_yellow</th>\n",
       "    </tr>\n",
       "    <tr>\n",
       "      <th>Index</th>\n",
       "      <th></th>\n",
       "      <th></th>\n",
       "      <th></th>\n",
       "      <th></th>\n",
       "      <th></th>\n",
       "      <th></th>\n",
       "      <th></th>\n",
       "      <th></th>\n",
       "      <th></th>\n",
       "      <th></th>\n",
       "      <th></th>\n",
       "      <th></th>\n",
       "      <th></th>\n",
       "      <th></th>\n",
       "      <th></th>\n",
       "      <th></th>\n",
       "      <th></th>\n",
       "      <th></th>\n",
       "      <th></th>\n",
       "      <th></th>\n",
       "      <th></th>\n",
       "    </tr>\n",
       "  </thead>\n",
       "  <tbody>\n",
       "    <tr>\n",
       "      <th>116468</th>\n",
       "      <td>8400</td>\n",
       "      <td>2007</td>\n",
       "      <td>290000.0</td>\n",
       "      <td>100.0</td>\n",
       "      <td>1910.0</td>\n",
       "      <td>5.0</td>\n",
       "      <td>25.000000</td>\n",
       "      <td>1</td>\n",
       "      <td>0</td>\n",
       "      <td>0</td>\n",
       "      <td>...</td>\n",
       "      <td>0</td>\n",
       "      <td>0</td>\n",
       "      <td>0</td>\n",
       "      <td>0</td>\n",
       "      <td>0</td>\n",
       "      <td>0</td>\n",
       "      <td>1</td>\n",
       "      <td>0</td>\n",
       "      <td>0</td>\n",
       "      <td>0</td>\n",
       "    </tr>\n",
       "    <tr>\n",
       "      <th>116470</th>\n",
       "      <td>8300</td>\n",
       "      <td>2006</td>\n",
       "      <td>180000.0</td>\n",
       "      <td>90.0</td>\n",
       "      <td>1364.0</td>\n",
       "      <td>5.0</td>\n",
       "      <td>7.000000</td>\n",
       "      <td>1</td>\n",
       "      <td>0</td>\n",
       "      <td>0</td>\n",
       "      <td>...</td>\n",
       "      <td>0</td>\n",
       "      <td>0</td>\n",
       "      <td>0</td>\n",
       "      <td>0</td>\n",
       "      <td>0</td>\n",
       "      <td>0</td>\n",
       "      <td>0</td>\n",
       "      <td>0</td>\n",
       "      <td>0</td>\n",
       "      <td>0</td>\n",
       "    </tr>\n",
       "    <tr>\n",
       "      <th>116471</th>\n",
       "      <td>9900</td>\n",
       "      <td>2005</td>\n",
       "      <td>235000.0</td>\n",
       "      <td>105.0</td>\n",
       "      <td>1598.0</td>\n",
       "      <td>5.0</td>\n",
       "      <td>16.000000</td>\n",
       "      <td>1</td>\n",
       "      <td>0</td>\n",
       "      <td>0</td>\n",
       "      <td>...</td>\n",
       "      <td>0</td>\n",
       "      <td>0</td>\n",
       "      <td>0</td>\n",
       "      <td>0</td>\n",
       "      <td>0</td>\n",
       "      <td>0</td>\n",
       "      <td>0</td>\n",
       "      <td>0</td>\n",
       "      <td>0</td>\n",
       "      <td>0</td>\n",
       "    </tr>\n",
       "    <tr>\n",
       "      <th>116474</th>\n",
       "      <td>7500</td>\n",
       "      <td>2002</td>\n",
       "      <td>130000.0</td>\n",
       "      <td>125.0</td>\n",
       "      <td>1796.0</td>\n",
       "      <td>2.0</td>\n",
       "      <td>17.864323</td>\n",
       "      <td>1</td>\n",
       "      <td>0</td>\n",
       "      <td>0</td>\n",
       "      <td>...</td>\n",
       "      <td>0</td>\n",
       "      <td>0</td>\n",
       "      <td>0</td>\n",
       "      <td>0</td>\n",
       "      <td>0</td>\n",
       "      <td>1</td>\n",
       "      <td>0</td>\n",
       "      <td>0</td>\n",
       "      <td>0</td>\n",
       "      <td>0</td>\n",
       "    </tr>\n",
       "    <tr>\n",
       "      <th>116479</th>\n",
       "      <td>2990</td>\n",
       "      <td>2001</td>\n",
       "      <td>289000.0</td>\n",
       "      <td>85.0</td>\n",
       "      <td>1598.0</td>\n",
       "      <td>5.0</td>\n",
       "      <td>16.000000</td>\n",
       "      <td>1</td>\n",
       "      <td>0</td>\n",
       "      <td>0</td>\n",
       "      <td>...</td>\n",
       "      <td>0</td>\n",
       "      <td>0</td>\n",
       "      <td>0</td>\n",
       "      <td>0</td>\n",
       "      <td>0</td>\n",
       "      <td>0</td>\n",
       "      <td>0</td>\n",
       "      <td>0</td>\n",
       "      <td>0</td>\n",
       "      <td>0</td>\n",
       "    </tr>\n",
       "    <tr>\n",
       "      <th>...</th>\n",
       "      <td>...</td>\n",
       "      <td>...</td>\n",
       "      <td>...</td>\n",
       "      <td>...</td>\n",
       "      <td>...</td>\n",
       "      <td>...</td>\n",
       "      <td>...</td>\n",
       "      <td>...</td>\n",
       "      <td>...</td>\n",
       "      <td>...</td>\n",
       "      <td>...</td>\n",
       "      <td>...</td>\n",
       "      <td>...</td>\n",
       "      <td>...</td>\n",
       "      <td>...</td>\n",
       "      <td>...</td>\n",
       "      <td>...</td>\n",
       "      <td>...</td>\n",
       "      <td>...</td>\n",
       "      <td>...</td>\n",
       "      <td>...</td>\n",
       "    </tr>\n",
       "    <tr>\n",
       "      <th>36613</th>\n",
       "      <td>9999</td>\n",
       "      <td>2011</td>\n",
       "      <td>165000.0</td>\n",
       "      <td>68.0</td>\n",
       "      <td>995.0</td>\n",
       "      <td>5.0</td>\n",
       "      <td>9.000000</td>\n",
       "      <td>1</td>\n",
       "      <td>0</td>\n",
       "      <td>0</td>\n",
       "      <td>...</td>\n",
       "      <td>0</td>\n",
       "      <td>0</td>\n",
       "      <td>0</td>\n",
       "      <td>0</td>\n",
       "      <td>0</td>\n",
       "      <td>0</td>\n",
       "      <td>0</td>\n",
       "      <td>0</td>\n",
       "      <td>0</td>\n",
       "      <td>0</td>\n",
       "    </tr>\n",
       "    <tr>\n",
       "      <th>36693</th>\n",
       "      <td>9900</td>\n",
       "      <td>2010</td>\n",
       "      <td>160000.0</td>\n",
       "      <td>81.0</td>\n",
       "      <td>1206.0</td>\n",
       "      <td>5.0</td>\n",
       "      <td>11.000000</td>\n",
       "      <td>1</td>\n",
       "      <td>0</td>\n",
       "      <td>0</td>\n",
       "      <td>...</td>\n",
       "      <td>0</td>\n",
       "      <td>0</td>\n",
       "      <td>0</td>\n",
       "      <td>1</td>\n",
       "      <td>0</td>\n",
       "      <td>0</td>\n",
       "      <td>0</td>\n",
       "      <td>0</td>\n",
       "      <td>0</td>\n",
       "      <td>0</td>\n",
       "    </tr>\n",
       "    <tr>\n",
       "      <th>36864</th>\n",
       "      <td>9700</td>\n",
       "      <td>2010</td>\n",
       "      <td>138000.0</td>\n",
       "      <td>68.0</td>\n",
       "      <td>995.0</td>\n",
       "      <td>5.0</td>\n",
       "      <td>8.000000</td>\n",
       "      <td>1</td>\n",
       "      <td>0</td>\n",
       "      <td>0</td>\n",
       "      <td>...</td>\n",
       "      <td>0</td>\n",
       "      <td>0</td>\n",
       "      <td>0</td>\n",
       "      <td>0</td>\n",
       "      <td>0</td>\n",
       "      <td>0</td>\n",
       "      <td>0</td>\n",
       "      <td>0</td>\n",
       "      <td>0</td>\n",
       "      <td>0</td>\n",
       "    </tr>\n",
       "    <tr>\n",
       "      <th>36977</th>\n",
       "      <td>9800</td>\n",
       "      <td>2010</td>\n",
       "      <td>200000.0</td>\n",
       "      <td>68.0</td>\n",
       "      <td>995.0</td>\n",
       "      <td>5.0</td>\n",
       "      <td>21.000000</td>\n",
       "      <td>1</td>\n",
       "      <td>0</td>\n",
       "      <td>0</td>\n",
       "      <td>...</td>\n",
       "      <td>0</td>\n",
       "      <td>0</td>\n",
       "      <td>0</td>\n",
       "      <td>0</td>\n",
       "      <td>0</td>\n",
       "      <td>0</td>\n",
       "      <td>1</td>\n",
       "      <td>0</td>\n",
       "      <td>0</td>\n",
       "      <td>0</td>\n",
       "    </tr>\n",
       "    <tr>\n",
       "      <th>36986</th>\n",
       "      <td>9300</td>\n",
       "      <td>2012</td>\n",
       "      <td>160000.0</td>\n",
       "      <td>75.0</td>\n",
       "      <td>995.0</td>\n",
       "      <td>5.0</td>\n",
       "      <td>16.000000</td>\n",
       "      <td>1</td>\n",
       "      <td>0</td>\n",
       "      <td>0</td>\n",
       "      <td>...</td>\n",
       "      <td>0</td>\n",
       "      <td>0</td>\n",
       "      <td>0</td>\n",
       "      <td>0</td>\n",
       "      <td>1</td>\n",
       "      <td>0</td>\n",
       "      <td>0</td>\n",
       "      <td>0</td>\n",
       "      <td>0</td>\n",
       "      <td>0</td>\n",
       "    </tr>\n",
       "  </tbody>\n",
       "</table>\n",
       "<p>19249 rows × 364 columns</p>\n",
       "</div>"
      ],
      "text/plain": [
       "        Price  Production_year  Mileage_km  Power_HP  Displacement_cm3  \\\n",
       "Index                                                                    \n",
       "116468   8400             2007    290000.0     100.0            1910.0   \n",
       "116470   8300             2006    180000.0      90.0            1364.0   \n",
       "116471   9900             2005    235000.0     105.0            1598.0   \n",
       "116474   7500             2002    130000.0     125.0            1796.0   \n",
       "116479   2990             2001    289000.0      85.0            1598.0   \n",
       "...       ...              ...         ...       ...               ...   \n",
       "36613    9999             2011    165000.0      68.0             995.0   \n",
       "36693    9900             2010    160000.0      81.0            1206.0   \n",
       "36864    9700             2010    138000.0      68.0             995.0   \n",
       "36977    9800             2010    200000.0      68.0             995.0   \n",
       "36986    9300             2012    160000.0      75.0             995.0   \n",
       "\n",
       "        Doors_number   Features  Condition_Used  Vehicle_brand_Alfa Romeo  \\\n",
       "Index                                                                       \n",
       "116468           5.0  25.000000               1                         0   \n",
       "116470           5.0   7.000000               1                         0   \n",
       "116471           5.0  16.000000               1                         0   \n",
       "116474           2.0  17.864323               1                         0   \n",
       "116479           5.0  16.000000               1                         0   \n",
       "...              ...        ...             ...                       ...   \n",
       "36613            5.0   9.000000               1                         0   \n",
       "36693            5.0  11.000000               1                         0   \n",
       "36864            5.0   8.000000               1                         0   \n",
       "36977            5.0  21.000000               1                         0   \n",
       "36986            5.0  16.000000               1                         0   \n",
       "\n",
       "        Vehicle_brand_Audi  ...  Colour_burgundy  Colour_golden  Colour_gray  \\\n",
       "Index                       ...                                                \n",
       "116468                   0  ...                0              0            0   \n",
       "116470                   0  ...                0              0            0   \n",
       "116471                   0  ...                0              0            0   \n",
       "116474                   0  ...                0              0            0   \n",
       "116479                   0  ...                0              0            0   \n",
       "...                    ...  ...              ...            ...          ...   \n",
       "36613                    0  ...                0              0            0   \n",
       "36693                    0  ...                0              0            0   \n",
       "36864                    0  ...                0              0            0   \n",
       "36977                    0  ...                0              0            0   \n",
       "36986                    0  ...                0              0            0   \n",
       "\n",
       "        Colour_green  Colour_other  Colour_red  Colour_silver  Colour_violet  \\\n",
       "Index                                                                          \n",
       "116468             0             0           0              1              0   \n",
       "116470             0             0           0              0              0   \n",
       "116471             0             0           0              0              0   \n",
       "116474             0             0           1              0              0   \n",
       "116479             0             0           0              0              0   \n",
       "...              ...           ...         ...            ...            ...   \n",
       "36613              0             0           0              0              0   \n",
       "36693              1             0           0              0              0   \n",
       "36864              0             0           0              0              0   \n",
       "36977              0             0           0              1              0   \n",
       "36986              0             1           0              0              0   \n",
       "\n",
       "        Colour_white  Colour_yellow  \n",
       "Index                                \n",
       "116468             0              0  \n",
       "116470             0              0  \n",
       "116471             0              0  \n",
       "116474             0              0  \n",
       "116479             0              0  \n",
       "...              ...            ...  \n",
       "36613              0              0  \n",
       "36693              0              0  \n",
       "36864              0              0  \n",
       "36977              0              0  \n",
       "36986              0              0  \n",
       "\n",
       "[19249 rows x 364 columns]"
      ]
     },
     "execution_count": 99,
     "metadata": {},
     "output_type": "execute_result"
    }
   ],
   "source": [
    "df_dum10k"
   ]
  },
  {
   "cell_type": "code",
   "execution_count": 100,
   "id": "23323380",
   "metadata": {},
   "outputs": [
    {
     "data": {
      "text/plain": [
       "(3850, 264)"
      ]
     },
     "execution_count": 100,
     "metadata": {},
     "output_type": "execute_result"
    }
   ],
   "source": [
    "X_test.shape"
   ]
  },
  {
   "cell_type": "code",
   "execution_count": 102,
   "id": "a3175cb9",
   "metadata": {},
   "outputs": [],
   "source": [
    "car = pd.DataFrame(columns = df.columns, data = [[199000, 'Used', 'Opel', 'Astra', 2005, 235000.0, 105.0, 1598.0,\n",
    "       'Gasoline + LPG', 'Front wheels', 'Manual', 5.0, 'black', 16.0]])"
   ]
  },
  {
   "cell_type": "code",
   "execution_count": 101,
   "id": "81cc08b5",
   "metadata": {},
   "outputs": [
    {
     "name": "stdout",
     "output_type": "stream",
     "text": [
      "121/121 [==============================] - 0s 1ms/step\n"
     ]
    },
    {
     "data": {
      "text/plain": [
       "array([[5537.869 ],\n",
       "       [6376.707 ],\n",
       "       [4175.9707],\n",
       "       ...,\n",
       "       [8504.751 ],\n",
       "       [4987.7515],\n",
       "       [5022.2896]], dtype=float32)"
      ]
     },
     "execution_count": 101,
     "metadata": {},
     "output_type": "execute_result"
    }
   ],
   "source": [
    "model_10k.predict(X_test)"
   ]
  }
 ],
 "metadata": {
  "kernelspec": {
   "display_name": "Python 3 (ipykernel)",
   "language": "python",
   "name": "python3"
  },
  "language_info": {
   "codemirror_mode": {
    "name": "ipython",
    "version": 3
   },
   "file_extension": ".py",
   "mimetype": "text/x-python",
   "name": "python",
   "nbconvert_exporter": "python",
   "pygments_lexer": "ipython3",
   "version": "3.9.5"
  }
 },
 "nbformat": 4,
 "nbformat_minor": 5
}
